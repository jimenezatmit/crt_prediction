{
 "cells": [
  {
   "cell_type": "markdown",
   "id": "7952a602",
   "metadata": {},
   "source": [
    "# Directions"
   ]
  },
  {
   "cell_type": "markdown",
   "id": "4fad4fca",
   "metadata": {},
   "source": [
    "This document walks through how to format data in order to run it through **run_pipeline.ipynb**. \n",
    "\n",
    "1. Walk through the entire notebook, section by section. There are four sections total with one supplemental section.\n",
    "    1. Set up\n",
    "    2. Dataframe format and features\n",
    "    3. Pre-processing\n",
    "    4. Exclusions\n",
    "    5. *(Supplemental) Generate data statistics*\n",
    "2. **Yellow cells**: Run cell *without* changing code \n",
    "3. **Red cells**: Complete TODOs and run cell"
   ]
  },
  {
   "cell_type": "markdown",
   "id": "5bbe4f20",
   "metadata": {},
   "source": [
    "# 1: Set Up"
   ]
  },
  {
   "cell_type": "code",
   "execution_count": 2,
   "id": "c898fe9f",
   "metadata": {},
   "outputs": [
    {
     "name": "stdout",
     "output_type": "stream",
     "text": [
      "importing Jupyter notebook from /Users/anjimenez/HCL/crt_project/pipeline/pipeline_components/data_processing.ipynb\n",
      "importing Jupyter notebook from /Users/anjimenez/HCL/crt_project/pipeline/pipeline_components/general.ipynb\n",
      "importing Jupyter notebook from /Users/anjimenez/HCL/crt_project/pipeline/pipeline_components/model_functions.ipynb\n"
     ]
    },
    {
     "data": {
      "text/html": [
       "<img src onerror=\"var cell = this.closest('.code_cell');var editor = cell.querySelector('.input_area');editor.style.background='#fff9e9';this.parentNode.removeChild(this)\">"
      ],
      "text/plain": [
       "<IPython.core.display.HTML object>"
      ]
     },
     "metadata": {},
     "output_type": "display_data"
    }
   ],
   "source": [
    "# import once, to import functions from other notebooks\n",
    "import import_ipynb\n",
    "\n",
    "# general packages\n",
    "import re\n",
    "import pandas as pd\n",
    "import pyarrow.parquet as pq\n",
    "import pyarrow as pa\n",
    "from sklearn.feature_extraction.text import TfidfVectorizer\n",
    "import numpy as np\n",
    "import matplotlib.pyplot as plt\n",
    "import math\n",
    "from sklearn.preprocessing import StandardScaler\n",
    "from sklearn.decomposition import TruncatedSVD\n",
    "\n",
    "# import helper files\n",
    "import pipeline_components.data_processing as processing\n",
    "import pipeline_components.general as general\n",
    "import pipeline_components.model_functions as model \n",
    "\n",
    "\n",
    "general.set_background('#fff9e9')"
   ]
  },
  {
   "cell_type": "markdown",
   "id": "46cb987a",
   "metadata": {},
   "source": [
    "# 2: Dataframe Format and Features"
   ]
  },
  {
   "cell_type": "markdown",
   "id": "ea4898e5",
   "metadata": {},
   "source": [
    "In this section, we create a Pandas dataframe following the format below and save to the following path:**\n",
    "> **/data/master/data.parquet**\n",
    "\n",
    "*Note: We use parquet because it saves the data using a smaller file size and preserves NaN values.*"
   ]
  },
  {
   "cell_type": "markdown",
   "id": "c1803b03",
   "metadata": {},
   "source": [
    "The data format is a Pandas Dataframe *(n x m)* where **each row (*n*) represents one user** and **each column (*m*) represents one feature**. The features are described in the table below by:\n",
    "1. Feature name\n",
    "2. Data type\n",
    "3. Required (Y/N)\n",
    "4. Description\n",
    "5. Example\n",
    "\n",
    "Note that required features are necessary to include in the dataframe for identification and exclusion purposes; non-required features are highly recommended to include to generate the highest model accuracy. "
   ]
  },
  {
   "cell_type": "markdown",
   "id": "307107a9",
   "metadata": {},
   "source": [
    "Feature Name | Data Type | Required | Description | Example\n",
    "---:|:---:| :---: | --- | ---\n",
    "**screen_name** | String | _Y_ | Twitter screen name | \"BarackObama\"\n",
    "**age** | Float | _Y_ | Age of user | 32.0\n",
    "**CRT_ACC** | Float | _Y_ | CRT score out of 1.0 | 0.714286\n",
    "**followers_count** | Float | _Y_ | Number of Twitter followers | 248.0\n",
    "**domains** | String | _N_ | Domains the user has Tweeted and Retweeted, separated by a space and lowercased (keep repeats). *Domain names must be stripped from the full URL; DO NOT use the entire URL*. | \"facebook youtube amazon amazon bbc facebook\"\n",
    "**mentions** | String | _N_ | Mentions the user has Tweeted and Retweeted, separated by a space and lowercased (keep repeats). | \"potus amazonuk harry_styles potus potus\"\n",
    "**hashtags** | String | _N_ | Hashtags the user has Tweeted and Retweeted, separated by a space and lowercased (keep repeats). | \"piano classical classicalmusic planets symphony symphony piano\"\n",
    "**text** | String | _N_ | Text from Tweets and Retweets the user has shared, separated by a space and pre-processed *(see Section 2: Pre-Process)*. | \"i am looking forward to the weekend ! melodrama by lorde is one of the best albums of all time .\"\n",
    "**followees** | String | _N_ | Followees' screen names, separated by a space | \"POTUS ChaseSupport Oprah BBCNews\"\n",
    "**followers** | String | _N_ | Followers' screen names, separated by a space | \"rihanna Drake billyjoel\"\n",
    "**bio** | String | _N_ | Twitter bio after pre-processing *(see Section 2: Pre-Process)* | \"aspiring musician , composer , and experimenter . i write songs and play the piano .\"\n",
    "**follower_bios** | String | _N_ | Followers' Twitter bios, separated by a space and pre-processed *(see Section 2: Pre-Process)* | \"i produce new music every sunday . dm me any time . here to promote local artists from dallas . reach out to me with any questions\"\n",
    "**followee_bios** | String | _N_ | Followees' Twitter bios, separated by a space and pre-processed *(see Section 2: Pre-Process)* | \"discover your next favorite artist or find out about upcoming releases . president of the united states , husband to @user , proud dad and pop .\"\n",
    "**bio_char** | String | _N_ | Number of characters in bio | 22.0\n",
    "**bot_score** | Float | _N_ | Probability of account being a bot ([API](https://botometer.osome.iu.edu/)) | 0.88\n",
    "**creation_time_of_day** | Float | _N_ | Hour when the Twitter account was created in Coordinated Universal Time (UTC), out of 24 | 17.0 *(equivalent to 5 P.M. UTC)*\n",
    "**CRT_numeric** | Float | _N_ | Numeric CRT score out of 1.0. *This feature can be an alternate target.* | 1.0 \n",
    "**CRT_conceptual** | Float | _N_ | Non-numeric CRT score out of 1.0. *This feature can be an alternate target.* | 0.75\n",
    "**domains_count** | Float | _N_ | Number of domains Tweeted or Retweeted (count repeats) | 12.0 \n",
    "**domains_count_unique** | Float | _N_ | Number of *unique* domains Tweeted or Retweeted | 8.0 \n",
    "**favorites_avg** | Float | _N_ | Average number of times a user's Tweets has been liked by other Twitter users | 177.2 \n",
    "**favorites_given_count** | Float | _N_ | Total number of Tweets this user has liked in the account’s lifetime | 288.0 \n",
    "**followees_count** | Float | _N_ | Number of followees (Twitter accounts that follow the user) | 42.0\n",
    "**followee_followees_avg** | Float | _N_ | Average number of followees of a user’s followees | 42.4\n",
    "**followee_followers_avg** | Float | _N_ | Average number of followers of a user’s followees | 101.6\n",
    "**followee_likes_avg** | Float | _N_ | Average number of likes given to Tweets in the account's lifetime across user’s followees | 25.6\n",
    "**followee_media_avg** | Float | _N_ | Average number of media shared in the account's lifetime across user’s followees | 229.0\n",
    "**followee_tweets_avg** | Float | _N_ | Average number of Tweets shared across user's followees | 123.2\n",
    "**followee_verified_score** | Float | _N_ | Score out of 1.0 for percentage of verified followees | 1.0 = All followees are verified; 0.0 = No followees are verified\n",
    "**follower_followees_avg** | Float | _N_ | Average number of followees of a user’s followers | 32.4\n",
    "**follower_followers_avg** | Float | _N_ | Average number of followers of a user’s followers | 87.6\n",
    "**follower_likes_avg** | Float | _N_ | Average number of likes given to Tweets in the account's lifetime across user’s followers | 33.6\n",
    "**follower_media_avg** | Float | _N_ | Average number of media shared in the account's lifetime across user’s followers | 41.0\n",
    "**follower_tweets_avg** | Float | _N_ | Average number of Tweets shared across user's followers | 22.2\n",
    "**follower_verified_score** | Float | _N_ | Score out of 1.0 for percentage of verified followers | 1.0 = All followers are verified; 0.0 = No followers are verified\n",
    "**has_location** | Float (Boolean) | _N_ | User has a user-defined location for this account’s profile | 1.0 = True; 0.0 = False\n",
    "**has_profile_image** | Float | _N_ | User has a profile image | 1.0 = True; 0.0 = False (Twitter's default image)\n",
    "**hashtags_avg_length** | Float | _N_ | Average number of characters in user's hashtags (count repeats) | 8.4\n",
    "**hashtags_count** | Float | _N_ | Number of hashtags Tweeted or Retweeted (count repeats) | 144.0\n",
    "**inhibit** | Float | _N_ | Fraction of Tweets that have at least one word from the Linguistic Inquiry and Word Count dictionary for inhibit words | 0.54\n",
    "**insight** | Float | _N_ | Fraction of Tweets that have at least one word from the Linguistic Inquiry and Word Count dictionary for insight words | 0.17\n",
    "**is_protected** | Float (Boolean) | _N_ | User has chosen to protect their Tweets | 1.0 = True; 0.0 = False\n",
    "**listed_count** | Float | _N_ | Number of public lists that this user is a member of | 10.0\n",
    "**mentions_count** | Float | _N_ | Number of mentions Tweeted or Retweeted (count repeats) | 290.0\n",
    "**mentions_count_unique** | Float | _N_ | Number of unique mentions Tweeted or Retweeted | 170.0\n",
    "**moral** | Float | _N_ | Fraction of Tweets that have at least one word from the Linguistic Inquiry and Word Count dictionary for moral words | 0.23\n",
    "**neg_emotion** | Float | _N_ | Fraction of Tweets that have at least one word from the Linguistic Inquiry and Word Count dictionary for negative words | 0.77\n",
    "**outlet_score** | Float | _N_ | The average quality of content on the websites a user shares ([Reference](https://www.pnas.org/content/116/7/2521)) | 5.0\n",
    "**political** | Float | _N_ | Fraction of Tweets that have at least one word from a dictionary of political words, suggested by reference ([Reference](https://aclanthology.org/P17-1068/)) | 0.12\n",
    "**pos_emotion** | Float | _N_ | Fraction of Tweets that have at least one word from the Linguistic Inquiry and Word Count dictionary for positive words | 0.23\n",
    "**relig** | Float | _N_ | Fraction of Tweets that have at least one word from the Linguistic Inquiry and Word Count dictionary for religious words | 0.44\n",
    "**screen_name_char** | Float | _N_ | Number of characters in user's screen name | 11.0 \n",
    "**screen_name_digits** | Float | _N_ | Number of digits in user's screen name | 2.0 \n",
    "**statuses_count** | Float | _N_ | Number of Tweets (including retweets) issued by the user | 1027.0\n",
    "**url_exist** | Float (Boolean) | _N_ | User provides a URL in association with their profile | 1.0 = True; 0.0 = False"
   ]
  },
  {
   "cell_type": "markdown",
   "id": "d63cb42e",
   "metadata": {},
   "source": [
    "# 3: Pre-Process"
   ]
  },
  {
   "cell_type": "markdown",
   "id": "86454510",
   "metadata": {},
   "source": [
    "After the basic dataframe has been created using the structure above, we must preprocess some features. Please use the code below to perform the preprocessing on the input dataset on the following selected features:\n",
    "\n",
    "1. text\n",
    "2. bio\n",
    "3. followee_bios\n",
    "4. follower_bios"
   ]
  },
  {
   "cell_type": "markdown",
   "id": "75aa9db0",
   "metadata": {},
   "source": [
    "**Perform Preprocessing**"
   ]
  },
  {
   "cell_type": "markdown",
   "id": "acfb4ade",
   "metadata": {},
   "source": [
    "<font color='blue'>**Variable Descriptions**</font>\n",
    "1. **TO_PROCESS** (list): feature names to preprocess\n",
    "\n",
    "<font color='blue'>**File Descriptions**</font>\n",
    "1. **DF_PATH** (string): path to dataframe as parquet file"
   ]
  },
  {
   "cell_type": "code",
   "execution_count": 3,
   "id": "64d2fc42",
   "metadata": {},
   "outputs": [
    {
     "data": {
      "text/html": [
       "<img src onerror=\"var cell = this.closest('.code_cell');var editor = cell.querySelector('.input_area');editor.style.background='#efe1e1';this.parentNode.removeChild(this)\">"
      ],
      "text/plain": [
       "<IPython.core.display.HTML object>"
      ]
     },
     "metadata": {},
     "output_type": "display_data"
    }
   ],
   "source": [
    "# TODO: set paths and variables\n",
    "TO_PROCESS = ['text', 'bio', 'followee_bios', 'follower_bios']\n",
    "DF_PATH = \"/data/master/data.parquet\"\n",
    "\n",
    "general.set_background('#efe1e1')"
   ]
  },
  {
   "cell_type": "code",
   "execution_count": 10,
   "id": "df850a73",
   "metadata": {},
   "outputs": [],
   "source": [
    "df = pq.read_table(DF_PATH).to_pandas() # read dataframe from parquet and convert to pandas DF\n",
    "\n",
    "for feature in TO_PROCESS: # preprocessing\n",
    "    df[feature] = df[feature].apply(lambda x: processing.preprocess(x)) \n",
    "    \n",
    "df.to_csv(DF_PATH) # save new dataframe at same path \n",
    "\n",
    "general.set_background('#fff9e9')"
   ]
  },
  {
   "cell_type": "markdown",
   "id": "7406115b",
   "metadata": {},
   "source": [
    "# 4: Exclusions"
   ]
  },
  {
   "cell_type": "markdown",
   "id": "764866ba",
   "metadata": {},
   "source": [
    "In this section, we apply exclusions to the data set. Please use the code below to apply the exclusions, which are:\n",
    "\n",
    "1. Exclude participants with no CRT score (NaN or empty)\n",
    "2. Exclude participants with no screen name (NaN or empty)\n",
    "3. Exclude participants under 18 years of age\n",
    "4. Exclude participants with 7,000+ Twitter followers "
   ]
  },
  {
   "cell_type": "markdown",
   "id": "07c7a333",
   "metadata": {},
   "source": [
    "**Perform Exclusions**"
   ]
  },
  {
   "cell_type": "code",
   "execution_count": null,
   "id": "dff1a070",
   "metadata": {},
   "outputs": [],
   "source": [
    "df = pq.read_table(DF_PATH).to_pandas() # read dataframe from parquet and convert to pandas DF\n",
    "df_new = processing.apply_exclusions(df) # apply exclusions\n",
    "df.to_csv(DF_PATH) # save new dataframe at same path as that in Section 2\n",
    "\n",
    "general.set_background('#fff9e9')"
   ]
  },
  {
   "cell_type": "markdown",
   "id": "16e39d27",
   "metadata": {},
   "source": [
    "## You have now completed the data processing step. Please open *run_pipeline.ipynb* to run your dataset on the pipeline."
   ]
  },
  {
   "cell_type": "markdown",
   "id": "8692d9b8",
   "metadata": {},
   "source": [
    "# Supplemental: Preliminary Dataset Statistics"
   ]
  },
  {
   "cell_type": "markdown",
   "id": "a23160b0",
   "metadata": {},
   "source": [
    "In this supplemental section, we generate preliminary statistics about the dataset, including CRT score distribution, age distribution, number of features, and the mean and range of a handful of profile statistics. "
   ]
  },
  {
   "cell_type": "code",
   "execution_count": 60,
   "id": "0b6081fa",
   "metadata": {},
   "outputs": [
    {
     "data": {
      "text/html": [
       "<img src onerror=\"var cell = this.closest('.code_cell');var editor = cell.querySelector('.input_area');editor.style.background='#efe1e1';this.parentNode.removeChild(this)\">"
      ],
      "text/plain": [
       "<IPython.core.display.HTML object>"
      ]
     },
     "metadata": {},
     "output_type": "display_data"
    }
   ],
   "source": [
    "# TODO: set path to dataframe\n",
    "DATA_PATH = 'data/master/data_dropped.parquet'\n",
    "\n",
    "general.set_background('#efe1e1')"
   ]
  },
  {
   "cell_type": "code",
   "execution_count": 61,
   "id": "f024c970",
   "metadata": {},
   "outputs": [
    {
     "name": "stdout",
     "output_type": "stream",
     "text": [
      "All feature names: ['screen_name' 'statuses_count' 'favorites_avg' 'followee_tweets_avg'\n",
      " 'inhibit' 'has_location' 'listed_count' 'has_profile_image'\n",
      " 'followee_verified_score' 'moral' 'follower_followers_avg'\n",
      " 'domains_count_unique' 'domains' 'followees_count' 'follower_tweets_avg'\n",
      " 'pos_emotion' 'mentions_count' 'favorites_given_count' 'is_protected'\n",
      " 'bot_score' 'political' 'follower_followees_avg' 'followee_followers_avg'\n",
      " 'relig' 'bio_char' 'hashtags_avg_length' 'days_on_twitter' 'text'\n",
      " 'followers_count' 'CRT_ACC' 'creation_time_of_day' 'followee_bios'\n",
      " 'mentions' 'url_exist' 'follower_media_avg' 'follower_bios'\n",
      " 'follower_likes_avg' 'CRT_numeric' 'followees' 'outlet_score' 'age'\n",
      " 'neg_emotion' 'CRT_conceptual' 'domains_count' 'followee_likes_avg'\n",
      " 'followee_followees_avg' 'screen_name_digits' 'hashtags'\n",
      " 'screen_name_char' 'bio' 'insight' 'hashtags_count'\n",
      " 'follower_verified_score' 'mentions_count_unique'] \n",
      "\n",
      "Number of participants: 926 , Number of features: 49\n"
     ]
    },
    {
     "data": {
      "text/html": [
       "<img src onerror=\"var cell = this.closest('.code_cell');var editor = cell.querySelector('.input_area');editor.style.background='#fff9e9';this.parentNode.removeChild(this)\">"
      ],
      "text/plain": [
       "<IPython.core.display.HTML object>"
      ]
     },
     "metadata": {},
     "output_type": "display_data"
    }
   ],
   "source": [
    "# run this cell to read the dataframe and print basic information about the data\n",
    "data = pq.read_table(DATA_PATH).to_pandas()\n",
    "\n",
    "target_feats = []\n",
    "for i in data.columns:\n",
    "    if i != 'screen_name' and i != 'age' and not i.startswith('CRT'):\n",
    "        target_feats.append(i)\n",
    "\n",
    "print(\"All feature names:\", data.columns.values, \"\\n\")\n",
    "print(\"Number of participants:\", data.shape[0], \", Number of features:\", len(target_feats))\n",
    "\n",
    "general.set_background('#fff9e9')"
   ]
  },
  {
   "cell_type": "code",
   "execution_count": 32,
   "id": "92c86af1",
   "metadata": {},
   "outputs": [
    {
     "name": "stdout",
     "output_type": "stream",
     "text": [
      "Number of quantitative features:  41 Number of text features:  8\n"
     ]
    }
   ],
   "source": [
    "# run this cell to generate number of text vs. quantitative features\n",
    "data_text = 0\n",
    "data_quant = 0\n",
    "for i in target_feats:\n",
    "    if data[i].dtype == 'object':\n",
    "        \n",
    "        data_text += 1\n",
    "    else:\n",
    "        data_quant += 1\n",
    "print(\"Number of quantitative features: \", data_quant, \"Number of text features: \", data_text)\n",
    "\n",
    "general.set_background('#fff9e9')"
   ]
  },
  {
   "cell_type": "code",
   "execution_count": 33,
   "id": "897958b4",
   "metadata": {},
   "outputs": [
    {
     "data": {
      "image/png": "[encoded data removed]",
      "text/plain": [
       "<Figure size 432x288 with 1 Axes>"
      ]
     },
     "metadata": {
      "needs_background": "light"
     },
     "output_type": "display_data"
    }
   ],
   "source": [
    "# run this cell to generate distribution of CRT score total\n",
    "\n",
    "hist = data['CRT_ACC'].hist(bins=7, rwidth=0.9, color = \"skyblue\")\n",
    "hist.set_xlabel('CRT score')\n",
    "hist.set_ylabel('Number of participants')\n",
    "hist.set_title('Distribution of CRT Score (Complete)')\n",
    "hist.grid(False)\n",
    "fig = hist.get_figure()\n",
    "fig.savefig('data/statistics/crt_distribution_complete.png', dpi=fig.dpi)\n",
    "\n",
    "general.set_background('#fff9e9')"
   ]
  },
  {
   "cell_type": "code",
   "execution_count": 7,
   "id": "9a0b71c0",
   "metadata": {},
   "outputs": [
    {
     "data": {
      "image/png": "[encoded data removed]",
      "text/plain": [
       "<Figure size 432x288 with 1 Axes>"
      ]
     },
     "metadata": {
      "needs_background": "light"
     },
     "output_type": "display_data"
    }
   ],
   "source": [
    "# run this cell to generate distribution of CRT score conceptual \n",
    "\n",
    "hist = data['CRT_conceptual'].hist(bins=7, rwidth=0.9, color = \"skyblue\")\n",
    "hist.set_xlabel('CRT conceputal score')\n",
    "hist.set_ylabel('Number of participants')\n",
    "hist.set_title('Distribution of CRT Conceptual Score amongst Participant Pool')\n",
    "hist.grid(False)\n",
    "fig = hist.get_figure()\n",
    "fig.savefig('data/statistics/crt_conceptual_distribution.png', dpi=fig.dpi)\n",
    "\n",
    "general.set_background('#fff9e9')"
   ]
  },
  {
   "cell_type": "code",
   "execution_count": 8,
   "id": "40e89251",
   "metadata": {},
   "outputs": [
    {
     "data": {
      "image/png": "[encoded data removed]",
      "text/plain": [
       "<Figure size 432x288 with 1 Axes>"
      ]
     },
     "metadata": {
      "needs_background": "light"
     },
     "output_type": "display_data"
    }
   ],
   "source": [
    "# run this cell to generate distribution of CRT score numeric \n",
    "\n",
    "hist = data['CRT_numeric'].hist(bins=7, rwidth=0.9, color = \"skyblue\")\n",
    "hist.set_xlabel('CRT numeric score')\n",
    "hist.set_ylabel('Number of participants')\n",
    "hist.set_title('Distribution of CRT Numeric Score amongst Participant Pool')\n",
    "hist.grid(False)\n",
    "fig = hist.get_figure()\n",
    "fig.savefig('data/statistics/crt_numeric_distribution.png', dpi=fig.dpi)\n",
    "\n",
    "general.set_background('#fff9e9')"
   ]
  },
  {
   "cell_type": "code",
   "execution_count": 58,
   "id": "94f7b5f9",
   "metadata": {},
   "outputs": [
    {
     "data": {
      "image/png": "[encoded data removed]",
      "text/plain": [
       "<Figure size 432x288 with 1 Axes>"
      ]
     },
     "metadata": {
      "needs_background": "light"
     },
     "output_type": "display_data"
    }
   ],
   "source": [
    "# run this cell to generate distribution of age \n",
    "\n",
    "hist = data['age'].hist(bins=20, rwidth=0.9, color = \"purple\")\n",
    "hist.set_xlabel('Age')\n",
    "hist.set_ylabel('Number of participants')\n",
    "hist.set_title('Distribution of Age (Full)')\n",
    "hist.grid(False)\n",
    "hist.set_xlim(18,80)\n",
    "fig = hist.get_figure()\n",
    "fig.savefig('data/statistics/age_distribution_full.png', dpi=fig.dpi)\n",
    "\n",
    "general.set_background('#fff9e9')"
   ]
  },
  {
   "cell_type": "code",
   "execution_count": 62,
   "id": "247f4f50",
   "metadata": {},
   "outputs": [
    {
     "name": "stdout",
     "output_type": "stream",
     "text": [
      "CRT_ACC 0.54 0.0 1.0\n",
      "followees_count 569.78 1.0 10153.0\n",
      "followers_count 255.92 0.0 5918.0\n",
      "statuses_count 4796.77 0.0 513248.0\n",
      "hashtags_count 1159.59 0.0 27974.0\n",
      "domains_count 406.03 0.0 9377.0\n",
      "mentions_count 1176.0 0.0 16676.0\n",
      "days_on_twitter 2441.96 194.0 4464.0\n"
     ]
    }
   ],
   "source": [
    "# run this cell to generate preliminary statistics \n",
    "generate_stats = ['CRT_ACC', 'followees_count', 'followers_count', 'statuses_count', 'hashtags_count',\n",
    "                 'domains_count', 'mentions_count', 'days_on_twitter']\n",
    "for x in generate_stats:\n",
    "    print(x, round(data[x].mean(), 2), min(data[x]), max(data[x]))\n",
    "\n",
    "general.set_background('#fff9e9')"
   ]
  },
  {
   "cell_type": "markdown",
   "id": "f4787fd1",
   "metadata": {},
   "source": [
    "# Text Feature Statistics"
   ]
  },
  {
   "cell_type": "markdown",
   "id": "2fe8d4dd",
   "metadata": {},
   "source": [
    "In this section, we generate statistics specifically about the text features, including feature dimensions and total explained variance. "
   ]
  },
  {
   "cell_type": "code",
   "execution_count": null,
   "id": "1350b54c",
   "metadata": {},
   "outputs": [],
   "source": [
    "data_dropped = pq.read_table('data/master/data_dropped.parquet').to_pandas()\n",
    "data_full = pq.read_table('data/master/data_full_withNA.parquet').to_pandas()\n",
    "\n",
    "general.set_background('#fff9e9')"
   ]
  },
  {
   "cell_type": "code",
   "execution_count": 53,
   "id": "facda915",
   "metadata": {},
   "outputs": [
    {
     "name": "stdout",
     "output_type": "stream",
     "text": [
      "followees\n",
      "minDF:  1 n words:  416563\n",
      "followees\n",
      "minDF:  10 n words:  7205\n"
     ]
    }
   ],
   "source": [
    "n_words = []\n",
    "maxDF = 0.99\n",
    "text_features =  ['followees', 'domains', 'mentions', 'hashtags', 'follower_bios', 'followee_bios', 'text']\n",
    "\n",
    "for feat in text_features:\n",
    "    \n",
    "    for minDF in [1, 10]:\n",
    "    \n",
    "        if feat in ['text', 'follower_bios', 'followee_bios']:\n",
    "            vectorizer = TfidfVectorizer(ngram_range=(1,1), max_df= maxDF, min_df=minDF, use_idf=True,binary=False, analyzer='word', token_pattern=r'(?ui)\\b\\w[a-z]\\w[a-z]+\\b')\n",
    "        elif feat == \"followees\": \n",
    "            vectorizer = TfidfVectorizer(ngram_range=(1,1),max_df= maxDF,min_df = minDF,use_idf=True,binary=True)\n",
    "        elif feat == 'domains': \n",
    "            vectorizer = TfidfVectorizer(ngram_range=(1,1),max_df= maxDF,min_df = minDF,use_idf=True,binary=True)\n",
    "        elif feat == 'hashtags': \n",
    "            vectorizer = TfidfVectorizer(ngram_range=(1,1),max_df= maxDF,min_df = minDF,use_idf=True,binary=True)\n",
    "        elif feat == 'mentions': \n",
    "            vectorizer = TfidfVectorizer(ngram_range=(1,1),max_df=maxDF,min_df = minDF,use_idf=True,binary=True)\n",
    "        elif feat == 'bio':\n",
    "            vectorizer = TfidfVectorizer(ngram_range=(1,1),max_df=maxDF,min_df = minDF,use_idf=True,binary=False)\n",
    "\n",
    "        feature_transformed = vectorizer.fit_transform(data_full[feat].dropna())\n",
    "    \n",
    "        print(feat)\n",
    "        print(\"minDF:\", minDF, \"n words:\", len(vectorizer.get_feature_names_out()))\n",
    "\n",
    "general.set_background('#fff9e9')"
   ]
  },
  {
   "cell_type": "code",
   "execution_count": 51,
   "id": "1189589a",
   "metadata": {},
   "outputs": [
    {
     "name": "stdout",
     "output_type": "stream",
     "text": [
      "followee_bios 0.3375122288497512\n"
     ]
    }
   ],
   "source": [
    "maxDF = 0.99\n",
    "minDF = 10\n",
    "text_features =  ['followees', 'domains', 'mentions', 'hashtags', 'follower_bios', 'followee_bios', 'text']\n",
    "\n",
    "for feat in text_features:\n",
    "    \n",
    "    if feat in ['text', 'follower_bios', 'followee_bios']:\n",
    "        vectorizer = TfidfVectorizer(ngram_range=(1,1), max_df= maxDF, min_df=minDF, use_idf=True,binary=False, analyzer='word', token_pattern=r'(?ui)\\b\\w[a-z]\\w[a-z]+\\b')\n",
    "    elif feat == \"followees\": \n",
    "        vectorizer = TfidfVectorizer(ngram_range=(1,1),max_df= maxDF,min_df = minDF,use_idf=True,binary=True)\n",
    "    elif feat == 'domains': \n",
    "        vectorizer = TfidfVectorizer(ngram_range=(1,1),max_df= maxDF,min_df = minDF,use_idf=True,binary=True)\n",
    "    elif feat == 'hashtags': \n",
    "        vectorizer = TfidfVectorizer(ngram_range=(1,1),max_df= maxDF,min_df = minDF,use_idf=True,binary=True)\n",
    "    elif feat == 'mentions': \n",
    "        vectorizer = TfidfVectorizer(ngram_range=(1,1),max_df=maxDF,min_df = minDF,use_idf=True,binary=True)\n",
    "    elif feat == 'bio':\n",
    "        vectorizer = TfidfVectorizer(ngram_range=(1,1),max_df=maxDF,min_df = minDF,use_idf=True,binary=False)\n",
    "            \n",
    "    X_sparse = vectorizer.fit_transform(data_dropped[feat].dropna())\n",
    "    svd = TruncatedSVD(random_state=17, n_components=50)\n",
    "    X_tsvd = svd.fit(X_sparse)\n",
    "    \n",
    "    # List of explained variances\n",
    "    tsvd_var_ratios = svd.explained_variance_ratio_\n",
    "    \n",
    "    print(feat, sum(tsvd_var_ratios))\n",
    "\n",
    "general.set_background('#fff9e9')"
   ]
  }
 ],
 "metadata": {
  "kernelspec": {
   "display_name": "Python 3 (ipykernel)",
   "language": "python",
   "name": "python3"
  },
  "language_info": {
   "codemirror_mode": {
    "name": "ipython",
    "version": 3
   },
   "file_extension": ".py",
   "mimetype": "text/x-python",
   "name": "python",
   "nbconvert_exporter": "python",
   "pygments_lexer": "ipython3",
   "version": "3.9.7"
  }
 },
 "nbformat": 4,
 "nbformat_minor": 5
}
