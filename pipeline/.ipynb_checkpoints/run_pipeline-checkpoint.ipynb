{
 "cells": [
  {
   "cell_type": "markdown",
   "id": "156c7652",
   "metadata": {},
   "source": [
    "# Directions"
   ]
  },
  {
   "cell_type": "markdown",
   "id": "1310f8c9",
   "metadata": {},
   "source": [
    "1. Walk through the entire notebook, section by section, to run the entire pipeline for all three kinds of prediction. There are six sections total, including one supplemental module:\n",
    "    1. Set up\n",
    "    2. Individual feature\n",
    "    3. Umbrella features\n",
    "    4. Combined features (individual)\n",
    "    5. Combined features (umbrella)\n",
    "    6. *(Supplemental) Informative features*\n",
    "2. **Yellow cells**: Run cell *without* changing code \n",
    "3. **Red cells**: Complete TODOs and run cell"
   ]
  },
  {
   "cell_type": "markdown",
   "id": "ac6d9b01",
   "metadata": {},
   "source": [
    "# 1. Set Up"
   ]
  },
  {
   "cell_type": "markdown",
   "id": "b720c305",
   "metadata": {},
   "source": [
    "**1.1 Import relevant packages**"
   ]
  },
  {
   "cell_type": "markdown",
   "id": "35159a43",
   "metadata": {},
   "source": [
    "In this section, import all relevant notebooks containing helper functions and packages (may take a few minutes)."
   ]
  },
  {
   "cell_type": "code",
   "execution_count": 2,
   "id": "930288d5",
   "metadata": {},
   "outputs": [
    {
     "name": "stdout",
     "output_type": "stream",
     "text": [
      "importing Jupyter notebook from /Users/anjimenez/HCL/crt_project/pipeline/pipeline_components/general.ipynb\n",
      "importing Jupyter notebook from /Users/anjimenez/HCL/crt_project/pipeline/pipeline_components/model_functions.ipynb\n"
     ]
    },
    {
     "ename": "IndentationError",
     "evalue": "unindent does not match any outer indentation level (<tokenize>, line 28)",
     "output_type": "error",
     "traceback": [
      "Traceback \u001b[0;36m(most recent call last)\u001b[0m:\n",
      "  File \u001b[1;32m\"/Users/anjimenez/opt/anaconda3/envs/mlenv/lib/python3.9/site-packages/IPython/core/interactiveshell.py\"\u001b[0m, line \u001b[1;32m3441\u001b[0m, in \u001b[1;35mrun_code\u001b[0m\n    exec(code_obj, self.user_global_ns, self.user_ns)\n",
      "  File \u001b[1;32m\"/var/folders/2q/vh0xdtm50wvcxd06f5wfh3l00000gn/T/ipykernel_56133/1238871141.py\"\u001b[0m, line \u001b[1;32m21\u001b[0m, in \u001b[1;35m<module>\u001b[0m\n    import pipeline_components.model_functions as model\n",
      "  File \u001b[1;32m\"<frozen importlib._bootstrap>\"\u001b[0m, line \u001b[1;32m1007\u001b[0m, in \u001b[1;35m_find_and_load\u001b[0m\n",
      "  File \u001b[1;32m\"<frozen importlib._bootstrap>\"\u001b[0m, line \u001b[1;32m986\u001b[0m, in \u001b[1;35m_find_and_load_unlocked\u001b[0m\n",
      "  File \u001b[1;32m\"<frozen importlib._bootstrap>\"\u001b[0m, line \u001b[1;32m664\u001b[0m, in \u001b[1;35m_load_unlocked\u001b[0m\n",
      "  File \u001b[1;32m\"<frozen importlib._bootstrap>\"\u001b[0m, line \u001b[1;32m627\u001b[0m, in \u001b[1;35m_load_backward_compatible\u001b[0m\n",
      "  File \u001b[1;32m\"/Users/anjimenez/opt/anaconda3/envs/mlenv/lib/python3.9/site-packages/import_ipynb.py\"\u001b[0m, line \u001b[1;32m59\u001b[0m, in \u001b[1;35mload_module\u001b[0m\n    code = self.shell.input_transformer_manager.transform_cell(cell.source)\n",
      "  File \u001b[1;32m\"/Users/anjimenez/opt/anaconda3/envs/mlenv/lib/python3.9/site-packages/IPython/core/inputtransformer2.py\"\u001b[0m, line \u001b[1;32m593\u001b[0m, in \u001b[1;35mtransform_cell\u001b[0m\n    lines = self.do_token_transforms(lines)\n",
      "  File \u001b[1;32m\"/Users/anjimenez/opt/anaconda3/envs/mlenv/lib/python3.9/site-packages/IPython/core/inputtransformer2.py\"\u001b[0m, line \u001b[1;32m578\u001b[0m, in \u001b[1;35mdo_token_transforms\u001b[0m\n    changed, lines = self.do_one_token_transform(lines)\n",
      "  File \u001b[1;32m\"/Users/anjimenez/opt/anaconda3/envs/mlenv/lib/python3.9/site-packages/IPython/core/inputtransformer2.py\"\u001b[0m, line \u001b[1;32m558\u001b[0m, in \u001b[1;35mdo_one_token_transform\u001b[0m\n    tokens_by_line = make_tokens_by_line(lines)\n",
      "  File \u001b[1;32m\"/Users/anjimenez/opt/anaconda3/envs/mlenv/lib/python3.9/site-packages/IPython/core/inputtransformer2.py\"\u001b[0m, line \u001b[1;32m487\u001b[0m, in \u001b[1;35mmake_tokens_by_line\u001b[0m\n    for token in tokenize.generate_tokens(iter(lines).__next__):\n",
      "\u001b[0;36m  File \u001b[0;32m\"/Users/anjimenez/opt/anaconda3/envs/mlenv/lib/python3.9/tokenize.py\"\u001b[0;36m, line \u001b[0;32m512\u001b[0;36m, in \u001b[0;35m_tokenize\u001b[0;36m\u001b[0m\n\u001b[0;31m    raise IndentationError(\u001b[0m\n",
      "\u001b[0;36m  File \u001b[0;32m\"<tokenize>\"\u001b[0;36m, line \u001b[0;32m28\u001b[0m\n\u001b[0;31m    else:\u001b[0m\n\u001b[0m    ^\u001b[0m\n\u001b[0;31mIndentationError\u001b[0m\u001b[0;31m:\u001b[0m unindent does not match any outer indentation level\n"
     ]
    }
   ],
   "source": [
    "# import once, to import functions from other notebooks\n",
    "import import_ipynb\n",
    "\n",
    "# general packages\n",
    "import pandas as pd\n",
    "import io\n",
    "import numpy as np\n",
    "import requests\n",
    "import os\n",
    "import pickle\n",
    "import pyarrow.parquet as pq\n",
    "import pyarrow as pa\n",
    "import random\n",
    "import statistics\n",
    "import json\n",
    "import _pickle as pickle\n",
    "import copy\n",
    "\n",
    "# import pipeline components\n",
    "import pipeline_components.general as general\n",
    "import pipeline_components.model_functions as model \n",
    "\n",
    "general.set_background('#fff9e9')"
   ]
  },
  {
   "cell_type": "markdown",
   "id": "cc79822f",
   "metadata": {},
   "source": [
    "**1.2 Define global variables and paths**"
   ]
  },
  {
   "cell_type": "markdown",
   "id": "97285d6e",
   "metadata": {},
   "source": [
    "In this section, we define the global variables and paths that will be used throughout the pipeline."
   ]
  },
  {
   "cell_type": "markdown",
   "id": "2a9eb4c1",
   "metadata": {},
   "source": [
    "<font color='green'>**Variable Descriptions**</font>\n",
    "1. **MY_TARGET** (string): name of target variable (i.e. CRT score)\n",
    "    1. Use \"CRT_ACC\" if CRT contains both numeric and conceptual questions\n",
    "    2. Use \"CRT_numeric\" if CRT contains just numeric questions\n",
    "    3. Use \"CRT_conceptual\" if CRT contains just conceptual questions\n",
    "2. **DATAFRAME_TYPE** (string): description of how NaN values are dealt with in the dataframe\n",
    "    1. Use \"Dropped\" if NaN values were dropped\n",
    "    2. Use \"Imputed\" if NaN values were imputed\n",
    "    3. Use \"Full\" if NaN values remain as NaNs\n",
    "3. **MY_DATE** (string): month and day of run as MM_DD\n",
    "4. **MY_CROSS_VAL** (integer): the number of folds for cross-validation during prediction\n",
    "5. **MY_TEXT_FEATURES** (list of strings): list of text feature names\n",
    "\n",
    "<font color='blue'>**Path Descriptions**</font>\n",
    "1. **ROOT_DIR** (string): path to root directory, which is /pipeline\n",
    "2. **RESULTS_FOLDER_NAME** (string): name of folder that stores pipeline results \n"
   ]
  },
  {
   "cell_type": "code",
   "execution_count": 3,
   "id": "12dd9228",
   "metadata": {},
   "outputs": [
    {
     "data": {
      "text/html": [
       "<img src onerror=\"var cell = this.closest('.code_cell');var editor = cell.querySelector('.input_area');editor.style.background='#efe1e1';this.parentNode.removeChild(this)\">"
      ],
      "text/plain": [
       "<IPython.core.display.HTML object>"
      ]
     },
     "metadata": {},
     "output_type": "display_data"
    }
   ],
   "source": [
    "# TODO: set variables\n",
    "MY_TARGET = 'CRT_ACC' # {\"CRT_ACC\", \"CRT_numerical\", \"CRT_conceptual\"'}\n",
    "DATAFRAME_TYPE = 'Dropped' # {\"Dropped\", \"Imputed\", \"Full\"}\n",
    "MY_DATE = '04_11'\n",
    "MY_CROSS_VAL = 5\n",
    "\n",
    "# TODO: set text features\n",
    "MY_TEXT_FEATURES = ['text', 'domains', 'followees', 'mentions', 'hashtags', 'bio', 'follower_bios', 'followee_bios']\n",
    "\n",
    "general.set_background('#efe1e1')"
   ]
  },
  {
   "cell_type": "code",
   "execution_count": 6,
   "id": "135d3ddb",
   "metadata": {},
   "outputs": [
    {
     "data": {
      "text/html": [
       "<img src onerror=\"var cell = this.closest('.code_cell');var editor = cell.querySelector('.input_area');editor.style.background='#fff9e9';this.parentNode.removeChild(this)\">"
      ],
      "text/plain": [
       "<IPython.core.display.HTML object>"
      ]
     },
     "metadata": {},
     "output_type": "display_data"
    }
   ],
   "source": [
    "# run this cell to create results folder if it does not exist\n",
    "ROOT_DIR = os.path.dirname(os.path.abspath('__file__')) + \"/\" \n",
    "RESULTS_FOLDER_NAME = 'results/{}/{}/{}/'.format(MY_DATE, DATAFRAME_TYPE.lower(), MY_TARGET) \n",
    "\n",
    "isExist = os.path.exists(RESULTS_FOLDER_NAME)\n",
    "if not isExist:\n",
    "    os.makedirs(RESULTS_FOLDER_NAME)\n",
    "    \n",
    "general.set_background('#fff9e9')"
   ]
  },
  {
   "cell_type": "markdown",
   "id": "5fa5545d",
   "metadata": {},
   "source": [
    "**1.3 Read data**"
   ]
  },
  {
   "cell_type": "markdown",
   "id": "b0870923",
   "metadata": {},
   "source": [
    "Data should already be pre-processed and stored in the **/data/master** subfolder. See *data_processing.ipynb* for instructions on how dataframe should be properly formatted."
   ]
  },
  {
   "cell_type": "markdown",
   "id": "553c3a9b",
   "metadata": {},
   "source": [
    "<font color='blue'>**Path Descriptions**</font>\n",
    "1. **DATA_PATH** (string): path to file containing dataframe "
   ]
  },
  {
   "cell_type": "code",
   "execution_count": 4,
   "id": "743d2375",
   "metadata": {},
   "outputs": [
    {
     "data": {
      "text/html": [
       "<img src onerror=\"var cell = this.closest('.code_cell');var editor = cell.querySelector('.input_area');editor.style.background='#efe1e1';this.parentNode.removeChild(this)\">"
      ],
      "text/plain": [
       "<IPython.core.display.HTML object>"
      ]
     },
     "metadata": {},
     "output_type": "display_data"
    }
   ],
   "source": [
    "# TODO: set path to dataframe\n",
    "DATA_PATH = 'data/master/data_full_withNA.parquet' # Full dataset\n",
    "# DATA_PATH = 'data/master/data_dropped.parquet' # Complete dataset\n",
    "\n",
    "general.set_background('#efe1e1')"
   ]
  },
  {
   "cell_type": "code",
   "execution_count": 402,
   "id": "94031f39",
   "metadata": {},
   "outputs": [
    {
     "name": "stdout",
     "output_type": "stream",
     "text": [
      "All feature names:\n",
      "\n",
      "screen_name                   followees_count               CRT_ACC\n",
      "political                     has_location                  is_protected\n",
      "follower_followers_avg        bio                           insight\n",
      "followee_tweets_avg           hashtags_count                hashtags_avg_length\n",
      "neg_emotion                   age                           favorites_avg\n",
      "domains_count_unique          domains                       follower_bios\n",
      "follower_followees_avg        CRT_numeric                   mentions_count\n",
      "inhibit                       url_exist                     followees\n",
      "follower_media_avg            statuses_count                domains_count\n",
      "pos_emotion                   followee_followers_avg        creation_time_of_day\n",
      "follower_likes_avg            hashtags                      has_profile_image\n",
      "screen_name_char              follower_verified_score       followee_bios\n",
      "followee_verified_score       bio_char                      moral\n",
      "CRT_conceptual                followee_likes_avg            followers_count\n",
      "mentions_count_unique         follower_tweets_avg           text\n",
      "followee_followees_avg        relig                         outlet_score\n",
      "listed_count                  mentions                      favorites_given_count\n",
      "bot_score                     screen_name_digits            days_on_twitter\n",
      "\n",
      "Number of participants: 1808 , Number of features: 49\n"
     ]
    },
    {
     "data": {
      "text/html": [
       "<img src onerror=\"var cell = this.closest('.code_cell');var editor = cell.querySelector('.input_area');editor.style.background='#fff9e9';this.parentNode.removeChild(this)\">"
      ],
      "text/plain": [
       "<IPython.core.display.HTML object>"
      ]
     },
     "metadata": {},
     "output_type": "display_data"
    }
   ],
   "source": [
    "# run this cell to read the dataframe and print basic information about the data\n",
    "data = pq.read_table(DATA_PATH).to_pandas()\n",
    "\n",
    "target_feats = []\n",
    "for i in data.columns:\n",
    "    if i != 'screen_name' and i != 'age' and not i.startswith('CRT'):\n",
    "        target_feats.append(i)\n",
    "\n",
    "print(\"All feature names:\\n\")\n",
    "for a,b,c in zip(data.columns.values[::3],data.columns.values[1::3],data.columns.values[2::3]):\n",
    "    print('{:<30}{:<30}{:<}'.format(a,b,c))\n",
    "print(\"\\nNumber of participants:\", data.shape[0], \", Number of features:\", len(target_feats))\n",
    "\n",
    "general.set_background('#fff9e9')"
   ]
  },
  {
   "cell_type": "markdown",
   "id": "4942bf6f",
   "metadata": {},
   "source": [
    "**1.4 Define umbrella features**"
   ]
  },
  {
   "cell_type": "markdown",
   "id": "fc82106a",
   "metadata": {},
   "source": [
    "Individual features can be combined to generate umbrella features: feature groups containing related features. For instance, hashtags, hashtags count, and hashtags average length all contain information related to hashtags and are grouped into one umbrella feature.\n",
    "\n",
    "In this section, we define umbrella features to test. "
   ]
  },
  {
   "cell_type": "code",
   "execution_count": 295,
   "id": "a9c1682b",
   "metadata": {},
   "outputs": [
    {
     "data": {
      "text/html": [
       "<img src onerror=\"var cell = this.closest('.code_cell');var editor = cell.querySelector('.input_area');editor.style.background='#efe1e1';this.parentNode.removeChild(this)\">"
      ],
      "text/plain": [
       "<IPython.core.display.HTML object>"
      ]
     },
     "metadata": {},
     "output_type": "display_data"
    }
   ],
   "source": [
    "# TODO: set umbrella features\n",
    "profile_features = [\n",
    "    'creation_time_of_day',\n",
    "    'url_exist',\n",
    "    'screen_name_char', \n",
    "    'has_profile_image',\n",
    "    'days_on_twitter',\n",
    "    'has_location',\n",
    "    'bio_char',\n",
    "    'bio',\n",
    "    'bot_score',\n",
    "    'bio_char',\n",
    "    'is_protected',\n",
    "    'listed_count',\n",
    "    'screen_name_digits',\n",
    "    'favorites_avg',\n",
    "    'favorites_given_count'\n",
    "]\n",
    "\n",
    "tweet_features = [\n",
    "    'text', \n",
    "    'statuses_count'\n",
    "]\n",
    "\n",
    "emotional_features = [\n",
    "    'insight',\n",
    "    'inhibit', \n",
    "    'relig', \n",
    "    'pos_emotion',\n",
    "    'neg_emotion',\n",
    "    'moral',\n",
    "    'political'\n",
    "]\n",
    "\n",
    "followee_features = []\n",
    "for i in target_feats:\n",
    "    if i.startswith('followee'):\n",
    "        followee_features.append(i)\n",
    "\n",
    "follower_features = []\n",
    "for i in target_feats:\n",
    "    if i.startswith('follower'):\n",
    "        follower_features.append(i)\n",
    "        \n",
    "hashtag_features = []\n",
    "for i in target_feats:\n",
    "    if i.startswith('hashtag'):\n",
    "        hashtag_features.append(i)\n",
    "\n",
    "mention_features = []\n",
    "for i in target_feats:\n",
    "    if i.startswith('mention'):\n",
    "        mention_features.append(i)\n",
    "\n",
    "domain_features = ['outlet_score']\n",
    "for i in target_feats:\n",
    "    if i.startswith('domain'):\n",
    "        domain_features.append(i)\n",
    "\n",
    "# TODO: define combination features (combinations of umbrella features)\n",
    "all_text = domain_features + mention_features + tweet_features + hashtag_features + emotional_features\n",
    "all_text_words = ['domains', 'hashtags', 'text']\n",
    "all_text_addendums = ['domains', 'hashtags', 'mentions']\n",
    "all_friends = follower_features + followee_features\n",
    "\n",
    "# TODO: create list of umbrella features and umbrella feature names\n",
    "all_umbrella_features = [\n",
    "    domain_features, \n",
    "    mention_features, \n",
    "    tweet_features, \n",
    "    follower_features, \n",
    "    followee_features, \n",
    "    hashtag_features, \n",
    "    profile_features, \n",
    "    emotional_features, \n",
    "    all_text, \n",
    "    all_friends, \n",
    "    all_text_words, \n",
    "    all_text_addendums\n",
    "]\n",
    "\n",
    "all_umbrella_features_names = [\n",
    "    'domain_features', \n",
    "    'mention_features', \n",
    "    'text_features', \n",
    "    'follower_features', \n",
    "    'followee_features', \n",
    "    'hashtag_features', \n",
    "    'profile_features', \n",
    "    'emotional_features', \n",
    "    'all_text', \n",
    "    'all_friends', \n",
    "    'all_text_words', \n",
    "    'all_text_addendums'\n",
    "]\n",
    "\n",
    "general.set_background('#efe1e1')"
   ]
  },
  {
   "cell_type": "code",
   "execution_count": null,
   "id": "b70f2f90",
   "metadata": {},
   "outputs": [],
   "source": [
    "# run this cell to generate a dictionary mapping umbrella feature name to features\n",
    "combined_feats_dict = {}\n",
    "for i in range(len(all_umbrella_features)):\n",
    "    combined_feats_dict[all_umbrella_features_names[i]] = all_umbrella_features[i]\n",
    "    \n",
    "general.set_background('#fff9e9')"
   ]
  },
  {
   "cell_type": "markdown",
   "id": "18bb6ef6",
   "metadata": {},
   "source": [
    "# 2. Individual Features"
   ]
  },
  {
   "cell_type": "markdown",
   "id": "76d5afae",
   "metadata": {},
   "source": [
    "In this section, we determine which individual features are most predictive for CRT score. This module performs the following, in order: \n",
    "1. Transform features\n",
    "    1. *For text features*: Transform feature using TF-IDF and TruncatedSVD\n",
    "    2. *For quantitative features*: Log transform if skew is large and standardize\n",
    "2. Split data into train and test set \n",
    "3. Perform feature selection with ElasticNetCV\n",
    "4. Predict CRT on test set with model of choice and cross-validation\n",
    "5. Average results over all splits\n",
    "6. Plot and save results"
   ]
  },
  {
   "cell_type": "markdown",
   "id": "2889d13a",
   "metadata": {},
   "source": [
    "<font color='green'>**Variable Descriptions**</font>\n",
    "1. **MY_MODEL_INDV** (string): name of model of choice\n",
    "    1. Use \"ridge\" for Ridge model\n",
    "    2. Use \"lasso\" for LASSO model\n",
    "    3. Use \"rfr\" for Random Forests Regressor model\n",
    "2. **MY_PARAMS_INDV** (dictionary): dictionary of parameters for model of choice, following the formatting directions below:\n",
    "    1. Keys are structured \"X__Y\" where X is either \"model\" or \"poly\" and Y is the parameter name, separated by a double underscore\n",
    "        1. Use \"model\" as X to set parameters for the model of choice, which is either Ridge, LASSO, or Random Forests\n",
    "        2. Use \"poly\" as X to set degree for PolynomialFeatures, which captures cross-feature interactions\n",
    "        3. The parameter name Y must match the parameter name in the specs\n",
    "            1. [Ridge specs](https://scikit-learn.org/stable/modules/generated/sklearn.linear_model.Ridge.html)\n",
    "            2. [LASSO specs](https://scikit-learn.org/stable/modules/generated/sklearn.linear_model.Lasso.html)\n",
    "            3. [Random Forests specs](https://scikit-learn.org/stable/modules/generated/sklearn.ensemble.RandomForestRegressor.html)\n",
    "            4. [PolynomialFeatures specs](https://scikit-learn.org/stable/modules/generated/sklearn.preprocessing.PolynomialFeatures.html)\n",
    "    2. Values are a list of parameter values to try in order to find the optimal value during cross-validation\n",
    "        1. List lengths must be equal to or greater than 1 \n",
    "3. **MY_SPLITS_INDV** (list or integer): data splits\n",
    "    1. List of integers: list of random states for train/test split\n",
    "    2. Integer: Randomly generates a list of random states the size of integer\n",
    "4. **MY_MINDF_INDV** (integer): min_df parameter in TF-IDF\n",
    "5. **MY_MAXDF_INDV** (integer): max_df parameter in TF-IDF\n",
    "6. **MY_TEST_SIZE_INDV** (float): size of test set out of 1.0\n",
    "7. **MY_N_COMPONENTS_INDV** (integer): n_components parameter in TruncatedSVD\n",
    "4. **MY_TITLE_INDV** (string\n",
    "): title for saving and plotting results\n",
    "\n",
    "<font color='blue'>**Path Descriptions**</font>\n",
    "1. **RESULTS_FOLDER_INDIVIDUAL** (string): name of folder that stores individual feature results "
   ]
  },
  {
   "cell_type": "code",
   "execution_count": 7,
   "id": "9d9bd057",
   "metadata": {},
   "outputs": [
    {
     "data": {
      "text/html": [
       "<img src onerror=\"var cell = this.closest('.code_cell');var editor = cell.querySelector('.input_area');editor.style.background='#efe1e1';this.parentNode.removeChild(this)\">"
      ],
      "text/plain": [
       "<IPython.core.display.HTML object>"
      ]
     },
     "metadata": {},
     "output_type": "display_data"
    }
   ],
   "source": [
    "# TODO: set variables and paths\n",
    "MY_MODEL_INDV = 'ridge'\n",
    "MY_PARAMS_INDV = {'model__alpha': np.logspace(-5, 5, 100)}\n",
    "MY_SPLITS_INDV = range(0, 50)\n",
    "MY_MINDF_INDV = 10\n",
    "MY_MAXDF_INDV = 0.99\n",
    "MY_TEST_SIZE_INDV = 0.1\n",
    "MY_N_COMPONENTS_INDV = 50\n",
    "MY_TITLE_INDV = 'Individual Features'\n",
    "\n",
    "RESULTS_FOLDER_INDIVIDUAL = ROOT_DIR + RESULTS_FOLDER_NAME + 'individual_{}/'.format(MY_MODEL_INDV)\n",
    "\n",
    "general.set_background('#efe1e1')"
   ]
  },
  {
   "cell_type": "code",
   "execution_count": 8,
   "id": "5b226476",
   "metadata": {},
   "outputs": [
    {
     "data": {
      "text/html": [
       "<img src onerror=\"var cell = this.closest('.code_cell');var editor = cell.querySelector('.input_area');editor.style.background='#fff9e9';this.parentNode.removeChild(this)\">"
      ],
      "text/plain": [
       "<IPython.core.display.HTML object>"
      ]
     },
     "metadata": {},
     "output_type": "display_data"
    }
   ],
   "source": [
    "# run this cell to store results\n",
    "state_dict_individual = {\n",
    "    'model': MY_MODEL_INDV, \n",
    "    'params': MY_PARAMS_INDV, \n",
    "    'splits': MY_SPLITS_INDV,\n",
    "    'mindf': MY_MINDF_INDV,\n",
    "    'maxdf': MY_MAXDF_INDV,\n",
    "    'test_size': MY_TEST_SIZE_INDV,\n",
    "    'n_components': MY_N_COMPONENTS_INDV,\n",
    "}\n",
    "\n",
    "r_dict = {}\n",
    "p_dict = {}\n",
    "score_dict = {}\n",
    "individual_results_df = pd.DataFrame({})\n",
    "\n",
    "general.set_background('#fff9e9')"
   ]
  },
  {
   "cell_type": "code",
   "execution_count": 286,
   "id": "32c0bd69",
   "metadata": {},
   "outputs": [
    {
     "name": "stdout",
     "output_type": "stream",
     "text": [
      "followees_count\n",
      "{'r': 0.14092534280834795, 'p': 0.09203021236824539, 'r2': -0.005067540980516783}\n",
      "{'r': 0.08409915048866404, 'p': 0.316261028570916, 'r2': -0.006376439730358641}\n",
      "{'r': 0.09308768552742966, 'p': 0.2671161874099865, 'r2': -0.0043074423455116365}\n",
      "{'r': 0.04833992717327741, 'p': 0.5650478436182478, 'r2': -0.0066269296058699915}\n",
      "{'r': 0.04990034662351922, 'p': 0.5525418555731474, 'r2': -0.006646447063773842}\n",
      "{'r': 0.06514128393256173, 'p': 0.43792201880417914, 'r2': -0.005556148712260489}\n",
      "{'r': 0.11125907510425158, 'p': 0.1843107444063893, 'r2': -0.0021337215426866507}\n",
      "{'r': 0.1459511199867811, 'p': 0.08089638278490097, 'r2': -0.00020763332386040113}\n",
      "{'r': 0.07631593806397903, 'p': 0.3632780915241473, 'r2': -0.0024901723174431734}\n",
      "{'r': 0.19210394552267943, 'p': 0.021072453109738085, 'r2': -0.004377329404106511}\n",
      "{'r': 0.0006541772048218181, 'p': 0.99379115658471, 'r2': -0.0015549801691173038}\n",
      "{'r': 0.13469472933824267, 'p': 0.10748662099576813, 'r2': -0.008426066541895639}\n",
      "{'r': 0.15307277572389227, 'p': 0.06699995492855604, 'r2': -0.0030360656101706684}\n",
      "{'r': 0.09784577961458965, 'p': 0.24332424663284322, 'r2': -0.00377111467225546}\n",
      "{'r': 0.03824160316544789, 'p': 0.6490615705503536, 'r2': -0.006388409259887595}\n",
      "{'r': 0.05157409634889522, 'p': 0.5392787442187658, 'r2': -0.001831925806567636}\n",
      "{'r': 0.035659833471539906, 'p': 0.6713298881519765, 'r2': -0.0019403913495521286}\n",
      "{'r': 0.05929604672623113, 'p': 0.48020517452617606, 'r2': -0.011996095440394173}\n",
      "{'r': 0.15470589936591383, 'p': 0.06410429254320615, 'r2': -0.005067923618321757}\n",
      "{'r': 0.026409021078479714, 'p': 0.7533683251770322, 'r2': -0.0016440709910260365}\n",
      "{'r': 0.038936128517241056, 'p': 0.6431227054833426, 'r2': -0.00017572545707353893}\n",
      "{'r': 0.07147538816811651, 'p': 0.3945922198661154, 'r2': -0.0019246736387422913}\n",
      "{'r': 0.09363394816336995, 'p': 0.2643070006023378, 'r2': -0.005259517886417075}\n",
      "{'r': 0.08220701320371414, 'p': 0.32731043044813557, 'r2': -0.0028327725108161506}\n",
      "{'r': 0.08179171917520871, 'p': 0.32976838820057625, 'r2': -0.003997580913971311}\n",
      "{'r': 0.011747402404767918, 'p': 0.8888614357394875, 'r2': -0.003697828369864853}\n",
      "{'r': 0.10645785518950085, 'p': 0.20409437933408478, 'r2': -0.011515685542400744}\n",
      "{'r': 0.05982988704960028, 'p': 0.4762543732628138, 'r2': -0.001510102354099141}\n",
      "{'r': 0.16655626200905974, 'p': 0.04601944407361522, 'r2': -0.0012590326991974265}\n",
      "{'r': 0.12785924791636952, 'p': 0.1267077633317458, 'r2': -0.0022962878098143234}\n",
      "{'r': 0.14985007628180289, 'p': 0.07302650269754415, 'r2': -0.0031963864847288637}\n",
      "{'r': 0.060256470630007795, 'p': 0.473110060670735, 'r2': -0.006609587358183511}\n",
      "{'r': 0.0046162946679947844, 'p': 0.9562077505303602, 'r2': -0.006015117033280282}\n",
      "{'r': 0.016580670348440026, 'p': 0.8436338529433034, 'r2': -0.004870211520836909}\n",
      "{'r': 0.01454748320757853, 'p': 0.862606228590449, 'r2': -0.002886191856879483}\n",
      "{'r': 0.18082837793672235, 'p': 0.03008711450088845, 'r2': -0.0030649322873022022}\n",
      "{'r': 0.20641137510844884, 'p': 0.013059627501106003, 'r2': -0.0050355567945229215}\n",
      "{'r': 0.11572919833277473, 'p': 0.1671889819152076, 'r2': -0.0030058417667640615}\n",
      "{'r': 0.08076836217815747, 'p': 0.3358755614754237, 'r2': -0.006513349767113663}\n",
      "{'r': 0.024376180178792596, 'p': 0.7718102109345221, 'r2': -0.004299420593375158}\n",
      "{'r': 0.06995892174806573, 'p': 0.4047252260106675, 'r2': -0.004150175537956047}\n",
      "{'r': 0.08837914913656555, 'p': 0.29217169761104883, 'r2': -0.0016316452497347367}\n",
      "{'r': 0.08237518716669337, 'p': 0.3263184330408022, 'r2': -0.005269740026102587}\n",
      "{'r': 0.041717177418446286, 'p': 0.6195703610692352, 'r2': -0.0026966314625624264}\n",
      "{'r': 0.14058068630323733, 'p': 0.09283629882480038, 'r2': -0.013032680544467245}\n",
      "{'r': 0.04401820753819197, 'p': 0.6003697448041599, 'r2': -0.0005192227429043461}\n",
      "{'r': 0.12072929556963138, 'p': 0.1494708849821651, 'r2': -0.002468194020818748}\n",
      "{'r': 0.043948839531260095, 'p': 0.6009446687089802, 'r2': -0.005675618999914955}\n",
      "{'r': 0.04779634170327912, 'p': 0.569435814019957, 'r2': -0.009509500321222043}\n",
      "{'r': 0.021128114322974373, 'p': 0.8015390788567678, 'r2': -0.00495950162848211}\n",
      "political\n",
      "{'r': 0.08618409933390636, 'p': 0.2847212151152263, 'r2': -0.0026133999795536988}\n",
      "{'r': 0.10476685299604924, 'p': 0.19305361937853358, 'r2': -0.0009082605919354947}\n",
      "{'r': 0.1496898019998988, 'p': 0.06216582008169422, 'r2': 0.004243906189947078}\n",
      "{'r': 0.11140452688861172, 'p': 0.16618543010885095, 'r2': 0.0023871752914885747}\n",
      "{'r': 0.04955191402720695, 'p': 0.5390149812390632, 'r2': 0.0063887164205476575}\n",
      "{'r': 0.07427840886827111, 'p': 0.35676360446984295, 'r2': 0.006064908623348986}\n",
      "{'r': 0.059608351750713336, 'p': 0.459798934945467, 'r2': 0.0031922717540243894}\n",
      "{'r': 0.05262436635593302, 'p': 0.5141146264312882, 'r2': -0.00012176602239792889}\n",
      "{'r': 0.06515951663729848, 'p': 0.4190007402216861, 'r2': 0.003163106662692705}\n",
      "{'r': 0.013373305274850823, 'p': 0.8683957419528675, 'r2': 0.00023289904544525618}\n",
      "{'r': 0.18475090284908294, 'p': 0.020949550532900093, 'r2': 0.001681921880384496}\n",
      "{'r': 0.14310740860552848, 'p': 0.07471327212688365, 'r2': 0.0008212315479185994}\n",
      "{'r': 0.19028401204117623, 'p': 0.01734491446419146, 'r2': 0.0019362316965357395}\n",
      "{'r': 0.04666589026292911, 'p': 0.562937099487777, 'r2': -0.0007856115882533433}\n",
      "{'r': 0.1542136524415166, 'p': 0.054586693077931604, 'r2': -0.004159285941534652}\n",
      "{'r': 0.006410584469319558, 'p': 0.9366945538064823, 'r2': 0.0034596015678172607}\n",
      "{'r': 0.12574232313945227, 'p': 0.11779295725074679, 'r2': 0.001991150803057251}\n",
      "{'r': 0.16213587122771547, 'p': 0.043156719190958155, 'r2': -0.0021983989811807493}\n",
      "{'r': 0.1319817369768262, 'p': 0.10050994180935444, 'r2': -0.0017711671156103392}\n",
      "{'r': 0.04847213028755154, 'p': 0.5479059183307498, 'r2': -0.0018055080172109995}\n",
      "{'r': 0.034075774004786605, 'p': 0.6728016650419587, 'r2': 0.003371888216883523}\n",
      "{'r': 0.17877224120738264, 'p': 0.025553796023365393, 'r2': 0.00043782754695944617}\n",
      "{'r': 0.03910979409281066, 'p': 0.6278621500931666, 'r2': 0.0034917813799860476}\n",
      "{'r': 0.10190707386872845, 'p': 0.20555583629750426, 'r2': 0.005421836543263403}\n",
      "{'r': 0.14214742883976572, 'p': 0.07670350815052672, 'r2': 2.4000764135001518e-05}\n",
      "{'r': 0.12205350759099488, 'p': 0.12904763970244154, 'r2': -0.00022109982484472824}\n",
      "{'r': 0.09925058497704867, 'p': 0.21768183840974978, 'r2': 0.0023368339780965863}\n",
      "{'r': 0.08244540777919393, 'p': 0.3062113071281893, 'r2': 0.0027064755677632447}\n",
      "{'r': 0.030746383815698525, 'p': 0.703185577103046, 'r2': -0.003473257765408988}\n",
      "{'r': 0.11378608601121558, 'p': 0.15725749107555373, 'r2': -0.0007467262707679057}\n",
      "{'r': 0.2434179957385988, 'p': 0.0021984069717901245, 'r2': 0.0004492887177424576}\n",
      "{'r': 0.12121071041679951, 'p': 0.13173152664521312, 'r2': 0.0009031994087293604}\n",
      "{'r': 0.13998822859962656, 'p': 0.08133648584800053, 'r2': -0.0035108520174774284}\n",
      "{'r': 0.05429325503517217, 'p': 0.5008420190603076, 'r2': 0.005073255249310171}\n",
      "{'r': 0.19847943236685636, 'p': 0.012997695923544704, 'r2': 0.001030588649515929}\n",
      "{'r': 0.19408315951567628, 'p': 0.015193524665065744, 'r2': 0.0007922098613746265}\n",
      "{'r': 0.08339480462782597, 'p': 0.30065589779631213, 'r2': 0.0023932278277499996}\n",
      "{'r': 0.16979327182992432, 'p': 0.0340842814467769, 'r2': 0.0015126229276592352}\n",
      "{'r': 0.0111931081949743, 'p': 0.88970155403369, 'r2': 0.003998975663793525}\n",
      "{'r': 0.14796931056540713, 'p': 0.06526573758018116, 'r2': 0.001043901193191643}\n",
      "{'r': 0.26553334141183965, 'p': 0.0008075730183669195, 'r2': -0.0003209947111547873}\n",
      "{'r': 0.21941816248987142, 'p': 0.005921236132391968, 'r2': 0.0001097108809563041}\n",
      "{'r': 0.12628913173821354, 'p': 0.11619160987805234, 'r2': 0.0005448392636487442}\n",
      "{'r': 0.059463908233406866, 'p': 0.460889101376917, 'r2': 0.004916317255308544}\n",
      "{'r': 0.22912704267231415, 'p': 0.0040127504151491146, 'r2': -0.0003586391779474285}\n",
      "{'r': 0.13006977647040116, 'p': 0.10557897612458875, 'r2': -0.004990720387787783}\n",
      "{'r': 0.052157878949918406, 'p': 0.5178567102835716, 'r2': 0.004590573833597534}\n",
      "{'r': 0.21636889930623815, 'p': 0.006669198089800585, 'r2': -0.015099037087641109}\n",
      "{'r': 0.21494007888951233, 'p': 0.007047767769297499, 'r2': -0.004859246455326182}\n",
      "{'r': 0.09371560343690964, 'p': 0.24456320525553166, 'r2': 0.0035009490725752546}\n",
      "has_location\n"
     ]
    },
    {
     "name": "stdout",
     "output_type": "stream",
     "text": [
      "{'r': 0.06563018423696604, 'p': 0.41412654670660415, 'r2': -0.007790366552846262}\n",
      "{'r': 0.010495404764885656, 'p': 0.8962026977303781, 'r2': -0.003073987328743133}\n",
      "{'r': 0.04901024005220812, 'p': 0.5421561570200331, 'r2': -0.005013704728686341}\n",
      "{'r': 0.044971861795250326, 'p': 0.5759734126386897, 'r2': -0.0028992700810787086}\n",
      "{'r': 0.09449710447563373, 'p': 0.23910778288637202, 'r2': 0.00023720094190580188}\n",
      "{'r': 0.07556890797888728, 'p': 0.3468816868580424, 'r2': 0.001873379769718153}\n",
      "{'r': 0.11111725534213332, 'p': 0.16591075195650376, 'r2': -0.0043677347263157305}\n",
      "{'r': 0.0024544374932287533, 'p': 0.9756616739341786, 'r2': -0.002807679319622691}\n",
      "{'r': 0.11603733196300216, 'p': 0.14783575766112012, 'r2': -0.005106677146560368}\n",
      "{'r': 0.027166587719981698, 'p': 0.7355602012634092, 'r2': -0.00379550146371066}\n",
      "{'r': 0.01322234748488621, 'p': 0.8694487021088763, 'r2': -0.0009349535178182266}\n",
      "{'r': 0.04962240295267953, 'p': 0.5371168543736374, 'r2': -0.006882246816143178}\n",
      "{'r': 0.09573327571945411, 'p': 0.23299065006705075, 'r2': -0.0024564332524909193}\n",
      "{'r': 0.02950947361040372, 'p': 0.7137101459180787, 'r2': -0.004652433661975652}\n",
      "{'r': 0.017195612769720002, 'p': 0.8307385490265037, 'r2': -0.009299990169900397}\n",
      "{'r': 0.003966117159970791, 'p': 0.9606815124329127, 'r2': -0.00207064698929027}\n",
      "{'r': 0.01247932087423301, 'p': 0.8767251797676475, 'r2': -0.0011222102278772184}\n",
      "{'r': 0.00811446801104888, 'p': 0.9196590853604996, 'r2': -0.002583131862440369}\n",
      "{'r': 0.08378829303931742, 'p': 0.29680447166124274, 'r2': -0.0025383863324131674}\n",
      "{'r': 0.03088804392053043, 'p': 0.7009599369927604, 'r2': -0.005288621348627798}\n",
      "{'r': 0.0839368045039895, 'p': 0.2959460883765856, 'r2': -0.007035819037908153}\n",
      "{'r': 0.0936823191847155, 'p': 0.24320053941866718, 'r2': -0.0007735859107993459}\n",
      "{'r': 0.021301401718126473, 'p': 0.791161243636817, 'r2': 0.00017424504933605256}\n",
      "{'r': 0.2220507342078793, 'p': 0.005189405210274617, 'r2': -0.002566755976487789}\n",
      "{'r': 0.06523261925165051, 'p': 0.4169662255329201, 'r2': -0.003927272362828904}\n",
      "{'r': 0.02890658939026685, 'p': 0.7193113718271279, 'r2': -0.0019680473143314004}\n",
      "{'r': 0.05976962631471592, 'p': 0.45712348100348077, 'r2': -0.002653475576738562}\n",
      "{'r': 0.20167662697027514, 'p': 0.011312675672950804, 'r2': -0.0023709270479602917}\n",
      "{'r': 0.008499026741978624, 'p': 0.9158652791732041, 'r2': -0.012014618412703548}\n",
      "{'r': 0.006662413875068289, 'p': 0.9339997331087154, 'r2': -0.0005575054685651893}\n",
      "{'r': 0.10196718415140997, 'p': 0.20381750430334203, 'r2': -0.005131947189692942}\n",
      "{'r': 0.18573068028992398, 'p': 0.019864204518793213, 'r2': -0.0056868660183735376}\n",
      "{'r': 0.15259346806042587, 'p': 0.05640409594625291, 'r2': -0.009892191972842435}\n",
      "{'r': 0.08571471954204182, 'p': 0.2857977212464286, 'r2': -0.0005464668078713153}\n",
      "{'r': 0.10740219438972674, 'p': 0.18061371415427532, 'r2': -0.0015424773223405852}\n",
      "{'r': 0.09990991562413706, 'p': 0.21313857550176385, 'r2': 1.3510018757645347e-05}\n",
      "{'r': 0.005998889666773385, 'p': 0.9405601202738476, 'r2': -0.006820569166139689}\n",
      "{'r': 0.0357473916997193, 'p': 0.6566982439780357, 'r2': -0.002926232097003001}\n",
      "{'r': 0.003946779383966026, 'p': 0.9608730667290953, 'r2': -0.003216401394692947}\n",
      "{'r': 0.010350338748078867, 'p': 0.8976294927800085, 'r2': -7.864847191096924e-05}\n",
      "{'r': 0.15461297934911483, 'p': 0.05317996504213469, 'r2': -0.002902949803633326}\n",
      "{'r': 0.07922450432807374, 'p': 0.3239864780589361, 'r2': -0.002016909505299802}\n",
      "{'r': 0.07768213150411124, 'p': 0.3335248492083902, 'r2': -0.0046352278904402185}\n",
      "{'r': 0.05132583823300359, 'p': 0.5232180755099077, 'r2': -0.004730989625363957}\n",
      "{'r': 0.01463061557298992, 'p': 0.855687980054999, 'r2': -0.001200018228403188}\n",
      "{'r': 0.18470945819837953, 'p': 0.020565250754603484, 'r2': -0.009513736632307613}\n",
      "{'r': 0.014311844632877775, 'p': 0.8587991634172255, 'r2': -0.001103297052421226}\n",
      "{'r': 0.14231608444467933, 'p': 0.07539939735621316, 'r2': -0.016027128626265385}\n",
      "{'r': 0.026129196432940163, 'p': 0.7453043662742216, 'r2': -0.007196636101231113}\n",
      "{'r': 0.035558877706591906, 'p': 0.6583944950471572, 'r2': -0.003964589849216016}\n",
      "is_protected\n",
      "{'r': 0.05421771758367598, 'p': 0.500048385684377, 'r2': -0.008712089626766062}\n",
      "{'r': 0.027645891555567986, 'p': 0.7310722085097336, 'r2': -0.003128568018423894}\n",
      "{'r': 0.08202496604117965, 'p': 0.30712229346622255, 'r2': -0.005480073346892933}\n",
      "{'r': 0.08408357674925267, 'p': 0.29509937597729907, 'r2': -0.00225732397151428}\n",
      "{'r': 0.0664185137083022, 'p': 0.40852938907101516, 'r2': -0.0008927776057383152}\n",
      "{'r': 0.14725667685003185, 'p': 0.0657062045235418, 'r2': -0.0006677582038119745}\n",
      "{'r': 0.08971994580325637, 'p': 0.263797917777082, 'r2': -0.005093014096598236}\n",
      "{'r': 0.07591365436136462, 'p': 0.3446799697234782, 'r2': -0.003464010029854103}\n",
      "{'r': 0.04446158990831861, 'p': 0.5803155822476865, 'r2': -0.005024273371526999}\n",
      "{'r': 0.003934311740595216, 'p': 0.9609965687077231, 'r2': -0.004008570069311901}\n",
      "{'r': 0.04593602073646772, 'p': 0.5678106068074513, 'r2': -0.0015620304459353918}\n",
      "{'r': 0.014565464449204975, 'p': 0.8563236717826396, 'r2': -0.006874651014211785}\n",
      "{'r': 0.07176612181701045, 'p': 0.371753553848548, 'r2': -0.0028774532825762257}\n",
      "{'r': 0.11458225852323903, 'p': 0.15301876408033813, 'r2': -0.005590685053955546}\n",
      "{'r': 0.04362982175465634, 'p': 0.5874259051221732, 'r2': -0.010180046337698468}\n",
      "{'r': 0.10607358410077038, 'p': 0.18609798756623444, 'r2': -0.0019293569897138152}\n",
      "{'r': 0.07074939254902578, 'p': 0.3785845228032829, 'r2': -0.0015465476816091562}\n",
      "{'r': 0.05335204375202186, 'p': 0.5069271402239297, 'r2': -0.0031508941280570467}\n",
      "{'r': 0.015555835756316532, 'p': 0.8466706308937936, 'r2': -0.002425650372346588}\n",
      "{'r': 0.001910803047360527, 'p': 0.9810512340186109, 'r2': -0.004806449875035956}\n",
      "{'r': 0.04304875104733475, 'p': 0.5924167207734262, 'r2': -0.006881007627275948}\n",
      "{'r': 0.08046662687054157, 'p': 0.31643414291977434, 'r2': -0.0012175310469132229}\n",
      "{'r': 0.028570728207773725, 'p': 0.7224382717457566, 'r2': -0.0012373462830759685}\n",
      "{'r': 0.11568815658755204, 'p': 0.14906724597929727, 'r2': -0.0025465996398416737}\n",
      "{'r': 0.022403640967807923, 'p': 0.7806220088442941, 'r2': -0.004031317008130286}\n",
      "{'r': 0.012576118255841295, 'p': 0.8757766425185701, 'r2': -0.0029605074919274443}\n",
      "{'r': 0.10000945946144096, 'p': 0.2126806627534629, 'r2': -0.0036848552079302268}\n",
      "{'r': 0.09574007197606747, 'p': 0.232957325806247, 'r2': -0.0023996481814161363}\n",
      "{'r': 0.20807799515798078, 'p': 0.008921115883385474, 'r2': -0.010680556626205706}\n",
      "{'r': 0.05307757552188217, 'p': 0.5091183351896336, 'r2': -0.0021092383734669486}\n",
      "{'r': 0.08402332145037397, 'p': 0.29544678729654567, 'r2': -0.004432292071202548}\n",
      "{'r': 0.04578014576831728, 'p': 0.569126559654123, 'r2': -0.005521617395897271}\n",
      "{'r': 0.03627390887709973, 'p': 0.6519699307791817, 'r2': -0.010082223554093828}\n",
      "{'r': 0.050110479743224044, 'p': 0.5331157985410235, 'r2': -0.0007282294832468228}\n",
      "{'r': 0.09696526007671392, 'p': 0.22700444106522769, 'r2': -0.0017275431977652022}\n",
      "{'r': 0.0745323142064008, 'p': 0.35355512958600804, 'r2': -0.00021932221692881891}\n",
      "{'r': 0.10492395736168605, 'p': 0.19094098371645604, 'r2': -0.007200261624287796}\n",
      "{'r': 0.11617620472045423, 'p': 0.1473481201083394, 'r2': -0.002683464674980418}\n",
      "{'r': 0.03881183377780557, 'p': 0.6293750709668061, 'r2': -0.003774322870894453}\n",
      "{'r': 0.024469571207146684, 'p': 0.7609768112847657, 'r2': -0.0016768076303105505}\n",
      "{'r': 0.06093134416311199, 'p': 0.4484082797920491, 'r2': -0.0031017685452238595}\n",
      "{'r': 0.0029547642356874413, 'p': 0.9707024303726984, 'r2': -0.0018211875403103318}\n",
      "{'r': 0.0852694789848883, 'p': 0.28831702805677956, 'r2': -0.007031742132473084}\n",
      "{'r': 6.536437639559616e-05, 'p': 0.9993517440444659, 'r2': -0.004732747506736512}\n",
      "{'r': 0.12923756746990916, 'p': 0.10670662221609034, 'r2': -0.0015239457584143245}\n",
      "{'r': 0.04792488862083112, 'p': 0.5511477441309001, 'r2': -0.00951389924014987}\n",
      "{'r': 0.02831994582082903, 'p': 0.7247760808483821, 'r2': -0.0023522012509227695}\n",
      "{'r': 0.09090284063980476, 'p': 0.25752794849973637, 'r2': -0.01606957076931197}\n",
      "{'r': 0.04664807558541992, 'p': 0.5618175960004065, 'r2': -0.007570727781289466}\n",
      "{'r': 0.157023763965944, 'p': 0.04953234754884588, 'r2': -0.004061852096501495}\n",
      "follower_followers_avg\n"
     ]
    },
    {
     "name": "stdout",
     "output_type": "stream",
     "text": [
      "{'r': 0.07406565237762233, 'p': 0.3968454871152906, 'r2': -0.0012711961597073663}\n",
      "{'r': 0.0557630314632581, 'p': 0.5237884074676871, 'r2': 0.00045383588758318716}\n",
      "{'r': 0.11814476738237722, 'p': 0.1756090463471254, 'r2': 0.002258071441507492}\n",
      "{'r': 0.13294010210655985, 'p': 0.12714757210077776, 'r2': 0.0031977958371973924}\n",
      "{'r': 0.0531388709653849, 'p': 0.5435376741081205, 'r2': 0.0007787196013446573}\n",
      "{'r': 0.09829261050748478, 'p': 0.26033757646015127, 'r2': -0.0029400610632591695}\n",
      "{'r': 0.17145530599131842, 'p': 0.04846229271342538, 'r2': -0.00487446527500246}\n",
      "{'r': 0.07312465640372744, 'p': 0.40288778034788053, 'r2': 0.0021972431516677606}\n",
      "{'r': 0.04235882627619754, 'p': 0.6283063852925751, 'r2': -0.012234176619000392}\n",
      "{'r': 0.25456206132466985, 'p': 0.0031073505493015253, 'r2': -0.0046721632194706595}\n",
      "{'r': 0.15178614931284073, 'p': 0.08114514894302707, 'r2': -0.01124433250031065}\n",
      "{'r': 0.017277915803723523, 'p': 0.8435204010354449, 'r2': -0.0018714036391580314}\n",
      "{'r': 0.13267174546858984, 'p': 0.12792380397599035, 'r2': -0.0029312965630568623}\n",
      "{'r': 0.035413150625544614, 'p': 0.6857154891661266, 'r2': 0.0044053333537074964}\n",
      "{'r': 0.050389265150402957, 'p': 0.5646164937246021, 'r2': -0.005800592586777009}\n",
      "{'r': 0.09749761064565277, 'p': 0.2642313264327001, 'r2': -0.001165879368638878}\n",
      "{'r': 0.010186543864429914, 'p': 0.9073584718160977, 'r2': 0.0003319833510537773}\n",
      "{'r': 0.043596000028551816, 'p': 0.6182974645717195, 'r2': -0.000221030758290941}\n",
      "{'r': 0.06647608478488323, 'p': 0.44710846762674833, 'r2': -0.0024496650862687376}\n",
      "{'r': 0.19515908308526272, 'p': 0.024377255160313818, 'r2': -0.0024255907060673374}\n",
      "{'r': 0.13748712654656117, 'p': 0.11453898737183678, 'r2': -0.002912434896010563}\n",
      "{'r': 0.04610096303620309, 'p': 0.5982463911716078, 'r2': 0.0026121156052336227}\n",
      "{'r': 0.13085790344919726, 'p': 0.13326626383271342, 'r2': 0.0014138462855241229}\n",
      "{'r': 0.07577644293298763, 'p': 0.3859996530234913, 'r2': -0.002156958900964634}\n",
      "{'r': 0.017377942681698674, 'p': 0.8426261662937019, 'r2': -0.0020179448275801314}\n",
      "{'r': 0.059951091872766496, 'p': 0.4930408558301007, 'r2': 0.00455992685872455}\n",
      "{'r': 0.15605891204382488, 'p': 0.07284866512255864, 'r2': -0.006838485612708856}\n",
      "{'r': 0.09793713106850345, 'p': 0.2620737650536884, 'r2': 0.0009864431470997693}\n",
      "{'r': 0.1465453759957245, 'p': 0.09233820582271451, 'r2': -0.0006640388877838799}\n",
      "{'r': 0.14718458721883868, 'p': 0.09091068654009167, 'r2': -0.003552850671170793}\n",
      "{'r': 0.12276820203340197, 'p': 0.15919065285828768, 'r2': 0.0019638963286278343}\n",
      "{'r': 0.018033347031070457, 'p': 0.8367719007963235, 'r2': 0.002923856521580648}\n",
      "{'r': 0.16047204902640438, 'p': 0.06501401649820239, 'r2': -0.004456000463386523}\n",
      "{'r': 0.014669229088971685, 'p': 0.8669090507823585, 'r2': 0.0018186573473916612}\n",
      "{'r': 0.25472647118123565, 'p': 0.0030875030235112807, 'r2': -0.0012336266597807288}\n",
      "{'r': 0.03983434056258485, 'p': 0.6489391705241513, 'r2': -6.023170922415666e-05}\n",
      "{'r': 0.053666013361912665, 'p': 0.5395412172493443, 'r2': 0.0033890732380674306}\n",
      "{'r': 0.0351483282631672, 'p': 0.6879429615314133, 'r2': 0.003994483216035949}\n",
      "{'r': 0.087264908554284, 'p': 0.31789389793419065, 'r2': -0.012162340033834873}\n",
      "{'r': 0.11415425681470985, 'p': 0.19075613705249728, 'r2': 0.00030444249071910346}\n",
      "{'r': 0.22024059810056415, 'p': 0.010855333105889178, 'r2': -0.007995628111065401}\n",
      "{'r': 0.1246887374292982, 'p': 0.1527187308193467, 'r2': 0.0007398737407018352}\n",
      "{'r': 0.08532137373374872, 'p': 0.3288326256896095, 'r2': -0.0033449764739012624}\n",
      "{'r': 0.024309593239839285, 'p': 0.7812068811399333, 'r2': -0.003445900028807869}\n",
      "{'r': 0.07980294709548515, 'p': 0.3611886524709322, 'r2': 0.002673900463353962}\n",
      "{'r': 0.010264979153585974, 'p': 0.9066483560778802, 'r2': -0.002158376224601888}\n",
      "{'r': 0.008386610263379326, 'p': 0.9236732075001021, 'r2': 0.00027693866291103044}\n",
      "{'r': 0.08438700353683566, 'p': 0.33417633974546634, 'r2': 0.00042931833988775204}\n",
      "{'r': 0.1713479086940042, 'p': 0.04860533321646651, 'r2': -0.0002156934959774759}\n",
      "{'r': 0.0332546269745034, 'p': 0.703948315826637, 'r2': -0.0036195558711659805}\n",
      "bio\n",
      "{'r': 0.06321525914300316, 'p': 0.43154978941578775, 'r2': -0.00091098485448331}\n",
      "{'r': 0.035239261670300996, 'p': 0.6612743821173487, 'r2': 0.005817431833118003}\n",
      "{'r': 0.021276976136204395, 'p': 0.7913952291985331, 'r2': 0.0001016298488585976}\n",
      "{'r': 0.023485578425463678, 'p': 0.7703155538614831, 'r2': 0.007861179398700369}\n",
      "{'r': 0.15454023948369558, 'p': 0.053293387633987464, 'r2': 0.004845268653425295}\n",
      "{'r': 0.16258686969196384, 'p': 0.04190265503672326, 'r2': 0.002798975662666847}\n",
      "{'r': 0.03263778744417592, 'p': 0.6848965516272494, 'r2': 0.0013970617320167244}\n",
      "{'r': 0.008281203476369323, 'p': 0.918013954291884, 'r2': 0.006919733630978952}\n",
      "{'r': 0.0207436439570396, 'p': 0.7965089061586152, 'r2': 0.005437578540189158}\n",
      "{'r': 0.06018477541344264, 'p': 0.4539982651244568, 'r2': 0.018253530521869045}\n",
      "{'r': 0.03360168210818808, 'p': 0.676106945401093, 'r2': 0.005788793757983135}\n",
      "{'r': 0.06990769729775116, 'p': 0.3842970076318811, 'r2': -0.0039601845548984825}\n",
      "{'r': 0.11037418060689701, 'p': 0.16877787392660912, 'r2': 0.0013048785298134468}\n",
      "{'r': 0.09584071900352409, 'p': 0.23246421250834587, 'r2': -0.0020824143464500235}\n",
      "{'r': 0.1635390604857247, 'p': 0.040700992652606995, 'r2': -0.0037818761108267653}\n",
      "{'r': 0.023034591066435354, 'p': 0.7746068595395207, 'r2': 0.018942261540438387}\n",
      "{'r': 0.09874324296288965, 'p': 0.21855799944247148, 'r2': 0.0017541279466325443}\n",
      "{'r': 0.22206909554915077, 'p': 0.005185600982625895, 'r2': -0.0024412021377963724}\n",
      "{'r': 0.09305623308065389, 'p': 0.24637838788612024, 'r2': 0.00029244929708029945}\n",
      "{'r': 0.13593791415522108, 'p': 0.08958795408412705, 'r2': -0.000957108206189794}\n",
      "{'r': 0.16508683633083632, 'p': 0.03880947507506552, 'r2': -0.0022319796983270913}\n",
      "{'r': 0.07609608712743746, 'p': 0.34351844599484577, 'r2': 0.0021569192572127305}\n",
      "{'r': 0.057468425566761884, 'p': 0.4746620413592462, 'r2': 0.0049094631966629}\n",
      "{'r': 0.0636809581500724, 'p': 0.4281574923765784, 'r2': 0.0027014458241939377}\n",
      "{'r': 0.05581720152105948, 'p': 0.4874688683558864, 'r2': 0.0037277130493373668}\n",
      "{'r': 0.06952725646950865, 'p': 0.386896059151098, 'r2': 0.0021919753781853403}\n",
      "{'r': 0.02833262887584682, 'p': 0.7246577873788901, 'r2': 0.005863711623030232}\n",
      "{'r': 0.09412418156285882, 'p': 0.24097500519731582, 'r2': 0.0053811523779265565}\n",
      "{'r': 0.01340984174749323, 'p': 0.8676142699129302, 'r2': 0.013734545621116378}\n",
      "{'r': 0.16666414959845602, 'p': 0.036958501366235484, 'r2': 0.002587566810732267}\n",
      "{'r': 0.030169790053211163, 'p': 0.7075928290193306, 'r2': -0.0007427572026412089}\n",
      "{'r': 0.1035161153897174, 'p': 0.19699607933944782, 'r2': -0.0007383138726305471}\n",
      "{'r': 0.04375865658719383, 'p': 0.586321958268722, 'r2': -0.005975626423671177}\n",
      "{'r': 0.15676128530487624, 'p': 0.04991912445534786, 'r2': 0.003171766315316771}\n",
      "{'r': 0.15603498052054973, 'p': 0.051002463616095915, 'r2': 0.0036702190180810446}\n",
      "{'r': 0.09498938330089915, 'p': 0.23665845714502093, 'r2': 0.0052793664864538405}\n",
      "{'r': 0.09525959569642499, 'p': 0.2353215116890876, 'r2': 0.0009187033572461756}\n",
      "{'r': 0.12757559480056646, 'p': 0.11132699494650251, 'r2': -0.0013479351013610196}\n",
      "{'r': 0.09641992586228999, 'p': 0.22964068375835514, 'r2': 0.0017910566399442552}\n",
      "{'r': 0.022872912167815385, 'p': 0.776146961473197, 'r2': 0.005629113662738638}\n",
      "{'r': 0.1300414768587979, 'p': 0.10452639374305038, 'r2': 0.0020701372423456823}\n",
      "{'r': 0.04993698630200139, 'p': 0.5345363159723043, 'r2': 0.004109301252975084}\n",
      "{'r': 0.0669317078023019, 'p': 0.4049097935375818, 'r2': 0.012029147858892354}\n",
      "{'r': 0.12312357186244283, 'p': 0.1244753532652974, 'r2': 0.001091006063676092}\n",
      "{'r': 0.06866952155130007, 'p': 0.39279466568703447, 'r2': 0.00425847414274092}\n",
      "{'r': 0.1274049119536966, 'p': 0.11181022208695418, 'r2': -0.004911112120185024}\n",
      "{'r': 0.19984147889502724, 'p': 0.012094930934188923, 'r2': 0.0013931743940640562}\n",
      "{'r': 0.05543497928204765, 'p': 0.4904594764338405, 'r2': -0.010740141480784948}\n",
      "{'r': 0.07491300605729309, 'p': 0.35109500908495794, 'r2': -0.0012216331262926649}\n",
      "{'r': 0.017837675346353353, 'p': 0.8245186107357119, 'r2': 0.005281867429623355}\n",
      "insight\n",
      "{'r': 0.09022981631105445, 'p': 0.26263152718759136, 'r2': -0.005933736128599487}\n"
     ]
    },
    {
     "name": "stdout",
     "output_type": "stream",
     "text": [
      "{'r': 0.052051875642554916, 'p': 0.5187089922789405, 'r2': -0.00290063927967521}\n",
      "{'r': 0.053503928389996666, 'p': 0.5070970029605305, 'r2': 0.003633615765362741}\n",
      "{'r': 0.1078954367127002, 'p': 0.18002025534149185, 'r2': -0.0020909229742199333}\n",
      "{'r': 0.05784740032351158, 'p': 0.4731865772836578, 'r2': 0.003112725668421734}\n",
      "{'r': 0.09388702000158458, 'p': 0.24369753944314934, 'r2': 0.0030773722660248914}\n",
      "{'r': 0.04238391948256042, 'p': 0.599337370442922, 'r2': -0.00016417351544582016}\n",
      "{'r': 0.007046402570514854, 'p': 0.9304308261389921, 'r2': 0.0004746589832365977}\n",
      "{'r': 0.06813903856403893, 'p': 0.3980022170056623, 'r2': 0.0006697583073314473}\n",
      "{'r': 0.012722313854603614, 'p': 0.8747483179808312, 'r2': -0.0011573173561244098}\n",
      "{'r': 0.15583172676665932, 'p': 0.05206834049743965, 'r2': -0.0003626575959105427}\n",
      "{'r': 0.17738046198358412, 'p': 0.0267421908922612, 'r2': -0.0018528802215177498}\n",
      "{'r': 0.08732481411234524, 'p': 0.27837059240767537, 'r2': 0.0007949047064589098}\n",
      "{'r': 0.02274994592772145, 'p': 0.778021747052972, 'r2': -0.0018435662228473814}\n",
      "{'r': 0.10461782534517895, 'p': 0.19369114722503375, 'r2': -0.003895180092301764}\n",
      "{'r': 0.020533297662098285, 'p': 0.7991672069514807, 'r2': 0.002176268983178664}\n",
      "{'r': 0.1846749767933567, 'p': 0.021003202556219198, 'r2': -0.0001719543449456129}\n",
      "{'r': 0.0446537049359738, 'p': 0.5799106079356646, 'r2': -0.002444642931590857}\n",
      "{'r': 0.028527189130619787, 'p': 0.7237054895158644, 'r2': -0.0020135550654125866}\n",
      "{'r': 0.016563171148468305, 'p': 0.8373969387814719, 'r2': -0.00359765303488071}\n",
      "{'r': 0.02333763669798551, 'p': 0.7724420346202046, 'r2': -0.0017029019159657155}\n",
      "{'r': 0.041478943115623376, 'p': 0.607163492216835, 'r2': -0.00010047178165599746}\n",
      "{'r': 0.17188269772357292, 'p': 0.031909492442273535, 'r2': -0.0007819772949746006}\n",
      "{'r': 0.037580256156972976, 'p': 0.6413823866075729, 'r2': 0.00019056708230589248}\n",
      "{'r': 0.055451056316445396, 'p': 0.49174085771181036, 'r2': -0.001145803079305585}\n",
      "{'r': 0.09846281293517185, 'p': 0.22137374424228745, 'r2': -0.0009372593142086494}\n",
      "{'r': 0.03645973754114851, 'p': 0.6513627445689834, 'r2': 0.000907272298850792}\n",
      "{'r': 0.05710913933332454, 'p': 0.47886175102992096, 'r2': 0.0018202904363855189}\n",
      "{'r': 0.09123723777551922, 'p': 0.25731833931611015, 'r2': -0.0043747224083923175}\n",
      "{'r': 0.19361496551383073, 'p': 0.015445422267772525, 'r2': -0.005335956171384537}\n",
      "{'r': 0.021502287877940725, 'p': 0.7899046973423209, 'r2': 0.00219943619912224}\n",
      "{'r': 0.10696794280429005, 'p': 0.18381469339012363, 'r2': -0.0027389988532000144}\n",
      "{'r': 0.15887139006240175, 'p': 0.04759754321605539, 'r2': -0.006680598216530309}\n",
      "{'r': 0.04746874416377896, 'p': 0.5562316248399971, 'r2': 0.0024664314946527544}\n",
      "{'r': 0.16104570650489614, 'p': 0.04459948855191138, 'r2': 0.0003970574526489079}\n",
      "{'r': 0.15154097306246558, 'p': 0.058966240194112854, 'r2': -0.0005361901037354233}\n",
      "{'r': 0.05643489219053074, 'p': 0.4840768248691797, 'r2': -0.0008927728880606889}\n",
      "{'r': 0.22293046954814585, 'p': 0.00515318553644322, 'r2': -0.0014399326144528767}\n",
      "{'r': 0.06790668150777923, 'p': 0.3996168456677684, 'r2': -0.00037147888124153814}\n",
      "{'r': 0.008811412360577031, 'p': 0.913066459888795, 'r2': 0.002237218660661422}\n",
      "{'r': 0.20121630689920406, 'p': 0.01177570557371361, 'r2': -0.0013367837037777663}\n",
      "{'r': 0.11988032044237282, 'p': 0.1360550563530812, 'r2': 0.0010944046452819212}\n",
      "{'r': 0.14331307602792528, 'p': 0.07429236187349675, 'r2': -0.0028530832595977883}\n",
      "{'r': 0.10574406106393154, 'p': 0.18891099608599232, 'r2': 0.002570752385485209}\n",
      "{'r': 0.15937969172324196, 'p': 0.04688205342814707, 'r2': 0.00048024121089067505}\n",
      "{'r': 0.003870350788643359, 'p': 0.9617544466338627, 'r2': -0.004881930735756513}\n",
      "{'r': 0.18468084410328814, 'p': 0.020999052285795145, 'r2': 0.0004991063457478129}\n",
      "{'r': 0.06712994931116695, 'p': 0.40504253884664615, 'r2': -0.01663184417104908}\n",
      "{'r': 0.20438861772016972, 'p': 0.010486543515959042, 'r2': -0.005561901603207931}\n",
      "{'r': 0.13457996525263108, 'p': 0.09393159592195069, 'r2': 0.0016747381022838015}\n",
      "followee_tweets_avg\n",
      "{'r': 0.04909322268762141, 'p': 0.579115384909854, 'r2': -0.004009556156955219}\n",
      "{'r': 0.10149551962853814, 'p': 0.25054766354380487, 'r2': -0.003981790506287863}\n",
      "{'r': 0.002476148399887625, 'p': 0.9776942116642969, 'r2': -0.0003926645503875559}\n",
      "{'r': 0.03334068309325731, 'p': 0.7064890851757979, 'r2': -0.0013541420116205405}\n",
      "{'r': 0.010660411044627284, 'p': 0.9041846103021391, 'r2': -0.00421171462143941}\n",
      "{'r': 0.020104857644302414, 'p': 0.8203929198464207, 'r2': -0.008164292119653282}\n",
      "{'r': 0.057134854154876166, 'p': 0.5184907636773081, 'r2': -0.005185970677634222}\n",
      "{'r': 0.10791885128225409, 'p': 0.22164976417496415, 'r2': -0.0029564091226036648}\n",
      "{'r': 0.005882690062777243, 'p': 0.9470388671570763, 'r2': -0.013484057217551682}\n",
      "{'r': 0.018520125130102448, 'p': 0.8343386319895325, 'r2': -0.007456805832390101}\n",
      "{'r': 0.017794592898961903, 'p': 0.8407408491795346, 'r2': -0.0022862909589492107}\n",
      "{'r': 0.0005488663249242447, 'p': 0.9950550641492648, 'r2': -0.009032743168478996}\n",
      "{'r': 0.08806669946573845, 'p': 0.31907798637471274, 'r2': -0.00875242897050832}\n",
      "{'r': 0.13941152617280073, 'p': 0.1136680002621788, 'r2': -0.005385656686935825}\n",
      "{'r': 0.0010723329311821718, 'p': 0.9903391357498216, 'r2': -0.0141615351826609}\n",
      "{'r': 0.01025296234325244, 'p': 0.9078302820177121, 'r2': -0.0032228451354109565}\n",
      "{'r': 0.09222854690248679, 'p': 0.29665326158951605, 'r2': -0.00924453082633594}\n",
      "{'r': 0.1117631722690804, 'p': 0.20552772049660015, 'r2': -0.0058523203917639766}\n",
      "{'r': 0.22352981482757894, 'p': 0.010574635930367567, 'r2': -0.002786697773139091}\n",
      "{'r': 0.003805380788212604, 'p': 0.9657261500073258, 'r2': -0.0029068015009219737}\n",
      "{'r': 0.06640676363771944, 'p': 0.4528512743827432, 'r2': -0.001211771573520437}\n",
      "{'r': 0.03174979137136909, 'p': 0.7198962509345481, 'r2': -0.0019362339561415976}\n",
      "{'r': 0.06029276641861436, 'p': 0.4956031477848829, 'r2': -0.006617000436633535}\n",
      "{'r': 0.1929558119259631, 'p': 0.027842421904156065, 'r2': -0.004293572154241909}\n",
      "{'r': 0.01104211131410204, 'p': 0.9007711325898385, 'r2': -0.002207940271769093}\n",
      "{'r': 0.06296457826693425, 'p': 0.476663220590619, 'r2': -0.004037589736634928}\n",
      "{'r': 0.07824916713408261, 'p': 0.37620043742806547, 'r2': -0.007510410236793286}\n",
      "{'r': 0.06101482069802711, 'p': 0.49044582689314753, 'r2': -0.01579533334325158}\n",
      "{'r': 0.03378527677313693, 'p': 0.7027581181817733, 'r2': -0.0019566291522076897}\n",
      "{'r': 0.0033418624317274126, 'p': 0.9698988182334534, 'r2': -0.00449508228094384}\n",
      "{'r': 0.03884058419690765, 'p': 0.6608504612754432, 'r2': -0.009167541712283001}\n",
      "{'r': 0.04868271837609466, 'p': 0.5822962361914853, 'r2': -0.012673355336399439}\n",
      "{'r': 0.053380003899539646, 'p': 0.5463904541560383, 'r2': -0.016261426977609704}\n",
      "{'r': 0.02152754254895955, 'p': 0.8079207248143009, 'r2': -0.0036666576944271332}\n",
      "{'r': 0.0518124093480369, 'p': 0.5582517690080717, 'r2': -0.0012526901823188385}\n",
      "{'r': 0.04463212606931858, 'p': 0.6141060763056896, 'r2': -0.0007638240440603905}\n",
      "{'r': 0.11634245614766388, 'p': 0.18744421068539677, 'r2': -0.0004280945401287539}\n",
      "{'r': 0.132915219667124, 'p': 0.13167560810564852, 'r2': -0.0025300381600265264}\n",
      "{'r': 0.049309823989893586, 'p': 0.577440274783257, 'r2': -0.004113186494949783}\n",
      "{'r': 0.2073861422973593, 'p': 0.017907353590349943, 'r2': -0.005436812243378819}\n",
      "{'r': 0.08906351806469097, 'p': 0.3136096314517398, 'r2': -0.00604674989810503}\n",
      "{'r': 0.08578303013593552, 'p': 0.331836788542325, 'r2': -0.003141038654825401}\n",
      "{'r': 0.026256448775357353, 'p': 0.7668258643507767, 'r2': -0.00546196422674754}\n",
      "{'r': 0.10537001386599341, 'p': 0.23282070644209174, 'r2': -0.007065160893220757}\n",
      "{'r': 0.04737147940763937, 'p': 0.59251017049915, 'r2': -0.00360954508100213}\n",
      "{'r': 0.13031879597692816, 'p': 0.13945543196979537, 'r2': -0.0050094677303257115}\n",
      "{'r': 0.0888520831093001, 'p': 0.3147643998609376, 'r2': -0.0030061281181555264}\n",
      "{'r': 0.16975617640816357, 'p': 0.05350001061393369, 'r2': -0.0021949954003683382}\n",
      "{'r': 0.10084946435958791, 'p': 0.25359180229334355, 'r2': -0.009583363166224369}\n",
      "{'r': 0.05720335887687737, 'p': 0.5179885966442305, 'r2': -0.009454884403850849}\n",
      "hashtags_count\n",
      "{'r': 0.004671538753000869, 'p': 0.9502331151849219, 'r2': -0.0005822173341655911}\n"
     ]
    },
    {
     "name": "stdout",
     "output_type": "stream",
     "text": [
      "{'r': 0.022439391908449534, 'p': 0.764301212740512, 'r2': -0.0010456251618427004}\n",
      "{'r': 0.01690448267754173, 'p': 0.8213048212377475, 'r2': -0.0038369456630801936}\n",
      "{'r': 0.05967767292116942, 'p': 0.42485302057049296, 'r2': -0.004139757695581325}\n",
      "{'r': 0.01976725613151414, 'p': 0.7916839318455038, 'r2': -0.004486516085929848}\n",
      "{'r': 0.03263371110348824, 'p': 0.6627524683122725, 'r2': -0.0005417088811163317}\n",
      "{'r': 0.07161333014877112, 'p': 0.33805542468923394, 'r2': -0.0037371493784669864}\n",
      "{'r': 0.017733163505692196, 'p': 0.8127025085271646, 'r2': -0.000533725812188024}\n",
      "{'r': 0.043051412340917944, 'p': 0.5649858737016114, 'r2': -0.002374149588806063}\n",
      "{'r': 0.013209708890810155, 'p': 0.859905153579013, 'r2': -0.0004999474330923626}\n",
      "{'r': 0.0734241943434638, 'p': 0.32594992057499883, 'r2': -0.0018180986213368832}\n",
      "{'r': 0.06932436768839978, 'p': 0.3537611500698024, 'r2': -0.005358955879171301}\n",
      "{'r': 0.039396103447159506, 'p': 0.5985041728186543, 'r2': -0.003717920252616036}\n",
      "{'r': 0.0029120420753937686, 'p': 0.9689651938582531, 'r2': -0.001967627159642049}\n",
      "{'r': 0.006191515575208962, 'p': 0.9340725807429827, 'r2': -0.009846295381659643}\n",
      "{'r': 0.0070554718031945966, 'p': 0.9248984868223088, 'r2': -0.006311341922180169}\n",
      "{'r': 0.023742953758584047, 'p': 0.7510459725718726, 'r2': -0.0006292663759154493}\n",
      "{'r': 0.11669225620549523, 'p': 0.11772213878462463, 'r2': -0.004072792432851857}\n",
      "{'r': 0.065819297849219, 'p': 0.37868151287245577, 'r2': -0.007000060898448401}\n",
      "{'r': 0.003819463828976211, 'p': 0.9593017668246863, 'r2': -0.001370164884486469}\n",
      "{'r': 0.1073745702758197, 'p': 0.15022654577287556, 'r2': -0.009438555242577529}\n",
      "{'r': 0.0034786061821370897, 'p': 0.962931050456086, 'r2': -0.00024600121928930463}\n",
      "{'r': 0.05647794992910815, 'p': 0.450145834711568, 'r2': -0.0047865121648322795}\n",
      "{'r': 0.10041976678232443, 'p': 0.17860833401946732, 'r2': -0.0022551489977527873}\n",
      "{'r': 0.026301004615321418, 'p': 0.7252484014356123, 'r2': -0.005082519662895945}\n",
      "{'r': 0.02414917407455367, 'p': 0.7469299697416497, 'r2': -0.0067564547846988175}\n",
      "{'r': 0.10310219555345199, 'p': 0.16722613932527552, 'r2': -0.005897308426881631}\n",
      "{'r': 0.004846869236589094, 'p': 0.948367823340819, 'r2': -0.001445404122409144}\n",
      "{'r': 0.24799966095262876, 'p': 0.0007623334092658605, 'r2': -0.0029641273982087047}\n",
      "{'r': 0.11591807904344235, 'p': 0.1201947041208922, 'r2': -0.002944765668133975}\n",
      "{'r': 0.08116329326718878, 'p': 0.2774045044415215, 'r2': -0.0036366764428081844}\n",
      "{'r': 0.08637488426991767, 'p': 0.24761306539244426, 'r2': -0.0023837266784839883}\n",
      "{'r': 0.11036582437557313, 'p': 0.13912550119693315, 'r2': -0.007265560706027197}\n",
      "{'r': 0.032775663648845564, 'p': 0.6613759843877968, 'r2': -0.013509745651386495}\n",
      "{'r': 0.03383168728224706, 'p': 0.6511718197433387, 'r2': -0.004655428706742936}\n",
      "{'r': 0.07997175718982286, 'p': 0.2845423606875799, 'r2': -0.0012459982874158727}\n",
      "{'r': 0.005534376583548189, 'p': 0.9410564273343552, 'r2': -0.0046984272563388}\n",
      "{'r': 0.022995934143217208, 'p': 0.7586333921858512, 'r2': -0.0055735312113737836}\n",
      "{'r': 0.1162971821114869, 'p': 0.11897893429876402, 'r2': -0.005420597730148691}\n",
      "{'r': 0.026958094060164958, 'p': 0.7186700349090838, 'r2': -0.004228427147224201}\n",
      "{'r': 0.08495533563398484, 'p': 0.2554983261151463, 'r2': -0.001600920349345758}\n",
      "{'r': 0.009106923516905433, 'p': 0.9031565672910411, 'r2': -0.002457764214455871}\n",
      "{'r': 0.06701285788077407, 'p': 0.37007776838545076, 'r2': -0.009875759008790652}\n",
      "{'r': 0.06777265693930935, 'p': 0.3646640327794894, 'r2': -0.003664442718852734}\n",
      "{'r': 0.014486526201523712, 'p': 0.8465234216379165, 'r2': -0.00177090001193001}\n",
      "{'r': 0.0906033143597359, 'p': 0.2251319518174489, 'r2': -0.0035059796596420777}\n",
      "{'r': 0.06903189497007545, 'p': 0.355800390566095, 'r2': -0.004810621397217263}\n",
      "{'r': 0.011612046385615006, 'p': 0.8767054330519262, 'r2': -0.004449692622323686}\n",
      "{'r': 0.019479629984081936, 'p': 0.7946472940343643, 'r2': -0.0022228225523991617}\n",
      "{'r': 0.017826295771306018, 'p': 0.8117371065152083, 'r2': -0.006576365496788084}\n",
      "hashtags_avg_length\n",
      "{'r': 0.020214431566244945, 'p': 0.7870826975901907, 'r2': -0.0005731267489688108}\n",
      "{'r': 0.042923553335455, 'p': 0.5661430527028873, 'r2': -0.001051112951631561}\n",
      "{'r': 0.016863940827439822, 'p': 0.821726231476431, 'r2': -0.003292887438471981}\n",
      "{'r': 0.02425988409704265, 'p': 0.7458094415355225, 'r2': -0.004128528065548043}\n",
      "{'r': 0.070825618099161, 'p': 0.3434094493146339, 'r2': -0.004468885173074755}\n",
      "{'r': 0.09967298411420587, 'p': 0.18187654578262347, 'r2': -0.0005366253835121127}\n",
      "{'r': 0.05152014026931948, 'p': 0.4909566181964392, 'r2': -0.0035633960621588743}\n",
      "{'r': 0.0006708108697638451, 'p': 0.9928492046381587, 'r2': -0.0004238441032425655}\n",
      "{'r': 0.03849963310046923, 'p': 0.6068591688467103, 'r2': -0.002365248993440616}\n",
      "{'r': 0.007162353957759392, 'p': 0.923764200333005, 'r2': -0.0004960622171183094}\n",
      "{'r': 0.11514020080650322, 'p': 0.12271951021548916, 'r2': -0.0018206919747067562}\n",
      "{'r': 0.05734443649568485, 'p': 0.4432142572838213, 'r2': -0.0053371018617304426}\n",
      "{'r': 0.024340297485963544, 'p': 0.744995888298013, 'r2': -0.003641865580045045}\n",
      "{'r': 0.010303136931734222, 'p': 0.8905108372335757, 'r2': -0.0018727012138314292}\n",
      "{'r': 0.03127932363946652, 'p': 0.6759419414914569, 'r2': -0.009589010467118242}\n",
      "{'r': 0.05951537622085599, 'p': 0.426115763986219, 'r2': -0.006301498834753038}\n",
      "{'r': 0.08320239881443506, 'p': 0.26547203075637427, 'r2': -0.0006262792186093602}\n",
      "{'r': 0.07452978666780341, 'p': 0.31869825609900115, 'r2': -0.004058946973405364}\n",
      "{'r': 0.08360310819199836, 'p': 0.26316899639224284, 'r2': -0.007005642350881835}\n",
      "{'r': 0.0768668449092123, 'p': 0.3037167893937017, 'r2': -0.001369523627906144}\n",
      "{'r': 0.07943510573420066, 'p': 0.28779705052998383, 'r2': -0.009423367224529277}\n",
      "{'r': 0.12967324282870313, 'p': 0.08188677492120285, 'r2': -0.0002497697191137682}\n",
      "{'r': 0.08736234006564751, 'p': 0.2422286086063524, 'r2': -0.004775059146994498}\n",
      "{'r': 0.09256992344831944, 'p': 0.21518415683028494, 'r2': -0.0019323120941114658}\n",
      "{'r': 0.021019338397833227, 'p': 0.7788192135815774, 'r2': -0.004696582891200118}\n",
      "{'r': 0.0012059195328640434, 'p': 0.9871453658083701, 'r2': -0.00666874697234463}\n",
      "{'r': 0.12461502070228628, 'p': 0.09463677616412992, 'r2': -0.005892752530802126}\n",
      "{'r': 0.01984480615180807, 'p': 0.7908854561508449, 'r2': -0.001138547492623565}\n",
      "{'r': 0.16968536240040838, 'p': 0.022391917035256417, 'r2': -0.00300437306341208}\n",
      "{'r': 0.11305049874061007, 'p': 0.12970569027372925, 'r2': -0.0029480894844378545}\n",
      "{'r': 0.007480240217600794, 'p': 0.9203915506641827, 'r2': -0.0034971840836951927}\n",
      "{'r': 0.10881483636372619, 'p': 0.14480063695281167, 'r2': -0.0023851008483490865}\n",
      "{'r': 0.10738386757818613, 'p': 0.15019103381815796, 'r2': -0.00717836787940529}\n",
      "{'r': 0.04822338301729678, 'p': 0.5191477714471708, 'r2': -0.013494152996986886}\n",
      "{'r': 0.056379322725015335, 'p': 0.450938658900225, 'r2': -0.004652426339489546}\n",
      "{'r': 0.050363623119219846, 'p': 0.5007523805090475, 'r2': -0.0012301096596589289}\n",
      "{'r': 0.06291051947921103, 'p': 0.4001549784144731, 'r2': -0.004677968932117071}\n",
      "{'r': 0.06648916893294983, 'p': 0.37383783512964347, 'r2': -0.005566364132936874}\n",
      "{'r': 0.024731873825153967, 'p': 0.7410383019288314, 'r2': -0.005418207798902497}\n",
      "{'r': 0.017823303115821955, 'p': 0.8117681237505521, 'r2': -0.004203097504377684}\n",
      "{'r': 0.028465023627021482, 'p': 0.7036621364329484, 'r2': -0.0015983995322922605}\n",
      "{'r': 0.020910398741495344, 'p': 0.779936203048781, 'r2': -0.002358953588766344}\n",
      "{'r': 0.03243953406274436, 'p': 0.6646371919270148, 'r2': -0.009516428433925039}\n",
      "{'r': 0.05068379559594373, 'p': 0.49803026013194984, 'r2': -0.0028265372410387845}\n",
      "{'r': 0.027394862926212314, 'p': 0.7143087542074299, 'r2': -0.0017453056269377764}\n",
      "{'r': 0.05012265276526595, 'p': 0.5028062669954192, 'r2': -0.0032563028465446785}\n",
      "{'r': 0.07152597399587485, 'p': 0.33864654370085495, 'r2': -0.004808649544608068}\n",
      "{'r': 0.0026799636441666424, 'p': 0.9714374539542097, 'r2': -0.004427785829171649}\n",
      "{'r': 0.04912244700703771, 'p': 0.5113783908276333, 'r2': -0.0022108648846594914}\n",
      "{'r': 0.01337642886940322, 'p': 0.8581554870281201, 'r2': -0.006215895397721471}\n",
      "neg_emotion\n",
      "{'r': 0.14301109036355392, 'p': 0.07491105508965794, 'r2': -0.006815211975428936}\n"
     ]
    },
    {
     "name": "stdout",
     "output_type": "stream",
     "text": [
      "{'r': 0.049562009470413025, 'p': 0.5389321944628521, 'r2': -0.0033210040284765707}\n",
      "{'r': 0.03221386083819421, 'p': 0.6897320490799357, 'r2': 0.004127566610345546}\n",
      "{'r': 0.12455683813822324, 'p': 0.12132353682016836, 'r2': -0.0014836991988553371}\n",
      "{'r': 0.07560493232310325, 'p': 0.34821658152228896, 'r2': 0.003279983374668638}\n",
      "{'r': 0.013006741461152226, 'p': 0.8719717772125087, 'r2': 0.004078450506274822}\n",
      "{'r': 0.13056794911095798, 'p': 0.10423925519475814, 'r2': -0.0004228865034941132}\n",
      "{'r': 0.004407348860860531, 'p': 0.9564529079813252, 'r2': 0.0003625459537106579}\n",
      "{'r': 0.10403233721554529, 'p': 0.1962106371978648, 'r2': -0.00019542422489127187}\n",
      "{'r': 0.014817751479234177, 'p': 0.8543309692536183, 'r2': -0.000840092991062269}\n",
      "{'r': 0.07223582208251501, 'p': 0.37017779617039615, 'r2': 0.0007635197511807412}\n",
      "{'r': 0.12930596149665258, 'p': 0.10765930643299704, 'r2': -0.0005498315787921149}\n",
      "{'r': 0.08915971638375116, 'p': 0.2683569185960145, 'r2': 0.0017279396683450132}\n",
      "{'r': 0.03474442930027367, 'p': 0.6667608971240284, 'r2': -0.002207660391449928}\n",
      "{'r': 0.04695794190299389, 'p': 0.5604934055193698, 'r2': -0.002437855402869582}\n",
      "{'r': 0.03533728645001031, 'p': 0.6614227258612332, 'r2': 0.002776938021158082}\n",
      "{'r': 0.14437321022350771, 'p': 0.07215307595317609, 'r2': -0.0005941449805761722}\n",
      "{'r': 0.06574648058776886, 'p': 0.41481376621154065, 'r2': -0.0025111226753412154}\n",
      "{'r': 0.01054225443710619, 'p': 0.8960780072432509, 'r2': -0.0009414676944673684}\n",
      "{'r': 0.025086123513570067, 'p': 0.7559111696591265, 'r2': -0.0034870840078649267}\n",
      "{'r': 0.041495847036079656, 'p': 0.6070168958581807, 'r2': 0.0004898429990934039}\n",
      "{'r': 0.14293749353895882, 'p': 0.07506246636274476, 'r2': -0.0013731913813605611}\n",
      "{'r': 0.054904508448879515, 'p': 0.49602613622921066, 'r2': 0.0013899233029108116}\n",
      "{'r': 0.05433173104963674, 'p': 0.500538156058614, 'r2': -0.00040785529723335044}\n",
      "{'r': 0.08155936136670244, 'p': 0.31145641594925455, 'r2': -0.0010688751669385211}\n",
      "{'r': 0.1391386178131675, 'p': 0.08322004457149078, 'r2': -0.0007515981807705519}\n",
      "{'r': 0.0063390460578726954, 'p': 0.9373995606489357, 'r2': 0.0016266308585656474}\n",
      "{'r': 0.009754806687252274, 'p': 0.9038015379922664, 'r2': 0.0016166583647335476}\n",
      "{'r': 0.10829401351847762, 'p': 0.17840747625876952, 'r2': -0.002792083611552898}\n",
      "{'r': 0.04595685880546381, 'p': 0.5688908924549151, 'r2': -0.0023614658039531554}\n",
      "{'r': 0.07040971751244857, 'p': 0.38242928863558673, 'r2': 0.0009755138220719717}\n",
      "{'r': 0.11551975033633068, 'p': 0.15098827401273304, 'r2': -0.003209255409828482}\n",
      "{'r': 0.06427397154573335, 'p': 0.425363943229469, 'r2': -0.004353931456276494}\n",
      "{'r': 0.017089096425955318, 'p': 0.8323086392346374, 'r2': 0.002698581979567738}\n",
      "{'r': 0.13490654846931494, 'p': 0.0931294975442293, 'r2': 0.0007727433240023007}\n",
      "{'r': 0.09264547932695982, 'p': 0.25001572846022935, 'r2': 0.0015763647585996354}\n",
      "{'r': 0.061485246861392916, 'p': 0.445764008623331, 'r2': -0.000967040660361329}\n",
      "{'r': 0.16987388403879186, 'p': 0.03399810690130713, 'r2': -0.0010845021577466918}\n",
      "{'r': 0.04595415492856276, 'p': 0.5689136540214702, 'r2': 0.00044573283149891286}\n",
      "{'r': 0.055470486039390185, 'p': 0.49158887950395286, 'r2': 0.001698470695860399}\n",
      "{'r': 0.13302300119666033, 'p': 0.09783123542281565, 'r2': 3.3080492402359774e-05}\n",
      "{'r': 0.190324654138544, 'p': 0.0173205678487347, 'r2': -0.0007091681167498143}\n",
      "{'r': 0.14878889087904726, 'p': 0.06377365684583695, 'r2': -0.0031864627873794404}\n",
      "{'r': 0.02569388499249834, 'p': 0.750190548945475, 'r2': 0.0042201372310008535}\n",
      "{'r': 0.2026845504676574, 'p': 0.011162684961797837, 'r2': 0.00011115552813429907}\n",
      "{'r': 0.07833643930898596, 'p': 0.3310268884821432, 'r2': -0.006539333217773358}\n",
      "{'r': 0.2054357741907609, 'p': 0.010089185543128185, 'r2': -0.0007121689670735343}\n",
      "{'r': 0.11207119727058042, 'p': 0.16364903289393576, 'r2': -0.017977826606086777}\n",
      "{'r': 0.11446010857171383, 'p': 0.15479729703065975, 'r2': -0.004100587102529629}\n",
      "{'r': 0.1388261036718313, 'p': 0.0839216180853982, 'r2': 0.0013032596982268884}\n",
      "favorites_avg\n",
      "{'r': 0.13655740771372613, 'p': 0.06679359710793324, 'r2': -0.0005542586434668761}\n",
      "{'r': 0.05753478320565152, 'p': 0.4416996970130516, 'r2': 0.0006259022431516215}\n",
      "{'r': 0.05525136082268326, 'p': 0.46006143339070266, 'r2': -0.0033945369783738412}\n",
      "{'r': 0.12937028364210754, 'p': 0.08260936639176211, 'r2': -0.003845545773925152}\n",
      "{'r': 0.08878378834197397, 'p': 0.2346219206382356, 'r2': -0.004121287624745484}\n",
      "{'r': 0.012278897103368531, 'p': 0.8696859940852324, 'r2': 0.001223650247091368}\n",
      "{'r': 0.029560517357636436, 'p': 0.6928228509487631, 'r2': -0.002461605658228394}\n",
      "{'r': 0.0054433073072434855, 'p': 0.9420246470396294, 'r2': 0.0014430273620070987}\n",
      "{'r': 0.04348595464069396, 'p': 0.5610615310709659, 'r2': -0.0007592442033072632}\n",
      "{'r': 0.01474148736357317, 'p': 0.843856412945367, 'r2': 0.002106594974930842}\n",
      "{'r': 0.07181914056753028, 'p': 0.33666535253145563, 'r2': -0.0005869006709129821}\n",
      "{'r': 0.019630330655538885, 'p': 0.7930942818247835, 'r2': -0.00478791369554199}\n",
      "{'r': 0.03385472859160593, 'p': 0.6509498877773444, 'r2': -0.002154079045909807}\n",
      "{'r': 0.059951510421595106, 'p': 0.4227273602231542, 'r2': 0.0009652977457959011}\n",
      "{'r': 0.05535930990590377, 'p': 0.4591839513267175, 'r2': -0.007679096005884234}\n",
      "{'r': 0.10431824246445066, 'p': 0.1622479068459882, 'r2': -0.006149755652578204}\n",
      "{'r': 0.09004212203091153, 'p': 0.2280294654344099, 'r2': 0.0005700401157216817}\n",
      "{'r': 0.032293079361694815, 'p': 0.6660601053030328, 'r2': -0.0017121593910147891}\n",
      "{'r': 0.08594855846311285, 'p': 0.24996324783905785, 'r2': -0.005655087227240263}\n",
      "{'r': 0.06633116227665911, 'p': 0.37497690390805766, 'r2': -0.0008987631355422687}\n",
      "{'r': 0.014563753870237398, 'p': 0.845715399876827, 'r2': -0.008826503871411661}\n",
      "{'r': 0.11839422178418191, 'p': 0.11242566136689434, 'r2': -0.00022328397135376043}\n",
      "{'r': 0.1297087460837746, 'p': 0.08180242951003096, 'r2': -0.004691263604837492}\n",
      "{'r': 0.001903304369007087, 'p': 0.9797128117646079, 'r2': -0.0006244416223296634}\n",
      "{'r': 0.035448299159430215, 'p': 0.6356760866275113, 'r2': -0.0029280320868422917}\n",
      "{'r': 0.003778757503797138, 'p': 0.9597351451323788, 'r2': -0.005347203559953706}\n",
      "{'r': 0.05944387379504338, 'p': 0.4266727741778578, 'r2': -0.00465584405821926}\n",
      "{'r': 0.050503440524699815, 'p': 0.49956268580997326, 'r2': 0.0012254371059900126}\n",
      "{'r': 0.17001838804137498, 'p': 0.02212578844038443, 'r2': -0.002916576671940474}\n",
      "{'r': 0.04490051242740832, 'p': 0.5483780691026708, 'r2': -0.002177927749373998}\n",
      "{'r': 0.03577374503980826, 'p': 0.6325753392932844, 'r2': -0.0020037284592185458}\n",
      "{'r': 0.07240588158306893, 'p': 0.3327224655528625, 'r2': -0.0019369642939736976}\n",
      "{'r': 0.04475651353802704, 'p': 0.5496627713372668, 'r2': -0.006905545533779556}\n",
      "{'r': 0.03673701931015284, 'p': 0.6234351879170834, 'r2': -0.012483203897102446}\n",
      "{'r': 0.016495074706074902, 'p': 0.8255627210864571, 'r2': -0.003698354446744645}\n",
      "{'r': 0.16271077295215866, 'p': 0.028634020541906394, 'r2': -0.001178264451260591}\n",
      "{'r': 0.0549242139538042, 'p': 0.4627263755292858, 'r2': -0.0029498201642591316}\n",
      "{'r': 0.12423419180454208, 'p': 0.09565725716183394, 'r2': -0.0044138663109420054}\n",
      "{'r': 0.0025336849732724705, 'p': 0.9729958569455327, 'r2': -0.0038355187572054693}\n",
      "{'r': 0.04764671522894435, 'p': 0.5241627441045371, 'r2': -0.002326705836188281}\n",
      "{'r': 0.057422601370934294, 'p': 0.44259195524118944, 'r2': 0.0003426330463104588}\n",
      "{'r': 0.020235827197794813, 'p': 0.7868627294266537, 'r2': -0.0012531500697660959}\n",
      "{'r': 0.02616559263420192, 'p': 0.7266065819287849, 'r2': -0.00836431968273701}\n",
      "{'r': 0.04910836475605483, 'p': 0.5114996186499862, 'r2': -0.0024020063275006277}\n",
      "{'r': 0.13966090129663764, 'p': 0.06077509014081768, 'r2': -0.0011889591051284843}\n",
      "{'r': 0.06775348626005635, 'p': 0.36480002174224596, 'r2': -0.0022871778954148382}\n",
      "{'r': 0.014781824955720781, 'p': 0.8434346253268409, 'r2': -0.003671766012811073}\n",
      "{'r': 0.0553749532803304, 'p': 0.45905686873100465, 'r2': -0.003334742624900011}\n",
      "{'r': 0.09579888936153748, 'p': 0.19953916474370592, 'r2': -0.0020868408727887865}\n",
      "{'r': 0.045860889549263956, 'p': 0.53984775845485, 'r2': -0.00454362556277903}\n",
      "domains_count_unique\n",
      "{'r': 0.015687634408903785, 'p': 0.8339750279299629, 'r2': -0.0005815647944653168}\n"
     ]
    },
    {
     "name": "stdout",
     "output_type": "stream",
     "text": [
      "{'r': 0.008973277719993306, 'p': 0.9045709733209668, 'r2': -0.0010521801393103658}\n",
      "{'r': 0.024890119468361938, 'p': 0.7394408626468456, 'r2': -0.0037352519945123676}\n",
      "{'r': 0.05020991802626902, 'p': 0.502061960779172, 'r2': -0.004157341451142304}\n",
      "{'r': 0.026683415353415858, 'p': 0.7214174639501753, 'r2': -0.004475548597193857}\n",
      "{'r': 0.03480099964855336, 'p': 0.6418621741836986, 'r2': -0.000264594549921493}\n",
      "{'r': 0.040801492187904964, 'p': 0.5855113969396445, 'r2': -0.0037290005781390077}\n",
      "{'r': 0.000595030253509439, 'p': 0.9936570025779994, 'r2': -0.0004782779362728862}\n",
      "{'r': 0.044887269922869316, 'p': 0.5484961521629051, 'r2': -0.002359355627496207}\n",
      "{'r': 0.040832692176289355, 'p': 0.5852244332852233, 'r2': -0.0004949597415094154}\n",
      "{'r': 0.03953819485480975, 'p': 0.5971846633279074, 'r2': -0.0018111344111286787}\n",
      "{'r': 0.05833680897232413, 'p': 0.43535046727707083, 'r2': -0.005336823243040567}\n",
      "{'r': 0.035218341560774774, 'p': 0.6378708801732774, 'r2': -0.0036996804964901653}\n",
      "{'r': 0.02805214699143138, 'p': 0.7077630004799964, 'r2': -0.0019645112095637352}\n",
      "{'r': 0.016401606896991012, 'p': 0.8265355178723618, 'r2': -0.009811986039462605}\n",
      "{'r': 0.042460731617566805, 'p': 0.5703411924766749, 'r2': -0.0063099128794998904}\n",
      "{'r': 0.008192377799597698, 'p': 0.9128412883635888, 'r2': -0.0005922785591006452}\n",
      "{'r': 0.1573243084699861, 'p': 0.03442076530339249, 'r2': -0.00407284936284249}\n",
      "{'r': 0.04397657381111013, 'p': 0.5566465429975342, 'r2': -0.006899024207759919}\n",
      "{'r': 0.01914672869251295, 'p': 0.798080787789751, 'r2': -0.0013662749151015507}\n",
      "{'r': 0.07088273371281556, 'p': 0.3430194419528188, 'r2': -0.009411124639666247}\n",
      "{'r': 0.03203192796497385, 'p': 0.6686003372175315, 'r2': -0.00024152393350389544}\n",
      "{'r': 0.06375144912830903, 'p': 0.39387362577444923, 'r2': -0.004763058571481249}\n",
      "{'r': 0.091005572019962, 'p': 0.22307114848560128, 'r2': -0.002260060982994583}\n",
      "{'r': 0.015108461028091467, 'p': 0.8400208248910417, 'r2': -0.005082157653531682}\n",
      "{'r': 0.015745123656528182, 'p': 0.8333754414521032, 'r2': -0.006749636233481304}\n",
      "{'r': 0.011841114909471154, 'p': 0.874293087017729, 'r2': -0.005891131676230099}\n",
      "{'r': 0.03798053470865155, 'p': 0.6117206005130353, 'r2': -0.0014382004531610538}\n",
      "{'r': 0.19931862062602798, 'p': 0.007144649593973086, 'r2': -0.002302902908091675}\n",
      "{'r': 0.147578826622101, 'p': 0.04741393733753928, 'r2': -0.0024902572521760423}\n",
      "{'r': 0.12567681468847558, 'p': 0.09183719825703775, 'r2': -0.003647257576894258}\n",
      "{'r': 0.033139362879906986, 'p': 0.6578544551504648, 'r2': -0.0023722698596496893}\n",
      "{'r': 0.15720625559665674, 'p': 0.03455794630054426, 'r2': -0.006511128179572068}\n",
      "{'r': 0.01432915089290459, 'p': 0.8481705109163911, 'r2': -0.013486062601887783}\n",
      "{'r': 0.01846037362068898, 'p': 0.8051719175274992, 'r2': -0.0046039155869372905}\n",
      "{'r': 0.12038437429515993, 'p': 0.10647070921512634, 'r2': -0.0012447778180844082}\n",
      "{'r': 0.06290248643117019, 'p': 0.40021526800649887, 'r2': -0.004695585141619896}\n",
      "{'r': 0.08365471201668438, 'p': 0.26287340580940477, 'r2': -0.00556739909251962}\n",
      "{'r': 0.12046973228123374, 'p': 0.10622095575130656, 'r2': -0.005413231398661367}\n",
      "{'r': 0.02663813843596728, 'p': 0.721870682448961, 'r2': -0.0042364223966741225}\n",
      "{'r': 0.0705455128300952, 'p': 0.3453261799289296, 'r2': -0.0016157453598447003}\n",
      "{'r': 0.08223739172875312, 'p': 0.2710746642085677, 'r2': -0.002458793871882259}\n",
      "{'r': 0.09119142874906863, 'p': 0.22212352177520403, 'r2': -0.009885340734977977}\n",
      "{'r': 0.04559199465559586, 'p': 0.5422294972917725, 'r2': -0.0036718150733416}\n",
      "{'r': 0.033393333452121456, 'p': 0.6553998279422267, 'r2': -0.0017594258245368978}\n",
      "{'r': 0.03850078058395503, 'p': 0.6068484414776955, 'r2': -0.0034983450921058034}\n",
      "{'r': 0.06181215228496883, 'p': 0.40844858530566736, 'r2': -0.004577384435886356}\n",
      "{'r': 0.04853759140391855, 'p': 0.5164256449565193, 'r2': -0.004437289647635545}\n",
      "{'r': 0.038864073930340165, 'p': 0.6034563891644721, 'r2': -0.0022128912542383806}\n",
      "{'r': 0.010868340617374517, 'p': 0.884545200376807, 'r2': -0.006571576765673948}\n",
      "domains\n",
      "{'r': 0.09512935573602903, 'p': 0.20271350445208122, 'r2': 0.05085155743177148}\n",
      "{'r': 0.11496303436364239, 'p': 0.1233002536676301, 'r2': 0.04677519475740306}\n",
      "{'r': 0.11895626087337548, 'p': 0.11071813340576793, 'r2': 0.03863350946179729}\n",
      "{'r': 0.18184566626782817, 'p': 0.014285776768596263, 'r2': 0.04499543737645182}\n",
      "{'r': 0.2624824208072433, 'p': 0.00035742896123614664, 'r2': 0.017710932834069347}\n",
      "{'r': 0.1625071550401524, 'p': 0.02883660740532053, 'r2': 0.03844502884167578}\n",
      "{'r': 0.14786491136550017, 'p': 0.046981175804330144, 'r2': 0.04371598528384908}\n",
      "{'r': 0.16688179160385563, 'p': 0.02474377906473576, 'r2': 0.0497126668679946}\n",
      "{'r': 0.1492988577828179, 'p': 0.044861390284674015, 'r2': 0.03819019741108705}\n",
      "{'r': 0.18250761448884156, 'p': 0.013929860278452217, 'r2': 0.041796736610731446}\n",
      "{'r': 0.2652279789354755, 'p': 0.0003080928668300952, 'r2': 0.03936733064861966}\n",
      "{'r': 0.22304401564853313, 'p': 0.0025438645853133788, 'r2': 0.03406318103502073}\n",
      "{'r': 0.18773245927772725, 'p': 0.011382683325475818, 'r2': 0.03833166825722665}\n",
      "{'r': 0.14733587882931057, 'p': 0.04778405048663496, 'r2': 0.041302521907808185}\n",
      "{'r': 0.11552870084851245, 'p': 0.12145344430745571, 'r2': 0.03501951844107769}\n",
      "{'r': 0.24918980188847978, 'p': 0.0007175020640728182, 'r2': 0.040269028999159226}\n",
      "{'r': 0.05577606895303432, 'p': 0.4558049944995694, 'r2': 0.04879815295997551}\n",
      "{'r': 0.09467301669926141, 'p': 0.204897866583466, 'r2': 0.04617981788351457}\n",
      "{'r': 0.22761929718962196, 'p': 0.0020586145625576114, 'r2': 0.03684842828965913}\n",
      "{'r': 0.3073716708767007, 'p': 2.565477493584798e-05, 'r2': 0.037668919901655926}\n",
      "{'r': 0.23695423333931226, 'p': 0.001319652472322832, 'r2': 0.03423871702420509}\n",
      "{'r': 0.19126044923597796, 'p': 0.009903694938406161, 'r2': 0.03997585375278325}\n",
      "{'r': 0.20940761356311083, 'p': 0.004666307510868626, 'r2': 0.04236973873241221}\n",
      "{'r': 0.05078489541570249, 'p': 0.4971723298383117, 'r2': 0.045933883679578624}\n",
      "{'r': 0.06915857026174134, 'p': 0.3549162573262286, 'r2': 0.03989858028344608}\n",
      "{'r': 0.20854793934445306, 'p': 0.004842436553261455, 'r2': 0.03394222920414565}\n",
      "{'r': 0.046593139254635624, 'p': 0.533388287182486, 'r2': 0.047399197879994824}\n",
      "{'r': 0.11752897968568943, 'p': 0.11509450914380505, 'r2': 0.043787080236701637}\n",
      "{'r': 0.14735198244010395, 'p': 0.04775944352674466, 'r2': 0.043538750435316784}\n",
      "{'r': 0.11775872102544123, 'p': 0.11438109802766229, 'r2': 0.043216237155745206}\n",
      "{'r': 0.18751142057367007, 'p': 0.011481504598111597, 'r2': 0.0454880450098011}\n",
      "{'r': 0.267612571736458, 'p': 0.00027045329678780384, 'r2': 0.018044632891644506}\n",
      "{'r': 0.08103362269791968, 'p': 0.27817537355795885, 'r2': 0.0425310642192094}\n",
      "{'r': 0.1520805889810544, 'p': 0.04097692510084458, 'r2': 0.03145509449382951}\n",
      "{'r': 0.28028600552099914, 'p': 0.00013257445965050242, 'r2': 0.035982196899712916}\n",
      "{'r': 0.18621926723848373, 'p': 0.0120744443154018, 'r2': 0.035305462335453265}\n",
      "{'r': 0.20843625197744584, 'p': 0.0048657513751279935, 'r2': 0.03395493409967036}\n",
      "{'r': 0.26479408848489916, 'p': 0.0003154438818722486, 'r2': 0.03935374286836679}\n",
      "{'r': 0.13388771080532016, 'p': 0.07235237455924773, 'r2': 0.04184519562419471}\n",
      "{'r': 0.2679850731143415, 'p': 0.00026497504756668776, 'r2': 0.021534864820626387}\n",
      "{'r': 0.13690443963132376, 'p': 0.06609733643748604, 'r2': 0.0452721538631925}\n",
      "{'r': 0.142147338218581, 'p': 0.05628119092655751, 'r2': 0.04677211627221387}\n",
      "{'r': 0.1973743943010612, 'p': 0.0077388736259432515, 'r2': 0.0332281757982134}\n",
      "{'r': 0.12981746736029204, 'p': 0.08154457396427851, 'r2': 0.04372432044061978}\n",
      "{'r': 0.22918937905132222, 'p': 0.0019125791332838082, 'r2': 0.04260186261346803}\n",
      "{'r': 0.10897238051064362, 'p': 0.14421627392271147, 'r2': 0.048105434812865}\n",
      "{'r': 0.07486022353670878, 'p': 0.3165513866559822, 'r2': 0.040195855565608764}\n",
      "{'r': 0.08698265909353402, 'p': 0.2442892095010723, 'r2': 0.045833521069439255}\n",
      "{'r': 0.30587181487325804, 'p': 2.8219701185408868e-05, 'r2': 0.03814007369275796}\n",
      "{'r': 0.2131324677599625, 'p': 0.003967774062057949, 'r2': 0.021193588041465317}\n",
      "follower_bios\n",
      "{'r': 0.0228725024677658, 'p': 0.7938435487843978, 'r2': 0.008564432897153607}\n",
      "{'r': 0.11849659598932344, 'p': 0.17431739454699247, 'r2': 0.012080609714456968}\n"
     ]
    },
    {
     "name": "stdout",
     "output_type": "stream",
     "text": [
      "{'r': 0.20181154050166, 'p': 0.019834886827830706, 'r2': 0.014672048497447032}\n",
      "{'r': 0.15890330094363403, 'p': 0.0677163460075334, 'r2': 0.016602251480032738}\n",
      "{'r': 0.2674353510138567, 'p': 0.0018583147412771712, 'r2': 0.005592436135412315}\n",
      "{'r': 0.11329636167308037, 'p': 0.19413310878545323, 'r2': 0.010945600462277083}\n",
      "{'r': 0.2581788653251093, 'p': 0.002696270232175681, 'r2': 0.003907219788854754}\n",
      "{'r': 0.22241348812522446, 'p': 0.010079238609657187, 'r2': 0.016713771744227102}\n",
      "{'r': 0.2121666792349168, 'p': 0.014217973781459378, 'r2': 0.00012093357777958058}\n",
      "{'r': 0.11110353751223138, 'p': 0.20296149054886578, 'r2': 0.007988854363361142}\n",
      "{'r': 0.007452202366010938, 'p': 0.9321557199583033, 'r2': 0.007437496321820447}\n",
      "{'r': 0.11385748218275427, 'p': 0.19191947451959054, 'r2': 0.009833472133750543}\n",
      "{'r': 0.27917505041779656, 'p': 0.0011372623257559773, 'r2': 0.006465131611619768}\n",
      "{'r': 0.08340800005377325, 'p': 0.33983434259863593, 'r2': 0.011490020114751375}\n",
      "{'r': 0.2699458632325171, 'p': 0.0016760852821718203, 'r2': 0.0013684524050910252}\n",
      "{'r': 0.07435067291734682, 'p': 0.3950260425825292, 'r2': 0.00803974788550479}\n",
      "{'r': 0.1440420120626855, 'p': 0.09810089964748775, 'r2': 0.02058832470341789}\n",
      "{'r': 0.1077282597832685, 'p': 0.21710939999166126, 'r2': 0.012365523073099727}\n",
      "{'r': 0.020337073704625626, 'p': 0.816267187021272, 'r2': 0.021463386394214457}\n",
      "{'r': 0.06638117602133602, 'p': 0.4477588509422966, 'r2': 0.02477436393989141}\n",
      "{'r': 0.1974081942461391, 'p': 0.02275079747831015, 'r2': 0.012855820478874947}\n",
      "{'r': 0.11787788902706212, 'p': 0.17659352095126885, 'r2': 0.01353642822912542}\n",
      "{'r': 0.13582373420120142, 'p': 0.11903356586807189, 'r2': 0.010351043379408464}\n",
      "{'r': 0.10188179934690104, 'p': 0.24324812126152245, 'r2': 0.005937783623524417}\n",
      "{'r': 0.14317976378283717, 'p': 0.10015026653859324, 'r2': 0.008825010308296832}\n",
      "{'r': 0.04050359215421679, 'p': 0.6434424918432033, 'r2': 0.022164747801132246}\n",
      "{'r': 0.1381628696796309, 'p': 0.11275125280216551, 'r2': 0.0021026883803875627}\n",
      "{'r': 0.09365574443881144, 'p': 0.2836059095912937, 'r2': 0.00684944576441684}\n",
      "{'r': 0.23245507273739355, 'p': 0.007092200080745076, 'r2': 0.0127749778423488}\n",
      "{'r': 0.06468559638500666, 'p': 0.45946737054549286, 'r2': 0.016810603629216957}\n",
      "{'r': 0.022165378873752712, 'p': 0.8000813651626257, 'r2': 0.02748678602847703}\n",
      "{'r': 0.13958485577942367, 'p': 0.10906033737182241, 'r2': 0.017800155558897135}\n",
      "{'r': 0.14443963349918354, 'p': 0.09716706916831241, 'r2': 0.0047881539915411555}\n",
      "{'r': 0.1976660782359576, 'p': 0.022570404070526507, 'r2': 0.015949401224708983}\n",
      "{'r': 0.2491137241445758, 'p': 0.00383370418881651, 'r2': 0.012227882330805828}\n",
      "{'r': 0.18396263331897408, 'p': 0.03403476357478013, 'r2': 0.0140115587930713}\n",
      "{'r': 0.09648689168612441, 'p': 0.26923867358457587, 'r2': 0.011468711321740743}\n",
      "{'r': 0.17110233832938107, 'p': 0.04893372101283877, 'r2': 0.04266035651695248}\n",
      "{'r': 0.15727738185550627, 'p': 0.07061283374308683, 'r2': -0.0013688258979918544}\n",
      "{'r': 0.13119367498732287, 'p': 0.13226462276852535, 'r2': 0.006229940478954488}\n",
      "{'r': 0.22678473791730452, 'p': 0.008664495772480364, 'r2': 0.0017782174220743574}\n",
      "{'r': 0.22239603747295109, 'p': 0.010085271631619196, 'r2': 0.012600615988285347}\n",
      "{'r': 0.0721396660223675, 'p': 0.4092705864885804, 'r2': 0.01811603693259136}\n",
      "{'r': 0.10231894739883038, 'p': 0.24122122149643607, 'r2': 0.00844191131580263}\n",
      "{'r': 0.025351878524419055, 'p': 0.7720772207124429, 'r2': 0.014480668323242175}\n",
      "{'r': 0.04587323315733227, 'p': 0.6000571640190072, 'r2': 0.015723932055629518}\n",
      "{'r': 0.0506527949502417, 'p': 0.5625795077649149, 'r2': 0.014633259553719014}\n",
      "{'r': 0.054529929201672316, 'p': 0.5330231712470651, 'r2': 0.013611784397388726}\n",
      "{'r': 0.053044659278640334, 'p': 0.5442534577735945, 'r2': 0.01667584487124287}\n",
      "{'r': 0.1058916381289513, 'p': 0.2250960083046477, 'r2': 0.01664786236277129}\n",
      "follower_followees_avg\n",
      "{'r': 0.060129115818776176, 'p': 0.49175537731721547, 'r2': -0.0017065855849703881}\n",
      "{'r': 0.03574552781605519, 'p': 0.6829236180994993, 'r2': 0.0004491681119058066}\n",
      "{'r': 0.12176132978415807, 'p': 0.1626645744046833, 'r2': 0.0013993410678377004}\n",
      "{'r': 0.12838803344887473, 'p': 0.14081333308031116, 'r2': 0.0026357938204625954}\n",
      "{'r': 0.056025788259492657, 'p': 0.5218311447346095, 'r2': -9.885061987893184e-05}\n",
      "{'r': 0.08850976810359554, 'p': 0.31101280452699426, 'r2': -0.002733697086089881}\n",
      "{'r': 0.15284237084012414, 'p': 0.07902687420074113, 'r2': -0.004854520932684059}\n",
      "{'r': 0.09937756203959502, 'p': 0.25508731330531426, 'r2': 0.0011182270348661038}\n",
      "{'r': 0.023965134751247084, 'p': 0.7842307200887907, 'r2': -0.01222278069143461}\n",
      "{'r': 0.24691812031805294, 'p': 0.004167164727201875, 'r2': -0.005184434337438759}\n",
      "{'r': 0.1531755109673023, 'p': 0.0783680550579953, 'r2': -0.011581006822845862}\n",
      "{'r': 0.007072265107368199, 'p': 0.9356070069027668, 'r2': -0.0019509522400826152}\n",
      "{'r': 0.13939915855822946, 'p': 0.10953690201124204, 'r2': -0.0031333150201154234}\n",
      "{'r': 0.02252800957353265, 'p': 0.7968808549653152, 'r2': 0.0038323439401570123}\n",
      "{'r': 0.031978376588675576, 'p': 0.7148091571955296, 'r2': -0.005860905361657065}\n",
      "{'r': 0.02948009449094773, 'p': 0.7362337080535307, 'r2': -0.00046248352329991693}\n",
      "{'r': 0.034055324454833155, 'p': 0.6971645926669082, 'r2': 0.00030744610460018416}\n",
      "{'r': 0.04818179925350493, 'p': 0.5818156580400043, 'r2': -0.0010010743284244229}\n",
      "{'r': 0.06521611867610586, 'p': 0.4557858392931627, 'r2': -0.003187157739925217}\n",
      "{'r': 0.16986614428386268, 'p': 0.05061489445655333, 'r2': -0.002586875111918174}\n",
      "{'r': 0.12591528995180062, 'p': 0.14869023805836734, 'r2': -0.0032017901266079953}\n",
      "{'r': 0.04533459344012129, 'p': 0.6043498300784373, 'r2': 0.002198103331932044}\n",
      "{'r': 0.13482666830639642, 'p': 0.12179247658843836, 'r2': 0.0007394959075380791}\n",
      "{'r': 0.08243406419157616, 'p': 0.34552292654655825, 'r2': -0.0019656756566959867}\n",
      "{'r': 0.0015465725996840153, 'p': 0.9859040325144405, 'r2': -0.0030766863837588198}\n",
      "{'r': 0.07564816415262837, 'p': 0.38680663732338405, 'r2': 0.004525016198633702}\n",
      "{'r': 0.17038462196512627, 'p': 0.04990405153905166, 'r2': -0.007618624882502712}\n",
      "{'r': 0.10681634171101215, 'p': 0.22104935205999587, 'r2': 0.0002802229495086683}\n",
      "{'r': 0.13061877430089247, 'p': 0.13398314153222532, 'r2': -0.0007980381486875742}\n",
      "{'r': 0.13133113685531267, 'p': 0.13185622692425164, 'r2': -0.003365373035017516}\n",
      "{'r': 0.11263765351613723, 'p': 0.19675529617684226, 'r2': 0.0009001880404155172}\n",
      "{'r': 0.019743187904559655, 'p': 0.8215418777742598, 'r2': 0.0015379935628225816}\n",
      "{'r': 0.17577985627589596, 'p': 0.04298626566641565, 'r2': -0.004545276109499907}\n",
      "{'r': 0.016060053009468955, 'p': 0.8544236913979262, 'r2': 0.0005810162583999246}\n",
      "{'r': 0.2368261930860665, 'p': 0.006058661822457897, 'r2': -0.001376858162160066}\n",
      "{'r': 0.024150626320746823, 'p': 0.7826019736028561, 'r2': -6.005717533945632e-05}\n",
      "{'r': 0.05791708827237357, 'p': 0.507853475181252, 'r2': 0.002708886474868355}\n",
      "{'r': 0.02783068963469442, 'p': 0.7504916718673134, 'r2': 0.0037073451481257403}\n",
      "{'r': 0.08541765300568845, 'p': 0.32828512832199014, 'r2': -0.01213737926578513}\n",
      "{'r': 0.10370008856843504, 'p': 0.23489471110818055, 'r2': -0.00013563974231542986}\n",
      "{'r': 0.2162075136723415, 'p': 0.012435884234445133, 'r2': -0.008397736077581142}\n",
      "{'r': 0.11931611093429179, 'p': 0.1713359632336181, 'r2': 0.0008370060843473581}\n",
      "{'r': 0.10200025504942441, 'p': 0.24269771939806403, 'r2': -0.003977765581553517}\n",
      "{'r': 0.02560681765358304, 'p': 0.7698488263207646, 'r2': -0.003918224935216252}\n",
      "{'r': 0.09673426377379829, 'p': 0.26800722300688107, 'r2': 0.0021692454692683106}\n",
      "{'r': 2.9323536430267926e-05, 'p': 0.9997327219782033, 'r2': -0.0024709258524395093}\n",
      "{'r': 0.03127144815171826, 'p': 0.7208499167108299, 'r2': -0.000480474358877947}\n",
      "{'r': 0.0805073699597089, 'p': 0.35695196269651563, 'r2': 6.703655034745459e-05}\n",
      "{'r': 0.17209119341170445, 'p': 0.047622508638126115, 'r2': -0.0009455510482943464}\n",
      "{'r': 0.032546718935347066, 'p': 0.7099653796733689, 'r2': -0.004143831091254091}\n",
      "mentions_count\n",
      "{'r': 0.03988129299669831, 'p': 0.5940039580773326, 'r2': -0.0005806987286320009}\n",
      "{'r': 0.02735272495003386, 'p': 0.7147291153454912, 'r2': -0.0010426736115279668}\n",
      "{'r': 0.00742102571857642, 'p': 0.9210196877106153, 'r2': -0.0036321975999735524}\n"
     ]
    },
    {
     "name": "stdout",
     "output_type": "stream",
     "text": [
      "{'r': 0.057325077292017065, 'p': 0.4433684602740755, 'r2': -0.004147985075536908}\n",
      "{'r': 0.02968443799521486, 'p': 0.6916005943590218, 'r2': -0.004473134308731863}\n",
      "{'r': 0.0018094043197820079, 'p': 0.9807134874926907, 'r2': -0.0005342720714846649}\n",
      "{'r': 0.009273554357507967, 'p': 0.9013934997908194, 'r2': -0.0037280644500168767}\n",
      "{'r': 0.023771716462485132, 'p': 0.7507543034615539, 'r2': -0.0005300369094553226}\n",
      "{'r': 0.012155099938202614, 'p': 0.8709883617960175, 'r2': -0.0023696181126316774}\n",
      "{'r': 0.04095781692792729, 'p': 0.5840742428057024, 'r2': -0.0004417016523626582}\n",
      "{'r': 0.07984643164209662, 'p': 0.28530021728015215, 'r2': -0.0018269640838363798}\n",
      "{'r': 0.117484679048751, 'p': 0.11523247328195006, 'r2': -0.005355182263819369}\n",
      "{'r': 0.06204282452636481, 'p': 0.40669844467452, 'r2': -0.0037032606420787316}\n",
      "{'r': 0.03912495750093391, 'p': 0.6010257593195025, 'r2': -0.0017688067506526294}\n",
      "{'r': 0.016016761605945923, 'p': 0.8305436874101443, 'r2': -0.009829253357045164}\n",
      "{'r': 0.008166200560768166, 'p': 0.9131186921824592, 'r2': -0.006308647690874913}\n",
      "{'r': 0.03413598032389537, 'p': 0.6482433720821933, 'r2': -0.0005922115909963166}\n",
      "{'r': 0.06893527994974939, 'p': 0.35647564245041363, 'r2': -0.004064561993799653}\n",
      "{'r': 0.0504084255790123, 'p': 0.5003709980292296, 'r2': -0.0070026962239447595}\n",
      "{'r': 0.019461951199343935, 'p': 0.7948295318439006, 'r2': -0.0013611661263980724}\n",
      "{'r': 0.04890878059137716, 'p': 0.5132193480412083, 'r2': -0.0094455308364215}\n",
      "{'r': 0.020503381738548064, 'p': 0.7841134345585514, 'r2': -0.00023810333244962402}\n",
      "{'r': 0.0971296499905043, 'p': 0.19333708547570988, 'r2': -0.004780262079395969}\n",
      "{'r': 0.10630638606031464, 'p': 0.15434898991265147, 'r2': -0.001980987582408744}\n",
      "{'r': 0.020887708791214887, 'p': 0.7801689063798087, 'r2': -0.005067092883480728}\n",
      "{'r': 0.004357758533682225, 'p': 0.9535720033915371, 'r2': -0.00674698904827733}\n",
      "{'r': 0.05483869830401232, 'p': 0.4634243917345664, 'r2': -0.005912660875454145}\n",
      "{'r': 0.04860784712754471, 'p': 0.515817993704975, 'r2': -0.0014420140331068865}\n",
      "{'r': 0.24937062365843726, 'p': 0.0007109072808800309, 'r2': -0.003018688353752319}\n",
      "{'r': 0.1419642422919974, 'p': 0.056602477458742285, 'r2': -0.0029521808532468443}\n",
      "{'r': 0.10013114320484863, 'p': 0.17986628854253311, 'r2': -0.0035120299833938163}\n",
      "{'r': 0.04633866421271634, 'p': 0.5356287152310312, 'r2': -0.002381355650690953}\n",
      "{'r': 0.1272349759266896, 'p': 0.08784877637220892, 'r2': -0.007262131435666852}\n",
      "{'r': 0.05410462732865599, 'p': 0.4694400708581187, 'r2': -0.013493626888002864}\n",
      "{'r': 0.059829083421872556, 'p': 0.4236769338969681, 'r2': -0.004648019103760203}\n",
      "{'r': 0.027154279817928832, 'p': 0.7167099215340165, 'r2': -0.001231369987755171}\n",
      "{'r': 0.0016055769903463616, 'p': 0.9828857396961032, 'r2': -0.004615740569801985}\n",
      "{'r': 0.04598767122648044, 'p': 0.5387265927139031, 'r2': -0.005397648873516103}\n",
      "{'r': 0.07786173994414257, 'p': 0.2974822633831646, 'r2': -0.005397611622880394}\n",
      "{'r': 0.05050898868842998, 'p': 0.4995155076618887, 'r2': -0.0042268719776335836}\n",
      "{'r': 0.10173739798285264, 'p': 0.17294786738862347, 'r2': -0.0015239758176754715}\n",
      "{'r': 0.036891846935076744, 'p': 0.621971387217044, 'r2': -0.002423942375106991}\n",
      "{'r': 0.04146920988188087, 'p': 0.5793842232715667, 'r2': -0.009780803969288954}\n",
      "{'r': 0.05041178715368991, 'p': 0.5003423886711863, 'r2': -0.0033806007732863907}\n",
      "{'r': 0.01358739962542486, 'p': 0.8559424153738622, 'r2': -0.0017626407639092178}\n",
      "{'r': 0.04496792003606419, 'p': 0.5477771903118707, 'r2': -0.0034426469756093205}\n",
      "{'r': 0.037912847045833, 'p': 0.6123557632732014, 'r2': -0.004708165969932843}\n",
      "{'r': 0.005401615545168194, 'p': 0.9424679290866119, 'r2': -0.004434813769149182}\n",
      "{'r': 0.03137767455084206, 'p': 0.6749807789971266, 'r2': -0.0022091696349611834}\n",
      "{'r': 0.002725727555831856, 'p': 0.9709499228013547, 'r2': -0.006572105090433311}\n",
      "inhibit\n",
      "{'r': 0.060520538672132834, 'p': 0.45294745303170764, 'r2': -0.0046075050578519685}\n",
      "{'r': 0.018807462625031197, 'p': 0.8157330498266998, 'r2': -0.0006301778538898795}\n",
      "{'r': 0.17748862913529034, 'p': 0.026648166362221823, 'r2': 0.0024876191163508256}\n",
      "{'r': 0.15523962003250852, 'p': 0.05297848985591194, 'r2': -0.0012792901877502372}\n",
      "{'r': 0.00800273400895537, 'p': 0.9210177299493266, 'r2': 0.005622681236383986}\n",
      "{'r': 0.0479031021489823, 'p': 0.5526199999521924, 'r2': 0.003928379366190837}\n",
      "{'r': 0.1579302493562486, 'p': 0.04894629883808396, 'r2': 0.0003001207162586894}\n",
      "{'r': 0.032504457425897006, 'p': 0.687079239189909, 'r2': -0.001105601277641166}\n",
      "{'r': 0.10265675939335883, 'p': 0.20222343480344943, 'r2': -0.00042722457940027605}\n",
      "{'r': 0.03834438393477958, 'p': 0.634612847806949, 'r2': -0.0018952470873953465}\n",
      "{'r': 0.042827313658453374, 'p': 0.595519544776781, 'r2': 0.00251005602064569}\n",
      "{'r': 0.032273618038387956, 'p': 0.6891862253486896, 'r2': 0.0005994094163035424}\n",
      "{'r': 0.10475310277232866, 'p': 0.19311237768059808, 'r2': 0.002298109527964409}\n",
      "{'r': 0.09354470956550766, 'p': 0.24542835680351777, 'r2': -0.002334930399839741}\n",
      "{'r': 0.15573089877935214, 'p': 0.052222405653017875, 'r2': -0.003932199631397437}\n",
      "{'r': 0.015570213528627476, 'p': 0.847021970908748, 'r2': 0.0032217382249854153}\n",
      "{'r': 0.10636234362954085, 'p': 0.18632369107117103, 'r2': 0.0013717559966698767}\n",
      "{'r': 0.19914881902265572, 'p': 0.012688986865741743, 'r2': -0.004063976204925601}\n",
      "{'r': 0.08239413828245143, 'p': 0.3065132164202674, 'r2': -0.0013001849734871173}\n",
      "{'r': 0.07570244859707015, 'p': 0.34759339446785364, 'r2': -0.004803427630054968}\n",
      "{'r': 0.024522613811429964, 'p': 0.7612271376992027, 'r2': 0.0020788342514375556}\n",
      "{'r': 0.20276548938692912, 'p': 0.011129722969250263, 'r2': -0.0003654618171108792}\n",
      "{'r': 0.15274802226544332, 'p': 0.05695381786078594, 'r2': -0.00017128990102155406}\n",
      "{'r': 0.048983248296625786, 'p': 0.5436884387216484, 'r2': 0.0008231625416100563}\n",
      "{'r': 0.10688581956324415, 'p': 0.1841534703168799, 'r2': 4.705842932783977e-05}\n",
      "{'r': 0.1783441615558788, 'p': 0.02591440563198403, 'r2': -0.0010399959131695668}\n",
      "{'r': 0.010849735293761325, 'p': 0.8930647449155145, 'r2': 0.003049296786387168}\n",
      "{'r': 0.07418885754184242, 'p': 0.3573452767839827, 'r2': 0.0011796553487971374}\n",
      "{'r': 0.01201501807431385, 'p': 0.8816593880279873, 'r2': -0.005665952192750368}\n",
      "{'r': 0.09101262828645192, 'p': 0.25849649428959715, 'r2': -0.0015310537307287931}\n",
      "{'r': 0.09438841177806397, 'p': 0.24117771939074203, 'r2': 0.0012532265168653245}\n",
      "{'r': 0.07904924802631408, 'p': 0.3266320925444, 'r2': -0.002085081244370968}\n",
      "{'r': 0.055500288891412966, 'p': 0.4913558117905596, 'r2': -0.0016559002599547234}\n",
      "{'r': 0.03725200915179606, 'p': 0.6442995162028524, 'r2': 0.005351096643170084}\n",
      "{'r': 0.23072851907800318, 'p': 0.0037575907749715356, 'r2': 0.0006410556359131014}\n",
      "{'r': 0.1490109600195917, 'p': 0.06337420998354713, 'r2': 0.001297203357556742}\n",
      "{'r': 0.12342911193343045, 'p': 0.12475764495113018, 'r2': 0.0028549418094292677}\n",
      "{'r': 0.23875588906526352, 'p': 0.0026855573428669973, 'r2': -0.001140728047857298}\n",
      "{'r': 0.03168204338487223, 'p': 0.6945966973962315, 'r2': 0.0020637280996433915}\n",
      "{'r': 0.12808657067839077, 'p': 0.11104689842464645, 'r2': 0.0007800078609919048}\n",
      "{'r': 0.2656886019738759, 'p': 0.0008016674114446604, 'r2': -0.0014854926212197529}\n",
      "{'r': 0.23456606290577725, 'p': 0.003204563587454589, 'r2': -0.00025627143165491973}\n",
      "{'r': 0.11584511189989023, 'p': 0.14983302829931616, 'r2': -0.0010560695908962137}\n",
      "{'r': 0.1306000349416719, 'p': 0.1041534281851513, 'r2': 0.0027986947981371467}\n",
      "{'r': 0.12276690508523672, 'p': 0.1268088680640063, 'r2': 0.0007663463117280944}\n",
      "{'r': 0.10053917106495917, 'p': 0.21173773213743222, 'r2': -0.006202997450995373}\n",
      "{'r': 0.19294269832238137, 'p': 0.015813477621186366, 'r2': -0.00039750711175876583}\n",
      "{'r': 0.1420998242141489, 'p': 0.07680330552332983, 'r2': -0.016110413028988323}\n",
      "{'r': 0.21374355145140467, 'p': 0.007379366249585147, 'r2': -0.0037026202492516534}\n",
      "{'r': 0.032178776877905234, 'p': 0.6900525813461603, 'r2': 0.004194660564345342}\n",
      "url_exist\n",
      "{'r': 0.005446132191639755, 'p': 0.9460284063905796, 'r2': -0.00892084539110729}\n",
      "{'r': 0.022059214732741975, 'p': 0.7839111084480993, 'r2': -0.0034431090033663738}\n",
      "{'r': 0.022602943889250153, 'p': 0.7787205347692772, 'r2': -0.005643270510352539}\n"
     ]
    },
    {
     "name": "stdout",
     "output_type": "stream",
     "text": [
      "{'r': 0.04050254461542973, 'p': 0.6145096501644475, 'r2': -0.0037085547311280108}\n",
      "{'r': 0.03802343730432609, 'p': 0.6363586404637466, 'r2': -0.0008945118253410822}\n",
      "{'r': 0.0333564536270753, 'p': 0.6783390616090601, 'r2': -0.0006773940892687679}\n",
      "{'r': 0.00040032518192147527, 'p': 0.9960297616931599, 'r2': -0.005152899306464809}\n",
      "{'r': 0.06643229238218303, 'p': 0.40843195851288283, 'r2': -0.003449900791941207}\n",
      "{'r': 0.005352751661128561, 'p': 0.9469524514330437, 'r2': -0.005504332528051492}\n",
      "{'r': 0.0806818936418046, 'p': 0.3151370082791829, 'r2': -0.004727682016656853}\n",
      "{'r': 0.006963995927943607, 'p': 0.931019375212045, 'r2': -0.0016034181297308158}\n",
      "{'r': 0.12990313568813622, 'p': 0.1048990633984704, 'r2': -0.006887476121250469}\n",
      "{'r': 0.06102263419854097, 'p': 0.447727405271576, 'r2': -0.00288191955304522}\n",
      "{'r': 0.06927167234979736, 'p': 0.38864807761422226, 'r2': -0.005604638411662188}\n",
      "{'r': 0.007755177178253719, 'p': 0.9232052537719263, 'r2': -0.0102631448361731}\n",
      "{'r': 0.0017784063846724603, 'p': 0.9823639458045994, 'r2': -0.0034723286123958365}\n",
      "{'r': 0.11028924120697078, 'p': 0.1691079393344163, 'r2': -0.0017294588564633617}\n",
      "{'r': 0.011466588220017284, 'p': 0.8866594160834863, 'r2': -0.00318866302780938}\n",
      "{'r': 0.044074957415010364, 'p': 0.5836157205115512, 'r2': -0.0028000723057679975}\n",
      "{'r': 0.05342999380548906, 'p': 0.5063057282930699, 'r2': -0.005354377824425871}\n",
      "{'r': 0.06750289300918877, 'p': 0.40090359401282954, 'r2': -0.007194384580127977}\n",
      "{'r': 0.0845240778789032, 'p': 0.29256783289287014, 'r2': -0.0012381422522938835}\n",
      "{'r': 0.0424662199809023, 'p': 0.5974393245885552, 'r2': -0.001250960548319835}\n",
      "{'r': 0.10106445411382435, 'p': 0.20787076393710244, 'r2': -0.00259035597009345}\n",
      "{'r': 0.04879144438090351, 'p': 0.5439629224411089, 'r2': -0.0042255162369059015}\n",
      "{'r': 0.14144306547663832, 'p': 0.07722677057560406, 'r2': -0.0030446146936012664}\n",
      "{'r': 0.008123715806591696, 'p': 0.9195678310256058, 'r2': -0.003695429638845038}\n",
      "{'r': 0.02964511363907874, 'p': 0.7124520433031619, 'r2': -0.0023809764271270238}\n",
      "{'r': 0.021704308409621637, 'p': 0.7873042910944676, 'r2': -0.01299399708092297}\n",
      "{'r': 0.07962209434987791, 'p': 0.3215565071546286, 'r2': -0.0021473301427428646}\n",
      "{'r': 0.05362098941621911, 'p': 0.5047848044328741, 'r2': -0.005132000761008726}\n",
      "{'r': 0.15251977100167458, 'p': 0.056524734787501425, 'r2': -0.005682150126390706}\n",
      "{'r': 0.19655301594527197, 'p': 0.013615978986770904, 'r2': -0.010119696736130024}\n",
      "{'r': 0.04134866511606922, 'p': 0.6071281732623247, 'r2': -0.0007334605301324348}\n",
      "{'r': 0.09507774539331526, 'p': 0.2362206790528502, 'r2': -0.002462724408027617}\n",
      "{'r': 0.03226907208771673, 'p': 0.6882700931167368, 'r2': -0.0008425943269007252}\n",
      "{'r': 0.008756391347541293, 'p': 0.9133273417191743, 'r2': -0.007201818928289994}\n",
      "{'r': 0.07328812564566645, 'p': 0.36167039128265566, 'r2': -0.0029770136143572046}\n",
      "{'r': 0.026312586578165688, 'p': 0.7435788019545628, 'r2': -0.0038050800874950053}\n",
      "{'r': 0.055010092794088375, 'p': 0.4937953316897606, 'r2': -0.0016997787877803816}\n",
      "{'r': 0.10384554979683425, 'p': 0.19556686399552767, 'r2': -0.0031776766520382528}\n",
      "{'r': 0.012643591305921669, 'p': 0.8751155647850359, 'r2': -0.002166054977193177}\n",
      "{'r': 0.02224215150355264, 'p': 0.782163672977158, 'r2': -0.007088059308226047}\n",
      "{'r': 0.09429006351786272, 'p': 0.24014318362545475, 'r2': -0.005140581225916696}\n",
      "{'r': 0.029159251796335387, 'p': 0.7169621196141663, 'r2': -0.0015180421668194554}\n",
      "{'r': 0.07637775249577713, 'p': 0.3417299905126377, 'r2': -0.009523025858598988}\n",
      "{'r': 0.05443799030297733, 'p': 0.4983059317042355, 'r2': -0.0025462131645980434}\n",
      "{'r': 0.09554273790419102, 'p': 0.2339262821670304, 'r2': -0.016119749226625846}\n",
      "{'r': 0.040461877235694686, 'p': 0.6148654124735385, 'r2': -0.008335730257409324}\n",
      "{'r': 0.1111591923812467, 'p': 0.16575002801693303, 'r2': -0.004046557720472688}\n",
      "followees\n",
      "{'r': 0.3301044119183018, 'p': 3.483342901339006e-05, 'r2': 0.04764080047766175}\n",
      "{'r': 0.22634318661336292, 'p': 0.005196364055984796, 'r2': 0.04512323839717105}\n",
      "{'r': 0.26521145003356783, 'p': 0.0009982172230508764, 'r2': 0.045052326767435466}\n",
      "{'r': 0.18634808037840583, 'p': 0.02196571815497917, 'r2': 0.04828343904936827}\n",
      "{'r': 0.3001895478805978, 'p': 0.00018047744957553212, 'r2': 0.04281837575098588}\n",
      "{'r': 0.1988192088168122, 'p': 0.014392586543079676, 'r2': 0.04486187122387826}\n",
      "{'r': 0.1478523952001683, 'p': 0.07003047012077895, 'r2': 0.05945699659269175}\n",
      "{'r': 0.31780845759986015, 'p': 6.995533529682935e-05, 'r2': 0.042727637112310826}\n",
      "{'r': 0.20401517160502622, 'p': 0.011983409540396353, 'r2': 0.050395512572059896}\n",
      "{'r': 0.1371439266134055, 'p': 0.09311453523125075, 'r2': 0.05567529945263936}\n",
      "{'r': 0.28633425268311474, 'p': 0.00036493872920462055, 'r2': 0.040563969291198806}\n",
      "{'r': 0.19639868656361106, 'p': 0.01565245284916891, 'r2': 0.08542318485149228}\n",
      "{'r': 0.23845152141589235, 'p': 0.0031937735319703497, 'r2': 0.04776988914636047}\n",
      "{'r': 0.3011385698783283, 'p': 0.00017175449217981395, 'r2': 0.08206084294537597}\n",
      "{'r': 0.2413522893709047, 'p': 0.0028320377963100113, 'r2': 0.048623289998553275}\n",
      "{'r': 0.3485555776877826, 'p': 1.155215284638601e-05, 'r2': 0.0479768302436502}\n",
      "{'r': 0.2846239852492527, 'p': 0.00039710091008876, 'r2': 0.05386212877449614}\n",
      "{'r': 0.2412364101802241, 'p': 0.0028457464686360606, 'r2': 0.05632013173982422}\n",
      "{'r': 0.1464105418459382, 'p': 0.07283681778724811, 'r2': 0.07986150614959472}\n",
      "{'r': 0.2044548014041884, 'p': 0.011796833233314133, 'r2': 0.08258835207144262}\n",
      "{'r': 0.2539885660243503, 'p': 0.0016501242601131916, 'r2': 0.05619845791180263}\n",
      "{'r': 0.17074173988886074, 'p': 0.03607404105668011, 'r2': 0.05272583902847883}\n",
      "{'r': 0.29899344838600145, 'p': 0.00019205882960843636, 'r2': 0.04328453754500936}\n",
      "{'r': 0.2770936914481939, 'p': 0.0005723543805180766, 'r2': 0.045383326245812004}\n",
      "{'r': 0.17693576401955993, 'p': 0.029755274536069333, 'r2': 0.07962339789462017}\n",
      "{'r': 0.2630988291161886, 'p': 0.0010991122705845634, 'r2': 0.05098432788264247}\n",
      "{'r': 0.2516024779933076, 'p': 0.0018311039435547282, 'r2': 0.05600714235252211}\n",
      "{'r': 0.20015737011539886, 'p': 0.013734822816065393, 'r2': 0.059188773900357594}\n",
      "{'r': 0.2677429206311698, 'p': 0.0008885263029987973, 'r2': 0.05112466031533029}\n",
      "{'r': 0.21003384503451905, 'p': 0.009641429522884711, 'r2': 0.048557436661792776}\n",
      "{'r': 0.254563942800615, 'p': 0.0016089954131044623, 'r2': 0.04473326458067221}\n",
      "{'r': 0.2597734950651009, 'p': 0.0012769659170422751, 'r2': 0.0520472368453734}\n",
      "{'r': 0.21022362246291715, 'p': 0.009574662892727235, 'r2': 0.03990983713212777}\n",
      "{'r': 0.23254469908246383, 'p': 0.004061961840150274, 'r2': 0.0485690093265557}\n",
      "{'r': 0.1578531305859147, 'p': 0.05289623159010389, 'r2': 0.05931103378440319}\n",
      "{'r': 0.2057058165398704, 'p': 0.011279792301942485, 'r2': 0.05795546105988414}\n",
      "{'r': 0.14714757336573958, 'p': 0.07139112362027189, 'r2': 0.042810603073778576}\n",
      "{'r': 0.24692814526538542, 'p': 0.0022388904214672516, 'r2': 0.0467887002972819}\n",
      "{'r': 0.24778838992271926, 'p': 0.002158159880878671, 'r2': 0.0472735885960218}\n",
      "{'r': 0.28492905300665966, 'p': 0.00039117845770776796, 'r2': 0.05407955750340705}\n",
      "{'r': 0.14790890759737094, 'p': 0.06992229193568378, 'r2': 0.06990633151503448}\n",
      "{'r': 0.179998889722241, 'p': 0.026995764763053452, 'r2': 0.058765253200091405}\n",
      "{'r': 0.37503947227316425, 'p': 2.0890446037691723e-06, 'r2': 0.05019034310347494}\n",
      "{'r': 0.25555180677295586, 'p': 0.0015405540002485071, 'r2': 0.04445291590620097}\n",
      "{'r': 0.2549539739246179, 'p': 0.0015816488789586387, 'r2': 0.05941023628524518}\n",
      "{'r': 0.2755650139743205, 'p': 0.0006156772646566551, 'r2': 0.038805492442858205}\n",
      "{'r': 0.23639141313644355, 'p': 0.003475449304977107, 'r2': 0.04149218766454099}\n",
      "{'r': 0.3294485711128639, 'p': 3.618083978289349e-05, 'r2': 0.04168384672620253}\n",
      "{'r': 0.3289805500861979, 'p': 3.717216565833332e-05, 'r2': 0.03551674611923754}\n",
      "{'r': 0.2466543992611609, 'p': 0.0022651490921336837, 'r2': 0.04294847367106316}\n",
      "follower_media_avg\n",
      "{'r': 0.05876666322300612, 'p': 0.5016385127981132, 'r2': -0.003422699872504942}\n",
      "{'r': 0.18125949495424146, 'p': 0.0367993776723681, 'r2': -0.0035268654667174994}\n",
      "{'r': 0.07214974717027954, 'p': 0.40920496022551855, 'r2': -0.0012524982532768681}\n",
      "{'r': 0.027867483974870367, 'p': 0.7501726692911607, 'r2': 0.00012765194695425476}\n"
     ]
    },
    {
     "name": "stdout",
     "output_type": "stream",
     "text": [
      "{'r': 0.06562491735037239, 'p': 0.452960230984061, 'r2': -0.005083199006950622}\n",
      "{'r': 0.013173998826797649, 'p': 0.8803682843489082, 'r2': -0.005365875145838838}\n",
      "{'r': 0.08899456706919082, 'p': 0.30835950677213264, 'r2': -0.0070413601184392775}\n",
      "{'r': 0.04753662610398346, 'p': 0.5868877523624674, 'r2': -0.0009484728296091482}\n",
      "{'r': 0.07022503032261242, 'p': 0.42184635397887665, 'r2': -0.016572407889316753}\n",
      "{'r': 0.023469983198329547, 'p': 0.7885830590541546, 'r2': -0.005269052589377976}\n",
      "{'r': 0.06821240213839894, 'p': 0.4353040989183934, 'r2': -0.01165162811519176}\n",
      "{'r': 0.02629159523749464, 'p': 0.76387260189449, 'r2': -0.004430173324920306}\n",
      "{'r': 0.15283350570672183, 'p': 0.07904446656147233, 'r2': -0.0057101755344510785}\n",
      "{'r': 0.024932732866080852, 'p': 0.7757449606110167, 'r2': -0.0004950121155876009}\n",
      "{'r': 0.06127167512405426, 'p': 0.4835476641192993, 'r2': -0.009844069573721591}\n",
      "{'r': 0.18020048167083522, 'p': 0.037932862659551314, 'r2': -0.005388488960227011}\n",
      "{'r': 0.01124236258032258, 'p': 0.897805956228413, 'r2': -0.0018613873247258716}\n",
      "{'r': 0.07534370951156176, 'p': 0.38872598890218796, 'r2': -0.004345332721030948}\n",
      "{'r': 0.16020423229487768, 'p': 0.06546903090263671, 'r2': -0.005505758765636637}\n",
      "{'r': 0.17519166239028627, 'p': 0.04369923661414325, 'r2': -0.004596474145502727}\n",
      "{'r': 0.18939297867366195, 'p': 0.029008605901872677, 'r2': -0.004137048392252573}\n",
      "{'r': 0.08998515720935837, 'p': 0.30298417066762334, 'r2': -0.0011019296230448728}\n",
      "{'r': 0.12599617994846743, 'p': 0.14842740935700194, 'r2': -0.0012032498722837515}\n",
      "{'r': 0.03783924497904757, 'p': 0.6654367720993077, 'r2': -0.0058035302526239455}\n",
      "{'r': 0.029831035304998654, 'p': 0.7332114295893756, 'r2': -0.005922250594889889}\n",
      "{'r': 0.06431754686465976, 'p': 0.4620310712991693, 'r2': 0.0008474762827476612}\n",
      "{'r': 0.09641943782671351, 'p': 0.2695751327644444, 'r2': -0.009980412929101744}\n",
      "{'r': 0.12058038053184389, 'p': 0.16681076512771947, 'r2': -0.0037378652863623517}\n",
      "{'r': 0.022412697874297907, 'p': 0.7978982109771066, 'r2': -0.0031322087515284203}\n",
      "{'r': 0.25006853022110714, 'p': 0.0036963224271898535, 'r2': -0.0058331698920828234}\n",
      "{'r': 0.05477114877826448, 'p': 0.5312102819335276, 'r2': 0.0005362157770582909}\n",
      "{'r': 0.011028337662185795, 'p': 0.8997412083589396, 'r2': -0.0030802357653526126}\n",
      "{'r': 0.11621971879714084, 'p': 0.18280151989388285, 'r2': -0.007511703342800091}\n",
      "{'r': 0.028148651621973792, 'p': 0.7477363769092364, 'r2': -0.0022773214416387023}\n",
      "{'r': 0.1399395163977237, 'p': 0.1081546585301984, 'r2': -0.002822189418760046}\n",
      "{'r': 0.058460756651467244, 'p': 0.5038717395323112, 'r2': -0.004743646645567612}\n",
      "{'r': 0.03371129466392533, 'p': 0.7000764110150361, 'r2': -0.0028046379389349728}\n",
      "{'r': 0.01821933992674544, 'p': 0.835112168919124, 'r2': -0.0008789245941656088}\n",
      "{'r': 0.11799984513678342, 'p': 0.1761431396947497, 'r2': -0.01325610302615221}\n",
      "{'r': 0.12097353440420293, 'p': 0.1654218131233938, 'r2': -0.003076792251101601}\n",
      "{'r': 0.1295567060868547, 'p': 0.13720275446953814, 'r2': -0.01047394849738521}\n",
      "{'r': 0.04904018727957093, 'p': 0.5750989282083013, 'r2': -0.0005186919272715418}\n",
      "{'r': 0.04970123501126813, 'p': 0.5699511792173833, 'r2': -0.0027319224843918464}\n",
      "{'r': 0.07398356331116882, 'p': 0.39737043285377577, 'r2': -0.006707644862660222}\n",
      "{'r': 0.011484766761437218, 'p': 0.8956148196777918, 'r2': -0.00035830628514157417}\n",
      "{'r': 0.03994381997350344, 'p': 0.6480386930044955, 'r2': -0.004522439100001741}\n",
      "{'r': 0.05771510485437604, 'p': 0.5093369152464573, 'r2': -0.004502034350089046}\n",
      "{'r': 0.05285668818292378, 'p': 0.5456829714840377, 'r2': -0.0028192150117462233}\n",
      "{'r': 0.2659095059345546, 'p': 0.0019776802222750585, 'r2': -0.004084817273137231}\n",
      "{'r': 0.059633091227805995, 'p': 0.49534150195409926, 'r2': -0.007753266579833285}\n",
      "statuses_count\n",
      "{'r': 0.024857220773839464, 'p': 0.7573071252791126, 'r2': -0.008544965906787595}\n",
      "{'r': 0.05871328424616498, 'p': 0.4651292645826882, 'r2': -0.003448295144388691}\n",
      "{'r': 0.046887708029947385, 'p': 0.5598075607267309, 'r2': -0.005551028508834066}\n",
      "{'r': 0.005485064004205317, 'p': 0.9456431786382499, 'r2': -0.0030245791925876063}\n",
      "{'r': 0.07419999338206655, 'p': 0.355711463946086, 'r2': -0.0008916769114226675}\n",
      "{'r': 0.17845920075330565, 'p': 0.02533861425165689, 'r2': 0.0008866404263315752}\n",
      "{'r': 0.035209810799086985, 'p': 0.6615399987712373, 'r2': -0.004651610419504593}\n",
      "{'r': 0.060702476145732626, 'p': 0.4501178184222333, 'r2': -0.0027606600922203796}\n",
      "{'r': 0.03834262723144932, 'p': 0.6335273722581918, 'r2': -0.00472528860472281}\n",
      "{'r': 0.09834027970959418, 'p': 0.2204524276338353, 'r2': -0.004736167524042223}\n",
      "{'r': 0.057163572260369916, 'p': 0.4770126111602396, 'r2': -0.0013196612035310195}\n",
      "{'r': 0.0066391428185259005, 'p': 0.9342297458725146, 'r2': -0.0062458992833504205}\n",
      "{'r': 0.0010745535425675733, 'p': 0.9893433497251878, 'r2': -0.002828280190656196}\n",
      "{'r': 0.058950006329594844, 'p': 0.4633285177933776, 'r2': -0.005356738269387096}\n",
      "{'r': 0.007468007109056735, 'p': 0.9260406873738045, 'r2': -0.01007054267347498}\n",
      "{'r': 0.03769447205700252, 'p': 0.6392821315193904, 'r2': -0.003217944748282875}\n",
      "{'r': 0.12423709136383715, 'p': 0.12107936365551136, 'r2': -0.0005537629960670643}\n",
      "{'r': 0.06470302363310565, 'p': 0.4207665642451103, 'r2': -0.0031886212485302766}\n",
      "{'r': 0.07279284006212766, 'p': 0.3649328266396177, 'r2': -0.0026199182190786985}\n",
      "{'r': 0.07741123097424506, 'p': 0.3352184960804228, 'r2': -0.0053424010865688485}\n",
      "{'r': 0.029120937275017134, 'p': 0.7173181977110545, 'r2': -0.007185500715125625}\n",
      "{'r': 0.05710938105651857, 'p': 0.47743111172267033, 'r2': -0.0012379824052839439}\n",
      "{'r': 0.10673200137582028, 'p': 0.18336511045561527, 'r2': -0.0003519459319792473}\n",
      "{'r': 0.011171445022322023, 'p': 0.8895579681538061, 'r2': -0.0022501870240014153}\n",
      "{'r': 0.12649730377822926, 'p': 0.11440736439076954, 'r2': -0.003233219632697204}\n",
      "{'r': 0.04692641254671957, 'p': 0.5594832317587786, 'r2': -0.0030308856940968187}\n",
      "{'r': 0.06319946848804305, 'p': 0.43166508324386055, 'r2': -0.003627197116154823}\n",
      "{'r': 0.07700596105738854, 'p': 0.3377624315615117, 'r2': -0.0023734446057398716}\n",
      "{'r': 0.06441846767696703, 'p': 0.422816805591872, 'r2': -0.012992536233838958}\n",
      "{'r': 0.05282507113435471, 'p': 0.5111385143406519, 'r2': -0.0021373200177592366}\n",
      "{'r': 0.06782954497037642, 'p': 0.3986231461107548, 'r2': -0.0051096343830342675}\n",
      "{'r': 0.032923764836542344, 'p': 0.6822842913773982, 'r2': -0.005548450088861667}\n",
      "{'r': 0.051178380497067764, 'p': 0.5244139546432194, 'r2': -0.01011930145361455}\n",
      "{'r': 0.03389408370369252, 'p': 0.673449131974055, 'r2': -4.5531174887503135e-05}\n",
      "{'r': 0.05163347433554649, 'p': 0.5207276233213324, 'r2': -0.0022923025843751164}\n",
      "{'r': 0.008379509365996081, 'p': 0.9170441606547324, 'r2': -0.0006974129048711308}\n",
      "{'r': 0.03582282941891993, 'p': 0.6560199444386353, 'r2': -0.007204898541244109}\n",
      "{'r': 0.08299182492430827, 'p': 0.3014361004752858, 'r2': -0.003101648872463958}\n",
      "{'r': 0.03168669388971526, 'p': 0.6936110428471856, 'r2': -0.003687730509653564}\n",
      "{'r': 0.14446299861384104, 'p': 0.07105395626994948, 'r2': -0.001051461672313292}\n",
      "{'r': 0.03542772638620887, 'p': 0.6595756245854055, 'r2': -0.003167388650859726}\n",
      "{'r': 0.08645652947189261, 'p': 0.28163314620169905, 'r2': -0.002144377587010604}\n",
      "{'r': 0.13148273040194064, 'p': 0.10070552179003711, 'r2': -0.007076506481439515}\n",
      "{'r': 0.08639277300587221, 'p': 0.28198946967214916, 'r2': -0.005161477313557983}\n",
      "{'r': 0.05925637913380012, 'p': 0.4610036602591635, 'r2': -0.0015208042348163974}\n",
      "{'r': 0.03352502541666472, 'p': 0.6768043874710488, 'r2': -0.00896844612993788}\n",
      "{'r': 0.015301179041186922, 'p': 0.8491506268265915, 'r2': -0.0016492662759686194}\n",
      "{'r': 0.0014201181595611522, 'p': 0.985916597629702, 'r2': -0.015741228156753228}\n",
      "{'r': 0.2002432731200237, 'p': 0.011919714741514528, 'r2': -0.008343165383113105}\n",
      "{'r': 0.010416188271925688, 'p': 0.8969817896822447, 'r2': -0.004062898081066635}\n",
      "domains_count\n",
      "{'r': 0.015819446493947172, 'p': 0.8326004308024831, 'r2': -0.0005812576433042782}\n",
      "{'r': 0.004906130963328894, 'p': 0.9477374173848854, 'r2': -0.0010517960854923292}\n",
      "{'r': 0.02128371193465144, 'p': 0.7761104032133438, 'r2': -0.003751927068963079}\n",
      "{'r': 0.05020991802634728, 'p': 0.5020619607785022, 'r2': -0.004158586124300534}\n"
     ]
    },
    {
     "name": "stdout",
     "output_type": "stream",
     "text": [
      "{'r': 0.02764943849110268, 'p': 0.7117709847369722, 'r2': -0.004475774812296773}\n",
      "{'r': 0.034800999648553294, 'p': 0.6418621741836986, 'r2': -0.0002755498127611666}\n",
      "{'r': 0.03703873184529926, 'p': 0.6205840491064756, 'r2': -0.0037289578817699454}\n",
      "{'r': 0.0005950302535075482, 'p': 0.993657002578005, 'r2': -0.0004867644628685719}\n",
      "{'r': 0.04868612307485076, 'p': 0.5151414079449307, 'r2': -0.002359174825850685}\n",
      "{'r': 0.04069244568667923, 'p': 0.58651486688564, 'r2': -0.0004950582046070462}\n",
      "{'r': 0.03963561760200589, 'p': 0.5962807211447217, 'r2': -0.0018107021180735039}\n",
      "{'r': 0.06124627763809555, 'p': 0.4127607428734409, 'r2': -0.005336240075613419}\n",
      "{'r': 0.03558437790008724, 'p': 0.6343787960247059, 'r2': -0.003699519447552024}\n",
      "{'r': 0.02728363604304962, 'p': 0.715418519968605, 'r2': -0.001964307010907884}\n",
      "{'r': 0.016401606896991675, 'p': 0.8265355178723502, 'r2': -0.009816757628189565}\n",
      "{'r': 0.038776002196022445, 'p': 0.6042779342592071, 'r2': -0.0063094751683811625}\n",
      "{'r': 0.007210405401692184, 'p': 0.923254304497127, 'r2': -0.0005901468052360581}\n",
      "{'r': 0.15630228636243787, 'p': 0.035623814475463506, 'r2': -0.0040724413980959715}\n",
      "{'r': 0.045685069859803855, 'p': 0.5414044951769512, 'r2': -0.006908571596527224}\n",
      "{'r': 0.020028190846971845, 'p': 0.7889981453644618, 'r2': -0.0013667480242346652}\n",
      "{'r': 0.06978415342933486, 'p': 0.35057017627728576, 'r2': -0.009413864460953759}\n",
      "{'r': 0.03203192796493834, 'p': 0.6686003372178935, 'r2': -0.00024168966749442687}\n",
      "{'r': 0.0638364956111812, 'p': 0.39324168093548945, 'r2': -0.004760169336045639}\n",
      "{'r': 0.09100557202002758, 'p': 0.22307114848526288, 'r2': -0.0022599788674810386}\n",
      "{'r': 0.015108461028080486, 'p': 0.8400208248911636, 'r2': -0.005081911216891122}\n",
      "{'r': 0.012804998464036599, 'p': 0.8641552666242373, 'r2': -0.006749400506652225}\n",
      "{'r': 0.010402439135882003, 'p': 0.8894622629996379, 'r2': -0.005891855303659677}\n",
      "{'r': 0.037980534708642474, 'p': 0.6117206005131086, 'r2': -0.0014401692757131102}\n",
      "{'r': 0.20122233769543277, 'p': 0.006602513793422779, 'r2': -0.0023049937933440124}\n",
      "{'r': 0.1475788266221002, 'p': 0.04741393733754081, 'r2': -0.00247066957927784}\n",
      "{'r': 0.12719341234608858, 'p': 0.08795333814158372, 'r2': -0.003647474869999945}\n",
      "{'r': 0.03313936287992079, 'p': 0.6578544551503287, 'r2': -0.00237226811263489}\n",
      "{'r': 0.15661119110005606, 'p': 0.035256499900082866, 'r2': -0.006533448302392264}\n",
      "{'r': 0.01431813823545523, 'p': 0.848285794043002, 'r2': -0.013486226742818675}\n",
      "{'r': 0.018459715543412934, 'p': 0.8051787242343333, 'r2': -0.004602342623412925}\n",
      "{'r': 0.12112568179010631, 'p': 0.10431701812043956, 'r2': -0.0012449817520921336}\n",
      "{'r': 0.06290248643108562, 'p': 0.40021526800714335, 'r2': -0.0046957622958343935}\n",
      "{'r': 0.08365471201665807, 'p': 0.26287340580955626, 'r2': -0.005567611418026308}\n",
      "{'r': 0.12046973228159287, 'p': 0.10622095575025516, 'r2': -0.005412890182399899}\n",
      "{'r': 0.02663813843594475, 'p': 0.72187068244918, 'r2': -0.004236617740953674}\n",
      "{'r': 0.07054551283011466, 'p': 0.3453261799287933, 'r2': -0.0016156438035686894}\n",
      "{'r': 0.08346766782565174, 'p': 0.26394589069751423, 'r2': -0.0024591706622088426}\n",
      "{'r': 0.08824894633170881, 'p': 0.23746412672887549, 'r2': -0.009885000323674032}\n",
      "{'r': 0.046912477734250516, 'p': 0.5305834555266185, 'r2': -0.0036721499609142947}\n",
      "{'r': 0.03083884996672312, 'p': 0.6802530061497004, 'r2': -0.0017589860933518776}\n",
      "{'r': 0.04072268409357981, 'p': 0.5862365271993037, 'r2': -0.0035022767653486663}\n",
      "{'r': 0.06181215228496844, 'p': 0.408448585305669, 'r2': -0.004572702608885937}\n",
      "{'r': 0.04811684235269429, 'p': 0.5200724453580671, 'r2': -0.004437056854165266}\n",
      "{'r': 0.03748218120811016, 'p': 0.616403767783118, 'r2': -0.0022137593244716757}\n",
      "{'r': 0.01086834061733671, 'p': 0.8845452003772034, 'r2': -0.0065720844982152474}\n",
      "pos_emotion\n",
      "{'r': 0.21154998476449277, 'p': 0.0080234307895745, 'r2': -0.009674540852576108}\n",
      "{'r': 0.02703915152103411, 'p': 0.7375767621843968, 'r2': -0.005248970419708154}\n",
      "{'r': 0.07603901852911188, 'p': 0.34544791262577035, 'r2': 0.0017523920741927324}\n",
      "{'r': 0.07091355965441987, 'p': 0.379024627973232, 'r2': -0.0023591119885623124}\n",
      "{'r': 0.15136444324481993, 'p': 0.0592653961486797, 'r2': -0.000745063747955177}\n",
      "{'r': 0.12339994575130173, 'p': 0.12484744614824708, 'r2': -0.0004887671228562595}\n",
      "{'r': 0.01783694841051836, 'p': 0.8250852250357767, 'r2': -0.0015890484004279283}\n",
      "{'r': 0.22038453570776453, 'p': 0.00570033380910214, 'r2': -0.004358641061877}\n",
      "{'r': 0.009729501637540286, 'p': 0.904049891230157, 'r2': -0.0033833790926166784}\n",
      "{'r': 0.07230710539626757, 'p': 0.3697044992032906, 'r2': -0.006944430375498434}\n",
      "{'r': 0.04143316551935472, 'p': 0.6075605691616084, 'r2': -0.0001379248000818789}\n",
      "{'r': 0.010915713149388639, 'p': 0.8924183703051125, 'r2': -0.001977887298088321}\n",
      "{'r': 0.14447403535650158, 'p': 0.07195224540253044, 'r2': -0.00042488607296480295}\n",
      "{'r': 0.08773155276153297, 'p': 0.2761294503302244, 'r2': -0.005914711640675185}\n",
      "{'r': 0.07783560218207677, 'p': 0.334137328335766, 'r2': -0.006913924137714966}\n",
      "{'r': 0.021533514770757614, 'p': 0.7896066824154888, 'r2': -0.00196048589086808}\n",
      "{'r': 0.21765340904076078, 'p': 0.00634442986902069, 'r2': -0.0026478181678067257}\n",
      "{'r': 0.07374718843197553, 'p': 0.3602227397193127, 'r2': -0.004880611427683657}\n",
      "{'r': 0.021193865957572326, 'p': 0.792849760596212, 'r2': -0.003547792911014147}\n",
      "{'r': 0.034786485268814185, 'p': 0.666381664075147, 'r2': -0.005153506629699845}\n",
      "{'r': 0.07992368451574788, 'p': 0.3212922991835251, 'r2': -0.0014143247003022053}\n",
      "{'r': 0.09929468860124477, 'p': 0.2174764497279385, 'r2': 0.00017929717271494283}\n",
      "{'r': 0.0491011186231738, 'p': 0.5427181088076759, 'r2': -0.002614425472021886}\n",
      "{'r': 0.014252959616996656, 'p': 0.8598252237569785, 'r2': -0.0028351006848507552}\n",
      "{'r': 0.0703439546848204, 'p': 0.3828750397342366, 'r2': -0.0034268119511833284}\n",
      "{'r': 0.08214302290773583, 'p': 0.3079947728238942, 'r2': -0.003049424332447881}\n",
      "{'r': 0.003434367333150411, 'p': 0.9660599565290916, 'r2': -0.002316384420777351}\n",
      "{'r': 0.08162519999582442, 'p': 0.3110646667491704, 'r2': -0.0032559702374495014}\n",
      "{'r': 0.06392466979863907, 'p': 0.42788918284979854, 'r2': -0.008064068927102163}\n",
      "{'r': 0.03256470034384451, 'p': 0.6865297670518252, 'r2': -0.002903836697594464}\n",
      "{'r': 0.08626803609126946, 'p': 0.2842506383367561, 'r2': -0.002673435574917016}\n",
      "{'r': 0.0031417733217604573, 'p': 0.9689499958653381, 'r2': -0.003035572013953036}\n",
      "{'r': 0.0914528913629016, 'p': 0.25619063797414116, 'r2': -0.008292150002113651}\n",
      "{'r': 0.2215935172449122, 'p': 0.005434353830879015, 'r2': -0.001548341227945249}\n",
      "{'r': 0.1869035830764817, 'p': 0.019476831899477416, 'r2': -0.002564101006187469}\n",
      "{'r': 0.08206110181124071, 'p': 0.3084791126606591, 'r2': 0.000662134033119588}\n",
      "{'r': 0.12411287680757767, 'p': 0.12266662749182704, 'r2': -0.006770407827492631}\n",
      "{'r': 0.04357867939041255, 'p': 0.5890751560560837, 'r2': -0.0038362719126223688}\n",
      "{'r': 0.22490040703031033, 'p': 0.004762596248430141, 'r2': -0.003626182539628142}\n",
      "{'r': 0.014710027014307904, 'p': 0.855378373795968, 'r2': -0.0018429226859279836}\n",
      "{'r': 0.2584124229822975, 'p': 0.0011255041887573967, 'r2': -0.00045600545936492766}\n",
      "{'r': 0.08245041056664523, 'p': 0.3061818578047843, 'r2': -0.0016221344367078894}\n",
      "{'r': 0.06569098655254882, 'p': 0.4152085688125299, 'r2': -0.004337228461147413}\n",
      "{'r': 0.12360546121986436, 'p': 0.12421573654501389, 'r2': -0.0011735934633786416}\n",
      "{'r': 0.1075656404016966, 'p': 0.18136281450237504, 'r2': -0.0027139690714485186}\n",
      "{'r': 0.05652741546174894, 'p': 0.48335938794937366, 'r2': -0.008190407342660322}\n",
      "{'r': 0.10219493818896781, 'p': 0.20427161754532477, 'r2': -0.0015648976146754646}\n",
      "{'r': 0.2288992782960066, 'p': 0.004050277788680409, 'r2': -0.018230134693466127}\n",
      "{'r': 0.07015100666357522, 'p': 0.3841846909057077, 'r2': -0.006490983625111158}\n",
      "{'r': 0.05614079126225914, 'p': 0.48636111280799815, 'r2': -0.0016022655881618997}\n",
      "followee_followers_avg\n",
      "{'r': 0.13026023752985585, 'p': 0.13963484082385472, 'r2': -0.0040089629828267805}\n",
      "{'r': 0.09203286537105149, 'p': 0.29768368857968364, 'r2': -0.00398718106229663}\n",
      "{'r': 0.03043003715264856, 'p': 0.7310836043086956, 'r2': -0.00039494187761128784}\n",
      "{'r': 0.1012358839465102, 'p': 0.2517679931405876, 'r2': -0.0013467314106576644}\n"
     ]
    },
    {
     "name": "stdout",
     "output_type": "stream",
     "text": [
      "{'r': 0.019608155629716576, 'p': 0.8247581016937622, 'r2': -0.004197723084448146}\n",
      "{'r': 0.08576279052970069, 'p': 0.3319513038151901, 'r2': -0.008159681928436769}\n",
      "{'r': 0.10316634742046185, 'p': 0.2427921501422819, 'r2': -0.0050712508426589585}\n",
      "{'r': 0.06491944893874259, 'p': 0.46305769227408533, 'r2': -0.002955966572911972}\n",
      "{'r': 0.051524592071197195, 'p': 0.5604429246351909, 'r2': -0.013474388544187565}\n",
      "{'r': 0.013466671753200399, 'p': 0.8791336048846768, 'r2': -0.007451358166062061}\n",
      "{'r': 0.037120140030595696, 'p': 0.6750030391040424, 'r2': -0.002284799542896776}\n",
      "{'r': 0.08636007940615671, 'p': 0.32858247349211844, 'r2': -0.009048502245869238}\n",
      "{'r': 0.020948323578356947, 'p': 0.8129929102512695, 'r2': -0.008748603757758521}\n",
      "{'r': 0.05142376551914576, 'p': 0.5612114907593021, 'r2': -0.005392036747462825}\n",
      "{'r': 0.02981715309241428, 'p': 0.7362983760663541, 'r2': -0.014153804791308167}\n",
      "{'r': 0.011904364144082512, 'p': 0.8930669257185533, 'r2': -0.003220868237412944}\n",
      "{'r': 0.057839280235021474, 'p': 0.5133389315281767, 'r2': -0.009240726192321969}\n",
      "{'r': 0.13372666048504986, 'p': 0.12931370416166185, 'r2': -0.005854976128762468}\n",
      "{'r': 0.011722761247522912, 'p': 0.8946887388350391, 'r2': -0.0027934721577627998}\n",
      "{'r': 0.04235810139277027, 'p': 0.6322893703536326, 'r2': -0.0028994003401797475}\n",
      "{'r': 0.05892789807558019, 'p': 0.5054294315385403, 'r2': -0.001212221250641976}\n",
      "{'r': 0.007708584743192387, 'p': 0.9306366925662001, 'r2': -0.0019349609511104316}\n",
      "{'r': 0.03745158808218323, 'p': 0.6722674680121548, 'r2': -0.006603168293023698}\n",
      "{'r': 0.2418759681404694, 'p': 0.005563329992181503, 'r2': -0.004677712701521619}\n",
      "{'r': 0.06871989296478971, 'p': 0.4372302331448707, 'r2': -0.002204466647133918}\n",
      "{'r': 0.06799208206687841, 'p': 0.4421119429267161, 'r2': -0.00403689447006883}\n",
      "{'r': 0.03648267483341145, 'p': 0.6802762097590545, 'r2': -0.007511419099939376}\n",
      "{'r': 0.05044213320165607, 'p': 0.5687203533867772, 'r2': -0.015788981358538345}\n",
      "{'r': 0.021918088630834928, 'p': 0.8045052206681905, 'r2': -0.001932820093202503}\n",
      "{'r': 0.02305414432331905, 'p': 0.7945910590036491, 'r2': -0.004501377148487151}\n",
      "{'r': 0.02152737091906445, 'p': 0.8079222265969566, 'r2': -0.009158705116504073}\n",
      "{'r': 0.07140939760626518, 'p': 0.4194590033881639, 'r2': -0.01266574668592666}\n",
      "{'r': 0.034785312697818385, 'p': 0.6943918894031682, 'r2': -0.01625838829530324}\n",
      "{'r': 0.017401466332668935, 'p': 0.8442142448468861, 'r2': -0.0036580004552495106}\n",
      "{'r': 0.04491850344398392, 'p': 0.6118324080238952, 'r2': -0.0012528565356919152}\n",
      "{'r': 0.03291135286968915, 'p': 0.7100985914314649, 'r2': -0.0007628546075616249}\n",
      "{'r': 0.13670913926786193, 'p': 0.12091109185463206, 'r2': -0.00028485280215873043}\n",
      "{'r': 0.04954302916293289, 'p': 0.5756392815352264, 'r2': -0.00252179772352501}\n",
      "{'r': 0.055407671110540034, 'p': 0.5312333516706587, 'r2': -0.004113208523834544}\n",
      "{'r': 0.06392677957254596, 'p': 0.4699395948713079, 'r2': -0.005439753817208714}\n",
      "{'r': 0.009232927292342518, 'p': 0.9169653598374561, 'r2': -0.006046709380393001}\n",
      "{'r': 0.08979059468302787, 'p': 0.30965969945719307, 'r2': -0.0031418096668889726}\n",
      "{'r': 0.0037635583394406633, 'p': 0.9661026061700023, 'r2': -0.00546112712167961}\n",
      "{'r': 0.006350077056709773, 'p': 0.9428378991966084, 'r2': -0.007055038551280468}\n",
      "{'r': 0.04371009125119936, 'p': 0.6214513454660031, 'r2': -0.0036025383276451885}\n",
      "{'r': 0.12242802723274082, 'p': 0.16524718198485816, 'r2': -0.004624365716881118}\n",
      "{'r': 0.01901336618941506, 'p': 0.8299923521623178, 'r2': -0.002990583993414475}\n",
      "{'r': 0.03139013783000196, 'p': 0.7229392237083049, 'r2': -0.0021988331054080936}\n",
      "{'r': 0.1418739646884684, 'p': 0.10736631088815614, 'r2': -0.009584082878877975}\n",
      "{'r': 0.043337480440458, 'p': 0.6244303642343568, 'r2': -0.009453117221890527}\n",
      "creation_time_of_day\n",
      "{'r': 0.06981218684217237, 'p': 0.3849485083591477, 'r2': -0.008906760142436233}\n",
      "{'r': 0.00909559921882305, 'p': 0.9099836678549282, 'r2': -0.0034198269462968334}\n",
      "{'r': 0.15273075883965342, 'p': 0.05617992299607485, 'r2': -0.005622025505058437}\n",
      "{'r': 0.04413893093020403, 'p': 0.5830690710858873, 'r2': -0.003369189588801502}\n",
      "{'r': 0.028797199297203254, 'p': 0.7203292963205568, 'r2': -0.0008724129434349859}\n",
      "{'r': 0.12992580645455032, 'p': 0.10483792041158714, 'r2': 3.660452680278592e-05}\n",
      "{'r': 0.004515172410125784, 'p': 0.9552437129330779, 'r2': -0.005149419018387969}\n",
      "{'r': 0.09737567275166763, 'p': 0.22503457738344096, 'r2': -0.0034529156084332157}\n",
      "{'r': 0.010029641418637108, 'p': 0.9007848645054887, 'r2': -0.005509484215290827}\n",
      "{'r': 0.03327229063146212, 'p': 0.6791057750671292, 'r2': -0.0044958963433987306}\n",
      "{'r': 0.1465109247012159, 'p': 0.06710053449956425, 'r2': -0.00163202369719464}\n",
      "{'r': 0.008561233271015108, 'p': 0.9152517660399659, 'r2': -0.006869851539841765}\n",
      "{'r': 0.012357954403323433, 'p': 0.8779147221266479, 'r2': -0.0028710363355615607}\n",
      "{'r': 0.022215846517387644, 'p': 0.7824148747907433, 'r2': -0.00528629759109085}\n",
      "{'r': 0.07411239982640526, 'p': 0.3562811984396683, 'r2': -0.010167962605088742}\n",
      "{'r': 0.08677437501091592, 'p': 0.2798612790238597, 'r2': -0.003052276591087555}\n",
      "{'r': 0.042884485636879986, 'p': 0.5938310804385563, 'r2': -0.001425417943190599}\n",
      "{'r': 0.03929733687708011, 'p': 0.6250907330271145, 'r2': -0.0031885791503701187}\n",
      "{'r': 0.04235299031182722, 'p': 0.5984178156383998, 'r2': -0.0028034736848479903}\n",
      "{'r': 0.02647025160307063, 'p': 0.742096310289512, 'r2': -0.004902435167294961}\n",
      "{'r': 0.04361026435138172, 'p': 0.5875935698612261, 'r2': -0.00682732468802556}\n",
      "{'r': 0.12611825779926938, 'p': 0.11550583306724131, 'r2': -0.0009582686970344145}\n",
      "{'r': 0.007646086723439615, 'p': 0.9242822692766888, 'r2': -0.0012427085012481688}\n",
      "{'r': 0.026226120088554218, 'p': 0.7443922287581697, 'r2': -0.002561566185823061}\n",
      "{'r': 0.012868691211745744, 'p': 0.8729107400463887, 'r2': -0.00417484412700293}\n",
      "{'r': 0.025942332759918373, 'p': 0.747063916480027, 'r2': -0.0027164636519302564}\n",
      "{'r': 0.11959259456385851, 'p': 0.13573167392138655, 'r2': -0.0036949150300416454}\n",
      "{'r': 0.025910529433071965, 'p': 0.747363514056702, 'r2': -0.002379671995721555}\n",
      "{'r': 0.023192042941963975, 'p': 0.773107866488105, 'r2': -0.01300263830683992}\n",
      "{'r': 0.15984508514549473, 'p': 0.04552996459802419, 'r2': -0.0021353468894096837}\n",
      "{'r': 0.006982601766120575, 'p': 0.9308355356052148, 'r2': -0.005157877631246954}\n",
      "{'r': 0.013829954968618509, 'p': 0.8635064847278656, 'r2': -0.005348089870479633}\n",
      "{'r': 0.043144731682603785, 'p': 0.5915910162945796, 'r2': -0.01006766747374841}\n",
      "{'r': 0.11161248807557084, 'p': 0.1640201665360477, 'r2': -0.000744086027347457}\n",
      "{'r': 0.0034579535229987803, 'p': 0.9657159448441471, 'r2': -0.001949716257890377}\n",
      "{'r': 0.09264714814090282, 'p': 0.24847029628013165, 'r2': -0.0008471029950184672}\n",
      "{'r': 0.07969499594130677, 'p': 0.3211122326696678, 'r2': -0.006498912245324395}\n",
      "{'r': 0.18441195250665146, 'p': 0.020773458588930063, 'r2': -0.00307422354689737}\n",
      "{'r': 0.07986165881468829, 'p': 0.32009805352628173, 'r2': -0.0035947316455821722}\n",
      "{'r': 0.020991677346102553, 'p': 0.7941296303722419, 'r2': -0.0014590064981198525}\n",
      "{'r': 0.02187497542465905, 'p': 0.7856720772258813, 'r2': -0.0030670652802259335}\n",
      "{'r': 0.09178485037142996, 'p': 0.25291998130345106, 'r2': -0.002148516307986048}\n",
      "{'r': 0.042015018656959065, 'p': 0.6013427214049571, 'r2': -0.006642657647163297}\n",
      "{'r': 0.03232413242066052, 'p': 0.6877659292716406, 'r2': -0.005008188087133858}\n",
      "{'r': 0.023599971299196543, 'p': 0.7692281653877926, 'r2': -0.000752778540655874}\n",
      "{'r': 0.017185685155058188, 'p': 0.8308348056751385, 'r2': -0.00951661070357357}\n",
      "{'r': 0.01382772437675789, 'p': 0.8635282854753548, 'r2': -0.0025268420133853107}\n",
      "{'r': 0.0647385283547741, 'p': 0.4205111569741645, 'r2': -0.01609359528749694}\n",
      "{'r': 0.06464664246339899, 'p': 0.4211723338964964, 'r2': -0.008145058567728024}\n",
      "{'r': 0.030095431919755763, 'p': 0.7082807746169785, 'r2': -0.0040578258199502224}\n",
      "follower_likes_avg\n",
      "{'r': 0.004257948720795792, 'p': 0.9612047927377264, 'r2': -0.005680132432060114}\n",
      "{'r': 0.04016948522763018, 'p': 0.6461841830121493, 'r2': -0.0032969754769569316}\n",
      "{'r': 0.1294237680740227, 'p': 0.13760986878114048, 'r2': -0.0012244721902683775}\n",
      "{'r': 0.13968105948248782, 'p': 0.10881408288861806, 'r2': -0.0005486667796318567}\n"
     ]
    },
    {
     "name": "stdout",
     "output_type": "stream",
     "text": [
      "{'r': 0.15970964926392875, 'p': 0.06631613699947787, 'r2': -0.004651806404069947}\n",
      "{'r': 0.054449619661740355, 'p': 0.5336274243852579, 'r2': -0.0055101975091716325}\n",
      "{'r': 0.11155678346567945, 'p': 0.20111341559623472, 'r2': -0.007070258229444138}\n",
      "{'r': 0.0454694913569562, 'p': 0.6032734884663086, 'r2': -0.001692042929540971}\n",
      "{'r': 0.0396924838241499, 'p': 0.6501067090432121, 'r2': -0.016581100975052276}\n",
      "{'r': 0.08198000899771041, 'p': 0.3481953665691365, 'r2': -0.007145974130144106}\n",
      "{'r': 0.11727545161487231, 'p': 0.1788307602006325, 'r2': -0.012111954849945716}\n",
      "{'r': 0.03485953421539702, 'p': 0.6903751181526565, 'r2': -0.00609205903361687}\n",
      "{'r': 0.13166699417432745, 'p': 0.13086246662263046, 'r2': -0.005703381276253294}\n",
      "{'r': 0.060721159790881024, 'p': 0.48749315649761366, 'r2': -0.0004890281262270423}\n",
      "{'r': 0.006699975035675536, 'p': 0.938989989172005, 'r2': -0.009963144572264816}\n",
      "{'r': 0.035906855774775995, 'p': 0.68157005170833, 'r2': -0.0052421811955676075}\n",
      "{'r': 0.08097355066948983, 'p': 0.3541652480543135, 'r2': -0.003232695840898514}\n",
      "{'r': 0.1034063073034633, 'p': 0.2362305956362764, 'r2': -0.004748807790886956}\n",
      "{'r': 0.03412740875102581, 'p': 0.6965550382334776, 'r2': -0.0060815836279532135}\n",
      "{'r': 0.14114398013051346, 'p': 0.10512274895011818, 'r2': -0.004874696080671948}\n",
      "{'r': 0.07187527656555018, 'p': 0.4109939179398353, 'r2': -0.004148984483068352}\n",
      "{'r': 0.0013709189657964045, 'p': 0.9875048594016711, 'r2': -0.0014843503480275189}\n",
      "{'r': 0.09909927539626458, 'p': 0.2564269974353758, 'r2': -0.0027704641150393173}\n",
      "{'r': 0.005355307482213891, 'p': 0.9512175511301852, 'r2': -0.0056139342120918425}\n",
      "{'r': 0.015912992805115603, 'p': 0.8557421974193055, 'r2': -0.007597975932788303}\n",
      "{'r': 0.13974861612448922, 'p': 0.10864141684979761, 'r2': -0.00028189891276821923}\n",
      "{'r': 0.11758030133970707, 'p': 0.17769606552208447, 'r2': -0.01080274845470015}\n",
      "{'r': 0.09004305517869517, 'p': 0.30267190987842585, 'r2': -0.0036735948566699594}\n",
      "{'r': 0.08206541829573741, 'p': 0.34769168245760734, 'r2': -0.0031706291297787016}\n",
      "{'r': 0.12203739249799957, 'p': 0.16170652405870703, 'r2': -0.005851858664064924}\n",
      "{'r': 0.06887117080570763, 'p': 0.4308724060890836, 'r2': -0.0007222162837191348}\n",
      "{'r': 0.005341453955858386, 'p': 0.9513435904197076, 'r2': -0.00345009623948489}\n",
      "{'r': 0.0857967407007894, 'p': 0.32613510998240114, 'r2': -0.007632814316659431}\n",
      "{'r': 0.006528074492085081, 'p': 0.9405524123465843, 'r2': -0.0026501767778026155}\n",
      "{'r': 0.23114984082592155, 'p': 0.007429768957548779, 'r2': -0.0028541982767244178}\n",
      "{'r': 0.04480430256435173, 'p': 0.6085892184467498, 'r2': -0.0045667992352797174}\n",
      "{'r': 0.09877326852541152, 'p': 0.2580025422067775, 'r2': -0.0035132516631009468}\n",
      "{'r': 0.05123139966288415, 'p': 0.5581194548001, 'r2': -0.0009140927387325081}\n",
      "{'r': 0.011477362249399896, 'p': 0.895681738873791, 'r2': -0.013284212610066825}\n",
      "{'r': 0.062278614808253176, 'p': 0.4763755669318744, 'r2': -0.0030804643961580337}\n",
      "{'r': 0.1257293928508937, 'p': 0.1492955881418028, 'r2': -0.010450821642899033}\n",
      "{'r': 0.07261967162953645, 'p': 0.4061527193707384, 'r2': -0.0005466272956019758}\n",
      "{'r': 0.004303923573181489, 'p': 0.9607862364354596, 'r2': -0.004645087931727599}\n",
      "{'r': 0.03919423075854324, 'p': 0.6542142512315313, 'r2': -0.0086121898194492}\n",
      "{'r': 0.08133885538496037, 'p': 0.35199106720900647, 'r2': -0.0011928171997821035}\n",
      "{'r': 0.05688253144315446, 'p': 0.5154752348149884, 'r2': -0.004663223392765659}\n",
      "{'r': 0.006870399365975192, 'p': 0.9374412125931769, 'r2': -0.004463755261783442}\n",
      "{'r': 0.10404662619139103, 'p': 0.23332574068740697, 'r2': -0.0028543602831548665}\n",
      "{'r': 0.2647638095259191, 'p': 0.0020718339587440905, 'r2': -0.006504977981811067}\n",
      "{'r': 0.006130029494720218, 'p': 0.9441711459817754, 'r2': -0.008386795755961152}\n",
      "hashtags\n",
      "{'r': 0.11229410456746897, 'p': 0.1323085570484674, 'r2': 0.012521425755378669}\n",
      "{'r': 0.12855389696009614, 'p': 0.08458207524171205, 'r2': 0.008410219158644993}\n",
      "{'r': 0.17080455972974384, 'p': 0.021508338485309052, 'r2': 0.006240950994195327}\n",
      "{'r': 0.08981480868035084, 'p': 0.22921058010859818, 'r2': 0.008475079613924108}\n",
      "{'r': 0.13611233686941995, 'p': 0.06769530901402614, 'r2': 0.008259261452806265}\n",
      "{'r': 0.13079083511924988, 'p': 0.07926505126956666, 'r2': 0.013097087616495062}\n",
      "{'r': 0.13035765878664565, 'p': 0.0802730769382986, 'r2': 0.013947179785763075}\n",
      "{'r': 0.04396244043338638, 'p': 0.5567734912968769, 'r2': 0.034651824162260224}\n",
      "{'r': 0.12655366654916286, 'p': 0.08957533963805904, 'r2': 0.010243242361163408}\n",
      "{'r': 0.17144575550946947, 'p': 0.021015820303490574, 'r2': 0.016050980757120435}\n",
      "{'r': 0.10545628342456158, 'p': 0.15769024921058264, 'r2': 0.03212541031674956}\n",
      "{'r': 0.25729074750436803, 'p': 0.0004712908629887534, 'r2': 0.003454050879327686}\n",
      "{'r': 0.18160482675040343, 'p': 0.014417231178325015, 'r2': 0.012157948236125992}\n",
      "{'r': 0.14131338651578948, 'p': 0.0577568390861936, 'r2': 0.012501739410161795}\n",
      "{'r': 0.1457134442095892, 'p': 0.05031791904035908, 'r2': 0.005845255248450765}\n",
      "{'r': 0.15885479348540651, 'p': 0.0326836537383967, 'r2': 0.01081764176664175}\n",
      "{'r': 0.18020783834259477, 'p': 0.01520079230314195, 'r2': 0.009981653459015916}\n",
      "{'r': 0.028045891133581413, 'p': 0.7078252013281131, 'r2': 0.01429179812459871}\n",
      "{'r': 0.11380555662959764, 'p': 0.12714691793508434, 'r2': 0.005556619924170625}\n",
      "{'r': 0.22195945508314335, 'p': 0.0026731426276780873, 'r2': 0.01239608461820676}\n",
      "{'r': 0.14907500287893097, 'p': 0.04518694549462263, 'r2': 0.003803439375214568}\n",
      "{'r': 0.23557455182227904, 'p': 0.0014108354132420613, 'r2': 0.008547102131976713}\n",
      "{'r': 0.23643398313704647, 'p': 0.0013533828430231194, 'r2': 0.005061926759009317}\n",
      "{'r': 0.14699329208444623, 'p': 0.04831004527145041, 'r2': 0.010298484186770596}\n",
      "{'r': 0.14660311139170643, 'p': 0.04891497922190646, 'r2': 0.010896627492203348}\n",
      "{'r': 0.16386763668189408, 'p': 0.027505938600863505, 'r2': 0.0023022029351138285}\n",
      "{'r': 0.0018574890772831661, 'p': 0.9802010531290659, 'r2': 0.014729978889184148}\n",
      "{'r': 0.1462102180578407, 'p': 0.04953047649651586, 'r2': 0.014388030739663615}\n",
      "{'r': 0.2023166147314136, 'p': 0.006307770618764547, 'r2': 0.005576400858867037}\n",
      "{'r': 0.08619804829825353, 'p': 0.24858603082196873, 'r2': 0.00932448380932549}\n",
      "{'r': 0.17397458795519075, 'p': 0.019167173726553514, 'r2': 0.0135142346406661}\n",
      "{'r': 0.19297686491308305, 'p': 0.009247589654064591, 'r2': 0.007808240161537095}\n",
      "{'r': 0.1956039114991619, 'p': 0.008317781943287266, 'r2': 0.008297506640722995}\n",
      "{'r': 0.12517999778139077, 'p': 0.0931388043504509, 'r2': -0.002777156283531257}\n",
      "{'r': 0.07051273487736014, 'p': 0.34555091715290004, 'r2': 0.01657271961051492}\n",
      "{'r': 0.11859767730933009, 'p': 0.11180518230341092, 'r2': 0.014250307941827712}\n",
      "{'r': 0.11605480380530699, 'p': 0.11975512556102626, 'r2': 0.007818411045880769}\n",
      "{'r': 0.17695947573597573, 'p': 0.017167967623246367, 'r2': 0.009547236414921256}\n",
      "{'r': 0.13898102385510186, 'p': 0.06205394609130305, 'r2': 0.007636466240340911}\n",
      "{'r': 0.023300931464393992, 'p': 0.7555327272870638, 'r2': 0.016559129936967842}\n",
      "{'r': 0.11334769496203274, 'p': 0.12869384828243313, 'r2': 0.01102433407630048}\n",
      "{'r': 0.10032378244373358, 'p': 0.17902595563345103, 'r2': 0.020612485229044287}\n",
      "{'r': 0.046452550384214676, 'p': 0.5346254671542372, 'r2': 0.012880420986431362}\n",
      "{'r': 0.16473330282345158, 'p': 0.02668687451363616, 'r2': 0.0049273698839684245}\n",
      "{'r': 0.09731705937297282, 'p': 0.19247505889247263, 'r2': 0.014271586186302799}\n",
      "{'r': 0.026961151271440043, 'p': 0.7186394758555402, 'r2': 0.012022003607181909}\n",
      "{'r': 0.008286099134578688, 'p': 0.9118481969950473, 'r2': 0.019153043229330136}\n",
      "{'r': 0.15693297833817757, 'p': 0.03487728044983458, 'r2': 0.014176433299363023}\n",
      "{'r': 0.190023901422058, 'p': 0.010401525465433667, 'r2': 0.011375903014653433}\n",
      "{'r': 0.21879736884026518, 'p': 0.0030847533729872747, 'r2': 0.0019793240978293047}\n",
      "has_profile_image\n",
      "{'r': 0.049697293968422304, 'p': 0.5365019587558213, 'r2': -0.008902428541348772}\n",
      "{'r': 0.03674198588029079, 'p': 0.6477780260662456, 'r2': -0.003446463118603571}\n",
      "{'r': 0.009603786310331304, 'p': 0.9049772863176011, 'r2': -0.005623718851650983}\n",
      "{'r': 0.148279406355053, 'p': 0.06383256097122952, 'r2': -0.0036850780002680938}\n",
      "{'r': 0.040388070803799, 'p': 0.615511307667236, 'r2': -0.0008938508852684545}\n"
     ]
    },
    {
     "name": "stdout",
     "output_type": "stream",
     "text": [
      "{'r': 0.11409943591643676, 'p': 0.15476849231071507, 'r2': -0.0006838133974098159}\n",
      "{'r': 0.02405722948417931, 'p': 0.7648860970999405, 'r2': -0.005181258760565788}\n",
      "{'r': 0.12375698618959753, 'p': 0.12253466998362017, 'r2': -0.0034523871264266594}\n",
      "{'r': 0.0446037482371318, 'p': 0.579104357416, 'r2': -0.005490687928963478}\n",
      "{'r': 0.01776399356748266, 'p': 0.8252318517856236, 'r2': -0.004731158846990624}\n",
      "{'r': 0.007151584694503003, 'p': 0.9291660263036919, 'r2': -0.0016076565377683317}\n",
      "{'r': 0.041419217927621044, 'p': 0.6065144517525959, 'r2': -0.0068850870502831455}\n",
      "{'r': 0.030188145498339577, 'p': 0.7074230447003579, 'r2': -0.0028714005936317567}\n",
      "{'r': 0.0952774079973913, 'p': 0.23523356710798435, 'r2': -0.005605241672140826}\n",
      "{'r': 0.05720197268044264, 'p': 0.47671617798061955, 'r2': -0.010275902401366688}\n",
      "{'r': 0.07997094152198721, 'p': 0.31943417208408087, 'r2': -0.0034754416917138543}\n",
      "{'r': 0.12129383462205437, 'p': 0.13021481789961095, 'r2': -0.0017190772574951386}\n",
      "{'r': 0.047964066637413025, 'p': 0.5508219149703758, 'r2': -0.0032051860631899577}\n",
      "{'r': 0.07735327994462435, 'p': 0.3355815119734409, 'r2': -0.0027896562146642267}\n",
      "{'r': 0.010494848268981984, 'p': 0.8962081705069164, 'r2': -0.005342994325283223}\n",
      "{'r': 0.06037753800628334, 'p': 0.45255122684617843, 'r2': -0.007202184547057078}\n",
      "{'r': 0.08327166864809425, 'p': 0.29980334966899697, 'r2': -0.0012367866815570228}\n",
      "{'r': 0.012175756971629587, 'p': 0.8797009953576765, 'r2': -0.0012445421960534998}\n",
      "{'r': 0.017761186008360057, 'p': 0.8252590318421154, 'r2': -0.0025534640193852543}\n",
      "{'r': 0.08655918031421714, 'p': 0.28106008491368617, 'r2': -0.00422233714668141}\n",
      "{'r': 0.12194611694103497, 'p': 0.12814587362558005, 'r2': -0.0030252205031682244}\n",
      "{'r': 0.03111904005618161, 'p': 0.6988315060508611, 'r2': -0.003685501274881542}\n",
      "{'r': 0.14369005240771057, 'p': 0.07259439475405675, 'r2': -0.0024106501934467507}\n",
      "{'r': 0.0036924759115202974, 'p': 0.9633923258069151, 'r2': -0.013011071277878993}\n",
      "{'r': 0.05012237625503741, 'p': 0.5330184624220776, 'r2': -0.0021334806202782273}\n",
      "{'r': 0.02463092466428186, 'p': 0.7594487059031038, 'r2': -0.005138433447860402}\n",
      "{'r': 0.006167927989433374, 'p': 0.9388884101139955, 'r2': -0.005693850615887808}\n",
      "{'r': 0.007634385570272898, 'p': 0.9243977992528776, 'r2': -0.010126144141375849}\n",
      "{'r': 0.016165835774226762, 'p': 0.84073625117509, 'r2': -0.0007311367812399717}\n",
      "{'r': 0.08871432639920819, 'p': 0.26920960101865476, 'r2': -0.0024394946463630607}\n",
      "{'r': 0.015950086503386834, 'p': 0.8428341599146862, 'r2': -0.0008429096201709729}\n",
      "{'r': 0.02590752198537164, 'p': 0.7473918471391036, 'r2': -0.007206200994371148}\n",
      "{'r': 0.05252832315725376, 'p': 0.5135179564015242, 'r2': -0.0030793149168702794}\n",
      "{'r': 0.01504792798498899, 'p': 0.8516184007387382, 'r2': -0.0037992394138687937}\n",
      "{'r': 0.03923939103005139, 'p': 0.6256014230610971, 'r2': -0.00169160567388853}\n",
      "{'r': 0.009820459698635407, 'p': 0.902843863582104, 'r2': -0.003181820118805634}\n",
      "{'r': 0.15921803804202622, 'p': 0.04639535811935253, 'r2': -0.0021485692458689033}\n",
      "{'r': 0.011401160127379302, 'p': 0.8873018463263035, 'r2': -0.007084661941079507}\n",
      "{'r': 0.13063017736194882, 'p': 0.10295215554793151, 'r2': -0.005144170261444492}\n",
      "{'r': 0.034802311816634415, 'p': 0.6652195403010351, 'r2': -0.0015321069472965742}\n",
      "{'r': 0.01000990422709861, 'p': 0.9009791118647795, 'r2': -0.009532453115943529}\n",
      "{'r': 0.035417185561287305, 'p': 0.6596705902540163, 'r2': -0.0025425165945835103}\n",
      "{'r': 0.11744397170204351, 'p': 0.1429526327915987, 'r2': -0.01610785171804068}\n",
      "{'r': 0.03956171844655519, 'p': 0.6227629415866645, 'r2': -0.008337229102168475}\n",
      "{'r': 0.16319371989919396, 'p': 0.04113342519814832, 'r2': -0.00407641774605394}\n",
      "screen_name_char\n",
      "{'r': 0.0950271075617452, 'p': 0.20320146832398323, 'r2': 0.00018568758899901728}\n",
      "{'r': 0.004593170712118429, 'p': 0.9510669388527793, 'r2': 0.0029903039447919167}\n",
      "{'r': 0.003676347868579119, 'p': 0.9608254972311631, 'r2': -0.00045077351105953233}\n",
      "{'r': 0.0232911539395771, 'p': 0.755632067334871, 'r2': -0.0014328783648090092}\n",
      "{'r': 0.14875805157679142, 'p': 0.04565126789541624, 'r2': -0.003344014072714563}\n",
      "{'r': 0.13350718907230444, 'p': 0.07317442602521151, 'r2': 7.238297906833057e-05}\n",
      "{'r': 0.20038353096072192, 'p': 0.006836696231395638, 'r2': -0.0037446269984900303}\n",
      "{'r': 0.04686291234438388, 'p': 0.5310183137996466, 'r2': 0.0028419283003231046}\n",
      "{'r': 0.04606118622871409, 'p': 0.5380770097254208, 'r2': 7.40833131237073e-05}\n",
      "{'r': 0.08172138583250088, 'p': 0.27410321940274057, 'r2': 0.0022875309743294546}\n",
      "{'r': 0.01516431136126173, 'p': 0.8394374081202339, 'r2': 0.0019493822674320205}\n",
      "{'r': 0.00804596108220328, 'p': 0.914393020890569, 'r2': -0.0021776819609586884}\n",
      "{'r': 0.1607444693810898, 'p': 0.030642076802088573, 'r2': -0.0018670418489927121}\n",
      "{'r': 0.10401572408891982, 'p': 0.16347586411913212, 'r2': -3.0291959794315204e-05}\n",
      "{'r': 0.16969015126593592, 'p': 0.022388070671808213, 'r2': -0.00900474689156241}\n",
      "{'r': 0.1449451667181539, 'p': 0.0515561921851604, 'r2': -0.004587821270348735}\n",
      "{'r': 0.019840798725878572, 'p': 0.7909267123532363, 'r2': 0.0014773164794777082}\n",
      "{'r': 0.1795193668846268, 'p': 0.015600448768258649, 'r2': -0.003504100246820485}\n",
      "{'r': 0.010963294090307206, 'p': 0.8835436083843723, 'r2': -0.003025933223036592}\n",
      "{'r': 0.011078191409894047, 'p': 0.8823318908360624, 'r2': 0.002735550680229326}\n",
      "{'r': 0.0737350616266344, 'p': 0.32390025149094526, 'r2': -0.006911834208017087}\n",
      "{'r': 0.04364636163129023, 'p': 0.5596162117602537, 'r2': 0.0020394765489876398}\n",
      "{'r': 0.0852594441226346, 'p': 0.2537946773510858, 'r2': -0.004519981646788152}\n",
      "{'r': 0.07257247733498018, 'p': 0.3316083571445981, 'r2': -0.00028956976004417266}\n",
      "{'r': 0.08599082162939412, 'p': 0.2497295784925307, 'r2': -0.002726492186453755}\n",
      "{'r': 0.07955722999418074, 'p': 0.2870542102619745, 'r2': -0.005080803168907422}\n",
      "{'r': 0.15637203279044887, 'p': 0.03554059821198819, 'r2': -0.004602973207763927}\n",
      "{'r': 0.027900459516214084, 'p': 0.7092717453220577, 'r2': 0.0015468646201087788}\n",
      "{'r': 0.15869506032516817, 'p': 0.03286140196849655, 'r2': -0.0012771378883852601}\n",
      "{'r': 0.028616003898885457, 'p': 0.7021646609985653, 'r2': -0.0019177415046641056}\n",
      "{'r': 0.052707622199168656, 'p': 0.48100580570061713, 'r2': -0.0017737467871717706}\n",
      "{'r': 0.008725477645782815, 'p': 0.907194293120279, 'r2': 0.0004518123477582403}\n",
      "{'r': 0.0831156250712023, 'p': 0.2659725611087918, 'r2': -0.005389643375179176}\n",
      "{'r': 0.17441160804842365, 'p': 0.01886241226570399, 'r2': -0.01255629891011698}\n",
      "{'r': 0.15406140078750183, 'p': 0.03838653776728086, 'r2': -0.0025757491524833974}\n",
      "{'r': 0.08554243284087325, 'p': 0.2522164019857698, 'r2': 0.0015779669839173448}\n",
      "{'r': 0.12078961356264978, 'p': 0.1052890934845013, 'r2': -0.0033543438461606234}\n",
      "{'r': 0.08899903865493901, 'p': 0.2334848277324662, 'r2': -0.003269796714659079}\n",
      "{'r': 0.15987193328896204, 'p': 0.03157084463791879, 'r2': -0.0037164753069757195}\n",
      "{'r': 0.13940992539624428, 'p': 0.06124463358909147, 'r2': -0.002089841491634692}\n",
      "{'r': 0.018743145642409635, 'p': 0.8022484760233309, 'r2': 0.001525853179828962}\n",
      "{'r': 0.16174012618537628, 'p': 0.02961077517983383, 'r2': -0.001468048167316538}\n",
      "{'r': 0.18517928757518645, 'p': 0.01257104627381809, 'r2': -0.009001994338305508}\n",
      "{'r': 0.04301454048525193, 'p': 0.56531946411386, 'r2': -0.0003650503873017685}\n",
      "{'r': 0.03515301268137581, 'p': 0.6384949769084479, 'r2': 0.0014706651832373963}\n",
      "{'r': 0.010097556913269044, 'p': 0.8926822457034277, 'r2': -0.0010429962733547794}\n",
      "{'r': 0.15048239862172555, 'p': 0.04317258107462618, 'r2': -0.002773962786879558}\n",
      "{'r': 0.1021524391865785, 'p': 0.17119271465694033, 'r2': 0.0002148737862657457}\n",
      "{'r': 0.1348724978177903, 'p': 0.0702596822747455, 'r2': -0.00018779059484737016}\n",
      "{'r': 0.0605722882239583, 'p': 0.4179315177426314, 'r2': -0.002241701069484181}\n",
      "follower_verified_score\n",
      "{'r': 0.1511019746711857, 'p': 0.0825414219053231, 'r2': -0.0038843314361631798}\n",
      "{'r': 0.10019683578153644, 'p': 0.25117125301799675, 'r2': -0.0006078503386241829}\n",
      "{'r': 0.12807010320599363, 'p': 0.1418079541540793, 'r2': 0.0006548740768788974}\n",
      "{'r': 0.06865497407319128, 'p': 0.4323239529784922, 'r2': 0.0020168854391420686}\n",
      "{'r': 0.006609162480267739, 'p': 0.939815366049125, 'r2': -0.0023064701476986026}\n"
     ]
    },
    {
     "name": "stdout",
     "output_type": "stream",
     "text": [
      "{'r': 0.1527330429309727, 'p': 0.07924404942023605, 'r2': -0.004328923918880978}\n",
      "{'r': 0.042598118747796225, 'p': 0.6263651205544241, 'r2': -0.003725935472726305}\n",
      "{'r': 0.04651156870626814, 'p': 0.5949877106064736, 'r2': 0.0019240678612816974}\n",
      "{'r': 0.09669317015215785, 'p': 0.2682115270093458, 'r2': -0.014423786128078042}\n",
      "{'r': 0.2963646617689303, 'p': 0.0005327339689883416, 'r2': -0.0071243769248515495}\n",
      "{'r': 0.19148148790515185, 'p': 0.027251283165842875, 'r2': -0.01048282002166916}\n",
      "{'r': 0.1094066822119185, 'p': 0.2099888118965069, 'r2': -0.00478529705192805}\n",
      "{'r': 0.06479110295683882, 'p': 0.4587339046424175, 'r2': -0.0038341841440933553}\n",
      "{'r': 0.004860345592845549, 'p': 0.95572143581437, 'r2': 0.0025829831328194166}\n",
      "{'r': 0.0842268965645618, 'p': 0.3350975238421542, 'r2': -0.009237371893122681}\n",
      "{'r': 0.1797142152026313, 'p': 0.038463075811189226, 'r2': -0.005020346378854912}\n",
      "{'r': 0.029739319990786935, 'p': 0.7340008833371119, 'r2': 0.0006027232420654949}\n",
      "{'r': 0.09070415553405509, 'p': 0.2991214050843972, 'r2': -0.001344999834133409}\n",
      "{'r': 0.057897695988353204, 'p': 0.5079958018756526, 'r2': -0.0039778958445563}\n",
      "{'r': 0.04881041838721419, 'p': 0.5768932725095827, 'r2': -0.0019041296483884196}\n",
      "{'r': 0.007056995071548079, 'p': 0.9357457428107833, 'r2': -0.0027718019255941638}\n",
      "{'r': 0.07528271439969342, 'p': 0.38911120404720145, 'r2': 0.000745648371421237}\n",
      "{'r': 0.09542411085301801, 'p': 0.27457296956138544, 'r2': 0.0025343548289223474}\n",
      "{'r': 0.07525014838000132, 'p': 0.3893169690218879, 'r2': -0.0020005689139063866}\n",
      "{'r': 0.014015852496427988, 'p': 0.8727859279641745, 'r2': -0.00528576955421749}\n",
      "{'r': 0.10330735639043083, 'p': 0.23668173944827747, 'r2': 0.0016825247617472615}\n",
      "{'r': 0.14292544010180483, 'p': 0.10076113618316372, 'r2': -0.008787039565153077}\n",
      "{'r': 0.07100554414609106, 'p': 0.41669293764770826, 'r2': -0.00139801239156927}\n",
      "{'r': 0.03968243164770317, 'p': 0.6501894748013423, 'r2': 0.0011923049812644804}\n",
      "{'r': 0.0726926183072316, 'p': 0.40568012581682894, 'r2': -0.005639260481105368}\n",
      "{'r': 0.06221324864068028, 'p': 0.4768393929253776, 'r2': 0.0020626754168054707}\n",
      "{'r': 0.02962468255568592, 'p': 0.7349880336919556, 'r2': -0.0001762223147161457}\n",
      "{'r': 0.19023789425391513, 'p': 0.028286390832935625, 'r2': -0.007040679002546679}\n",
      "{'r': 0.003780960284657569, 'p': 0.965547911103167, 'r2': 0.0006733648416977322}\n",
      "{'r': 0.2547661600936356, 'p': 0.0030827289393951414, 'r2': -0.002749189676436692}\n",
      "{'r': 0.2172059191189782, 'p': 0.012026923546391177, 'r2': -0.004001885490741919}\n",
      "{'r': 0.07107284152279972, 'p': 0.4162503261075432, 'r2': 0.0025411382833214315}\n",
      "{'r': 0.14783038749975116, 'p': 0.08948632418259288, 'r2': -0.0006012447582608438}\n",
      "{'r': 0.0558741935397718, 'p': 0.5229599125755909, 'r2': -0.011799984908629813}\n",
      "{'r': 0.0026718494603199757, 'p': 0.975650376917203, 'r2': -0.0002512896942479692}\n",
      "{'r': 0.07966535324938043, 'p': 0.3620198230843655, 'r2': -0.00792157954134114}\n",
      "{'r': 0.11306755675464449, 'p': 0.19504104665735914, 'r2': 0.001332376880001207}\n",
      "{'r': 0.00799889266429112, 'p': 0.9271919040631008, 'r2': -0.0026111561719551536}\n",
      "{'r': 0.09190638163702049, 'p': 0.2927354157570155, 'r2': -0.0051008691980587}\n",
      "{'r': 0.009527681656360826, 'p': 0.9133263322101394, 'r2': 0.001839575359437373}\n",
      "{'r': 0.024108107066035694, 'p': 0.7829752396436617, 'r2': -0.0019306324652936357}\n",
      "{'r': 0.029562111126123787, 'p': 0.7355270230519177, 'r2': -0.0019558122898124973}\n",
      "{'r': 0.05365929553322224, 'p': 0.5395920558835025, 'r2': 0.0009466424169057408}\n",
      "{'r': 0.031099854188494657, 'p': 0.7223188182283619, 'r2': -0.006400500195139736}\n",
      "{'r': 0.05941244510446915, 'p': 0.49694113935538814, 'r2': -0.003370576012484561}\n",
      "followee_bios\n",
      "{'r': 0.37950871432300015, 'p': 1.5416652969828397e-06, 'r2': 0.0430420582319905}\n",
      "{'r': 0.24260809155804927, 'p': 0.002687257165758911, 'r2': 0.08520184209772382}\n",
      "{'r': 0.26830381205989756, 'p': 0.000865770540671687, 'r2': 0.0839828505702436}\n",
      "{'r': 0.22300268269777315, 'p': 0.005918216506740739, 'r2': 0.06185882341352866}\n",
      "{'r': 0.31085595212094447, 'p': 0.00010240853510183507, 'r2': 0.048048475129762444}\n",
      "{'r': 0.23504300077617102, 'p': 0.003671737533816712, 'r2': 0.05569829996915594}\n",
      "{'r': 0.22320084915014282, 'p': 0.005873020522431244, 'r2': 0.06689179619475816}\n",
      "{'r': 0.303666966681414, 'p': 0.00015039290590288223, 'r2': 0.05580759245794087}\n",
      "{'r': 0.3099885882063458, 'p': 0.00010732477533280016, 'r2': 0.08337834967921103}\n",
      "{'r': 0.1580225602219947, 'p': 0.052638922684629545, 'r2': 0.0943078154324692}\n",
      "{'r': 0.34954702858962733, 'p': 1.0865223787102498e-05, 'r2': 0.05317488040623095}\n",
      "{'r': 0.25615814295470324, 'p': 0.0014998710488366943, 'r2': 0.047995686972871265}\n",
      "{'r': 0.18586445136450527, 'p': 0.022318194929904524, 'r2': 0.0592424292336813}\n",
      "{'r': 0.3018439695574466, 'p': 0.0001655268720595259, 'r2': 0.05794378613384921}\n",
      "{'r': 0.260553673733625, 'p': 0.0012330250727742556, 'r2': 0.05761924118359472}\n",
      "{'r': 0.2306681092027991, 'p': 0.004379164967531058, 'r2': 0.06992640251967017}\n",
      "{'r': 0.20087724628093725, 'p': 0.013391964055779854, 'r2': 0.08823116498024974}\n",
      "{'r': 0.20823098066000598, 'p': 0.010296480417396338, 'r2': 0.06768626765028204}\n",
      "{'r': 0.25744465583270426, 'p': 0.00141677692724624, 'r2': 0.060862320069847486}\n",
      "{'r': 0.26604002302605284, 'p': 0.0009610186065948219, 'r2': 0.05642026615431339}\n",
      "{'r': 0.15235104385952333, 'p': 0.06183448792203841, 'r2': 0.07063896492173405}\n",
      "{'r': 0.1608789167118547, 'p': 0.04845468722342454, 'r2': 0.09167486165708838}\n",
      "{'r': 0.2373674365737586, 'p': 0.003339322374115641, 'r2': 0.09029439541739433}\n",
      "{'r': 0.3830951421038857, 'p': 1.2041324018339566e-06, 'r2': 0.051581016335441786}\n",
      "{'r': 0.3299001983005506, 'p': 3.524783918941589e-05, 'r2': 0.042497886969847486}\n",
      "{'r': 0.21928334442403574, 'p': 0.006826041666334681, 'r2': 0.06016071199146824}\n",
      "{'r': 0.23978272408665263, 'p': 0.003022888075074738, 'r2': 0.06003262775485396}\n",
      "{'r': 0.3753901823596336, 'p': 2.040156398607511e-06, 'r2': 0.08212734757111088}\n",
      "{'r': 0.3735479297653156, 'p': 2.309680886252343e-06, 'r2': 0.044036803951806314}\n",
      "{'r': 0.25207400294508964, 'p': 0.0017939693883266142, 'r2': 0.04996725911287085}\n",
      "{'r': 0.2771748799144534, 'p': 0.0005701340272691465, 'r2': 0.07916141373184371}\n",
      "{'r': 0.2192016971180762, 'p': 0.0068472890823197165, 'r2': 0.04948885413037207}\n",
      "{'r': 0.2796595919636172, 'p': 0.0005059023693860761, 'r2': 0.05749797961214735}\n",
      "{'r': 0.23953413351360106, 'p': 0.0030541584002765462, 'r2': 0.06055462389152857}\n",
      "{'r': 0.18453141945687443, 'p': 0.023315037081437597, 'r2': 0.06235736168953254}\n",
      "{'r': 0.34741512182516177, 'p': 1.2393031611331765e-05, 'r2': 0.05223661926032772}\n",
      "{'r': 0.12462514369137317, 'p': 0.12734795745871352, 'r2': 0.08821531167501226}\n",
      "{'r': 0.22200170974003122, 'p': 0.0061512849252114395, 'r2': 0.056204274184010417}\n",
      "{'r': 0.23932648323152383, 'p': 0.003080502346108453, 'r2': 0.05526881235471215}\n",
      "{'r': 0.19697714402764002, 'p': 0.015342944018039593, 'r2': 0.0962772756979656}\n",
      "{'r': 0.1694117083979034, 'p': 0.037569331233444116, 'r2': 0.07278107652774264}\n",
      "{'r': 0.2500094500859271, 'p': 0.0019617912904700365, 'r2': 0.061000872808473106}\n",
      "{'r': 0.42246012392313664, 'p': 6.543502903413728e-08, 'r2': 0.05227829035180389}\n",
      "{'r': 0.25371243077000755, 'p': 0.001670200929637245, 'r2': 0.07717909940060581}\n",
      "{'r': 0.1680207423451717, 'p': 0.03918863745976928, 'r2': 0.06774472648736807}\n",
      "{'r': 0.2999910499509079, 'p': 0.00018235332307467978, 'r2': 0.07732549332339347}\n",
      "{'r': 0.3104498328944034, 'p': 0.00010468363372118767, 'r2': 0.050071149572897065}\n",
      "{'r': 0.2512932845852082, 'p': 0.001855832329018226, 'r2': 0.05405694350894301}\n",
      "{'r': 0.37371124332570216, 'p': 2.284484240581434e-06, 'r2': 0.03948610312064547}\n",
      "{'r': 0.29473596596537444, 'p': 0.00023913080960868415, 'r2': 0.05146198153721813}\n",
      "followee_verified_score\n",
      "{'r': 0.02587020405118122, 'p': 0.7701598737198218, 'r2': -0.0036404497035496864}\n",
      "{'r': 0.09482692178820892, 'p': 0.28319427194916746, 'r2': -0.0039856537995103915}\n",
      "{'r': 0.0877072161885959, 'p': 0.3210650829192274, 'r2': -0.00030938046264261665}\n",
      "{'r': 0.0765551316577776, 'p': 0.3866525735337877, 'r2': -0.0013312791671934664}\n",
      "{'r': 0.021854696744895454, 'p': 0.8050593629065643, 'r2': -0.00394602982685337}\n",
      "{'r': 0.026973286882192034, 'p': 0.7606495542775109, 'r2': -0.007796522829680086}\n"
     ]
    },
    {
     "name": "stdout",
     "output_type": "stream",
     "text": [
      "{'r': 0.07044979799236796, 'p': 0.4257509860856168, 'r2': -0.00472568904514874}\n",
      "{'r': 0.004300341828224667, 'p': 0.9612714561600734, 'r2': -0.002853822139406992}\n",
      "{'r': 0.0037039027240169035, 'p': 0.9666395968110878, 'r2': -0.013475728575784895}\n",
      "{'r': 0.10761099413513421, 'p': 0.22297850721499357, 'r2': -0.007452415927987577}\n",
      "{'r': 0.11448022145726106, 'p': 0.1946528168873949, 'r2': -0.002301348325071606}\n",
      "{'r': 0.04736812044143861, 'p': 0.5925364392357446, 'r2': -0.00902237216164914}\n",
      "{'r': 0.1272567402327261, 'p': 0.14907416681147048, 'r2': -0.008777221987228367}\n",
      "{'r': 0.03205058244059039, 'p': 0.7173546655385655, 'r2': -0.005395529587862713}\n",
      "{'r': 0.06560185822755125, 'p': 0.45835912878589546, 'r2': -0.014152254346892112}\n",
      "{'r': 0.011146169737813518, 'p': 0.899840868408523, 'r2': -0.0032301340087519392}\n",
      "{'r': 0.015416703436954234, 'p': 0.8617946439663869, 'r2': -0.009263572804806585}\n",
      "{'r': 0.1294072531808606, 'p': 0.14226811978297257, 'r2': -0.005854904191759713}\n",
      "{'r': 0.02526023091155703, 'p': 0.7754336121917479, 'r2': -0.0027102557885083202}\n",
      "{'r': 0.03743081472337055, 'p': 0.6724387932809994, 'r2': -0.002917839879454709}\n",
      "{'r': 0.013894214812539333, 'p': 0.8753268479600799, 'r2': -0.0009388570189226231}\n",
      "{'r': 0.044006104443302024, 'p': 0.6190890830666039, 'r2': -0.0019199385766446309}\n",
      "{'r': 0.0002037005294488704, 'p': 0.9981647780163315, 'r2': -0.006204343377026711}\n",
      "{'r': 0.20332786412296663, 'p': 0.020330290186215207, 'r2': -0.004694624170227169}\n",
      "{'r': 0.07049027449493861, 'p': 0.4254844916833814, 'r2': -0.0022225381150065447}\n",
      "{'r': 0.09190159346459914, 'p': 0.29837626810574897, 'r2': -0.0040258432825284185}\n",
      "{'r': 0.026776882314177294, 'p': 0.7623403045921617, 'r2': -0.0073096351592423225}\n",
      "{'r': 0.02576728113196808, 'p': 0.7710490012686965, 'r2': -0.015667113453772495}\n",
      "{'r': 0.052125095891696616, 'p': 0.5558759581857057, 'r2': -0.0019174302391937736}\n",
      "{'r': 0.08868243311858598, 'p': 0.3156929510778885, 'r2': -0.004512275489269735}\n",
      "{'r': 0.063709873042221, 'p': 0.4714507476739972, 'r2': -0.009139499499659332}\n",
      "{'r': 0.008721605891417128, 'p': 0.9215487316727625, 'r2': -0.012659540210835462}\n",
      "{'r': 0.09807028122092207, 'p': 0.26697662934405497, 'r2': -0.016100290651170423}\n",
      "{'r': 0.07471631217536853, 'p': 0.3981940414125437, 'r2': -0.0036893712390028365}\n",
      "{'r': 0.054081683374225725, 'p': 0.5411214247712401, 'r2': -0.0012527717929221361}\n",
      "{'r': 0.018076890561859467, 'p': 0.8382485459693383, 'r2': -0.0005614935352446393}\n",
      "{'r': 0.03235833988089112, 'p': 0.7147574135054379, 'r2': -0.00043760268306507476}\n",
      "{'r': 0.01999181028706138, 'p': 0.821385939437392, 'r2': -0.0025157233774643294}\n",
      "{'r': 0.04675530354311722, 'p': 0.5973377680265101, 'r2': -0.003274889133428616}\n",
      "{'r': 0.01774048161851243, 'p': 0.8412187589814746, 'r2': -0.0054209388591120785}\n",
      "{'r': 0.12942480900434045, 'p': 0.1422135454185548, 'r2': -0.006046939632390958}\n",
      "{'r': 0.05238677774528, 'p': 0.5538914397428516, 'r2': -0.0031419365472635354}\n",
      "{'r': 0.0520046620963832, 'p': 0.5567904436472741, 'r2': -0.005406169230887814}\n",
      "{'r': 0.18274607661819878, 'p': 0.037428387654850695, 'r2': -0.007056841617298071}\n",
      "{'r': 0.015266965605869575, 'p': 0.8631238357537299, 'r2': -0.003265167490151244}\n",
      "{'r': 0.04478762008958416, 'p': 0.6128710883053524, 'r2': -0.005020131971418618}\n",
      "{'r': 0.049123115579985215, 'p': 0.578884070852928, 'r2': -0.0029810174499516062}\n",
      "{'r': 0.06944188909691743, 'p': 0.43241796883272454, 'r2': -0.0021701381320243353}\n",
      "{'r': 0.07797467028894833, 'p': 0.37788227143539743, 'r2': -0.009506715861693849}\n",
      "{'r': 0.020756339057938337, 'p': 0.814675830214707, 'r2': -0.009092137073748053}\n",
      "bio_char\n",
      "{'r': 0.01919300907294874, 'p': 0.8114251247015499, 'r2': -0.008902217039288684}\n",
      "{'r': 0.13244064696015856, 'p': 0.09822758615652304, 'r2': -0.003457286935310888}\n",
      "{'r': 0.013158246715444372, 'p': 0.870076020195186, 'r2': -0.005621695050624575}\n",
      "{'r': 0.030823581464736675, 'p': 0.7015543190820936, 'r2': -0.0036841537547830593}\n",
      "{'r': 0.08840906741329133, 'p': 0.2708671591907895, 'r2': -0.0008968014382190415}\n",
      "{'r': 0.1571893478695884, 'p': 0.04928963340483091, 'r2': -0.0006764091965287822}\n",
      "{'r': 0.12791268429130617, 'p': 0.11037744356803439, 'r2': -0.005155928895747941}\n",
      "{'r': 0.05636276080740128, 'p': 0.4832172123587214, 'r2': -0.0034506196947306387}\n",
      "{'r': 0.039220559303204686, 'p': 0.6257674297134596, 'r2': -0.005486042738235719}\n",
      "{'r': 0.06606995732295352, 'p': 0.4109986260412485, 'r2': -0.004724773156966044}\n",
      "{'r': 0.10675439055109688, 'p': 0.18327270069339438, 'r2': -0.001598319335254539}\n",
      "{'r': 0.04554715618807755, 'p': 0.5710962267863242, 'r2': -0.006897523114703841}\n",
      "{'r': 0.10689152484126331, 'p': 0.18270743401310371, 'r2': -0.002874067002630376}\n",
      "{'r': 0.07051687271571629, 'p': 0.38015740812919857, 'r2': -0.0056090727207152025}\n",
      "{'r': 0.052814181919485705, 'p': 0.5112257274392293, 'r2': -0.010296066437808404}\n",
      "{'r': 0.027764844041260055, 'p': 0.729959792646177, 'r2': -0.0034677951747895896}\n",
      "{'r': 0.06014243970383096, 'p': 0.4543164182871799, 'r2': -0.0017387906785967465}\n",
      "{'r': 0.011395479696462364, 'p': 0.8873576252314296, 'r2': -0.0032026227009318564}\n",
      "{'r': 0.04383672114463883, 'p': 0.5856535104533641, 'r2': -0.002811283109159213}\n",
      "{'r': 0.09336034793278955, 'p': 0.244831199675344, 'r2': -0.005345499749422178}\n",
      "{'r': 0.04642856727059768, 'p': 0.5636618565007795, 'r2': -0.007203765070273071}\n",
      "{'r': 0.023346122570512055, 'p': 0.7716417892709897, 'r2': -0.00123105731643669}\n",
      "{'r': 0.09965320709289148, 'p': 0.2143227145774632, 'r2': -0.0012444766561387154}\n",
      "{'r': 0.06196372231230142, 'p': 0.44074243226740883, 'r2': -0.00254597922744626}\n",
      "{'r': 0.1156598190219098, 'p': 0.14916752742720832, 'r2': -0.004211591786204272}\n",
      "{'r': 0.09934761141876862, 'p': 0.21573847505131546, 'r2': -0.0030394462319895954}\n",
      "{'r': 0.05584865775311124, 'p': 0.48722318137746945, 'r2': -0.003685439841077587}\n",
      "{'r': 0.16215118596858988, 'p': 0.042462322854713345, 'r2': -0.0023767068197498185}\n",
      "{'r': 0.0331214113187862, 'p': 0.6804810880435863, 'r2': -0.013012355685782318}\n",
      "{'r': 0.07710878185912629, 'p': 0.33711585128067206, 'r2': -0.0021459251773685573}\n",
      "{'r': 0.006550316670269181, 'p': 0.9351077596103398, 'r2': -0.005153260329800835}\n",
      "{'r': 0.11330720000183034, 'p': 0.1576720630964729, 'r2': -0.005680278744564981}\n",
      "{'r': 0.128700561293166, 'p': 0.10818277402304782, 'r2': -0.010059304962072524}\n",
      "{'r': 0.06974938099940554, 'p': 0.38537728693902573, 'r2': -0.0007405439513688883}\n",
      "{'r': 0.026280134680854012, 'p': 0.7438840574994662, 'r2': -0.0024471106918584782}\n",
      "{'r': 0.019457663633809862, 'p': 0.8088743366307292, 'r2': -0.0008422934872606369}\n",
      "{'r': 0.009973023697002894, 'p': 0.9013420944108596, 'r2': -0.0072069132721885865}\n",
      "{'r': 0.01960218177363836, 'p': 0.8074822916011837, 'r2': -0.0031020819848760705}\n",
      "{'r': 0.0878050193316043, 'p': 0.27416752111584075, 'r2': -0.0037809652811112483}\n",
      "{'r': 0.008960276105746585, 'p': 0.9113174024646341, 'r2': -0.0016973966601253388}\n",
      "{'r': 0.05543892390070228, 'p': 0.4904285628858226, 'r2': -0.0031712254545967155}\n",
      "{'r': 0.13600909885008186, 'p': 0.08941860624951792, 'r2': -0.0021420326740850593}\n",
      "{'r': 0.029905784889645487, 'p': 0.7100364149429371, 'r2': -0.007082557869800166}\n",
      "{'r': 0.13393216409201297, 'p': 0.09446561602865591, 'r2': -0.005115846070956121}\n",
      "{'r': 0.011353304577724885, 'p': 0.8877717804307786, 'r2': -0.001527955536024983}\n",
      "{'r': 0.07326905702434557, 'p': 0.3617956597955821, 'r2': -0.009517601506857432}\n",
      "{'r': 0.014218893823075826, 'p': 0.8597067684467197, 'r2': -0.0025695630385397907}\n",
      "{'r': 0.10822318974249116, 'p': 0.17728474734835195, 'r2': -0.0160914145772046}\n",
      "{'r': 0.04968079869078085, 'p': 0.5366373637565081, 'r2': -0.008342789662491246}\n",
      "{'r': 0.0802968528789456, 'p': 0.3174595951629972, 'r2': -0.004076924948498739}\n",
      "moral\n",
      "{'r': 0.05262235548513079, 'p': 0.5141307273595344, 'r2': -0.009682816992005438}\n",
      "{'r': 0.05516132749245277, 'p': 0.49401005979423723, 'r2': -0.006513402982908501}\n",
      "{'r': 0.04101474572154317, 'p': 0.6111952646474385, 'r2': -0.0012236889730928625}\n",
      "{'r': 0.07735540982255147, 'p': 0.33713701852331773, 'r2': -0.004220776319717734}\n",
      "{'r': 0.02886363389357362, 'p': 0.720581429461462, 'r2': -0.0009204257762363444}\n",
      "{'r': 0.08640938010727563, 'p': 0.2834593962972024, 'r2': -0.0012356479514695983}\n"
     ]
    },
    {
     "name": "stdout",
     "output_type": "stream",
     "text": [
      "{'r': 0.004738130785284983, 'p': 0.9531881822373205, 'r2': -0.002992413209553191}\n",
      "{'r': 0.0708440660528747, 'p': 0.37949312263322854, 'r2': -0.004556649732139206}\n",
      "{'r': 0.05994089184884903, 'p': 0.45729457864315626, 'r2': -0.004237250995606123}\n",
      "{'r': 0.06028517743252668, 'p': 0.454709778446442, 'r2': -0.007757490567210335}\n",
      "{'r': 0.18709915250777057, 'p': 0.01934758638817931, 'r2': -0.0019654338643821934}\n",
      "{'r': 0.08265871328319939, 'p': 0.30495731666278836, 'r2': -0.0033116730746188374}\n",
      "{'r': 0.07401991688216605, 'p': 0.3584442240371927, 'r2': -0.0025979751124100892}\n",
      "{'r': 0.02773387227480424, 'p': 0.7310898244478665, 'r2': -0.006330173440497933}\n",
      "{'r': 0.0855278541558143, 'p': 0.2884183243798651, 'r2': -0.007445934138968058}\n",
      "{'r': 0.02102796131324975, 'p': 0.7944351670497038, 'r2': -0.0036040202552998666}\n",
      "{'r': 0.07305460772807804, 'p': 0.36476379266153314, 'r2': -0.0029487514785195845}\n",
      "{'r': 0.14034734419199887, 'p': 0.08055070985644207, 'r2': -0.006329832151470871}\n",
      "{'r': 0.02462247791394372, 'p': 0.7602842300054513, 'r2': -0.004576816700907127}\n",
      "{'r': 0.04316758317686744, 'p': 0.5925971412264592, 'r2': -0.006829110358847479}\n",
      "{'r': 0.11125372001425789, 'p': 0.1667632247264037, 'r2': -0.003178620815395483}\n",
      "{'r': 0.19385724063474766, 'p': 0.015314622723045344, 'r2': -0.0035316200088949313}\n",
      "{'r': 0.03723880588152801, 'p': 0.6444169675505683, 'r2': -0.00353106391257203}\n",
      "{'r': 0.03231373726894321, 'p': 0.6888198651500965, 'r2': -0.004267403974683326}\n",
      "{'r': 0.07088546360616604, 'p': 0.37921399646362514, 'r2': -0.004317118434465117}\n",
      "{'r': 0.114617343283611, 'p': 0.1542275740119806, 'r2': -0.003677503074175048}\n",
      "{'r': 0.025172008748156362, 'p': 0.7551019530842273, 'r2': -0.00396842079042683}\n",
      "{'r': 0.04250353787677853, 'p': 0.5983063204761563, 'r2': -0.00433513104729526}\n",
      "{'r': 0.13259598597145952, 'p': 0.09892284070927837, 'r2': -0.009567681888211822}\n",
      "{'r': 0.1267205601484146, 'p': 0.11494015332644729, 'r2': -0.005420114253648167}\n",
      "{'r': 0.00745092502056501, 'p': 0.9264478905632884, 'r2': -0.0024578753621960605}\n",
      "{'r': 0.08024581316862119, 'p': 0.3193395144959236, 'r2': -0.004850914484283741}\n",
      "{'r': 0.07585208089181193, 'p': 0.346638521833513, 'r2': -0.008510884244580774}\n",
      "{'r': 0.08414502977017639, 'p': 0.2963132794287114, 'r2': -0.0008887145139751862}\n",
      "{'r': 0.04262288187611401, 'p': 0.597278430837103, 'r2': -0.0025510141701077017}\n",
      "{'r': 0.15863260656132247, 'p': 0.047936781886395115, 'r2': -0.0020339025119122224}\n",
      "{'r': 0.04667920785262416, 'p': 0.5628255560756446, 'r2': -0.007006649773162077}\n",
      "{'r': 0.06380080462582867, 'p': 0.42878672425918246, 'r2': -0.004120637377213643}\n",
      "{'r': 0.12125184771685743, 'p': 0.13159953829188062, 'r2': -0.0037967002954721217}\n",
      "{'r': 0.018162457007286633, 'p': 0.8219457130738975, 'r2': -0.002817767883927247}\n",
      "{'r': 0.03788726407444437, 'p': 0.6386589605303973, 'r2': -0.0027403226150473524}\n",
      "{'r': 0.1643296626906243, 'p': 0.04037155230181241, 'r2': -0.0017978457873270236}\n",
      "{'r': 0.1218905366643595, 'p': 0.12956331302626312, 'r2': -0.005674648090958634}\n",
      "{'r': 0.03263656196890467, 'p': 0.6858745358778208, 'r2': -0.0013504064659585202}\n",
      "{'r': 0.04454995101525354, 'p': 0.5807922131476057, 'r2': -0.002706124381739938}\n",
      "{'r': 0.013009882034834483, 'p': 0.8719411280434632, 'r2': -0.008487094305384213}\n",
      "{'r': 0.0666962843239668, 'p': 0.4080906875290713, 'r2': -0.002003849990040929}\n",
      "{'r': 0.023640534233313488, 'p': 0.7695707579666502, 'r2': -0.018282862437582592}\n",
      "{'r': 0.12774321214440487, 'p': 0.11201566474993999, 'r2': -0.007203044602435904}\n",
      "{'r': 0.052038277101429664, 'p': 0.5188183784364262, 'r2': -0.0019966812127174107}\n",
      "followee_likes_avg\n",
      "{'r': 0.0435041253043332, 'p': 0.6230972868515954, 'r2': -0.0035534926243695917}\n",
      "{'r': 0.16882125379116494, 'p': 0.05484868050207789, 'r2': -0.0039790118232052585}\n",
      "{'r': 0.0678356463396634, 'p': 0.44316522802633246, 'r2': -0.00037751145174564905}\n",
      "{'r': 0.04560217963044349, 'p': 0.6064193716699379, 'r2': -0.0013278572078518902}\n",
      "{'r': 0.03990533466449115, 'p': 0.6521509568250651, 'r2': -0.0037303524042278545}\n",
      "{'r': 0.08247508122771872, 'p': 0.35088764144005435, 'r2': -0.00815334067885809}\n",
      "{'r': 0.02493639925379506, 'p': 0.7782375951380006, 'r2': -0.0043325918388997355}\n",
      "{'r': 0.07124804437961105, 'p': 0.42051318268202154, 'r2': -0.0017551366340551543}\n",
      "{'r': 0.06753949164692095, 'p': 0.4451631200515406, 'r2': -0.013299484220477132}\n",
      "{'r': 0.01965971213395837, 'p': 0.8243047544388487, 'r2': -0.0064687010124054424}\n",
      "{'r': 0.05029936484870266, 'p': 0.5698163797336965, 'r2': -0.0022518572201504217}\n",
      "{'r': 6.470155442873937e-05, 'p': 0.9994170765858358, 'r2': -0.00840713537243425}\n",
      "{'r': 0.06603348722497344, 'p': 0.4554009474688168, 'r2': -0.007189827010878802}\n",
      "{'r': 0.0900591590790547, 'p': 0.30820894075009014, 'r2': -0.00372254386403017}\n",
      "{'r': 0.006385621207418132, 'p': 0.9425184840672304, 'r2': -0.013702239688607887}\n",
      "{'r': 0.02202844318420482, 'p': 0.8035407844264877, 'r2': -0.0029285402392024372}\n",
      "{'r': 0.03203840090914864, 'p': 0.7174575356264874, 'r2': -0.008322179194126856}\n",
      "{'r': 0.1369850189718133, 'p': 0.12015569723107775, 'r2': -0.005551553836711798}\n",
      "{'r': 0.05471492996028465, 'p': 0.5363879029193304, 'r2': -0.0008679341652187977}\n",
      "{'r': 0.006239897765211828, 'p': 0.9438280755186299, 'r2': -0.0020822900583459926}\n",
      "{'r': 0.026997121630046868, 'p': 0.7604444493292669, 'r2': 0.0003726795309860753}\n",
      "{'r': 0.14550129962110075, 'p': 0.09858556676880095, 'r2': -0.0019328504373345545}\n",
      "{'r': 0.057462844092516945, 'p': 0.5160887228001407, 'r2': -0.006603261373845237}\n",
      "{'r': 0.2254257975461465, 'p': 0.009917093576301701, 'r2': -0.004613127742890933}\n",
      "{'r': 0.019666737648711467, 'p': 0.824242982081098, 'r2': -0.001105288311758912}\n",
      "{'r': 0.14647296045440697, 'p': 0.09633238057767968, 'r2': -0.0036163746857992506}\n",
      "{'r': 0.025966670340744628, 'p': 0.7693267944453813, 'r2': -0.007260634909432051}\n",
      "{'r': 0.00844804286621759, 'p': 0.9240019574918402, 'r2': -0.015350964926536292}\n",
      "{'r': 0.049868322977586206, 'p': 0.5731314962324251, 'r2': -0.0019288747546477802}\n",
      "{'r': 0.024138780571835848, 'p': 0.7851560996894152, 'r2': -0.0042129923912511465}\n",
      "{'r': 0.030879436921319912, 'p': 0.7272676241427195, 'r2': -0.008742875447074772}\n",
      "{'r': 0.09045450483305427, 'p': 0.3060814193094321, 'r2': -0.012665953896556914}\n",
      "{'r': 0.04832109477629021, 'p': 0.5851049897317743, 'r2': -0.015052179969628487}\n",
      "{'r': 0.014215749800397534, 'p': 0.8724658376386726, 'r2': -0.003222018251622938}\n",
      "{'r': 0.041288903311035643, 'p': 0.6409162118657851, 'r2': -0.0006295151456214843}\n",
      "{'r': 0.13610367783937982, 'p': 0.12258179316434849, 'r2': -0.00039757601752590246}\n",
      "{'r': 0.038231866851382745, 'p': 0.6658444789821508, 'r2': 0.0011107686722686694}\n",
      "{'r': 0.2264653091448354, 'p': 0.0095720845011081, 'r2': -0.0025076999629088936}\n",
      "{'r': 0.12138371170311114, 'p': 0.1689104854722931, 'r2': -0.0035169207036654937}\n",
      "{'r': 0.033987919030748326, 'p': 0.7010599115129779, 'r2': -0.0045941450712359885}\n",
      "{'r': 0.05010040411314232, 'p': 0.5713454510686367, 'r2': -0.0056612452015394775}\n",
      "{'r': 0.14032347597506623, 'p': 0.11130146204346204, 'r2': -0.0031165905468018896}\n",
      "{'r': 0.0292982835769572, 'p': 0.7407226315584314, 'r2': -0.004817791607645594}\n",
      "{'r': 0.06701243659117416, 'p': 0.44873121221741635, 'r2': -0.006698253501977192}\n",
      "{'r': 0.020451999987106947, 'p': 0.8173453702776384, 'r2': -0.0035094340686497192}\n",
      "{'r': 0.09345498421844961, 'p': 0.29024878968471446, 'r2': -0.002703349577111225}\n",
      "{'r': 0.02609386960688615, 'p': 0.7682287086166071, 'r2': -0.002663188000321659}\n",
      "{'r': 0.25038755977210847, 'p': 0.004063371151244487, 'r2': -0.002177457731893173}\n",
      "{'r': 0.09277448201397785, 'p': 0.2937909351292439, 'r2': -0.009495583235028393}\n",
      "{'r': 0.11330452440321839, 'p': 0.1993061664276469, 'r2': -0.00876662622926765}\n",
      "followers_count\n",
      "{'r': 0.030654695928094264, 'p': 0.7040292680771636, 'r2': -0.0063498814654152635}\n",
      "{'r': 0.02791395019589459, 'p': 0.7294114326605985, 'r2': -0.006392345758282625}\n",
      "{'r': 0.09218758985822856, 'p': 0.2523742729684783, 'r2': -0.003591579234242337}\n",
      "{'r': 0.04804864054996963, 'p': 0.5514124221137178, 'r2': -0.004807318598528077}\n",
      "{'r': 0.04206763965615249, 'p': 0.6020673742007805, 'r2': 0.0004448886042637934}\n",
      "{'r': 0.08196257903026602, 'p': 0.3090622664799524, 'r2': 0.0003325786051810997}\n"
     ]
    },
    {
     "name": "stdout",
     "output_type": "stream",
     "text": [
      "{'r': 0.02624475065952282, 'p': 0.7450171834127667, 'r2': -0.004542013346035101}\n",
      "{'r': 0.07565310386134051, 'p': 0.34790864886695666, 'r2': -0.00397844780334049}\n",
      "{'r': 0.0007633240540774536, 'p': 0.9924543276879615, 'r2': -0.0030167150963218425}\n",
      "{'r': 0.06643211306402749, 'p': 0.40995411087353234, 'r2': -0.008744624253648614}\n",
      "{'r': 0.05312282169118823, 'p': 0.5101315481950287, 'r2': -0.00034002301238302837}\n",
      "{'r': 0.11988299207038872, 'p': 0.1360462666364055, 'r2': -0.006162002956023915}\n",
      "{'r': 0.0711844090877465, 'p': 0.3772020483765009, 'r2': -0.0017021333354329648}\n",
      "{'r': 0.014411379177331264, 'p': 0.8582834396400156, 'r2': -0.004951981103328862}\n",
      "{'r': 0.0840540795819686, 'p': 0.2968375121901822, 'r2': -0.0056825950405535956}\n",
      "{'r': 0.10872087982916284, 'p': 0.17669206156013453, 'r2': -0.000774275548023784}\n",
      "{'r': 0.028611228076207952, 'p': 0.7229247158018852, 'r2': -0.0012263413284169023}\n",
      "{'r': 0.06439786151597326, 'p': 0.4244703683079905, 'r2': -0.003996752720080776}\n",
      "{'r': 0.1812861043476408, 'p': 0.023521736705994355, 'r2': -0.003976674410354564}\n",
      "{'r': 0.1330230363452689, 'p': 0.09783114596416577, 'r2': -0.009601186747428247}\n",
      "{'r': 0.007410018338553579, 'p': 0.9268505772373907, 'r2': -0.0022105727283241007}\n",
      "{'r': 0.003266369903486763, 'p': 0.9677192662798151, 'r2': -0.002116338446282784}\n",
      "{'r': 0.09560498514363389, 'p': 0.2351393290910543, 'r2': -0.004544444085753363}\n",
      "{'r': 0.08748593324292092, 'p': 0.27748135943727315, 'r2': -0.005048750872538399}\n",
      "{'r': 0.03244280201924859, 'p': 0.687641764099426, 'r2': -0.002810960096621451}\n",
      "{'r': 0.04375954732823971, 'p': 0.5875286417286504, 'r2': -0.0020122612326880286}\n",
      "{'r': 0.1369505948079669, 'p': 0.08823217987826196, 'r2': -0.0038823081161219798}\n",
      "{'r': 0.17285978747167585, 'p': 0.030933615560071223, 'r2': -0.003055455643617666}\n",
      "{'r': 0.04330259220717873, 'p': 0.5914394239390797, 'r2': -0.0060213779545595925}\n",
      "{'r': 0.06282486493404023, 'p': 0.4358963195839734, 'r2': -0.0063190208046213225}\n",
      "{'r': 0.02575753903977173, 'p': 0.7495921784697508, 'r2': -0.0024882569699026026}\n",
      "{'r': 0.07903628562837642, 'p': 0.3267116751130477, 'r2': -0.0014572472525768098}\n",
      "{'r': 0.10249391567043804, 'p': 0.20294395028477705, 'r2': -0.009788471800084065}\n",
      "{'r': 0.11784993172712638, 'p': 0.14286145731693725, 'r2': -0.00220849663569207}\n",
      "{'r': 0.08416346564748432, 'p': 0.29620709068960244, 'r2': -0.0037942702757042036}\n",
      "{'r': 0.06008555063375181, 'p': 0.45620752678648474, 'r2': -0.00235641725351341}\n",
      "{'r': 0.0469133323181366, 'p': 0.5608663393947313, 'r2': -0.006310728863892478}\n",
      "{'r': 0.1150087787708306, 'p': 0.15281610456167127, 'r2': -0.0023466447509863817}\n",
      "{'r': 0.026063411314785966, 'p': 0.7467189582106628, 'r2': -0.0029308607332463764}\n",
      "{'r': 0.02046670757537107, 'p': 0.7998047817201331, 'r2': -0.0028600926262111193}\n",
      "{'r': 0.05327485992327629, 'p': 0.508919823841147, 'r2': -0.0027600731684386927}\n",
      "{'r': 0.027191072851362182, 'p': 0.7361566000864811, 'r2': -0.0017569533229552902}\n",
      "{'r': 0.10805646987269173, 'p': 0.17936737297636898, 'r2': -0.0044808502382335915}\n",
      "{'r': 0.08549785860800481, 'p': 0.2885880736660807, 'r2': -0.0013610174927147778}\n",
      "{'r': 0.03973884636024192, 'p': 0.6223370476937332, 'r2': -0.00020496027852892062}\n",
      "{'r': 0.1404215768880934, 'p': 0.08038904621619838, 'r2': -0.010943338930099777}\n",
      "{'r': 0.002049071123048786, 'p': 0.9797462127527922, 'r2': -0.004473274159894647}\n",
      "{'r': 0.07854694856577091, 'p': 0.32972507832027115, 'r2': -0.015659762009630995}\n",
      "{'r': 0.22638002517062558, 'p': 0.004486900542259196, 'r2': -0.0069326017043987555}\n",
      "{'r': 0.01212298980382761, 'p': 0.8806037929848565, 'r2': -0.00130779596405457}\n",
      "mentions_count_unique\n",
      "{'r': 0.038645902163145396, 'p': 0.6054924350392406, 'r2': -0.0005826535363856244}\n",
      "{'r': 0.02459137821510504, 'p': 0.7424574887416029, 'r2': -0.0010440367949578811}\n",
      "{'r': 0.010237577784978937, 'p': 0.8912032083614516, 'r2': -0.0036198704274573944}\n",
      "{'r': 0.05599820791467369, 'p': 0.45400964164007906, 'r2': -0.0041452673398120424}\n",
      "{'r': 0.020477399243201605, 'p': 0.7843803048906015, 'r2': -0.004469308093389879}\n",
      "{'r': 0.002045423229297063, 'p': 0.9781983376648703, 'r2': -0.0005293750569907108}\n",
      "{'r': 0.013018781312080318, 'p': 0.8619097078250016, 'r2': -0.003726137807944241}\n",
      "{'r': 0.02577026821089989, 'p': 0.730576544745104, 'r2': -0.0005330846991617566}\n",
      "{'r': 0.0011811664737528867, 'p': 0.987409201865472, 'r2': -0.002370692004501107}\n",
      "{'r': 0.03496486254453231, 'p': 0.6402938219905902, 'r2': -0.00045097688772806067}\n",
      "{'r': 0.0882201216561069, 'p': 0.23761798605176332, 'r2': -0.0018285683407823772}\n",
      "{'r': 0.11749543956653162, 'p': 0.11519895027305499, 'r2': -0.005362752730378473}\n",
      "{'r': 0.060634256683506894, 'p': 0.41745452889228196, 'r2': -0.003702349833551244}\n",
      "{'r': 0.05425613021808044, 'p': 0.46819501643218764, 'r2': -0.0017634900411684252}\n",
      "{'r': 0.012158553455224815, 'p': 0.870952025475557, 'r2': -0.009838647883726504}\n",
      "{'r': 0.016235427084560803, 'p': 0.8282657398112568, 'r2': -0.006309042336512682}\n",
      "{'r': 0.044866459294079605, 'p': 0.5486817451396052, 'r2': -0.0006078656084580025}\n",
      "{'r': 0.06953770901748477, 'p': 0.3522782760705628, 'r2': -0.004064010947996399}\n",
      "{'r': 0.04205667507261897, 'p': 0.5740182734524883, 'r2': -0.007001508960748559}\n",
      "{'r': 0.039267781672747554, 'p': 0.5996969386685951, 'r2': -0.0013624774940887764}\n",
      "{'r': 0.053528280402490344, 'p': 0.4741930502787386, 'r2': -0.00944376231434263}\n",
      "{'r': 0.02293620667471561, 'p': 0.7592410464770055, 'r2': -0.00023933457704168327}\n",
      "{'r': 0.11863085387875934, 'p': 0.11170425810737877, 'r2': -0.004779371607860172}\n",
      "{'r': 0.10136713042981048, 'p': 0.1745249066280127, 'r2': -0.002018022432709454}\n",
      "{'r': 0.023207870930866282, 'p': 0.7564783883226931, 'r2': -0.0049952587143912595}\n",
      "{'r': 0.004330361547813067, 'p': 0.9538635698069011, 'r2': -0.006745215917263847}\n",
      "{'r': 0.055069195007484265, 'p': 0.46154430619957687, 'r2': -0.00590994420358828}\n",
      "{'r': 0.05420813862741225, 'p': 0.4685892161459296, 'r2': -0.0014440185899120995}\n",
      "{'r': 0.23580425987789727, 'p': 0.001395265099994602, 'r2': -0.003015100233109136}\n",
      "{'r': 0.1357153012973966, 'p': 0.06850805867865066, 'r2': -0.0029508678054250836}\n",
      "{'r': 0.0954520754112198, 'p': 0.20117892701868118, 'r2': -0.00355828838408605}\n",
      "{'r': 0.034495793513054936, 'p': 0.6447875630182865, 'r2': -0.0023827030834622674}\n",
      "{'r': 0.11786017147880738, 'p': 0.11406716654898622, 'r2': -0.007262322764877593}\n",
      "{'r': 0.04353590609274253, 'p': 0.5606112601824114, 'r2': -0.01349377269107661}\n",
      "{'r': 0.050172872193441034, 'p': 0.5023778628908121, 'r2': -0.0046481820327566314}\n",
      "{'r': 0.030950595452347705, 'p': 0.6791583270882114, 'r2': -0.0012295799592670687}\n",
      "{'r': 0.01713512755017927, 'p': 0.8189083709502739, 'r2': -0.004517511930718388}\n",
      "{'r': 0.03058830507663259, 'p': 0.6827098162194043, 'r2': -0.005485491084578897}\n",
      "{'r': 0.06558076293943546, 'p': 0.3804155089749157, 'r2': -0.005398754974388753}\n",
      "{'r': 0.03411601716275712, 'p': 0.6484353283957761, 'r2': -0.004220868935034305}\n",
      "{'r': 0.08472156193971417, 'p': 0.2568132983751839, 'r2': -0.0015842047765103119}\n",
      "{'r': 0.03180930864288896, 'p': 0.670768741742265, 'r2': -0.0024214503819001364}\n",
      "{'r': 0.04451208048731641, 'p': 0.5518468704159298, 'r2': -0.009803433848566767}\n",
      "{'r': 0.05090824969689013, 'p': 0.4961266071224384, 'r2': -0.0033077640497091165}\n",
      "{'r': 0.010822711154296193, 'p': 0.8850265760831475, 'r2': -0.0017601227377639806}\n",
      "{'r': 0.05111509535229855, 'p': 0.4943757099743254, 'r2': -0.003440295664337678}\n",
      "{'r': 0.03402221203065666, 'p': 0.6493376242007861, 'r2': -0.004722364172689897}\n",
      "{'r': 0.008780465327102374, 'p': 0.9066120818275574, 'r2': -0.0044357344334125855}\n",
      "{'r': 0.038436552289904974, 'p': 0.6074490155763053, 'r2': -0.0022096048417862947}\n",
      "{'r': 0.0042079067080752095, 'p': 0.955166842888237, 'r2': -0.006569215093012471}\n",
      "follower_tweets_avg\n",
      "{'r': 0.018187132226548917, 'p': 0.835399526787063, 'r2': -0.00567791446223378}\n",
      "{'r': 0.022230162091730125, 'p': 0.7995093555084012, 'r2': -0.0035284676361527546}\n",
      "{'r': 0.04882308437916185, 'p': 0.5767942915266533, 'r2': -0.0012570038813788154}\n",
      "{'r': 0.0401665830741682, 'p': 0.646208019059778, 'r2': -0.0005358351921800786}\n",
      "{'r': 0.14777917299918436, 'p': 0.08959862923387614, 'r2': -0.004703716679103143}\n",
      "{'r': 0.050299880401861535, 'p': 0.5653081999193177, 'r2': -0.0055051956154091196}\n"
     ]
    },
    {
     "name": "stdout",
     "output_type": "stream",
     "text": [
      "{'r': 0.11243045010535273, 'p': 0.19758540890105666, 'r2': -0.007076726184155291}\n",
      "{'r': 0.10339865068629159, 'p': 0.23626548273796366, 'r2': -0.0017021244368065958}\n",
      "{'r': 0.03340188294306297, 'p': 0.7026989560327753, 'r2': -0.016581299363836077}\n",
      "{'r': 0.18221708123138305, 'p': 0.035799135070633856, 'r2': -0.007142797914554988}\n",
      "{'r': 0.10761753392164891, 'p': 0.2175851108528309, 'r2': -0.012099061252477662}\n",
      "{'r': 0.03627426334764534, 'p': 0.6784912299427108, 'r2': -0.006082269552405784}\n",
      "{'r': 0.13600871411386992, 'p': 0.11852708798087816, 'r2': -0.005704270544514767}\n",
      "{'r': 0.04739586190202432, 'p': 0.5879970692693862, 'r2': -0.0004971789653326564}\n",
      "{'r': 0.012329162676644731, 'p': 0.8879884176496576, 'r2': -0.01000384794136111}\n",
      "{'r': 0.0007195074213147268, 'p': 0.9934419102620241, 'r2': -0.005253736636616768}\n",
      "{'r': 0.1163838779552725, 'p': 0.18217988842846364, 'r2': -0.003148701437351331}\n",
      "{'r': 0.09468870945950716, 'p': 0.27830557900087005, 'r2': -0.004750849025553139}\n",
      "{'r': 0.03806248309541309, 'p': 0.6635826373096505, 'r2': -0.006150614149546252}\n",
      "{'r': 0.13689817144723118, 'p': 0.11611503217393872, 'r2': -0.004878423279427846}\n",
      "{'r': 0.06987973598266134, 'p': 0.42413792641096565, 'r2': -0.0041560062522434825}\n",
      "{'r': 0.02669172389163442, 'p': 0.7603869799604046, 'r2': -0.0014082482120159057}\n",
      "{'r': 0.02637482474205737, 'p': 0.7631471762769961, 'r2': -0.0022035602413996713}\n",
      "{'r': 0.02840807966164835, 'p': 0.7454906627125537, 'r2': -0.00580072985719009}\n",
      "{'r': 0.0771304943788187, 'p': 0.3775436182039372, 'r2': -0.0074111386359513535}\n",
      "{'r': 0.14135826238224014, 'p': 0.10459040710981264, 'r2': -0.00043333998352159677}\n",
      "{'r': 0.12297051109656094, 'p': 0.15849938879596917, 'r2': -0.010802336413280234}\n",
      "{'r': 0.07670644512111588, 'p': 0.38017958121294637, 'r2': -0.003662029904214226}\n",
      "{'r': 0.04776053199568488, 'p': 0.5851252002193575, 'r2': -0.0031642276005961812}\n",
      "{'r': 0.1355887683679844, 'p': 0.11967932170699377, 'r2': -0.005850043363222257}\n",
      "{'r': 0.04501221365220587, 'p': 0.606925521542792, 'r2': -0.0007236452206316635}\n",
      "{'r': 0.06043981570371187, 'p': 0.48951613657060217, 'r2': -0.0033794246824400574}\n",
      "{'r': 0.13919859700793924, 'p': 0.11005343996458568, 'r2': -0.007607801713692552}\n",
      "{'r': 0.07006631500410455, 'p': 0.42289878800012864, 'r2': -0.002623558319064001}\n",
      "{'r': 0.1785621105166497, 'p': 0.03974419992079846, 'r2': -0.002849352911272085}\n",
      "{'r': 0.029003180143877174, 'p': 0.740347328983564, 'r2': -0.004746761162364543}\n",
      "{'r': 0.11316013151651512, 'p': 0.19467332374324645, 'r2': -0.0034108877802381476}\n",
      "{'r': 0.09046907216228162, 'p': 0.30038078255199546, 'r2': -0.0009173420619100093}\n",
      "{'r': 0.05580812021006902, 'p': 0.5234522792540661, 'r2': -0.013302863190262082}\n",
      "{'r': 0.08016384071944466, 'p': 0.35901420932942535, 'r2': -0.0030792366110643067}\n",
      "{'r': 0.2014419989668374, 'p': 0.020066538445257895, 'r2': -0.010453927036402577}\n",
      "{'r': 0.09695002831832072, 'p': 0.2669362472306539, 'r2': -0.0005374823157330066}\n",
      "{'r': 0.031058102397590666, 'p': 0.7226763808186183, 'r2': -0.004651675666059773}\n",
      "{'r': 0.0696485872887095, 'p': 0.42567597482256503, 'r2': -0.00865453618588834}\n",
      "{'r': 0.08766751128821869, 'p': 0.31565776066424667, 'r2': -0.0012426509815359533}\n",
      "{'r': 0.04207487989143364, 'p': 0.6306132059651488, 'r2': -0.00465992782883573}\n",
      "{'r': 0.04458608838945568, 'p': 0.6103375160603544, 'r2': -0.004822985280463099}\n",
      "{'r': 0.08748491375909892, 'p': 0.31667067590443554, 'r2': -0.0028495610318667987}\n",
      "{'r': 0.22319317287933851, 'p': 0.00981290808804585, 'r2': -0.007159335720777094}\n",
      "{'r': 0.0866172997808263, 'p': 0.3215123223100769, 'r2': -0.008267185858523707}\n",
      "text\n",
      "{'r': 0.17148215723794732, 'p': 0.020988153953424557, 'r2': 0.05418593496117128}\n",
      "{'r': 0.23582422412633572, 'p': 0.001393919310951164, 'r2': 0.051006924203055706}\n",
      "{'r': 0.18832425714880457, 'p': 0.011121780710723107, 'r2': 0.05762662876530753}\n",
      "{'r': 0.13144325201260637, 'p': 0.07776612914089931, 'r2': 0.05264364601407594}\n",
      "{'r': 0.1754037811086752, 'p': 0.01818606709571674, 'r2': 0.04763748010993094}\n",
      "{'r': 0.31581376732165267, 'p': 1.4859447158365226e-05, 'r2': 0.045549643674664034}\n",
      "{'r': 0.08836238490184081, 'p': 0.23685929619903, 'r2': 0.055903454650726214}\n",
      "{'r': 0.1644428742190207, 'p': 0.026959308703680924, 'r2': 0.056895374780015516}\n",
      "{'r': 0.0906583102467925, 'p': 0.224849409787746, 'r2': 0.06287059732104838}\n",
      "{'r': 0.27442908073691297, 'p': 0.00018510675563214362, 'r2': 0.056756129872687675}\n",
      "{'r': 0.23845184242632214, 'p': 0.001226803343929608, 'r2': 0.03299084871470907}\n",
      "{'r': 0.24700602831700252, 'p': 0.0008017226854531907, 'r2': 0.045669897664988836}\n",
      "{'r': 0.1710158511382796, 'p': 0.021344950843806346, 'r2': 0.04591864918723702}\n",
      "{'r': 0.22758019071857416, 'p': 0.0020623780263327395, 'r2': 0.05043645196230247}\n",
      "{'r': 0.1850017084828831, 'p': 0.012657611177993995, 'r2': 0.02575868889864481}\n",
      "{'r': 0.25380386334789795, 'p': 0.0005656918701525223, 'r2': 0.039217015066111104}\n",
      "{'r': 0.16567500930733628, 'p': 0.025819671377248613, 'r2': 0.05648009431480357}\n",
      "{'r': 0.20511015208028371, 'p': 0.005607891980430499, 'r2': 0.05265594024235141}\n",
      "{'r': 0.13668511994168542, 'p': 0.06653667103220622, 'r2': 0.050298168909168564}\n",
      "{'r': 0.36383306793397774, 'p': 4.788800716521268e-07, 'r2': 0.04276155291498116}\n",
      "{'r': 0.24545488178378613, 'p': 0.0008669706663194618, 'r2': 0.025374657967675397}\n",
      "{'r': 0.1784479658141459, 'p': 0.01624063102144822, 'r2': 0.05022082520037694}\n",
      "{'r': 0.2224706044215406, 'p': 0.0026114903395648426, 'r2': 0.044941680206489455}\n",
      "{'r': 0.1883197817066592, 'p': 0.01112373383970461, 'r2': 0.03486057420393087}\n",
      "{'r': 0.30916665491296696, 'p': 2.2874107053826678e-05, 'r2': 0.028529830214628116}\n",
      "{'r': 0.2714584598651661, 'p': 0.00021863345262657986, 'r2': 0.03978500488855348}\n",
      "{'r': 0.1563483597396236, 'p': 0.03556882468522985, 'r2': 0.04664662988325437}\n",
      "{'r': 0.2898749389518317, 'p': 7.552523929149052e-05, 'r2': 0.04811716642201273}\n",
      "{'r': 0.11615229735693156, 'p': 0.11944244113038167, 'r2': 0.056759091699545315}\n",
      "{'r': 0.057168688627259386, 'p': 0.44461526607001756, 'r2': 0.05849188356620094}\n",
      "{'r': 0.2614798596844297, 'p': 0.0003772014230596917, 'r2': 0.04933319454747816}\n",
      "{'r': 0.11060635596989768, 'p': 0.13826080891810846, 'r2': 0.05291519825644551}\n",
      "{'r': 0.26536160552523713, 'p': 0.0003058611869642959, 'r2': 0.020215914073090268}\n",
      "{'r': 0.25767861339965864, 'p': 0.0004617438777627858, 'r2': 0.01801012816607801}\n",
      "{'r': 0.130278542328974, 'p': 0.0804582959021406, 'r2': 0.05562616804225551}\n",
      "{'r': 0.14811766391922024, 'p': 0.04660158231767036, 'r2': 0.05163295713588363}\n",
      "{'r': 0.15791899697588943, 'p': 0.03373671487464883, 'r2': 0.05346453597900258}\n",
      "{'r': 0.17484333559026022, 'p': 0.018565476838605578, 'r2': 0.04928088289577459}\n",
      "{'r': 0.09602047126669731, 'p': 0.19849659060374084, 'r2': 0.05668233485270555}\n",
      "{'r': 0.18861577617705505, 'p': 0.010995207659463494, 'r2': 0.027475308097392383}\n",
      "{'r': 0.08412806516933276, 'p': 0.2601726072084213, 'r2': 0.05159422700419865}\n",
      "{'r': 0.036371989918741465, 'p': 0.6268921533342843, 'r2': 0.06389094242297322}\n",
      "{'r': 0.19540769843263905, 'p': 0.008384246660745246, 'r2': 0.03876062323578873}\n",
      "{'r': 0.0771677441505327, 'p': 0.30182218550957557, 'r2': 0.06125297079377403}\n",
      "{'r': 0.23245228058681244, 'p': 0.0016388249339258252, 'r2': 0.051591831794585395}\n",
      "{'r': 0.06635225879080178, 'p': 0.37482469638799215, 'r2': 0.06090240124812758}\n",
      "{'r': 0.10781787086780202, 'p': 0.14854037076483076, 'r2': 0.05501544080685468}\n",
      "{'r': 0.15801037466712659, 'p': 0.033632634764993605, 'r2': 0.050548053065034494}\n",
      "{'r': 0.2773089531861426, 'p': 0.00015723438239502316, 'r2': 0.030246563673436498}\n",
      "{'r': 0.14130534457547927, 'p': 0.05777122277776228, 'r2': 0.05159936167669001}\n",
      "followee_followees_avg\n",
      "{'r': 0.01866054940887136, 'p': 0.8331007435027695, 'r2': -0.0032979263865657417}\n",
      "{'r': 0.09243069257211599, 'p': 0.2955912743142092, 'r2': -0.002510501842483248}\n",
      "{'r': 0.06480875742186422, 'p': 0.46382232491003955, 'r2': -0.0002826735783828971}\n",
      "{'r': 0.011577013849830207, 'p': 0.8959906578264789, 'r2': -0.0012612849197140897}\n",
      "{'r': 0.013882571529022992, 'p': 0.8754304800554423, 'r2': -0.004032149272500063}\n",
      "{'r': 0.01912860361773252, 'p': 0.8289776526724536, 'r2': -0.008147334322343136}\n",
      "{'r': 0.1045899205556671, 'p': 0.23631721847834256, 'r2': -0.005183972138795623}\n"
     ]
    },
    {
     "name": "stdout",
     "output_type": "stream",
     "text": [
      "{'r': 0.17928540223404882, 'p': 0.04125149147747632, 'r2': -0.0029582391190668745}\n",
      "{'r': 0.05358994025889691, 'p': 0.5448113764393309, 'r2': -0.013474518550210712}\n",
      "{'r': 0.08495735972023283, 'p': 0.3365288921152948, 'r2': -0.007453559363621043}\n",
      "{'r': 0.04067135454507389, 'p': 0.6459209372204033, 'r2': -0.0022720650415752443}\n",
      "{'r': 0.1043535444037686, 'p': 0.23738390421955624, 'r2': -0.009010891193269987}\n",
      "{'r': 0.0292492822113251, 'p': 0.7411408933615685, 'r2': -0.008369673079405216}\n",
      "{'r': 0.1643193638243548, 'p': 0.06174067958385401, 'r2': -0.0053871063420250385}\n",
      "{'r': 0.04490149723199939, 'p': 0.611967324492659, 'r2': -0.013811684057931317}\n",
      "{'r': 0.041308986363963414, 'p': 0.6407537241710152, 'r2': -0.003015394524513515}\n",
      "{'r': 0.14132386440948716, 'p': 0.1087498119752067, 'r2': -0.009241835998112435}\n",
      "{'r': 0.09893340114188058, 'p': 0.26276933179865875, 'r2': -0.004137267794607058}\n",
      "{'r': 0.24374717786480393, 'p': 0.005196673100364587, 'r2': -0.002493583270196087}\n",
      "{'r': 0.05830072917423619, 'p': 0.5099784534572658, 'r2': -0.0029137423770799753}\n",
      "{'r': 0.07158774570735442, 'p': 0.41829557900521275, 'r2': -0.0009190249338563383}\n",
      "{'r': 0.011524590263638359, 'p': 0.8964590103101562, 'r2': -0.0017019516105514442}\n",
      "{'r': 0.025503491731277732, 'p': 0.7733291726517617, 'r2': -0.006605427660555829}\n",
      "{'r': 0.10598884913449567, 'p': 0.23007289722051544, 'r2': -0.0036070249902664386}\n",
      "{'r': 0.00852971223145051, 'p': 0.923269496859461, 'r2': -0.0018541030926037872}\n",
      "{'r': 0.010080663130839749, 'p': 0.9093725214549223, 'r2': -0.00403400370733209}\n",
      "{'r': 0.07678306077655875, 'p': 0.38523615169786823, 'r2': -0.007501796445969289}\n",
      "{'r': 0.08524582895913187, 'p': 0.33488481390651015, 'r2': -0.015436241394888129}\n",
      "{'r': 0.016976453764477088, 'p': 0.8479727317978817, 'r2': -0.0019226359017840088}\n",
      "{'r': 0.008486311512933938, 'p': 0.9236587329831425, 'r2': -0.004395722135431002}\n",
      "{'r': 0.06466433624902074, 'p': 0.4648209984996146, 'r2': -0.00842712659240279}\n",
      "{'r': 0.012021489683493243, 'p': 0.8920211645689279, 'r2': -0.012645864242844685}\n",
      "{'r': 0.07787090844875076, 'p': 0.378519207511331, 'r2': -0.016026386603258058}\n",
      "{'r': 0.005510587452422651, 'p': 0.9503844463547805, 'r2': -0.003398279675666793}\n",
      "{'r': 0.034292360683538435, 'p': 0.6985113680416447, 'r2': -0.0003387289665325088}\n",
      "{'r': 0.012051258450751695, 'p': 0.8917554021646157, 'r2': -0.0005063060978173662}\n",
      "{'r': 0.06798625803276959, 'p': 0.4421511308829029, 'r2': -0.00023316324980884317}\n",
      "{'r': 0.08066640540305008, 'p': 0.3615879587167372, 'r2': -0.0022237256029859374}\n",
      "{'r': 0.032796615917015555, 'p': 0.711064312282234, 'r2': -0.0035036564826548934}\n",
      "{'r': 0.1969996237996586, 'p': 0.024671361259871526, 'r2': -0.005434748076596519}\n",
      "{'r': 0.1337045079020513, 'p': 0.1293777501811387, 'r2': -0.006034022960863172}\n",
      "{'r': 0.06368387355109921, 'p': 0.4716320594946753, 'r2': -0.003039724812181377}\n",
      "{'r': 0.025602643128369, 'p': 0.7724718891225081, 'r2': -0.005226986884415208}\n",
      "{'r': 0.19193313437698742, 'p': 0.02869731159764656, 'r2': -0.007051572826729302}\n",
      "{'r': 0.06779962182585889, 'p': 0.44340798245859125, 'r2': -0.003602629190819817}\n",
      "{'r': 0.17189202815962287, 'p': 0.05052141501502985, 'r2': -0.005014539756689684}\n",
      "{'r': 0.12376411233397887, 'p': 0.16064697991188573, 'r2': -0.002994006924611847}\n",
      "{'r': 0.06208824425503842, 'p': 0.48283184658559974, 'r2': -0.001204638359111665}\n",
      "{'r': 0.051454264950976075, 'p': 0.5609789509239914, 'r2': -0.009438655045648869}\n",
      "{'r': 0.08331596126995472, 'p': 0.3459811723605959, 'r2': -0.00861050071624998}\n",
      "relig\n",
      "{'r': 0.016366430535670367, 'p': 0.8393021381074806, 'r2': -0.009100849719487502}\n",
      "{'r': 0.12059771673581957, 'p': 0.13371036308392675, 'r2': -0.006519822240453399}\n",
      "{'r': 0.0845319575209572, 'p': 0.2940899051020402, 'r2': -0.0012225160576580852}\n",
      "{'r': 0.1484680559014367, 'p': 0.06435439311557642, 'r2': -0.004217732786144612}\n",
      "{'r': 0.14462747138896692, 'p': 0.07164749099659873, 'r2': -0.0011344546933438782}\n",
      "{'r': 0.06843103244950717, 'p': 0.3959787064033186, 'r2': -0.0007223361606895518}\n",
      "{'r': 0.07346398298504592, 'p': 0.36207537281172536, 'r2': -0.0036033299873907245}\n",
      "{'r': 0.1060959922968667, 'p': 0.1874350847222158, 'r2': -0.004486076837339437}\n",
      "{'r': 0.06225779241985846, 'p': 0.4400580960103969, 'r2': -0.003835064581959924}\n",
      "{'r': 0.005868053545243317, 'p': 0.9420423521376162, 'r2': -0.007759818518034178}\n",
      "{'r': 0.10249877052542128, 'p': 0.20292244283680994, 'r2': -0.001980625871633013}\n",
      "{'r': 0.12683637988861682, 'p': 0.11460598586877105, 'r2': -0.0033456266614162898}\n",
      "{'r': 0.05219858724495647, 'p': 0.5175296004140716, 'r2': -0.0027732618773029126}\n",
      "{'r': 0.014781540032572139, 'p': 0.8546830247361152, 'r2': -0.006840563427164259}\n",
      "{'r': 0.10212488257490819, 'p': 0.20458361583238155, 'r2': -0.007449939236969394}\n",
      "{'r': 0.057317805077191294, 'p': 0.4772539703380674, 'r2': -0.0030930311606843786}\n",
      "{'r': 0.028056219370225257, 'p': 0.7280863389377712, 'r2': -0.0029467127571067174}\n",
      "{'r': 0.07092760452554578, 'p': 0.37892998658385585, 'r2': -0.006320358157452332}\n",
      "{'r': 0.0663666595277461, 'p': 0.41041658309759893, 'r2': -0.00456709892639231}\n",
      "{'r': 0.12898156550888384, 'p': 0.1085524988454987, 'r2': -0.00686122366886135}\n",
      "{'r': 0.01863407820034683, 'p': 0.8174019706134475, 'r2': -0.003187237144854471}\n",
      "{'r': 0.0790972007024297, 'p': 0.3263377957722882, 'r2': -0.0035302431385604294}\n",
      "{'r': 0.033388467353381225, 'p': 0.6790327974715091, 'r2': -0.003196617317845085}\n",
      "{'r': 0.00328515338255911, 'p': 0.9675337349501628, 'r2': -0.004759519855675886}\n",
      "{'r': 0.08831008694671362, 'p': 0.2729627538069813, 'r2': -0.004315715921539942}\n",
      "{'r': 0.11383589259930968, 'p': 0.1570746981163979, 'r2': -0.0036547418511209797}\n",
      "{'r': 0.004263864262372961, 'p': 0.9578692893029239, 'r2': -0.003929544192950463}\n",
      "{'r': 0.0407556934246007, 'p': 0.6134503503006788, 'r2': -0.004023905108527748}\n",
      "{'r': 0.029298816848309883, 'p': 0.7165473826352295, 'r2': -0.010635942491426853}\n",
      "{'r': 0.15374256554446605, 'p': 0.05533851515414484, 'r2': -0.005408765564100815}\n",
      "{'r': 0.051569805519464114, 'p': 0.5225939383271353, 'r2': -0.0030479960070097347}\n",
      "{'r': 0.09796174675970504, 'p': 0.2237449944053097, 'r2': -0.00471565409743393}\n",
      "{'r': 0.034277462466753644, 'p': 0.6709773450458896, 'r2': -0.008907337840912844}\n",
      "{'r': 0.0026658807075687976, 'p': 0.9736513766493948, 'r2': -0.001275140392768681}\n",
      "{'r': 0.10045976392796814, 'p': 0.21210063536168355, 'r2': -0.0026947152248162575}\n",
      "{'r': 0.06422296526002218, 'p': 0.42573214952951094, 'r2': -0.001994358797051521}\n",
      "{'r': 0.04975190008025317, 'p': 0.5373761903023632, 'r2': -0.006959606120814454}\n",
      "{'r': 0.13144059290200644, 'p': 0.10192474412737851, 'r2': -0.004163960992676819}\n",
      "{'r': 0.05099407120144584, 'p': 0.5272530296506704, 'r2': -0.003978270570025755}\n",
      "{'r': 0.032624631935548216, 'p': 0.6859832972306222, 'r2': -0.002823815615035574}\n",
      "{'r': 0.0988482154307852, 'p': 0.21956203535208155, 'r2': -0.0027450238755883927}\n",
      "{'r': 0.06709127514603905, 'p': 0.40531382355418105, 'r2': -0.0017856012187339233}\n",
      "{'r': 0.08849490205203268, 'p': 0.2719563441766388, 'r2': -0.005570868937428308}\n",
      "{'r': 0.0033894616279680893, 'p': 0.9665034759931271, 'r2': -0.0012575111977072063}\n",
      "{'r': 0.07704326749992849, 'p': 0.3390960894023846, 'r2': -0.002687207738198172}\n",
      "{'r': 0.056705244371127825, 'p': 0.4819820869831666, 'r2': -0.008509402355057816}\n",
      "{'r': 0.05571438020042219, 'p': 0.48968327867840483, 'r2': -0.0016001218148616215}\n",
      "{'r': 0.0066772793076442126, 'p': 0.9340667293189303, 'r2': -0.01828978912849637}\n",
      "{'r': 0.11748121891777277, 'p': 0.14412477194924325, 'r2': -0.007308639022182595}\n",
      "{'r': 0.053956911039647885, 'p': 0.5035024010180045, 'r2': -0.001100889021017748}\n",
      "outlet_score\n",
      "{'r': 0.03544785150852918, 'p': 0.7358686268307746, 'r2': -0.005734901163577844}\n",
      "{'r': 0.029668554546473314, 'p': 0.7777090970844702, 'r2': -0.01349696455372873}\n",
      "{'r': 0.0011069768864301437, 'p': 0.9915976972886611, 'r2': -0.004048771510833582}\n",
      "{'r': 0.008836374124207303, 'p': 0.9330055266249627, 'r2': -0.006285720027887009}\n",
      "{'r': 0.1922185438557527, 'p': 0.06491091283644491, 'r2': -0.005845957168013194}\n",
      "{'r': 0.057093314506933376, 'p': 0.5867269847836484, 'r2': -0.003353493385582729}\n",
      "{'r': 0.0091969693524417, 'p': 0.9302783318943574, 'r2': -0.0038021143142635385}\n"
     ]
    },
    {
     "name": "stdout",
     "output_type": "stream",
     "text": [
      "{'r': 0.024076722863732025, 'p': 0.8188064037697796, 'r2': -0.0035387311470641337}\n",
      "{'r': 0.1616750453195198, 'p': 0.12156079360106066, 'r2': -0.015152986845579485}\n",
      "{'r': 0.09321379671618223, 'p': 0.37416399842905906, 'r2': -0.0050966849759788825}\n",
      "{'r': 0.02907248331550779, 'p': 0.7820630815486567, 'r2': -9.137331359521106e-05}\n",
      "{'r': 0.0673456020538557, 'p': 0.5212611990688937, 'r2': 0.002308235235607392}\n",
      "{'r': 0.05304878866970766, 'p': 0.613544230845273, 'r2': -0.009337580551436053}\n",
      "{'r': 0.1395549146699262, 'p': 0.18215274888464603, 'r2': -0.007835630117222126}\n",
      "{'r': 0.07280117025375038, 'p': 0.487999085636009, 'r2': -0.0035838504092255974}\n",
      "{'r': 0.1307519838802683, 'p': 0.2115759641024199, 'r2': -0.004771167130653708}\n",
      "{'r': 0.08954323757342246, 'p': 0.3933481638201239, 'r2': 0.0006293159528360625}\n",
      "{'r': 0.09504804515327403, 'p': 0.3647944216056503, 'r2': 0.004616728426904348}\n",
      "{'r': 0.0664131157645925, 'p': 0.5270591244516428, 'r2': -0.007430977473900735}\n",
      "{'r': 0.020988123532704774, 'p': 0.8417256323674479, 'r2': -0.012314469439802855}\n",
      "{'r': 0.017806909756281526, 'p': 0.8654706048114915, 'r2': 0.0016966968691713325}\n",
      "{'r': 0.1441919009203597, 'p': 0.16791091213255094, 'r2': -0.014353722888287046}\n",
      "{'r': 0.07086032618968008, 'p': 0.49970164263777056, 'r2': -0.005026769914970841}\n",
      "{'r': 0.08554287096953422, 'p': 0.4149095827704797, 'r2': -0.005575771673794949}\n",
      "{'r': 0.20785437541339452, 'p': 0.04558054644561812, 'r2': -0.0015559470272327846}\n",
      "{'r': 0.09581143212992785, 'p': 0.36093780667535275, 'r2': 0.0015983253846379776}\n",
      "{'r': 0.007888327318018092, 'p': 0.9401792480026554, 'r2': 0.002397810625893504}\n",
      "{'r': 0.0376021767932503, 'p': 0.7204596922665101, 'r2': -0.001673154965803958}\n",
      "{'r': 0.051540089084278984, 'p': 0.6236820369272067, 'r2': -0.0034714707414529532}\n",
      "{'r': 0.07649885532331824, 'p': 0.4661120009602139, 'r2': 0.0012675205279307766}\n",
      "{'r': 0.053471367667446805, 'p': 0.6107175528809875, 'r2': 0.0018199841191939292}\n",
      "{'r': 0.170950510253281, 'p': 0.10134353106587067, 'r2': -0.0030178247101131815}\n",
      "{'r': 0.06475600727192989, 'p': 0.5374417812086661, 'r2': -0.0010212356196882544}\n",
      "{'r': 0.04753615111422085, 'p': 0.6509247040834764, 'r2': -0.0014571097736060024}\n",
      "{'r': 0.1300093102286194, 'p': 0.21420450729022855, 'r2': -0.007176867015532262}\n",
      "{'r': 0.12677359151365702, 'p': 0.22592680445800728, 'r2': -0.00789081880832838}\n",
      "{'r': 0.04730769776828062, 'p': 0.6524934582144374, 'r2': -0.0036103424548161065}\n",
      "{'r': 0.2362776738884994, 'p': 0.022598831335936084, 'r2': -0.008758791720961945}\n",
      "{'r': 0.13236781584160415, 'p': 0.20593645622870516, 'r2': -0.0008869352039126976}\n",
      "{'r': 0.16819680166054457, 'p': 0.10704953949088718, 'r2': -0.0012719689418954517}\n",
      "{'r': 0.023036916204130422, 'p': 0.8265064106006331, 'r2': -0.005116763753278653}\n",
      "{'r': 0.06849674447113337, 'p': 0.5141485347606869, 'r2': -0.00674154672442866}\n",
      "{'r': 0.06278907404013948, 'p': 0.5498953819955391, 'r2': -0.003033302265333848}\n",
      "{'r': 0.006651415022906369, 'p': 0.9495458633820646, 'r2': -0.0012983808557112564}\n",
      "{'r': 0.06872228881837664, 'p': 0.512760783399956, 'r2': -0.009610720362212088}\n",
      "{'r': 0.02192549132343051, 'p': 0.8347549282351302, 'r2': 0.0011265487959814635}\n",
      "{'r': 0.0027446611881879624, 'p': 0.9791691074298795, 'r2': -0.008226709264854092}\n",
      "{'r': 0.011719256526989607, 'p': 0.911226436237039, 'r2': -0.016523213394735992}\n",
      "{'r': 0.11863599358525032, 'p': 0.25737559360601103, 'r2': 0.0018806235978887198}\n",
      "{'r': 0.06592135364758618, 'p': 0.5301297372560804, 'r2': -0.00010909947567523392}\n",
      "listed_count\n",
      "{'r': 0.07974644095240799, 'p': 0.3207989572588462, 'r2': -0.008897393325635817}\n",
      "{'r': 0.10085661255497518, 'p': 0.20881211531076965, 'r2': -0.0034471868515309812}\n",
      "{'r': 0.02671433161384225, 'p': 0.7398031459518336, 'r2': -0.0055823656214374125}\n",
      "{'r': 0.034572444559610255, 'p': 0.6672986784391866, 'r2': -0.0036772802687901505}\n",
      "{'r': 0.07916532204698604, 'p': 0.32434919554744, 'r2': -0.0008901374456226297}\n",
      "{'r': 0.09002965185260871, 'p': 0.26214632449245817, 'r2': -0.0005265148792938712}\n",
      "{'r': 0.034266490214611256, 'p': 0.6700699469991251, 'r2': -0.005148527958744031}\n",
      "{'r': 0.1548207663011304, 'p': 0.05285706433143965, 'r2': -0.0025229473534061466}\n",
      "{'r': 0.025795288414381768, 'p': 0.7484494378932446, 'r2': -0.005405526305879338}\n",
      "{'r': 0.06354552317225258, 'p': 0.42914245488517844, 'r2': -0.0047373792156574}\n",
      "{'r': 0.0335861155806611, 'p': 0.6762485513821157, 'r2': -0.0016026669753168576}\n",
      "{'r': 0.1363937114636354, 'p': 0.08850802730061132, 'r2': -0.006887413825742472}\n",
      "{'r': 0.009299823396710736, 'p': 0.9079713261699247, 'r2': -0.0026692489904011074}\n",
      "{'r': 0.013076971269486296, 'p': 0.8708715335303445, 'r2': -0.0056098524999768085}\n",
      "{'r': 0.13981616257281385, 'p': 0.08072740625855064, 'r2': -0.010263641892650189}\n",
      "{'r': 0.08767060414786004, 'p': 0.2749056159030273, 'r2': -0.003474074221345358}\n",
      "{'r': 0.07513520659951439, 'p': 0.3496640745317234, 'r2': -0.0017180837361312263}\n",
      "{'r': 0.1702975777945891, 'p': 0.032976237203142335, 'r2': -0.003192189860051542}\n",
      "{'r': 0.030419002390042128, 'p': 0.7052888956112782, 'r2': -0.0024690083901793168}\n",
      "{'r': 0.10513737874530055, 'p': 0.19003503514958228, 'r2': -0.0049736138562131325}\n",
      "{'r': 0.06029464855969699, 'p': 0.4531731483672981, 'r2': -0.007011527767946624}\n",
      "{'r': 0.06989935746481774, 'p': 0.3843538690866589, 'r2': -0.001239860004679505}\n",
      "{'r': 0.003956580053844666, 'p': 0.9607759839084161, 'r2': -0.0012497686868426783}\n",
      "{'r': 0.01417043074974789, 'p': 0.860180052154631, 'r2': -0.002546111852888622}\n",
      "{'r': 0.06040670619278998, 'p': 0.4523324908659023, 'r2': -0.004018498556862271}\n",
      "{'r': 0.03396643171546025, 'p': 0.6727921385891811, 'r2': -0.003074075744953886}\n",
      "{'r': 0.07667443381129598, 'p': 0.3398525827251461, 'r2': -0.003686858605541943}\n",
      "{'r': 0.063829384102515, 'p': 0.4270795497232463, 'r2': -0.0022993157499785256}\n",
      "{'r': 0.055177426725596924, 'p': 0.49248013127062246, 'r2': -0.012991739523299373}\n",
      "{'r': 0.0812058939576558, 'p': 0.3119940178564874, 'r2': -0.0021329062269077603}\n",
      "{'r': 0.12349958675043765, 'p': 0.12332045898895568, 'r2': -0.005138302934158201}\n",
      "{'r': 0.010486387685011395, 'p': 0.8962913754692099, 'r2': -0.005560731987632561}\n",
      "{'r': 0.02291903699381102, 'p': 0.7757075018453756, 'r2': -0.010122603673946929}\n",
      "{'r': 0.013897331123700701, 'p': 0.8628480307035941, 'r2': -0.0007394121458742742}\n",
      "{'r': 0.06359335334698664, 'p': 0.4287944569393999, 'r2': -0.002423615689232772}\n",
      "{'r': 0.0032917762017081274, 'p': 0.9673625850281925, 'r2': -0.0008399220758635639}\n",
      "{'r': 0.03168266057241594, 'p': 0.6936480850967012, 'r2': -0.007213129196287182}\n",
      "{'r': 0.04289851016240731, 'p': 0.5937102666098879, 'r2': -0.003087902315005353}\n",
      "{'r': 0.05279935746468573, 'p': 0.5113444707418119, 'r2': -0.003752564670183611}\n",
      "{'r': 0.0039612827789308625, 'p': 0.96072940017298, 'r2': -0.0016954038015366546}\n",
      "{'r': 0.007809673663580324, 'p': 0.9226672793292358, 'r2': -0.0031597974152315134}\n",
      "{'r': 0.04969058901736588, 'p': 0.5365569957216363, 'r2': -0.002149916872191504}\n",
      "{'r': 0.12836034532613697, 'p': 0.10912622916968473, 'r2': -0.007087971437456253}\n",
      "{'r': 0.10166240678865038, 'p': 0.20517953625952956, 'r2': -0.005168082458190071}\n",
      "{'r': 0.024856577974192592, 'p': 0.7573132058878017, 'r2': -0.0015301147207156252}\n",
      "{'r': 0.040176750773573564, 'p': 0.6173622432945478, 'r2': -0.009487302171619794}\n",
      "{'r': 0.09304639034031928, 'p': 0.24642857605803734, 'r2': -0.002060431086033332}\n",
      "{'r': 0.09518564343487952, 'p': 0.23568688225916093, 'r2': -0.01609244050086365}\n",
      "{'r': 0.14969631249589335, 'p': 0.06130921506781545, 'r2': -0.008334811095451844}\n",
      "{'r': 0.06902672778676625, 'p': 0.39033164366689715, 'r2': -0.004049308391815254}\n",
      "mentions\n",
      "{'r': 0.15330704884793236, 'p': 0.03935627957130854, 'r2': 0.009139966072812533}\n",
      "{'r': 0.07906155033737587, 'p': 0.2900772366404417, 'r2': 0.014659922775459999}\n",
      "{'r': 0.21291798151458746, 'p': 0.004005286269611783, 'r2': 0.0029713911544715587}\n",
      "{'r': 0.15967841022524834, 'p': 0.03178005241332451, 'r2': 0.00896699722671528}\n",
      "{'r': 0.27619401953132183, 'p': 0.00016752471494203773, 'r2': -0.00011902355205024584}\n",
      "{'r': 0.18686838280612364, 'p': 0.011773298040033084, 'r2': 0.016554099165117252}\n",
      "{'r': 0.08230968553820592, 'p': 0.27065217834212346, 'r2': 0.013439373340830518}\n",
      "{'r': 0.01784640147600878, 'p': 0.8115287294939697, 'r2': 0.01641001244984175}\n"
     ]
    },
    {
     "name": "stdout",
     "output_type": "stream",
     "text": [
      "{'r': 0.0887502704768385, 'p': 0.23479933327016136, 'r2': 0.011016975878660417}\n",
      "{'r': 0.10255162744553954, 'p': 0.16951711218536036, 'r2': 0.011516614541928715}\n",
      "{'r': 0.17681075460138673, 'p': 0.01726310442632074, 'r2': 0.010541901196777892}\n",
      "{'r': 0.08226296442488518, 'p': 0.2709251658870799, 'r2': 0.014148100513689666}\n",
      "{'r': 0.10784844044946476, 'p': 0.1484246241480915, 'r2': 0.015787553963797763}\n",
      "{'r': 0.17836840941327975, 'p': 0.016289067696837946, 'r2': 0.010219402763846853}\n",
      "{'r': 0.12323258055665244, 'p': 0.09838293756459054, 'r2': 0.002591830313304677}\n",
      "{'r': 0.13969872203056566, 'p': 0.06070458954574897, 'r2': 0.007331755608415658}\n",
      "{'r': 0.12413080728723075, 'p': 0.09593579195702855, 'r2': 0.015720659338862554}\n",
      "{'r': 0.08157592202557265, 'p': 0.274961105555049, 'r2': 0.010313320057773679}\n",
      "{'r': 0.050365155313014325, 'p': 0.5007393351338538, 'r2': 0.011495213256960745}\n",
      "{'r': 0.15956785612997088, 'p': 0.03190009488109912, 'r2': 0.015283502097925727}\n",
      "{'r': 0.097482901120674, 'p': 0.1917145762162131, 'r2': 0.0074953782367865205}\n",
      "{'r': 0.09142045449444532, 'p': 0.22095972586909304, 'r2': 0.012206900179724034}\n",
      "{'r': 0.1730141684677103, 'p': 0.01985196548601347, 'r2': 0.0012933042648254124}\n",
      "{'r': 0.11055774575829727, 'p': 0.1384352269223063, 'r2': 0.017458117779913795}\n",
      "{'r': 0.14646750681930806, 'p': 0.049126690674981766, 'r2': 0.010077943211305618}\n",
      "{'r': 0.03464428495485207, 'p': 0.6433635936184444, 'r2': 0.008874840400191241}\n",
      "{'r': 0.049150949407437694, 'p': 0.5111330718998374, 'r2': 0.008549356253976037}\n",
      "{'r': 0.16995626808710224, 'p': 0.022175221974650213, 'r2': 0.015372398315381286}\n",
      "{'r': 0.1568853970293048, 'p': 0.03493313549270376, 'r2': 0.005310081592834947}\n",
      "{'r': 0.18379323882283113, 'p': 0.013260725762495791, 'r2': 0.00390964427885947}\n",
      "{'r': 0.1193722266897368, 'p': 0.10946751740115462, 'r2': 0.01176350163426818}\n",
      "{'r': 0.1870735335514817, 'p': 0.011679505490696867, 'r2': 0.0039269392551533056}\n",
      "{'r': 0.11052702997607282, 'p': 0.13854552466901388, 'r2': 0.001737040678034618}\n",
      "{'r': 0.030480555718718487, 'p': 0.6837674199703676, 'r2': -0.0026238313067666885}\n",
      "{'r': 0.16054341048632778, 'p': 0.030854004346051938, 'r2': 0.010241173243120728}\n",
      "{'r': 0.14457456934823557, 'p': 0.05216248439446741, 'r2': 0.008290022093841175}\n",
      "{'r': 0.1431790983089718, 'p': 0.05449874341974393, 'r2': 0.007187900711842632}\n",
      "{'r': 0.23787315272119056, 'p': 0.0012619477335571061, 'r2': 0.006915885953991752}\n",
      "{'r': 0.17015145276770588, 'p': 0.022020218544487418, 'r2': 0.00732655342873576}\n",
      "{'r': 0.1637535862501515, 'p': 0.02761543592156722, 'r2': 0.009433495148161653}\n",
      "{'r': 0.1489634355034438, 'p': 0.045349935444054974, 'r2': 0.007457245082954378}\n",
      "{'r': 0.021377625129289472, 'p': 0.7751488024970078, 'r2': 0.0324109666148205}\n",
      "{'r': 0.12036615333852056, 'p': 0.10652408261580239, 'r2': 0.005570530258250028}\n",
      "{'r': 0.09431986641467331, 'p': 0.2065999052317477, 'r2': 0.00575827526860595}\n",
      "{'r': 0.21485429625276972, 'p': 0.0036779151054128025, 'r2': 0.013987580168914594}\n",
      "{'r': 0.09249491375839124, 'p': 0.21555772501564602, 'r2': 0.016901430526890193}\n",
      "{'r': 0.12952877491148576, 'p': 0.08223071037351667, 'r2': 0.01403570948203441}\n",
      "{'r': 0.22595439442387275, 'p': 0.002224487992405463, 'r2': 0.002863063509931818}\n",
      "{'r': 0.2572004271924029, 'p': 0.00047354007392249285, 'r2': 0.004151193208837012}\n",
      "{'r': 0.15846185642036498, 'p': 0.03312238043326754, 'r2': 0.004847386217168248}\n",
      "favorites_given_count\n",
      "{'r': 0.0031353048395039475, 'p': 0.9689131756048135, 'r2': -0.008908629608877127}\n",
      "{'r': 0.08180408667144641, 'p': 0.308431113036256, 'r2': -0.0034354588119575257}\n",
      "{'r': 0.016989155788124297, 'p': 0.8327408402455215, 'r2': -0.005620331126489031}\n",
      "{'r': 0.07413810318510547, 'p': 0.3561139571415853, 'r2': -0.0036810159697483248}\n",
      "{'r': 0.06413153517733157, 'p': 0.42489002485869426, 'r2': -0.0008962772896847326}\n",
      "{'r': 0.1255115564364726, 'p': 0.1172811129232874, 'r2': -0.0006826227578688116}\n",
      "{'r': 0.04657290056952085, 'p': 0.562448874611942, 'r2': -0.005155842983323966}\n",
      "{'r': 0.126617554101009, 'p': 0.11406058751878216, 'r2': -0.0034490515805460477}\n",
      "{'r': 0.11475432423390272, 'p': 0.15239882029646135, 'r2': -0.005480178667281388}\n",
      "{'r': 0.022724610135360406, 'p': 0.7775604066094804, 'r2': -0.004737430196714909}\n",
      "{'r': 0.08084720177256285, 'p': 0.3141432617877389, 'r2': -0.0016087063080779452}\n",
      "{'r': 0.04538042376603626, 'p': 0.5725077330219084, 'r2': -0.006784932001639233}\n",
      "{'r': 0.012355609557597347, 'p': 0.8779377072281067, 'r2': -0.0028750222083627095}\n",
      "{'r': 0.0686312094031126, 'p': 0.3930593898332186, 'r2': -0.0056088079215798285}\n",
      "{'r': 0.046250174830064654, 'p': 0.5651627953519456, 'r2': -0.010264089103282092}\n",
      "{'r': 0.022808552762801627, 'p': 0.7767602717534491, 'r2': -0.0034531277597107833}\n",
      "{'r': 0.0851706703297435, 'p': 0.288878121801183, 'r2': -0.0017350441324177179}\n",
      "{'r': 0.059922960514974255, 'p': 0.4559677995127338, 'r2': -0.0032007993824207494}\n",
      "{'r': 0.06861418484037288, 'p': 0.39317705822121446, 'r2': -0.0027848843829193725}\n",
      "{'r': 0.017573671762933857, 'p': 0.8270748304067542, 'r2': -0.00534446501454493}\n",
      "{'r': 0.12136313481606867, 'p': 0.12999379657472743, 'r2': -0.00720021093388592}\n",
      "{'r': 0.05752406986446107, 'p': 0.47423367712101494, 'r2': -0.0012831689726430008}\n",
      "{'r': 0.1774860313900815, 'p': 0.026161326101272683, 'r2': -0.0012386837725654853}\n",
      "{'r': 0.07673682074583026, 'p': 0.3394586312739776, 'r2': -0.0025472476919360166}\n",
      "{'r': 0.10689811660733618, 'p': 0.18268029507082842, 'r2': -0.00425316935918243}\n",
      "{'r': 0.06647421539119769, 'p': 0.40813560047136266, 'r2': -0.0030360625503566218}\n",
      "{'r': 0.08042895742323626, 'p': 0.31666148419595636, 'r2': -0.0037029817847397785}\n",
      "{'r': 0.02859171126241198, 'p': 0.7222427823424786, 'r2': -0.00237459512581224}\n",
      "{'r': 0.06882737165605937, 'p': 0.3917051034131323, 'r2': -0.01302222236717534}\n",
      "{'r': 0.0453129112352595, 'p': 0.5730797399227583, 'r2': -0.002125110514523643}\n",
      "{'r': 0.04865353799511285, 'p': 0.54510324394985, 'r2': -0.005136618442649699}\n",
      "{'r': 0.07126269809644323, 'p': 0.3751263300271469, 'r2': -0.005612358608524515}\n",
      "{'r': 0.01084096089496272, 'p': 0.8928053317933407, 'r2': -0.010120782130086515}\n",
      "{'r': 0.06076119769882586, 'p': 0.4496788470204216, 'r2': -0.000745765924078734}\n",
      "{'r': 0.010246485991363994, 'p': 0.898651136937598, 'r2': -0.0024358291666625397}\n",
      "{'r': 0.07192402480048309, 'p': 0.3706995037028031, 'r2': -0.0008419434106424984}\n",
      "{'r': 0.08012799180971177, 'p': 0.3184816708830172, 'r2': -0.007223376400792736}\n",
      "{'r': 0.01856228709200309, 'p': 0.8175120858829801, 'r2': -0.00303022421506407}\n",
      "{'r': 0.01070269843145266, 'p': 0.8941644413075055, 'r2': -0.0037828300373139888}\n",
      "{'r': 0.11035384321231527, 'p': 0.16885685924279054, 'r2': -0.0017059967788283447}\n",
      "{'r': 0.005873507684488125, 'p': 0.9418002575520914, 'r2': -0.0031562460762751153}\n",
      "{'r': 0.05411191392015486, 'p': 0.5008864759059573, 'r2': -0.0021472055104656993}\n",
      "{'r': 0.061926939176487034, 'p': 0.44101427820484373, 'r2': -0.007072355159294252}\n",
      "{'r': 0.07027674358057756, 'p': 0.38178593431408014, 'r2': -0.005140955038011752}\n",
      "{'r': 0.09753762780118524, 'p': 0.22426057639767624, 'r2': -0.0015250675688427862}\n",
      "{'r': 0.0151923998059765, 'p': 0.850210434887444, 'r2': -0.00951424357291577}\n",
      "{'r': 0.024332872731818257, 'p': 0.7622721436936994, 'r2': -0.0025313798280898413}\n",
      "{'r': 0.02660974607943896, 'p': 0.7407854619441657, 'r2': -0.016091125613770352}\n",
      "{'r': 0.17821056572559335, 'p': 0.025546671406224804, 'r2': -0.008320733554335113}\n",
      "{'r': 0.016192790446331696, 'p': 0.8404742269625153, 'r2': -0.004082783003245005}\n",
      "bot_score\n",
      "{'r': 0.07402867763472612, 'p': 0.3631266537216652, 'r2': -0.006033534514096317}\n",
      "{'r': 0.013728785547105694, 'p': 0.8662442161533115, 'r2': -0.008128719607172185}\n",
      "{'r': 0.11029463607176866, 'p': 0.17470947403742051, 'r2': -0.0019508708065633761}\n",
      "{'r': 0.026736505424075102, 'p': 0.7428671600234353, 'r2': -0.00245143344262857}\n",
      "{'r': 0.05337912303691318, 'p': 0.5122643090769503, 'r2': -0.000778288182270992}\n",
      "{'r': 0.08161331726465694, 'p': 0.31591084603455044, 'r2': -0.0017324604768857777}\n",
      "{'r': 0.04267338707658777, 'p': 0.600452013188604, 'r2': -0.0049252619596468206}\n",
      "{'r': 0.17686225126002605, 'p': 0.02874287368056781, 'r2': -0.0035805319257126824}\n",
      "{'r': 0.11905085229581955, 'p': 0.14272477426873412, 'r2': -0.004834474190407878}\n"
     ]
    },
    {
     "name": "stdout",
     "output_type": "stream",
     "text": [
      "{'r': 0.05060472417076807, 'p': 0.5344609310515727, 'r2': -0.005958779873182251}\n",
      "{'r': 0.04127260911055437, 'p': 0.6124753182929843, 'r2': -0.0027696271803012706}\n",
      "{'r': 0.09907380986808047, 'p': 0.223062290315593, 'r2': -0.0036015590300317426}\n",
      "{'r': 0.03522652057265019, 'p': 0.6655314629718279, 'r2': -0.0034494699237660243}\n",
      "{'r': 6.097476147002862e-05, 'p': 0.9994031577213947, 'r2': -0.004506591610483834}\n",
      "{'r': 0.050432220465581275, 'p': 0.5358567490057449, 'r2': -0.011418261050917523}\n",
      "{'r': 0.03530878461698691, 'p': 0.6647975387962638, 'r2': -0.00020514602085417444}\n",
      "{'r': 0.08125211136397785, 'p': 0.3180645941324368, 'r2': -0.003614326334735729}\n",
      "{'r': 0.06499933351572115, 'p': 0.42472627724663514, 'r2': -0.0017214936326836795}\n",
      "{'r': 0.03303024407453725, 'p': 0.6852410929097177, 'r2': -0.0020286221645905655}\n",
      "{'r': 0.07275554024191491, 'p': 0.37146032060656176, 'r2': -0.002029673422152256}\n",
      "{'r': 0.05919525616685683, 'p': 0.4673252568324671, 'r2': -0.0057005419071563205}\n",
      "{'r': 0.036667683855035056, 'p': 0.6527204857526653, 'r2': -0.00284618028335073}\n",
      "{'r': 0.1415156334055212, 'p': 0.08100418356130881, 'r2': -0.005446034699006485}\n",
      "{'r': 0.08165802751101771, 'p': 0.3156449149203474, 'r2': -0.003723643386500286}\n",
      "{'r': 0.01894240528822134, 'p': 0.8162242593047951, 'r2': -0.006943830588792954}\n",
      "{'r': 0.08075434543214438, 'p': 0.3210481723205094, 'r2': -0.00548206056823457}\n",
      "{'r': 0.15354825051596932, 'p': 0.058097085743330494, 'r2': -0.006858581409109643}\n",
      "{'r': 0.13111260427720403, 'p': 0.10621218622616402, 'r2': -0.001839890518995535}\n",
      "{'r': 0.08367792935723323, 'p': 0.3037826554481728, 'r2': -0.009306029837525643}\n",
      "{'r': 0.03445507678946936, 'p': 0.6724293100668726, 'r2': -0.008990749839782985}\n",
      "{'r': 0.06188666591488286, 'p': 0.4472863100311307, 'r2': -0.00808712133168219}\n",
      "{'r': 0.041267499623006826, 'p': 0.6125193669200872, 'r2': -0.0024025965350280565}\n",
      "{'r': 0.009672024188269313, 'p': 0.9055463209365268, 'r2': -0.009037067241711005}\n",
      "{'r': 0.1106612362746986, 'p': 0.17327210395749162, 'r2': -0.002619853924697724}\n",
      "{'r': 0.16976307784404565, 'p': 0.03591528673665363, 'r2': -0.003226017465880071}\n",
      "{'r': 0.0036449824819938526, 'p': 0.9643334021181533, 'r2': -0.0015286459585691415}\n",
      "{'r': 0.11436103602845832, 'p': 0.15925258560188288, 'r2': -0.02005637597260157}\n",
      "{'r': 0.01582871151106193, 'p': 0.8460217310901528, 'r2': -0.004621290410905287}\n",
      "{'r': 0.014773800800279444, 'p': 0.8561689309766563, 'r2': -0.01087563299731189}\n",
      "{'r': 0.0867927331669534, 'p': 0.2860724519177552, 'r2': -0.003179910881134962}\n",
      "{'r': 0.0701992157217961, 'p': 0.38854455649288167, 'r2': -0.002098196800029606}\n",
      "{'r': 0.06458150497151774, 'p': 0.42771580130236575, 'r2': -0.003335127069131971}\n",
      "{'r': 0.1407636638209282, 'p': 0.08264811389454599, 'r2': -0.003921775014883844}\n",
      "{'r': 0.06446520025393972, 'p': 0.4285501037636322, 'r2': -0.0074515763609819706}\n",
      "{'r': 0.10512060732161506, 'p': 0.1959443478209053, 'r2': -0.002989069566971869}\n",
      "{'r': 0.06662053294908662, 'p': 0.41324179212307677, 'r2': -0.013748262583404114}\n",
      "{'r': 0.002124556873302548, 'p': 0.9792064235859727, 'r2': -0.0029608971531985607}\n",
      "{'r': 0.05674884255811945, 'p': 0.485959465831991, 'r2': -0.00819161228649543}\n",
      "{'r': 0.0876106947425286, 'p': 0.2815385617599524, 'r2': -0.0053512370635175}\n",
      "{'r': 0.17044040026763554, 'p': 0.035171375738240786, 'r2': -0.005644172930174651}\n",
      "screen_name_digits\n",
      "{'r': 0.056449727709964245, 'p': 0.45037262168727626, 'r2': 0.010529587452231915}\n",
      "{'r': 0.10517914812936471, 'p': 0.15879116813083755, 'r2': 0.008437313574810146}\n",
      "{'r': 0.050275467514757775, 'p': 0.5015032539899333, 'r2': 0.007053373434400556}\n",
      "{'r': 0.05498422957844998, 'p': 0.4622368491167947, 'r2': 0.006955138691241802}\n",
      "{'r': 0.2589694475306424, 'p': 0.0004312446309866423, 'r2': 0.001097856743446024}\n",
      "{'r': 0.0944812918971572, 'p': 0.20582064230180752, 'r2': 0.009047201784737524}\n",
      "{'r': 0.00048112446662607923, 'p': 0.9948712149189575, 'r2': 0.007343688886649468}\n",
      "{'r': 0.1819600328360435, 'p': 0.014223721492674701, 'r2': 0.005082226187721872}\n",
      "{'r': 0.028893939130279822, 'p': 0.699411001105176, 'r2': 0.008978282790728431}\n",
      "{'r': 0.15033585025314816, 'p': 0.04337875898617277, 'r2': 0.008867445445014565}\n",
      "{'r': 0.1303190399345126, 'p': 0.08036344429543595, 'r2': 0.00575164411849618}\n",
      "{'r': 0.061920353781415055, 'p': 0.40762709318503276, 'r2': 0.0047708606963498875}\n",
      "{'r': 0.1504606749184595, 'p': 0.04320309206659608, 'r2': 0.00552528645295669}\n",
      "{'r': 0.1229900407897087, 'p': 0.09905212323837585, 'r2': 0.006821726278985807}\n",
      "{'r': 0.10154934519310761, 'p': 0.1737474942934334, 'r2': 0.0009490856102066347}\n",
      "{'r': 0.07983110724747916, 'p': 0.2853929782550489, 'r2': 0.004498575488549839}\n",
      "{'r': 0.07604415866596141, 'p': 0.3089367246068458, 'r2': 0.009496515210605728}\n",
      "{'r': 0.09606071739348196, 'p': 0.19830765150546684, 'r2': 0.005661701682084663}\n",
      "{'r': 0.15088047822562164, 'p': 0.042616666527780234, 'r2': 0.0021205866018557894}\n",
      "{'r': 0.0054592309111572476, 'p': 0.941855346156732, 'r2': 0.011181557777749051}\n",
      "{'r': 0.1955790607043228, 'p': 0.008326173907367564, 'r2': -0.0006526480734031059}\n",
      "{'r': 0.11766931069386065, 'p': 0.11465833081187875, 'r2': 0.008994958438589374}\n",
      "{'r': 0.06237173926638537, 'p': 0.40421061410598114, 'r2': 0.003554849001608873}\n",
      "{'r': 0.05685338546253501, 'p': 0.447135035936474, 'r2': 0.007396613779213679}\n",
      "{'r': 0.022842512738649973, 'p': 0.760194565145687, 'r2': 0.007869973162105115}\n",
      "{'r': 0.1926534720516909, 'p': 0.00936818382506372, 'r2': 0.0016983983238060274}\n",
      "{'r': 0.05179097253943717, 'p': 0.4886774986877534, 'r2': 0.0057393569303845204}\n",
      "{'r': 0.1076572115005965, 'p': 0.14914980447072185, 'r2': 0.009267431954966755}\n",
      "{'r': 0.08079863611137596, 'p': 0.27957600924574794, 'r2': 0.007864877083154309}\n",
      "{'r': 0.12513379525276724, 'p': 0.09326059226852433, 'r2': 0.007218103918217644}\n",
      "{'r': 0.1054233511657702, 'p': 0.1578207714725548, 'r2': 0.007527491821711174}\n",
      "{'r': 0.14551162763282086, 'p': 0.05064077925516628, 'r2': 0.00521403768278994}\n",
      "{'r': 0.06772728219972414, 'p': 0.3649859534478993, 'r2': 0.001944927794694107}\n",
      "{'r': 0.021846077735718998, 'p': 0.7703573311212956, 'r2': -0.00021053568283324609}\n",
      "{'r': 0.17469755910457985, 'p': 0.018665282872877977, 'r2': 0.002964029138471669}\n",
      "{'r': 0.1290218312355495, 'p': 0.08344679200999112, 'r2': 0.008567324898166495}\n",
      "{'r': 0.04972675517013443, 'p': 0.5061902217397897, 'r2': 0.006873846074890477}\n",
      "{'r': 0.08247002175507745, 'p': 0.26971676931638394, 'r2': 0.0040681988021477045}\n",
      "{'r': 0.16076503609691903, 'p': 0.030620468361409876, 'r2': 0.0031379192744385833}\n",
      "{'r': 0.014569125536300907, 'p': 0.8456592028979995, 'r2': 0.009608302587205575}\n",
      "{'r': 0.02551773106905624, 'p': 0.7331163553195328, 'r2': 0.007496922857000143}\n",
      "{'r': 0.08199113934223783, 'p': 0.27251712736577527, 'r2': 0.007306324100466522}\n",
      "{'r': 0.12693235616775625, 'p': 0.0886123563609325, 'r2': -0.0005668112762242439}\n",
      "{'r': 0.22624893933566462, 'p': 0.0021942861182066595, 'r2': 0.004562947069768031}\n",
      "{'r': 0.060735004717173705, 'p': 0.4166797220803574, 'r2': 0.008244652517247441}\n",
      "{'r': 0.026265491152624956, 'p': 0.7256045183268471, 'r2': 0.00898676734858237}\n",
      "{'r': 0.062355626972754555, 'p': 0.4043322728122046, 'r2': 0.005484896022219998}\n",
      "{'r': 0.005297556442181704, 'p': 0.9435744002856382, 'r2': 0.008167194414639312}\n",
      "{'r': 0.153141705857307, 'p': 0.039571566343638974, 'r2': 0.005436203737910317}\n",
      "{'r': 0.12608249063373508, 'p': 0.09078515532381441, 'r2': 0.00393900622198653}\n",
      "days_on_twitter\n",
      "{'r': 0.08951372292222412, 'p': 0.24014837449367438, 'r2': -0.0007841782384667484}\n",
      "{'r': 0.014242958424028757, 'p': 0.8520269527091977, 'r2': -0.0009388217236164564}\n",
      "{'r': 0.11281593505085306, 'p': 0.13829929950215428, 'r2': -0.006340433425825997}\n",
      "{'r': 0.022531938745433074, 'p': 0.7679084073888359, 'r2': -0.016187934242865597}\n",
      "{'r': 0.11861133229733051, 'p': 0.1190385967378053, 'r2': -0.004723707753530748}\n",
      "{'r': 0.002885956333366047, 'p': 0.9698518736815871, 'r2': -0.0034544292317859383}\n",
      "{'r': 0.0758017481686277, 'p': 0.32016550590575155, 'r2': -0.008595317320138473}\n",
      "{'r': 0.0522252286449567, 'p': 0.4937226686027083, 'r2': -0.0036538793386049705}\n",
      "{'r': 0.05804858251583999, 'p': 0.44675492733119454, 'r2': -0.0026857569456010923}\n",
      "{'r': 0.049360363877153667, 'p': 0.5177553598223515, 'r2': -0.0059447611534746425}\n"
     ]
    },
    {
     "name": "stdout",
     "output_type": "stream",
     "text": [
      "{'r': 0.04831447519733922, 'p': 0.5266761951472037, 'r2': -0.0007677202349056778}\n",
      "{'r': 0.017840341272458985, 'p': 0.8152546459556304, 'r2': -0.002300080811978167}\n",
      "{'r': 0.02555004339658331, 'p': 0.7378863737556115, 'r2': -0.002943071508803885}\n",
      "{'r': 0.0015591687281601417, 'p': 0.9837094311604271, 'r2': -0.003829564839752364}\n",
      "{'r': 0.0016757114826290269, 'p': 0.9824919515150922, 'r2': -0.010473344270073315}\n",
      "{'r': 0.05083585530963548, 'p': 0.5053033545595074, 'r2': -0.003157866408556176}\n",
      "{'r': 0.0967923311029297, 'p': 0.2038847611378608, 'r2': -0.001692408675555579}\n",
      "{'r': 0.12095170037805728, 'p': 0.1118787602933164, 'r2': -0.0008545916687339172}\n",
      "{'r': 0.01700917430275215, 'p': 0.8237181339235, 'r2': -0.00796185764587074}\n",
      "{'r': 0.019998973754991736, 'p': 0.793375918926158, 'r2': -0.006563159066516833}\n",
      "{'r': 0.011485245997034724, 'p': 0.8804381725746249, 'r2': -0.0029928005905572874}\n",
      "{'r': 0.13727784584956296, 'p': 0.07086700833756662, 'r2': -0.005095785622006232}\n",
      "{'r': 0.18961430723457542, 'p': 0.01221288618105348, 'r2': -0.003707170043663366}\n",
      "{'r': 0.10612036952209757, 'p': 0.1634164396214229, 'r2': -0.0013538074869882343}\n",
      "{'r': 0.1266405596137274, 'p': 0.09587799119011407, 'r2': -0.002158810306037351}\n",
      "{'r': 0.22440472291966782, 'p': 0.0029124885950549658, 'r2': -0.0033966458923563535}\n",
      "{'r': 0.1341996324219871, 'p': 0.07748813744399119, 'r2': -0.0048791049314341976}\n",
      "{'r': 0.09223321075054976, 'p': 0.22610537761148716, 'r2': -0.009282999353745902}\n",
      "{'r': 0.00026050184927767965, 'p': 0.9972780319567861, 'r2': -0.001921598371702249}\n",
      "{'r': 0.14075790438315616, 'p': 0.06394320508622033, 'r2': 0.00016687554135923487}\n",
      "{'r': 0.03000370418429856, 'p': 0.694310702900115, 'r2': -0.0034838760971758866}\n",
      "{'r': 0.15340950633936729, 'p': 0.04327936045136678, 'r2': -0.0011965421542647014}\n",
      "{'r': 0.0872908681683186, 'p': 0.2520708434742736, 'r2': -0.007044942275438304}\n",
      "{'r': 0.02300116124293393, 'p': 0.7632168973433597, 'r2': -0.013204721726116975}\n",
      "{'r': 0.06323566011643994, 'p': 0.4071307556749306, 'r2': -0.003207640307806825}\n",
      "{'r': 0.03585792052077038, 'p': 0.638540563883528, 'r2': -0.0007083316207719736}\n",
      "{'r': 0.028225611052469044, 'p': 0.7115974953536763, 'r2': -0.009834280249539029}\n",
      "{'r': 0.06236566827741703, 'p': 0.41362770579058683, 'r2': -0.007541839079531387}\n",
      "{'r': 0.03671476011545476, 'p': 0.6305360894914083, 'r2': -0.002281879950476284}\n",
      "{'r': 0.008841921911705073, 'p': 0.907815362866367, 'r2': -0.0031030774466086707}\n",
      "{'r': 0.03860885140709561, 'p': 0.6129945517982891, 'r2': -0.005530901051914894}\n",
      "{'r': 0.08586202238699084, 'p': 0.25994713894327653, 'r2': -0.0034005359169018146}\n",
      "{'r': 0.007225549114186235, 'p': 0.9246120650711026, 'r2': -0.014701609648924707}\n",
      "{'r': 0.022330761256181865, 'p': 0.7699224714176094, 'r2': -0.0022602341485740583}\n",
      "{'r': 0.06729586984076785, 'p': 0.3776168066262855, 'r2': -0.0014325995643563517}\n",
      "{'r': 0.02245387376448773, 'p': 0.7686897618731563, 'r2': -0.000751595662151483}\n",
      "{'r': 0.02725115675083008, 'p': 0.7211346309814557, 'r2': -0.004623501952454978}\n",
      "{'r': 0.07519704249211376, 'p': 0.3240523176710745, 'r2': -0.007622528912266757}\n",
      "{'r': 0.04858515317283844, 'p': 0.5243600264179596, 'r2': -0.008101907261453257}\n",
      "{'r': 0.10894017564020343, 'p': 0.15245191915668801, 'r2': -0.005370988072968363}\n"
     ]
    },
    {
     "data": {
      "application/vnd.plotly.v1+json": {
       "config": {
        "plotlyServerURL": "https://plot.ly"
       },
       "data": [
        {
         "marker": {
          "color": [
           "lightslategray",
           "lightslategray",
           "lightslategray",
           "lightslategray",
           "lightslategray",
           "lightslategray",
           "lightslategray",
           "lightslategray",
           "lightslategray",
           "lightslategray",
           "lightslategray",
           "lightslategray",
           "lightslategray",
           "lightslategray",
           "lightslategray",
           "lightslategray",
           "lightslategray",
           "lightslategray",
           "lightslategray",
           "lightslategray",
           "lightslategray",
           "lightslategray",
           "lightslategray",
           "lightslategray",
           "lightslategray",
           "lightslategray",
           "lightslategray",
           "lightslategray",
           "lightslategray",
           "lightslategray",
           "cornflowerblue",
           "lightslategray",
           "lightslategray",
           "lightslategray",
           "lightslategray",
           "lightslategray",
           "lightslategray",
           "lightslategray",
           "lightslategray",
           "lightslategray",
           "lightslategray",
           "lightslategray",
           "cornflowerblue",
           "cornflowerblue",
           "cornflowerblue",
           "cornflowerblue",
           "cornflowerblue",
           "cornflowerblue",
           "cornflowerblue"
          ]
         },
         "orientation": "h",
         "text": [
          "0.03",
          "0.04",
          "0.04",
          "0.04",
          "0.04",
          "0.04",
          "0.04",
          "0.04",
          "0.05",
          "0.05",
          "0.05",
          "0.05",
          "0.05",
          "0.05",
          "0.05",
          "0.05",
          "0.06",
          "0.06",
          "0.06",
          "0.06",
          "0.06",
          "0.06",
          "0.06",
          "0.06",
          "0.06",
          "0.06",
          "0.07",
          "0.07",
          "0.07",
          "0.07",
          "0.07",
          "0.07",
          "0.07",
          "0.08",
          "0.08",
          "0.08",
          "0.08",
          "0.08",
          "0.08",
          "0.09",
          "0.10",
          "0.12",
          "0.12",
          "0.14",
          "0.14",
          "0.16",
          "0.18",
          "0.25",
          "0.25"
         ],
         "textfont": {
          "size": 10
         },
         "textposition": "outside",
         "type": "bar",
         "x": [
          0.033303675465546315,
          0.03628481375427112,
          0.038956841917946475,
          0.03920580989901416,
          0.039974894625177095,
          0.04016984352135736,
          0.041213513404904076,
          0.04431429734759164,
          0.04643320089795694,
          0.04824561801071191,
          0.049984363545364265,
          0.05009810959339457,
          0.0502431379422429,
          0.05047412059284156,
          0.05271382723925201,
          0.05496722609543664,
          0.055257429027207906,
          0.05757453087339398,
          0.05825260025561612,
          0.060350677376243486,
          0.06134406843765645,
          0.06204299102917768,
          0.06279461099435701,
          0.06361136322500674,
          0.06417410490005998,
          0.06479041924361945,
          0.06529481239388414,
          0.06616723470608935,
          0.0703732236856289,
          0.07103919283444539,
          0.07241035167752213,
          0.07338638006261022,
          0.07392037720280914,
          0.07693731035559433,
          0.07773192633819209,
          0.07854215012106824,
          0.0820949753161604,
          0.0839258585986323,
          0.08418753459691845,
          0.08847565682611733,
          0.10159796522915901,
          0.11749839821400754,
          0.11818724250819278,
          0.14014720518544566,
          0.14143891016976873,
          0.16469447332200401,
          0.17692587346141053,
          0.24679127226327316,
          0.25168364376514896
         ],
         "y": [
          "hashtags_count",
          "creation_time_of_day",
          "mentions_count_unique",
          "domains_count",
          "has_profile_image",
          "domains_count_unique",
          "mentions_count",
          "followee_followers_avg",
          "url_exist",
          "followee_verified_score",
          "followee_likes_avg",
          "days_on_twitter",
          "hashtags_avg_length",
          "has_location",
          "favorites_avg",
          "statuses_count",
          "followee_tweets_avg",
          "is_protected",
          "bio_char",
          "listed_count",
          "favorites_given_count",
          "moral",
          "follower_media_avg",
          "followers_count",
          "followee_followees_avg",
          "bot_score",
          "relig",
          "outlet_score",
          "follower_likes_avg",
          "follower_verified_score",
          "bio",
          "follower_tweets_avg",
          "neg_emotion",
          "pos_emotion",
          "insight",
          "followees_count",
          "follower_followers_avg",
          "follower_followees_avg",
          "screen_name_char",
          "screen_name_digits",
          "inhibit",
          "political",
          "follower_bios",
          "hashtags",
          "mentions",
          "domains",
          "text",
          "followees",
          "followee_bios"
         ]
        }
       ],
       "layout": {
        "font": {
         "color": "black",
         "family": "Courier New, monospace",
         "size": 10
        },
        "height": 800,
        "template": {
         "data": {
          "bar": [
           {
            "error_x": {
             "color": "#2a3f5f"
            },
            "error_y": {
             "color": "#2a3f5f"
            },
            "marker": {
             "line": {
              "color": "#E5ECF6",
              "width": 0.5
             },
             "pattern": {
              "fillmode": "overlay",
              "size": 10,
              "solidity": 0.2
             }
            },
            "type": "bar"
           }
          ],
          "barpolar": [
           {
            "marker": {
             "line": {
              "color": "#E5ECF6",
              "width": 0.5
             },
             "pattern": {
              "fillmode": "overlay",
              "size": 10,
              "solidity": 0.2
             }
            },
            "type": "barpolar"
           }
          ],
          "carpet": [
           {
            "aaxis": {
             "endlinecolor": "#2a3f5f",
             "gridcolor": "white",
             "linecolor": "white",
             "minorgridcolor": "white",
             "startlinecolor": "#2a3f5f"
            },
            "baxis": {
             "endlinecolor": "#2a3f5f",
             "gridcolor": "white",
             "linecolor": "white",
             "minorgridcolor": "white",
             "startlinecolor": "#2a3f5f"
            },
            "type": "carpet"
           }
          ],
          "choropleth": [
           {
            "colorbar": {
             "outlinewidth": 0,
             "ticks": ""
            },
            "type": "choropleth"
           }
          ],
          "contour": [
           {
            "colorbar": {
             "outlinewidth": 0,
             "ticks": ""
            },
            "colorscale": [
             [
              0,
              "#0d0887"
             ],
             [
              0.1111111111111111,
              "#46039f"
             ],
             [
              0.2222222222222222,
              "#7201a8"
             ],
             [
              0.3333333333333333,
              "#9c179e"
             ],
             [
              0.4444444444444444,
              "#bd3786"
             ],
             [
              0.5555555555555556,
              "#d8576b"
             ],
             [
              0.6666666666666666,
              "#ed7953"
             ],
             [
              0.7777777777777778,
              "#fb9f3a"
             ],
             [
              0.8888888888888888,
              "#fdca26"
             ],
             [
              1,
              "#f0f921"
             ]
            ],
            "type": "contour"
           }
          ],
          "contourcarpet": [
           {
            "colorbar": {
             "outlinewidth": 0,
             "ticks": ""
            },
            "type": "contourcarpet"
           }
          ],
          "heatmap": [
           {
            "colorbar": {
             "outlinewidth": 0,
             "ticks": ""
            },
            "colorscale": [
             [
              0,
              "#0d0887"
             ],
             [
              0.1111111111111111,
              "#46039f"
             ],
             [
              0.2222222222222222,
              "#7201a8"
             ],
             [
              0.3333333333333333,
              "#9c179e"
             ],
             [
              0.4444444444444444,
              "#bd3786"
             ],
             [
              0.5555555555555556,
              "#d8576b"
             ],
             [
              0.6666666666666666,
              "#ed7953"
             ],
             [
              0.7777777777777778,
              "#fb9f3a"
             ],
             [
              0.8888888888888888,
              "#fdca26"
             ],
             [
              1,
              "#f0f921"
             ]
            ],
            "type": "heatmap"
           }
          ],
          "heatmapgl": [
           {
            "colorbar": {
             "outlinewidth": 0,
             "ticks": ""
            },
            "colorscale": [
             [
              0,
              "#0d0887"
             ],
             [
              0.1111111111111111,
              "#46039f"
             ],
             [
              0.2222222222222222,
              "#7201a8"
             ],
             [
              0.3333333333333333,
              "#9c179e"
             ],
             [
              0.4444444444444444,
              "#bd3786"
             ],
             [
              0.5555555555555556,
              "#d8576b"
             ],
             [
              0.6666666666666666,
              "#ed7953"
             ],
             [
              0.7777777777777778,
              "#fb9f3a"
             ],
             [
              0.8888888888888888,
              "#fdca26"
             ],
             [
              1,
              "#f0f921"
             ]
            ],
            "type": "heatmapgl"
           }
          ],
          "histogram": [
           {
            "marker": {
             "pattern": {
              "fillmode": "overlay",
              "size": 10,
              "solidity": 0.2
             }
            },
            "type": "histogram"
           }
          ],
          "histogram2d": [
           {
            "colorbar": {
             "outlinewidth": 0,
             "ticks": ""
            },
            "colorscale": [
             [
              0,
              "#0d0887"
             ],
             [
              0.1111111111111111,
              "#46039f"
             ],
             [
              0.2222222222222222,
              "#7201a8"
             ],
             [
              0.3333333333333333,
              "#9c179e"
             ],
             [
              0.4444444444444444,
              "#bd3786"
             ],
             [
              0.5555555555555556,
              "#d8576b"
             ],
             [
              0.6666666666666666,
              "#ed7953"
             ],
             [
              0.7777777777777778,
              "#fb9f3a"
             ],
             [
              0.8888888888888888,
              "#fdca26"
             ],
             [
              1,
              "#f0f921"
             ]
            ],
            "type": "histogram2d"
           }
          ],
          "histogram2dcontour": [
           {
            "colorbar": {
             "outlinewidth": 0,
             "ticks": ""
            },
            "colorscale": [
             [
              0,
              "#0d0887"
             ],
             [
              0.1111111111111111,
              "#46039f"
             ],
             [
              0.2222222222222222,
              "#7201a8"
             ],
             [
              0.3333333333333333,
              "#9c179e"
             ],
             [
              0.4444444444444444,
              "#bd3786"
             ],
             [
              0.5555555555555556,
              "#d8576b"
             ],
             [
              0.6666666666666666,
              "#ed7953"
             ],
             [
              0.7777777777777778,
              "#fb9f3a"
             ],
             [
              0.8888888888888888,
              "#fdca26"
             ],
             [
              1,
              "#f0f921"
             ]
            ],
            "type": "histogram2dcontour"
           }
          ],
          "mesh3d": [
           {
            "colorbar": {
             "outlinewidth": 0,
             "ticks": ""
            },
            "type": "mesh3d"
           }
          ],
          "parcoords": [
           {
            "line": {
             "colorbar": {
              "outlinewidth": 0,
              "ticks": ""
             }
            },
            "type": "parcoords"
           }
          ],
          "pie": [
           {
            "automargin": true,
            "type": "pie"
           }
          ],
          "scatter": [
           {
            "marker": {
             "colorbar": {
              "outlinewidth": 0,
              "ticks": ""
             }
            },
            "type": "scatter"
           }
          ],
          "scatter3d": [
           {
            "line": {
             "colorbar": {
              "outlinewidth": 0,
              "ticks": ""
             }
            },
            "marker": {
             "colorbar": {
              "outlinewidth": 0,
              "ticks": ""
             }
            },
            "type": "scatter3d"
           }
          ],
          "scattercarpet": [
           {
            "marker": {
             "colorbar": {
              "outlinewidth": 0,
              "ticks": ""
             }
            },
            "type": "scattercarpet"
           }
          ],
          "scattergeo": [
           {
            "marker": {
             "colorbar": {
              "outlinewidth": 0,
              "ticks": ""
             }
            },
            "type": "scattergeo"
           }
          ],
          "scattergl": [
           {
            "marker": {
             "colorbar": {
              "outlinewidth": 0,
              "ticks": ""
             }
            },
            "type": "scattergl"
           }
          ],
          "scattermapbox": [
           {
            "marker": {
             "colorbar": {
              "outlinewidth": 0,
              "ticks": ""
             }
            },
            "type": "scattermapbox"
           }
          ],
          "scatterpolar": [
           {
            "marker": {
             "colorbar": {
              "outlinewidth": 0,
              "ticks": ""
             }
            },
            "type": "scatterpolar"
           }
          ],
          "scatterpolargl": [
           {
            "marker": {
             "colorbar": {
              "outlinewidth": 0,
              "ticks": ""
             }
            },
            "type": "scatterpolargl"
           }
          ],
          "scatterternary": [
           {
            "marker": {
             "colorbar": {
              "outlinewidth": 0,
              "ticks": ""
             }
            },
            "type": "scatterternary"
           }
          ],
          "surface": [
           {
            "colorbar": {
             "outlinewidth": 0,
             "ticks": ""
            },
            "colorscale": [
             [
              0,
              "#0d0887"
             ],
             [
              0.1111111111111111,
              "#46039f"
             ],
             [
              0.2222222222222222,
              "#7201a8"
             ],
             [
              0.3333333333333333,
              "#9c179e"
             ],
             [
              0.4444444444444444,
              "#bd3786"
             ],
             [
              0.5555555555555556,
              "#d8576b"
             ],
             [
              0.6666666666666666,
              "#ed7953"
             ],
             [
              0.7777777777777778,
              "#fb9f3a"
             ],
             [
              0.8888888888888888,
              "#fdca26"
             ],
             [
              1,
              "#f0f921"
             ]
            ],
            "type": "surface"
           }
          ],
          "table": [
           {
            "cells": {
             "fill": {
              "color": "#EBF0F8"
             },
             "line": {
              "color": "white"
             }
            },
            "header": {
             "fill": {
              "color": "#C8D4E3"
             },
             "line": {
              "color": "white"
             }
            },
            "type": "table"
           }
          ]
         },
         "layout": {
          "annotationdefaults": {
           "arrowcolor": "#2a3f5f",
           "arrowhead": 0,
           "arrowwidth": 1
          },
          "autotypenumbers": "strict",
          "coloraxis": {
           "colorbar": {
            "outlinewidth": 0,
            "ticks": ""
           }
          },
          "colorscale": {
           "diverging": [
            [
             0,
             "#8e0152"
            ],
            [
             0.1,
             "#c51b7d"
            ],
            [
             0.2,
             "#de77ae"
            ],
            [
             0.3,
             "#f1b6da"
            ],
            [
             0.4,
             "#fde0ef"
            ],
            [
             0.5,
             "#f7f7f7"
            ],
            [
             0.6,
             "#e6f5d0"
            ],
            [
             0.7,
             "#b8e186"
            ],
            [
             0.8,
             "#7fbc41"
            ],
            [
             0.9,
             "#4d9221"
            ],
            [
             1,
             "#276419"
            ]
           ],
           "sequential": [
            [
             0,
             "#0d0887"
            ],
            [
             0.1111111111111111,
             "#46039f"
            ],
            [
             0.2222222222222222,
             "#7201a8"
            ],
            [
             0.3333333333333333,
             "#9c179e"
            ],
            [
             0.4444444444444444,
             "#bd3786"
            ],
            [
             0.5555555555555556,
             "#d8576b"
            ],
            [
             0.6666666666666666,
             "#ed7953"
            ],
            [
             0.7777777777777778,
             "#fb9f3a"
            ],
            [
             0.8888888888888888,
             "#fdca26"
            ],
            [
             1,
             "#f0f921"
            ]
           ],
           "sequentialminus": [
            [
             0,
             "#0d0887"
            ],
            [
             0.1111111111111111,
             "#46039f"
            ],
            [
             0.2222222222222222,
             "#7201a8"
            ],
            [
             0.3333333333333333,
             "#9c179e"
            ],
            [
             0.4444444444444444,
             "#bd3786"
            ],
            [
             0.5555555555555556,
             "#d8576b"
            ],
            [
             0.6666666666666666,
             "#ed7953"
            ],
            [
             0.7777777777777778,
             "#fb9f3a"
            ],
            [
             0.8888888888888888,
             "#fdca26"
            ],
            [
             1,
             "#f0f921"
            ]
           ]
          },
          "colorway": [
           "#636efa",
           "#EF553B",
           "#00cc96",
           "#ab63fa",
           "#FFA15A",
           "#19d3f3",
           "#FF6692",
           "#B6E880",
           "#FF97FF",
           "#FECB52"
          ],
          "font": {
           "color": "#2a3f5f"
          },
          "geo": {
           "bgcolor": "white",
           "lakecolor": "white",
           "landcolor": "#E5ECF6",
           "showlakes": true,
           "showland": true,
           "subunitcolor": "white"
          },
          "hoverlabel": {
           "align": "left"
          },
          "hovermode": "closest",
          "mapbox": {
           "style": "light"
          },
          "paper_bgcolor": "white",
          "plot_bgcolor": "#E5ECF6",
          "polar": {
           "angularaxis": {
            "gridcolor": "white",
            "linecolor": "white",
            "ticks": ""
           },
           "bgcolor": "#E5ECF6",
           "radialaxis": {
            "gridcolor": "white",
            "linecolor": "white",
            "ticks": ""
           }
          },
          "scene": {
           "xaxis": {
            "backgroundcolor": "#E5ECF6",
            "gridcolor": "white",
            "gridwidth": 2,
            "linecolor": "white",
            "showbackground": true,
            "ticks": "",
            "zerolinecolor": "white"
           },
           "yaxis": {
            "backgroundcolor": "#E5ECF6",
            "gridcolor": "white",
            "gridwidth": 2,
            "linecolor": "white",
            "showbackground": true,
            "ticks": "",
            "zerolinecolor": "white"
           },
           "zaxis": {
            "backgroundcolor": "#E5ECF6",
            "gridcolor": "white",
            "gridwidth": 2,
            "linecolor": "white",
            "showbackground": true,
            "ticks": "",
            "zerolinecolor": "white"
           }
          },
          "shapedefaults": {
           "line": {
            "color": "#2a3f5f"
           }
          },
          "ternary": {
           "aaxis": {
            "gridcolor": "white",
            "linecolor": "white",
            "ticks": ""
           },
           "baxis": {
            "gridcolor": "white",
            "linecolor": "white",
            "ticks": ""
           },
           "bgcolor": "#E5ECF6",
           "caxis": {
            "gridcolor": "white",
            "linecolor": "white",
            "ticks": ""
           }
          },
          "title": {
           "x": 0.05
          },
          "xaxis": {
           "automargin": true,
           "gridcolor": "white",
           "linecolor": "white",
           "ticks": "",
           "title": {
            "standoff": 15
           },
           "zerolinecolor": "white",
           "zerolinewidth": 2
          },
          "yaxis": {
           "automargin": true,
           "gridcolor": "white",
           "linecolor": "white",
           "ticks": "",
           "title": {
            "standoff": 15
           },
           "zerolinecolor": "white",
           "zerolinewidth": 2
          }
         }
        },
        "title": {
         "font": {
          "size": 22
         },
         "text": "Individual Features (Target: CRT_ACC; Data: Full; Model: ridge)",
         "x": 0.5,
         "xanchor": "center",
         "y": 0.92,
         "yanchor": "top"
        },
        "width": 1000,
        "xaxis": {
         "title": {
          "font": {
           "size": 15
          },
          "text": "R Median"
         }
        },
        "yaxis": {
         "tickmode": "linear",
         "title": {
          "font": {
           "size": 15
          },
          "text": "Feature Name"
         }
        }
       }
      },
      "text/html": [
       "<div>                            <div id=\"36f87aed-690e-4cb3-80c3-9019b5779c20\" class=\"plotly-graph-div\" style=\"height:800px; width:1000px;\"></div>            <script type=\"text/javascript\">                require([\"plotly\"], function(Plotly) {                    window.PLOTLYENV=window.PLOTLYENV || {};                                    if (document.getElementById(\"36f87aed-690e-4cb3-80c3-9019b5779c20\")) {                    Plotly.newPlot(                        \"36f87aed-690e-4cb3-80c3-9019b5779c20\",                        [{\"marker\":{\"color\":[\"lightslategray\",\"lightslategray\",\"lightslategray\",\"lightslategray\",\"lightslategray\",\"lightslategray\",\"lightslategray\",\"lightslategray\",\"lightslategray\",\"lightslategray\",\"lightslategray\",\"lightslategray\",\"lightslategray\",\"lightslategray\",\"lightslategray\",\"lightslategray\",\"lightslategray\",\"lightslategray\",\"lightslategray\",\"lightslategray\",\"lightslategray\",\"lightslategray\",\"lightslategray\",\"lightslategray\",\"lightslategray\",\"lightslategray\",\"lightslategray\",\"lightslategray\",\"lightslategray\",\"lightslategray\",\"cornflowerblue\",\"lightslategray\",\"lightslategray\",\"lightslategray\",\"lightslategray\",\"lightslategray\",\"lightslategray\",\"lightslategray\",\"lightslategray\",\"lightslategray\",\"lightslategray\",\"lightslategray\",\"cornflowerblue\",\"cornflowerblue\",\"cornflowerblue\",\"cornflowerblue\",\"cornflowerblue\",\"cornflowerblue\",\"cornflowerblue\"]},\"orientation\":\"h\",\"text\":[\"0.03\",\"0.04\",\"0.04\",\"0.04\",\"0.04\",\"0.04\",\"0.04\",\"0.04\",\"0.05\",\"0.05\",\"0.05\",\"0.05\",\"0.05\",\"0.05\",\"0.05\",\"0.05\",\"0.06\",\"0.06\",\"0.06\",\"0.06\",\"0.06\",\"0.06\",\"0.06\",\"0.06\",\"0.06\",\"0.06\",\"0.07\",\"0.07\",\"0.07\",\"0.07\",\"0.07\",\"0.07\",\"0.07\",\"0.08\",\"0.08\",\"0.08\",\"0.08\",\"0.08\",\"0.08\",\"0.09\",\"0.10\",\"0.12\",\"0.12\",\"0.14\",\"0.14\",\"0.16\",\"0.18\",\"0.25\",\"0.25\"],\"textfont\":{\"size\":10},\"textposition\":\"outside\",\"type\":\"bar\",\"x\":[0.033303675465546315,0.03628481375427112,0.038956841917946475,0.03920580989901416,0.039974894625177095,0.04016984352135736,0.041213513404904076,0.04431429734759164,0.04643320089795694,0.04824561801071191,0.049984363545364265,0.05009810959339457,0.0502431379422429,0.05047412059284156,0.05271382723925201,0.05496722609543664,0.055257429027207906,0.05757453087339398,0.05825260025561612,0.060350677376243486,0.06134406843765645,0.06204299102917768,0.06279461099435701,0.06361136322500674,0.06417410490005998,0.06479041924361945,0.06529481239388414,0.06616723470608935,0.0703732236856289,0.07103919283444539,0.07241035167752213,0.07338638006261022,0.07392037720280914,0.07693731035559433,0.07773192633819209,0.07854215012106824,0.0820949753161604,0.0839258585986323,0.08418753459691845,0.08847565682611733,0.10159796522915901,0.11749839821400754,0.11818724250819278,0.14014720518544566,0.14143891016976873,0.16469447332200401,0.17692587346141053,0.24679127226327316,0.25168364376514896],\"y\":[\"hashtags_count\",\"creation_time_of_day\",\"mentions_count_unique\",\"domains_count\",\"has_profile_image\",\"domains_count_unique\",\"mentions_count\",\"followee_followers_avg\",\"url_exist\",\"followee_verified_score\",\"followee_likes_avg\",\"days_on_twitter\",\"hashtags_avg_length\",\"has_location\",\"favorites_avg\",\"statuses_count\",\"followee_tweets_avg\",\"is_protected\",\"bio_char\",\"listed_count\",\"favorites_given_count\",\"moral\",\"follower_media_avg\",\"followers_count\",\"followee_followees_avg\",\"bot_score\",\"relig\",\"outlet_score\",\"follower_likes_avg\",\"follower_verified_score\",\"bio\",\"follower_tweets_avg\",\"neg_emotion\",\"pos_emotion\",\"insight\",\"followees_count\",\"follower_followers_avg\",\"follower_followees_avg\",\"screen_name_char\",\"screen_name_digits\",\"inhibit\",\"political\",\"follower_bios\",\"hashtags\",\"mentions\",\"domains\",\"text\",\"followees\",\"followee_bios\"]}],                        {\"font\":{\"color\":\"black\",\"family\":\"Courier New, monospace\",\"size\":10},\"height\":800,\"template\":{\"data\":{\"bar\":[{\"error_x\":{\"color\":\"#2a3f5f\"},\"error_y\":{\"color\":\"#2a3f5f\"},\"marker\":{\"line\":{\"color\":\"#E5ECF6\",\"width\":0.5},\"pattern\":{\"fillmode\":\"overlay\",\"size\":10,\"solidity\":0.2}},\"type\":\"bar\"}],\"barpolar\":[{\"marker\":{\"line\":{\"color\":\"#E5ECF6\",\"width\":0.5},\"pattern\":{\"fillmode\":\"overlay\",\"size\":10,\"solidity\":0.2}},\"type\":\"barpolar\"}],\"carpet\":[{\"aaxis\":{\"endlinecolor\":\"#2a3f5f\",\"gridcolor\":\"white\",\"linecolor\":\"white\",\"minorgridcolor\":\"white\",\"startlinecolor\":\"#2a3f5f\"},\"baxis\":{\"endlinecolor\":\"#2a3f5f\",\"gridcolor\":\"white\",\"linecolor\":\"white\",\"minorgridcolor\":\"white\",\"startlinecolor\":\"#2a3f5f\"},\"type\":\"carpet\"}],\"choropleth\":[{\"colorbar\":{\"outlinewidth\":0,\"ticks\":\"\"},\"type\":\"choropleth\"}],\"contour\":[{\"colorbar\":{\"outlinewidth\":0,\"ticks\":\"\"},\"colorscale\":[[0.0,\"#0d0887\"],[0.1111111111111111,\"#46039f\"],[0.2222222222222222,\"#7201a8\"],[0.3333333333333333,\"#9c179e\"],[0.4444444444444444,\"#bd3786\"],[0.5555555555555556,\"#d8576b\"],[0.6666666666666666,\"#ed7953\"],[0.7777777777777778,\"#fb9f3a\"],[0.8888888888888888,\"#fdca26\"],[1.0,\"#f0f921\"]],\"type\":\"contour\"}],\"contourcarpet\":[{\"colorbar\":{\"outlinewidth\":0,\"ticks\":\"\"},\"type\":\"contourcarpet\"}],\"heatmap\":[{\"colorbar\":{\"outlinewidth\":0,\"ticks\":\"\"},\"colorscale\":[[0.0,\"#0d0887\"],[0.1111111111111111,\"#46039f\"],[0.2222222222222222,\"#7201a8\"],[0.3333333333333333,\"#9c179e\"],[0.4444444444444444,\"#bd3786\"],[0.5555555555555556,\"#d8576b\"],[0.6666666666666666,\"#ed7953\"],[0.7777777777777778,\"#fb9f3a\"],[0.8888888888888888,\"#fdca26\"],[1.0,\"#f0f921\"]],\"type\":\"heatmap\"}],\"heatmapgl\":[{\"colorbar\":{\"outlinewidth\":0,\"ticks\":\"\"},\"colorscale\":[[0.0,\"#0d0887\"],[0.1111111111111111,\"#46039f\"],[0.2222222222222222,\"#7201a8\"],[0.3333333333333333,\"#9c179e\"],[0.4444444444444444,\"#bd3786\"],[0.5555555555555556,\"#d8576b\"],[0.6666666666666666,\"#ed7953\"],[0.7777777777777778,\"#fb9f3a\"],[0.8888888888888888,\"#fdca26\"],[1.0,\"#f0f921\"]],\"type\":\"heatmapgl\"}],\"histogram\":[{\"marker\":{\"pattern\":{\"fillmode\":\"overlay\",\"size\":10,\"solidity\":0.2}},\"type\":\"histogram\"}],\"histogram2d\":[{\"colorbar\":{\"outlinewidth\":0,\"ticks\":\"\"},\"colorscale\":[[0.0,\"#0d0887\"],[0.1111111111111111,\"#46039f\"],[0.2222222222222222,\"#7201a8\"],[0.3333333333333333,\"#9c179e\"],[0.4444444444444444,\"#bd3786\"],[0.5555555555555556,\"#d8576b\"],[0.6666666666666666,\"#ed7953\"],[0.7777777777777778,\"#fb9f3a\"],[0.8888888888888888,\"#fdca26\"],[1.0,\"#f0f921\"]],\"type\":\"histogram2d\"}],\"histogram2dcontour\":[{\"colorbar\":{\"outlinewidth\":0,\"ticks\":\"\"},\"colorscale\":[[0.0,\"#0d0887\"],[0.1111111111111111,\"#46039f\"],[0.2222222222222222,\"#7201a8\"],[0.3333333333333333,\"#9c179e\"],[0.4444444444444444,\"#bd3786\"],[0.5555555555555556,\"#d8576b\"],[0.6666666666666666,\"#ed7953\"],[0.7777777777777778,\"#fb9f3a\"],[0.8888888888888888,\"#fdca26\"],[1.0,\"#f0f921\"]],\"type\":\"histogram2dcontour\"}],\"mesh3d\":[{\"colorbar\":{\"outlinewidth\":0,\"ticks\":\"\"},\"type\":\"mesh3d\"}],\"parcoords\":[{\"line\":{\"colorbar\":{\"outlinewidth\":0,\"ticks\":\"\"}},\"type\":\"parcoords\"}],\"pie\":[{\"automargin\":true,\"type\":\"pie\"}],\"scatter\":[{\"marker\":{\"colorbar\":{\"outlinewidth\":0,\"ticks\":\"\"}},\"type\":\"scatter\"}],\"scatter3d\":[{\"line\":{\"colorbar\":{\"outlinewidth\":0,\"ticks\":\"\"}},\"marker\":{\"colorbar\":{\"outlinewidth\":0,\"ticks\":\"\"}},\"type\":\"scatter3d\"}],\"scattercarpet\":[{\"marker\":{\"colorbar\":{\"outlinewidth\":0,\"ticks\":\"\"}},\"type\":\"scattercarpet\"}],\"scattergeo\":[{\"marker\":{\"colorbar\":{\"outlinewidth\":0,\"ticks\":\"\"}},\"type\":\"scattergeo\"}],\"scattergl\":[{\"marker\":{\"colorbar\":{\"outlinewidth\":0,\"ticks\":\"\"}},\"type\":\"scattergl\"}],\"scattermapbox\":[{\"marker\":{\"colorbar\":{\"outlinewidth\":0,\"ticks\":\"\"}},\"type\":\"scattermapbox\"}],\"scatterpolar\":[{\"marker\":{\"colorbar\":{\"outlinewidth\":0,\"ticks\":\"\"}},\"type\":\"scatterpolar\"}],\"scatterpolargl\":[{\"marker\":{\"colorbar\":{\"outlinewidth\":0,\"ticks\":\"\"}},\"type\":\"scatterpolargl\"}],\"scatterternary\":[{\"marker\":{\"colorbar\":{\"outlinewidth\":0,\"ticks\":\"\"}},\"type\":\"scatterternary\"}],\"surface\":[{\"colorbar\":{\"outlinewidth\":0,\"ticks\":\"\"},\"colorscale\":[[0.0,\"#0d0887\"],[0.1111111111111111,\"#46039f\"],[0.2222222222222222,\"#7201a8\"],[0.3333333333333333,\"#9c179e\"],[0.4444444444444444,\"#bd3786\"],[0.5555555555555556,\"#d8576b\"],[0.6666666666666666,\"#ed7953\"],[0.7777777777777778,\"#fb9f3a\"],[0.8888888888888888,\"#fdca26\"],[1.0,\"#f0f921\"]],\"type\":\"surface\"}],\"table\":[{\"cells\":{\"fill\":{\"color\":\"#EBF0F8\"},\"line\":{\"color\":\"white\"}},\"header\":{\"fill\":{\"color\":\"#C8D4E3\"},\"line\":{\"color\":\"white\"}},\"type\":\"table\"}]},\"layout\":{\"annotationdefaults\":{\"arrowcolor\":\"#2a3f5f\",\"arrowhead\":0,\"arrowwidth\":1},\"autotypenumbers\":\"strict\",\"coloraxis\":{\"colorbar\":{\"outlinewidth\":0,\"ticks\":\"\"}},\"colorscale\":{\"diverging\":[[0,\"#8e0152\"],[0.1,\"#c51b7d\"],[0.2,\"#de77ae\"],[0.3,\"#f1b6da\"],[0.4,\"#fde0ef\"],[0.5,\"#f7f7f7\"],[0.6,\"#e6f5d0\"],[0.7,\"#b8e186\"],[0.8,\"#7fbc41\"],[0.9,\"#4d9221\"],[1,\"#276419\"]],\"sequential\":[[0.0,\"#0d0887\"],[0.1111111111111111,\"#46039f\"],[0.2222222222222222,\"#7201a8\"],[0.3333333333333333,\"#9c179e\"],[0.4444444444444444,\"#bd3786\"],[0.5555555555555556,\"#d8576b\"],[0.6666666666666666,\"#ed7953\"],[0.7777777777777778,\"#fb9f3a\"],[0.8888888888888888,\"#fdca26\"],[1.0,\"#f0f921\"]],\"sequentialminus\":[[0.0,\"#0d0887\"],[0.1111111111111111,\"#46039f\"],[0.2222222222222222,\"#7201a8\"],[0.3333333333333333,\"#9c179e\"],[0.4444444444444444,\"#bd3786\"],[0.5555555555555556,\"#d8576b\"],[0.6666666666666666,\"#ed7953\"],[0.7777777777777778,\"#fb9f3a\"],[0.8888888888888888,\"#fdca26\"],[1.0,\"#f0f921\"]]},\"colorway\":[\"#636efa\",\"#EF553B\",\"#00cc96\",\"#ab63fa\",\"#FFA15A\",\"#19d3f3\",\"#FF6692\",\"#B6E880\",\"#FF97FF\",\"#FECB52\"],\"font\":{\"color\":\"#2a3f5f\"},\"geo\":{\"bgcolor\":\"white\",\"lakecolor\":\"white\",\"landcolor\":\"#E5ECF6\",\"showlakes\":true,\"showland\":true,\"subunitcolor\":\"white\"},\"hoverlabel\":{\"align\":\"left\"},\"hovermode\":\"closest\",\"mapbox\":{\"style\":\"light\"},\"paper_bgcolor\":\"white\",\"plot_bgcolor\":\"#E5ECF6\",\"polar\":{\"angularaxis\":{\"gridcolor\":\"white\",\"linecolor\":\"white\",\"ticks\":\"\"},\"bgcolor\":\"#E5ECF6\",\"radialaxis\":{\"gridcolor\":\"white\",\"linecolor\":\"white\",\"ticks\":\"\"}},\"scene\":{\"xaxis\":{\"backgroundcolor\":\"#E5ECF6\",\"gridcolor\":\"white\",\"gridwidth\":2,\"linecolor\":\"white\",\"showbackground\":true,\"ticks\":\"\",\"zerolinecolor\":\"white\"},\"yaxis\":{\"backgroundcolor\":\"#E5ECF6\",\"gridcolor\":\"white\",\"gridwidth\":2,\"linecolor\":\"white\",\"showbackground\":true,\"ticks\":\"\",\"zerolinecolor\":\"white\"},\"zaxis\":{\"backgroundcolor\":\"#E5ECF6\",\"gridcolor\":\"white\",\"gridwidth\":2,\"linecolor\":\"white\",\"showbackground\":true,\"ticks\":\"\",\"zerolinecolor\":\"white\"}},\"shapedefaults\":{\"line\":{\"color\":\"#2a3f5f\"}},\"ternary\":{\"aaxis\":{\"gridcolor\":\"white\",\"linecolor\":\"white\",\"ticks\":\"\"},\"baxis\":{\"gridcolor\":\"white\",\"linecolor\":\"white\",\"ticks\":\"\"},\"bgcolor\":\"#E5ECF6\",\"caxis\":{\"gridcolor\":\"white\",\"linecolor\":\"white\",\"ticks\":\"\"}},\"title\":{\"x\":0.05},\"xaxis\":{\"automargin\":true,\"gridcolor\":\"white\",\"linecolor\":\"white\",\"ticks\":\"\",\"title\":{\"standoff\":15},\"zerolinecolor\":\"white\",\"zerolinewidth\":2},\"yaxis\":{\"automargin\":true,\"gridcolor\":\"white\",\"linecolor\":\"white\",\"ticks\":\"\",\"title\":{\"standoff\":15},\"zerolinecolor\":\"white\",\"zerolinewidth\":2}}},\"title\":{\"font\":{\"size\":22},\"text\":\"Individual Features (Target: CRT_ACC; Data: Full; Model: ridge)\",\"x\":0.5,\"xanchor\":\"center\",\"y\":0.92,\"yanchor\":\"top\"},\"width\":1000,\"xaxis\":{\"title\":{\"font\":{\"size\":15},\"text\":\"R Median\"}},\"yaxis\":{\"tickmode\":\"linear\",\"title\":{\"font\":{\"size\":15},\"text\":\"Feature Name\"}}},                        {\"responsive\": true}                    ).then(function(){\n",
       "                            \n",
       "var gd = document.getElementById('36f87aed-690e-4cb3-80c3-9019b5779c20');\n",
       "var x = new MutationObserver(function (mutations, observer) {{\n",
       "        var display = window.getComputedStyle(gd).display;\n",
       "        if (!display || display === 'none') {{\n",
       "            console.log([gd, 'removed!']);\n",
       "            Plotly.purge(gd);\n",
       "            observer.disconnect();\n",
       "        }}\n",
       "}});\n",
       "\n",
       "// Listen for the removal of the full notebook cells\n",
       "var notebookContainer = gd.closest('#notebook-container');\n",
       "if (notebookContainer) {{\n",
       "    x.observe(notebookContainer, {childList: true});\n",
       "}}\n",
       "\n",
       "// Listen for the clearing of the current output cell\n",
       "var outputEl = gd.closest('.output');\n",
       "if (outputEl) {{\n",
       "    x.observe(outputEl, {childList: true});\n",
       "}}\n",
       "\n",
       "                        })                };                });            </script>        </div>"
      ]
     },
     "metadata": {},
     "output_type": "display_data"
    },
    {
     "data": {
      "application/vnd.plotly.v1+json": {
       "config": {
        "plotlyServerURL": "https://plot.ly"
       },
       "data": [
        {
         "cells": {
          "align": "left",
          "fill": {
           "color": "lightgray"
          },
          "values": [
           [
            "followee_bios",
            "followees",
            "text",
            "domains",
            "mentions",
            "hashtags",
            "follower_bios",
            "political",
            "inhibit",
            "screen_name_digits",
            "screen_name_char",
            "follower_followees_avg",
            "follower_followers_avg",
            "followees_count",
            "insight",
            "pos_emotion",
            "neg_emotion",
            "follower_tweets_avg",
            "bio",
            "follower_verified_score",
            "follower_likes_avg",
            "outlet_score",
            "relig",
            "bot_score",
            "followee_followees_avg",
            "followers_count",
            "follower_media_avg",
            "moral",
            "favorites_given_count",
            "listed_count",
            "bio_char",
            "is_protected",
            "followee_tweets_avg",
            "statuses_count",
            "favorites_avg",
            "has_location",
            "hashtags_avg_length",
            "days_on_twitter",
            "followee_likes_avg",
            "followee_verified_score",
            "url_exist",
            "followee_followers_avg",
            "mentions_count",
            "domains_count_unique",
            "has_profile_image",
            "domains_count",
            "mentions_count_unique",
            "creation_time_of_day",
            "hashtags_count"
           ],
           [
            "0.25168",
            "0.24679",
            "0.17693",
            "0.16469",
            "0.14144",
            "0.14015",
            "0.11819",
            "0.11750",
            "0.10160",
            "0.08848",
            "0.08419",
            "0.08393",
            "0.08209",
            "0.07854",
            "0.07773",
            "0.07694",
            "0.07392",
            "0.07339",
            "0.07241",
            "0.07104",
            "0.07037",
            "0.06617",
            "0.06529",
            "0.06479",
            "0.06417",
            "0.06361",
            "0.06279",
            "0.06204",
            "0.06134",
            "0.06035",
            "0.05825",
            "0.05757",
            "0.05526",
            "0.05497",
            "0.05271",
            "0.05047",
            "0.05024",
            "0.05010",
            "0.04998",
            "0.04825",
            "0.04643",
            "0.04431",
            "0.04121",
            "0.04017",
            "0.03997",
            "0.03921",
            "0.03896",
            "0.03628",
            "0.03330"
           ],
           [
            "0.00182",
            "0.00225",
            "0.01721",
            "0.02679",
            "0.05760",
            "0.05991",
            "0.17546",
            "0.14449",
            "0.20698",
            "0.23777",
            "0.25988",
            "0.33690",
            "0.34768",
            "0.34958",
            "0.33819",
            "0.33979",
            "0.35920",
            "0.40154",
            "0.36770",
            "0.41647",
            "0.42093",
            "0.52859",
            "0.41807",
            "0.42622",
            "0.46823",
            "0.43018",
            "0.47279",
            "0.44175",
            "0.44535",
            "0.45275",
            "0.46877",
            "0.47423",
            "0.53244",
            "0.49428",
            "0.48114",
            "0.53017",
            "0.50178",
            "0.51153",
            "0.57224",
            "0.58571",
            "0.56379",
            "0.61664",
            "0.58173",
            "0.59135",
            "0.61914",
            "0.60028",
            "0.60259",
            "0.65210",
            "0.65627"
           ],
           [
            "0.06010",
            "0.04860",
            "0.05049",
            "0.04023",
            "0.00929",
            "0.01086",
            "0.01230",
            "0.00086",
            "-0.00021",
            "0.00685",
            "-0.00162",
            "-0.00097",
            "-0.00091",
            "-0.00407",
            "-0.00066",
            "-0.00277",
            "-0.00057",
            "-0.00473",
            "0.00217",
            "-0.00215",
            "-0.00465",
            "-0.00360",
            "-0.00388",
            "-0.00382",
            "-0.00403",
            "-0.00369",
            "-0.00424",
            "-0.00388",
            "-0.00357",
            "-0.00358",
            "-0.00358",
            "-0.00331",
            "-0.00425",
            "-0.00323",
            "-0.00236",
            "-0.00291",
            "-0.00353",
            "-0.00347",
            "-0.00373",
            "-0.00427",
            "-0.00358",
            "-0.00435",
            "-0.00367",
            "-0.00371",
            "-0.00358",
            "-0.00371",
            "-0.00366",
            "-0.00344",
            "-0.00373"
           ],
           [
            303,
            303,
            0,
            0,
            0,
            0,
            487,
            251,
            251,
            0,
            0,
            487,
            487,
            376,
            251,
            251,
            251,
            487,
            246,
            487,
            487,
            882,
            251,
            287,
            513,
            252,
            487,
            251,
            246,
            246,
            246,
            246,
            513,
            246,
            0,
            246,
            0,
            77,
            513,
            513,
            246,
            513,
            0,
            0,
            246,
            0,
            0,
            246,
            0
           ]
          ]
         },
         "header": {
          "align": "left",
          "fill": {
           "color": "cornflowerblue"
          },
          "values": [
           "Feature Name",
           "R Median",
           "P Median",
           "R^2 Median",
           "Dropped Count"
          ]
         },
         "type": "table"
        }
       ],
       "layout": {
        "font": {
         "color": "black",
         "family": "Courier New, monospace",
         "size": 12
        },
        "template": {
         "data": {
          "bar": [
           {
            "error_x": {
             "color": "#2a3f5f"
            },
            "error_y": {
             "color": "#2a3f5f"
            },
            "marker": {
             "line": {
              "color": "#E5ECF6",
              "width": 0.5
             },
             "pattern": {
              "fillmode": "overlay",
              "size": 10,
              "solidity": 0.2
             }
            },
            "type": "bar"
           }
          ],
          "barpolar": [
           {
            "marker": {
             "line": {
              "color": "#E5ECF6",
              "width": 0.5
             },
             "pattern": {
              "fillmode": "overlay",
              "size": 10,
              "solidity": 0.2
             }
            },
            "type": "barpolar"
           }
          ],
          "carpet": [
           {
            "aaxis": {
             "endlinecolor": "#2a3f5f",
             "gridcolor": "white",
             "linecolor": "white",
             "minorgridcolor": "white",
             "startlinecolor": "#2a3f5f"
            },
            "baxis": {
             "endlinecolor": "#2a3f5f",
             "gridcolor": "white",
             "linecolor": "white",
             "minorgridcolor": "white",
             "startlinecolor": "#2a3f5f"
            },
            "type": "carpet"
           }
          ],
          "choropleth": [
           {
            "colorbar": {
             "outlinewidth": 0,
             "ticks": ""
            },
            "type": "choropleth"
           }
          ],
          "contour": [
           {
            "colorbar": {
             "outlinewidth": 0,
             "ticks": ""
            },
            "colorscale": [
             [
              0,
              "#0d0887"
             ],
             [
              0.1111111111111111,
              "#46039f"
             ],
             [
              0.2222222222222222,
              "#7201a8"
             ],
             [
              0.3333333333333333,
              "#9c179e"
             ],
             [
              0.4444444444444444,
              "#bd3786"
             ],
             [
              0.5555555555555556,
              "#d8576b"
             ],
             [
              0.6666666666666666,
              "#ed7953"
             ],
             [
              0.7777777777777778,
              "#fb9f3a"
             ],
             [
              0.8888888888888888,
              "#fdca26"
             ],
             [
              1,
              "#f0f921"
             ]
            ],
            "type": "contour"
           }
          ],
          "contourcarpet": [
           {
            "colorbar": {
             "outlinewidth": 0,
             "ticks": ""
            },
            "type": "contourcarpet"
           }
          ],
          "heatmap": [
           {
            "colorbar": {
             "outlinewidth": 0,
             "ticks": ""
            },
            "colorscale": [
             [
              0,
              "#0d0887"
             ],
             [
              0.1111111111111111,
              "#46039f"
             ],
             [
              0.2222222222222222,
              "#7201a8"
             ],
             [
              0.3333333333333333,
              "#9c179e"
             ],
             [
              0.4444444444444444,
              "#bd3786"
             ],
             [
              0.5555555555555556,
              "#d8576b"
             ],
             [
              0.6666666666666666,
              "#ed7953"
             ],
             [
              0.7777777777777778,
              "#fb9f3a"
             ],
             [
              0.8888888888888888,
              "#fdca26"
             ],
             [
              1,
              "#f0f921"
             ]
            ],
            "type": "heatmap"
           }
          ],
          "heatmapgl": [
           {
            "colorbar": {
             "outlinewidth": 0,
             "ticks": ""
            },
            "colorscale": [
             [
              0,
              "#0d0887"
             ],
             [
              0.1111111111111111,
              "#46039f"
             ],
             [
              0.2222222222222222,
              "#7201a8"
             ],
             [
              0.3333333333333333,
              "#9c179e"
             ],
             [
              0.4444444444444444,
              "#bd3786"
             ],
             [
              0.5555555555555556,
              "#d8576b"
             ],
             [
              0.6666666666666666,
              "#ed7953"
             ],
             [
              0.7777777777777778,
              "#fb9f3a"
             ],
             [
              0.8888888888888888,
              "#fdca26"
             ],
             [
              1,
              "#f0f921"
             ]
            ],
            "type": "heatmapgl"
           }
          ],
          "histogram": [
           {
            "marker": {
             "pattern": {
              "fillmode": "overlay",
              "size": 10,
              "solidity": 0.2
             }
            },
            "type": "histogram"
           }
          ],
          "histogram2d": [
           {
            "colorbar": {
             "outlinewidth": 0,
             "ticks": ""
            },
            "colorscale": [
             [
              0,
              "#0d0887"
             ],
             [
              0.1111111111111111,
              "#46039f"
             ],
             [
              0.2222222222222222,
              "#7201a8"
             ],
             [
              0.3333333333333333,
              "#9c179e"
             ],
             [
              0.4444444444444444,
              "#bd3786"
             ],
             [
              0.5555555555555556,
              "#d8576b"
             ],
             [
              0.6666666666666666,
              "#ed7953"
             ],
             [
              0.7777777777777778,
              "#fb9f3a"
             ],
             [
              0.8888888888888888,
              "#fdca26"
             ],
             [
              1,
              "#f0f921"
             ]
            ],
            "type": "histogram2d"
           }
          ],
          "histogram2dcontour": [
           {
            "colorbar": {
             "outlinewidth": 0,
             "ticks": ""
            },
            "colorscale": [
             [
              0,
              "#0d0887"
             ],
             [
              0.1111111111111111,
              "#46039f"
             ],
             [
              0.2222222222222222,
              "#7201a8"
             ],
             [
              0.3333333333333333,
              "#9c179e"
             ],
             [
              0.4444444444444444,
              "#bd3786"
             ],
             [
              0.5555555555555556,
              "#d8576b"
             ],
             [
              0.6666666666666666,
              "#ed7953"
             ],
             [
              0.7777777777777778,
              "#fb9f3a"
             ],
             [
              0.8888888888888888,
              "#fdca26"
             ],
             [
              1,
              "#f0f921"
             ]
            ],
            "type": "histogram2dcontour"
           }
          ],
          "mesh3d": [
           {
            "colorbar": {
             "outlinewidth": 0,
             "ticks": ""
            },
            "type": "mesh3d"
           }
          ],
          "parcoords": [
           {
            "line": {
             "colorbar": {
              "outlinewidth": 0,
              "ticks": ""
             }
            },
            "type": "parcoords"
           }
          ],
          "pie": [
           {
            "automargin": true,
            "type": "pie"
           }
          ],
          "scatter": [
           {
            "marker": {
             "colorbar": {
              "outlinewidth": 0,
              "ticks": ""
             }
            },
            "type": "scatter"
           }
          ],
          "scatter3d": [
           {
            "line": {
             "colorbar": {
              "outlinewidth": 0,
              "ticks": ""
             }
            },
            "marker": {
             "colorbar": {
              "outlinewidth": 0,
              "ticks": ""
             }
            },
            "type": "scatter3d"
           }
          ],
          "scattercarpet": [
           {
            "marker": {
             "colorbar": {
              "outlinewidth": 0,
              "ticks": ""
             }
            },
            "type": "scattercarpet"
           }
          ],
          "scattergeo": [
           {
            "marker": {
             "colorbar": {
              "outlinewidth": 0,
              "ticks": ""
             }
            },
            "type": "scattergeo"
           }
          ],
          "scattergl": [
           {
            "marker": {
             "colorbar": {
              "outlinewidth": 0,
              "ticks": ""
             }
            },
            "type": "scattergl"
           }
          ],
          "scattermapbox": [
           {
            "marker": {
             "colorbar": {
              "outlinewidth": 0,
              "ticks": ""
             }
            },
            "type": "scattermapbox"
           }
          ],
          "scatterpolar": [
           {
            "marker": {
             "colorbar": {
              "outlinewidth": 0,
              "ticks": ""
             }
            },
            "type": "scatterpolar"
           }
          ],
          "scatterpolargl": [
           {
            "marker": {
             "colorbar": {
              "outlinewidth": 0,
              "ticks": ""
             }
            },
            "type": "scatterpolargl"
           }
          ],
          "scatterternary": [
           {
            "marker": {
             "colorbar": {
              "outlinewidth": 0,
              "ticks": ""
             }
            },
            "type": "scatterternary"
           }
          ],
          "surface": [
           {
            "colorbar": {
             "outlinewidth": 0,
             "ticks": ""
            },
            "colorscale": [
             [
              0,
              "#0d0887"
             ],
             [
              0.1111111111111111,
              "#46039f"
             ],
             [
              0.2222222222222222,
              "#7201a8"
             ],
             [
              0.3333333333333333,
              "#9c179e"
             ],
             [
              0.4444444444444444,
              "#bd3786"
             ],
             [
              0.5555555555555556,
              "#d8576b"
             ],
             [
              0.6666666666666666,
              "#ed7953"
             ],
             [
              0.7777777777777778,
              "#fb9f3a"
             ],
             [
              0.8888888888888888,
              "#fdca26"
             ],
             [
              1,
              "#f0f921"
             ]
            ],
            "type": "surface"
           }
          ],
          "table": [
           {
            "cells": {
             "fill": {
              "color": "#EBF0F8"
             },
             "line": {
              "color": "white"
             }
            },
            "header": {
             "fill": {
              "color": "#C8D4E3"
             },
             "line": {
              "color": "white"
             }
            },
            "type": "table"
           }
          ]
         },
         "layout": {
          "annotationdefaults": {
           "arrowcolor": "#2a3f5f",
           "arrowhead": 0,
           "arrowwidth": 1
          },
          "autotypenumbers": "strict",
          "coloraxis": {
           "colorbar": {
            "outlinewidth": 0,
            "ticks": ""
           }
          },
          "colorscale": {
           "diverging": [
            [
             0,
             "#8e0152"
            ],
            [
             0.1,
             "#c51b7d"
            ],
            [
             0.2,
             "#de77ae"
            ],
            [
             0.3,
             "#f1b6da"
            ],
            [
             0.4,
             "#fde0ef"
            ],
            [
             0.5,
             "#f7f7f7"
            ],
            [
             0.6,
             "#e6f5d0"
            ],
            [
             0.7,
             "#b8e186"
            ],
            [
             0.8,
             "#7fbc41"
            ],
            [
             0.9,
             "#4d9221"
            ],
            [
             1,
             "#276419"
            ]
           ],
           "sequential": [
            [
             0,
             "#0d0887"
            ],
            [
             0.1111111111111111,
             "#46039f"
            ],
            [
             0.2222222222222222,
             "#7201a8"
            ],
            [
             0.3333333333333333,
             "#9c179e"
            ],
            [
             0.4444444444444444,
             "#bd3786"
            ],
            [
             0.5555555555555556,
             "#d8576b"
            ],
            [
             0.6666666666666666,
             "#ed7953"
            ],
            [
             0.7777777777777778,
             "#fb9f3a"
            ],
            [
             0.8888888888888888,
             "#fdca26"
            ],
            [
             1,
             "#f0f921"
            ]
           ],
           "sequentialminus": [
            [
             0,
             "#0d0887"
            ],
            [
             0.1111111111111111,
             "#46039f"
            ],
            [
             0.2222222222222222,
             "#7201a8"
            ],
            [
             0.3333333333333333,
             "#9c179e"
            ],
            [
             0.4444444444444444,
             "#bd3786"
            ],
            [
             0.5555555555555556,
             "#d8576b"
            ],
            [
             0.6666666666666666,
             "#ed7953"
            ],
            [
             0.7777777777777778,
             "#fb9f3a"
            ],
            [
             0.8888888888888888,
             "#fdca26"
            ],
            [
             1,
             "#f0f921"
            ]
           ]
          },
          "colorway": [
           "#636efa",
           "#EF553B",
           "#00cc96",
           "#ab63fa",
           "#FFA15A",
           "#19d3f3",
           "#FF6692",
           "#B6E880",
           "#FF97FF",
           "#FECB52"
          ],
          "font": {
           "color": "#2a3f5f"
          },
          "geo": {
           "bgcolor": "white",
           "lakecolor": "white",
           "landcolor": "#E5ECF6",
           "showlakes": true,
           "showland": true,
           "subunitcolor": "white"
          },
          "hoverlabel": {
           "align": "left"
          },
          "hovermode": "closest",
          "mapbox": {
           "style": "light"
          },
          "paper_bgcolor": "white",
          "plot_bgcolor": "#E5ECF6",
          "polar": {
           "angularaxis": {
            "gridcolor": "white",
            "linecolor": "white",
            "ticks": ""
           },
           "bgcolor": "#E5ECF6",
           "radialaxis": {
            "gridcolor": "white",
            "linecolor": "white",
            "ticks": ""
           }
          },
          "scene": {
           "xaxis": {
            "backgroundcolor": "#E5ECF6",
            "gridcolor": "white",
            "gridwidth": 2,
            "linecolor": "white",
            "showbackground": true,
            "ticks": "",
            "zerolinecolor": "white"
           },
           "yaxis": {
            "backgroundcolor": "#E5ECF6",
            "gridcolor": "white",
            "gridwidth": 2,
            "linecolor": "white",
            "showbackground": true,
            "ticks": "",
            "zerolinecolor": "white"
           },
           "zaxis": {
            "backgroundcolor": "#E5ECF6",
            "gridcolor": "white",
            "gridwidth": 2,
            "linecolor": "white",
            "showbackground": true,
            "ticks": "",
            "zerolinecolor": "white"
           }
          },
          "shapedefaults": {
           "line": {
            "color": "#2a3f5f"
           }
          },
          "ternary": {
           "aaxis": {
            "gridcolor": "white",
            "linecolor": "white",
            "ticks": ""
           },
           "baxis": {
            "gridcolor": "white",
            "linecolor": "white",
            "ticks": ""
           },
           "bgcolor": "#E5ECF6",
           "caxis": {
            "gridcolor": "white",
            "linecolor": "white",
            "ticks": ""
           }
          },
          "title": {
           "x": 0.05
          },
          "xaxis": {
           "automargin": true,
           "gridcolor": "white",
           "linecolor": "white",
           "ticks": "",
           "title": {
            "standoff": 15
           },
           "zerolinecolor": "white",
           "zerolinewidth": 2
          },
          "yaxis": {
           "automargin": true,
           "gridcolor": "white",
           "linecolor": "white",
           "ticks": "",
           "title": {
            "standoff": 15
           },
           "zerolinecolor": "white",
           "zerolinewidth": 2
          }
         }
        },
        "title": {
         "font": {
          "size": 22
         },
         "text": "Individual Features (Target: CRT_ACC; Data: Full; Model: ridge)",
         "x": 0.5,
         "xanchor": "center",
         "y": 0.89,
         "yanchor": "top"
        }
       }
      },
      "text/html": [
       "<div>                            <div id=\"3808efbb-81a9-4773-a8d0-1baec59a94d9\" class=\"plotly-graph-div\" style=\"height:525px; width:100%;\"></div>            <script type=\"text/javascript\">                require([\"plotly\"], function(Plotly) {                    window.PLOTLYENV=window.PLOTLYENV || {};                                    if (document.getElementById(\"3808efbb-81a9-4773-a8d0-1baec59a94d9\")) {                    Plotly.newPlot(                        \"3808efbb-81a9-4773-a8d0-1baec59a94d9\",                        [{\"cells\":{\"align\":\"left\",\"fill\":{\"color\":\"lightgray\"},\"values\":[[\"followee_bios\",\"followees\",\"text\",\"domains\",\"mentions\",\"hashtags\",\"follower_bios\",\"political\",\"inhibit\",\"screen_name_digits\",\"screen_name_char\",\"follower_followees_avg\",\"follower_followers_avg\",\"followees_count\",\"insight\",\"pos_emotion\",\"neg_emotion\",\"follower_tweets_avg\",\"bio\",\"follower_verified_score\",\"follower_likes_avg\",\"outlet_score\",\"relig\",\"bot_score\",\"followee_followees_avg\",\"followers_count\",\"follower_media_avg\",\"moral\",\"favorites_given_count\",\"listed_count\",\"bio_char\",\"is_protected\",\"followee_tweets_avg\",\"statuses_count\",\"favorites_avg\",\"has_location\",\"hashtags_avg_length\",\"days_on_twitter\",\"followee_likes_avg\",\"followee_verified_score\",\"url_exist\",\"followee_followers_avg\",\"mentions_count\",\"domains_count_unique\",\"has_profile_image\",\"domains_count\",\"mentions_count_unique\",\"creation_time_of_day\",\"hashtags_count\"],[\"0.25168\",\"0.24679\",\"0.17693\",\"0.16469\",\"0.14144\",\"0.14015\",\"0.11819\",\"0.11750\",\"0.10160\",\"0.08848\",\"0.08419\",\"0.08393\",\"0.08209\",\"0.07854\",\"0.07773\",\"0.07694\",\"0.07392\",\"0.07339\",\"0.07241\",\"0.07104\",\"0.07037\",\"0.06617\",\"0.06529\",\"0.06479\",\"0.06417\",\"0.06361\",\"0.06279\",\"0.06204\",\"0.06134\",\"0.06035\",\"0.05825\",\"0.05757\",\"0.05526\",\"0.05497\",\"0.05271\",\"0.05047\",\"0.05024\",\"0.05010\",\"0.04998\",\"0.04825\",\"0.04643\",\"0.04431\",\"0.04121\",\"0.04017\",\"0.03997\",\"0.03921\",\"0.03896\",\"0.03628\",\"0.03330\"],[\"0.00182\",\"0.00225\",\"0.01721\",\"0.02679\",\"0.05760\",\"0.05991\",\"0.17546\",\"0.14449\",\"0.20698\",\"0.23777\",\"0.25988\",\"0.33690\",\"0.34768\",\"0.34958\",\"0.33819\",\"0.33979\",\"0.35920\",\"0.40154\",\"0.36770\",\"0.41647\",\"0.42093\",\"0.52859\",\"0.41807\",\"0.42622\",\"0.46823\",\"0.43018\",\"0.47279\",\"0.44175\",\"0.44535\",\"0.45275\",\"0.46877\",\"0.47423\",\"0.53244\",\"0.49428\",\"0.48114\",\"0.53017\",\"0.50178\",\"0.51153\",\"0.57224\",\"0.58571\",\"0.56379\",\"0.61664\",\"0.58173\",\"0.59135\",\"0.61914\",\"0.60028\",\"0.60259\",\"0.65210\",\"0.65627\"],[\"0.06010\",\"0.04860\",\"0.05049\",\"0.04023\",\"0.00929\",\"0.01086\",\"0.01230\",\"0.00086\",\"-0.00021\",\"0.00685\",\"-0.00162\",\"-0.00097\",\"-0.00091\",\"-0.00407\",\"-0.00066\",\"-0.00277\",\"-0.00057\",\"-0.00473\",\"0.00217\",\"-0.00215\",\"-0.00465\",\"-0.00360\",\"-0.00388\",\"-0.00382\",\"-0.00403\",\"-0.00369\",\"-0.00424\",\"-0.00388\",\"-0.00357\",\"-0.00358\",\"-0.00358\",\"-0.00331\",\"-0.00425\",\"-0.00323\",\"-0.00236\",\"-0.00291\",\"-0.00353\",\"-0.00347\",\"-0.00373\",\"-0.00427\",\"-0.00358\",\"-0.00435\",\"-0.00367\",\"-0.00371\",\"-0.00358\",\"-0.00371\",\"-0.00366\",\"-0.00344\",\"-0.00373\"],[303.0,303.0,0.0,0.0,0.0,0.0,487.0,251.0,251.0,0.0,0.0,487.0,487.0,376.0,251.0,251.0,251.0,487.0,246.0,487.0,487.0,882.0,251.0,287.0,513.0,252.0,487.0,251.0,246.0,246.0,246.0,246.0,513.0,246.0,0.0,246.0,0.0,77.0,513.0,513.0,246.0,513.0,0.0,0.0,246.0,0.0,0.0,246.0,0.0]]},\"header\":{\"align\":\"left\",\"fill\":{\"color\":\"cornflowerblue\"},\"values\":[\"Feature Name\",\"R Median\",\"P Median\",\"R^2 Median\",\"Dropped Count\"]},\"type\":\"table\"}],                        {\"font\":{\"color\":\"black\",\"family\":\"Courier New, monospace\",\"size\":12},\"template\":{\"data\":{\"bar\":[{\"error_x\":{\"color\":\"#2a3f5f\"},\"error_y\":{\"color\":\"#2a3f5f\"},\"marker\":{\"line\":{\"color\":\"#E5ECF6\",\"width\":0.5},\"pattern\":{\"fillmode\":\"overlay\",\"size\":10,\"solidity\":0.2}},\"type\":\"bar\"}],\"barpolar\":[{\"marker\":{\"line\":{\"color\":\"#E5ECF6\",\"width\":0.5},\"pattern\":{\"fillmode\":\"overlay\",\"size\":10,\"solidity\":0.2}},\"type\":\"barpolar\"}],\"carpet\":[{\"aaxis\":{\"endlinecolor\":\"#2a3f5f\",\"gridcolor\":\"white\",\"linecolor\":\"white\",\"minorgridcolor\":\"white\",\"startlinecolor\":\"#2a3f5f\"},\"baxis\":{\"endlinecolor\":\"#2a3f5f\",\"gridcolor\":\"white\",\"linecolor\":\"white\",\"minorgridcolor\":\"white\",\"startlinecolor\":\"#2a3f5f\"},\"type\":\"carpet\"}],\"choropleth\":[{\"colorbar\":{\"outlinewidth\":0,\"ticks\":\"\"},\"type\":\"choropleth\"}],\"contour\":[{\"colorbar\":{\"outlinewidth\":0,\"ticks\":\"\"},\"colorscale\":[[0.0,\"#0d0887\"],[0.1111111111111111,\"#46039f\"],[0.2222222222222222,\"#7201a8\"],[0.3333333333333333,\"#9c179e\"],[0.4444444444444444,\"#bd3786\"],[0.5555555555555556,\"#d8576b\"],[0.6666666666666666,\"#ed7953\"],[0.7777777777777778,\"#fb9f3a\"],[0.8888888888888888,\"#fdca26\"],[1.0,\"#f0f921\"]],\"type\":\"contour\"}],\"contourcarpet\":[{\"colorbar\":{\"outlinewidth\":0,\"ticks\":\"\"},\"type\":\"contourcarpet\"}],\"heatmap\":[{\"colorbar\":{\"outlinewidth\":0,\"ticks\":\"\"},\"colorscale\":[[0.0,\"#0d0887\"],[0.1111111111111111,\"#46039f\"],[0.2222222222222222,\"#7201a8\"],[0.3333333333333333,\"#9c179e\"],[0.4444444444444444,\"#bd3786\"],[0.5555555555555556,\"#d8576b\"],[0.6666666666666666,\"#ed7953\"],[0.7777777777777778,\"#fb9f3a\"],[0.8888888888888888,\"#fdca26\"],[1.0,\"#f0f921\"]],\"type\":\"heatmap\"}],\"heatmapgl\":[{\"colorbar\":{\"outlinewidth\":0,\"ticks\":\"\"},\"colorscale\":[[0.0,\"#0d0887\"],[0.1111111111111111,\"#46039f\"],[0.2222222222222222,\"#7201a8\"],[0.3333333333333333,\"#9c179e\"],[0.4444444444444444,\"#bd3786\"],[0.5555555555555556,\"#d8576b\"],[0.6666666666666666,\"#ed7953\"],[0.7777777777777778,\"#fb9f3a\"],[0.8888888888888888,\"#fdca26\"],[1.0,\"#f0f921\"]],\"type\":\"heatmapgl\"}],\"histogram\":[{\"marker\":{\"pattern\":{\"fillmode\":\"overlay\",\"size\":10,\"solidity\":0.2}},\"type\":\"histogram\"}],\"histogram2d\":[{\"colorbar\":{\"outlinewidth\":0,\"ticks\":\"\"},\"colorscale\":[[0.0,\"#0d0887\"],[0.1111111111111111,\"#46039f\"],[0.2222222222222222,\"#7201a8\"],[0.3333333333333333,\"#9c179e\"],[0.4444444444444444,\"#bd3786\"],[0.5555555555555556,\"#d8576b\"],[0.6666666666666666,\"#ed7953\"],[0.7777777777777778,\"#fb9f3a\"],[0.8888888888888888,\"#fdca26\"],[1.0,\"#f0f921\"]],\"type\":\"histogram2d\"}],\"histogram2dcontour\":[{\"colorbar\":{\"outlinewidth\":0,\"ticks\":\"\"},\"colorscale\":[[0.0,\"#0d0887\"],[0.1111111111111111,\"#46039f\"],[0.2222222222222222,\"#7201a8\"],[0.3333333333333333,\"#9c179e\"],[0.4444444444444444,\"#bd3786\"],[0.5555555555555556,\"#d8576b\"],[0.6666666666666666,\"#ed7953\"],[0.7777777777777778,\"#fb9f3a\"],[0.8888888888888888,\"#fdca26\"],[1.0,\"#f0f921\"]],\"type\":\"histogram2dcontour\"}],\"mesh3d\":[{\"colorbar\":{\"outlinewidth\":0,\"ticks\":\"\"},\"type\":\"mesh3d\"}],\"parcoords\":[{\"line\":{\"colorbar\":{\"outlinewidth\":0,\"ticks\":\"\"}},\"type\":\"parcoords\"}],\"pie\":[{\"automargin\":true,\"type\":\"pie\"}],\"scatter\":[{\"marker\":{\"colorbar\":{\"outlinewidth\":0,\"ticks\":\"\"}},\"type\":\"scatter\"}],\"scatter3d\":[{\"line\":{\"colorbar\":{\"outlinewidth\":0,\"ticks\":\"\"}},\"marker\":{\"colorbar\":{\"outlinewidth\":0,\"ticks\":\"\"}},\"type\":\"scatter3d\"}],\"scattercarpet\":[{\"marker\":{\"colorbar\":{\"outlinewidth\":0,\"ticks\":\"\"}},\"type\":\"scattercarpet\"}],\"scattergeo\":[{\"marker\":{\"colorbar\":{\"outlinewidth\":0,\"ticks\":\"\"}},\"type\":\"scattergeo\"}],\"scattergl\":[{\"marker\":{\"colorbar\":{\"outlinewidth\":0,\"ticks\":\"\"}},\"type\":\"scattergl\"}],\"scattermapbox\":[{\"marker\":{\"colorbar\":{\"outlinewidth\":0,\"ticks\":\"\"}},\"type\":\"scattermapbox\"}],\"scatterpolar\":[{\"marker\":{\"colorbar\":{\"outlinewidth\":0,\"ticks\":\"\"}},\"type\":\"scatterpolar\"}],\"scatterpolargl\":[{\"marker\":{\"colorbar\":{\"outlinewidth\":0,\"ticks\":\"\"}},\"type\":\"scatterpolargl\"}],\"scatterternary\":[{\"marker\":{\"colorbar\":{\"outlinewidth\":0,\"ticks\":\"\"}},\"type\":\"scatterternary\"}],\"surface\":[{\"colorbar\":{\"outlinewidth\":0,\"ticks\":\"\"},\"colorscale\":[[0.0,\"#0d0887\"],[0.1111111111111111,\"#46039f\"],[0.2222222222222222,\"#7201a8\"],[0.3333333333333333,\"#9c179e\"],[0.4444444444444444,\"#bd3786\"],[0.5555555555555556,\"#d8576b\"],[0.6666666666666666,\"#ed7953\"],[0.7777777777777778,\"#fb9f3a\"],[0.8888888888888888,\"#fdca26\"],[1.0,\"#f0f921\"]],\"type\":\"surface\"}],\"table\":[{\"cells\":{\"fill\":{\"color\":\"#EBF0F8\"},\"line\":{\"color\":\"white\"}},\"header\":{\"fill\":{\"color\":\"#C8D4E3\"},\"line\":{\"color\":\"white\"}},\"type\":\"table\"}]},\"layout\":{\"annotationdefaults\":{\"arrowcolor\":\"#2a3f5f\",\"arrowhead\":0,\"arrowwidth\":1},\"autotypenumbers\":\"strict\",\"coloraxis\":{\"colorbar\":{\"outlinewidth\":0,\"ticks\":\"\"}},\"colorscale\":{\"diverging\":[[0,\"#8e0152\"],[0.1,\"#c51b7d\"],[0.2,\"#de77ae\"],[0.3,\"#f1b6da\"],[0.4,\"#fde0ef\"],[0.5,\"#f7f7f7\"],[0.6,\"#e6f5d0\"],[0.7,\"#b8e186\"],[0.8,\"#7fbc41\"],[0.9,\"#4d9221\"],[1,\"#276419\"]],\"sequential\":[[0.0,\"#0d0887\"],[0.1111111111111111,\"#46039f\"],[0.2222222222222222,\"#7201a8\"],[0.3333333333333333,\"#9c179e\"],[0.4444444444444444,\"#bd3786\"],[0.5555555555555556,\"#d8576b\"],[0.6666666666666666,\"#ed7953\"],[0.7777777777777778,\"#fb9f3a\"],[0.8888888888888888,\"#fdca26\"],[1.0,\"#f0f921\"]],\"sequentialminus\":[[0.0,\"#0d0887\"],[0.1111111111111111,\"#46039f\"],[0.2222222222222222,\"#7201a8\"],[0.3333333333333333,\"#9c179e\"],[0.4444444444444444,\"#bd3786\"],[0.5555555555555556,\"#d8576b\"],[0.6666666666666666,\"#ed7953\"],[0.7777777777777778,\"#fb9f3a\"],[0.8888888888888888,\"#fdca26\"],[1.0,\"#f0f921\"]]},\"colorway\":[\"#636efa\",\"#EF553B\",\"#00cc96\",\"#ab63fa\",\"#FFA15A\",\"#19d3f3\",\"#FF6692\",\"#B6E880\",\"#FF97FF\",\"#FECB52\"],\"font\":{\"color\":\"#2a3f5f\"},\"geo\":{\"bgcolor\":\"white\",\"lakecolor\":\"white\",\"landcolor\":\"#E5ECF6\",\"showlakes\":true,\"showland\":true,\"subunitcolor\":\"white\"},\"hoverlabel\":{\"align\":\"left\"},\"hovermode\":\"closest\",\"mapbox\":{\"style\":\"light\"},\"paper_bgcolor\":\"white\",\"plot_bgcolor\":\"#E5ECF6\",\"polar\":{\"angularaxis\":{\"gridcolor\":\"white\",\"linecolor\":\"white\",\"ticks\":\"\"},\"bgcolor\":\"#E5ECF6\",\"radialaxis\":{\"gridcolor\":\"white\",\"linecolor\":\"white\",\"ticks\":\"\"}},\"scene\":{\"xaxis\":{\"backgroundcolor\":\"#E5ECF6\",\"gridcolor\":\"white\",\"gridwidth\":2,\"linecolor\":\"white\",\"showbackground\":true,\"ticks\":\"\",\"zerolinecolor\":\"white\"},\"yaxis\":{\"backgroundcolor\":\"#E5ECF6\",\"gridcolor\":\"white\",\"gridwidth\":2,\"linecolor\":\"white\",\"showbackground\":true,\"ticks\":\"\",\"zerolinecolor\":\"white\"},\"zaxis\":{\"backgroundcolor\":\"#E5ECF6\",\"gridcolor\":\"white\",\"gridwidth\":2,\"linecolor\":\"white\",\"showbackground\":true,\"ticks\":\"\",\"zerolinecolor\":\"white\"}},\"shapedefaults\":{\"line\":{\"color\":\"#2a3f5f\"}},\"ternary\":{\"aaxis\":{\"gridcolor\":\"white\",\"linecolor\":\"white\",\"ticks\":\"\"},\"baxis\":{\"gridcolor\":\"white\",\"linecolor\":\"white\",\"ticks\":\"\"},\"bgcolor\":\"#E5ECF6\",\"caxis\":{\"gridcolor\":\"white\",\"linecolor\":\"white\",\"ticks\":\"\"}},\"title\":{\"x\":0.05},\"xaxis\":{\"automargin\":true,\"gridcolor\":\"white\",\"linecolor\":\"white\",\"ticks\":\"\",\"title\":{\"standoff\":15},\"zerolinecolor\":\"white\",\"zerolinewidth\":2},\"yaxis\":{\"automargin\":true,\"gridcolor\":\"white\",\"linecolor\":\"white\",\"ticks\":\"\",\"title\":{\"standoff\":15},\"zerolinecolor\":\"white\",\"zerolinewidth\":2}}},\"title\":{\"font\":{\"size\":22},\"text\":\"Individual Features (Target: CRT_ACC; Data: Full; Model: ridge)\",\"x\":0.5,\"xanchor\":\"center\",\"y\":0.89,\"yanchor\":\"top\"}},                        {\"responsive\": true}                    ).then(function(){\n",
       "                            \n",
       "var gd = document.getElementById('3808efbb-81a9-4773-a8d0-1baec59a94d9');\n",
       "var x = new MutationObserver(function (mutations, observer) {{\n",
       "        var display = window.getComputedStyle(gd).display;\n",
       "        if (!display || display === 'none') {{\n",
       "            console.log([gd, 'removed!']);\n",
       "            Plotly.purge(gd);\n",
       "            observer.disconnect();\n",
       "        }}\n",
       "}});\n",
       "\n",
       "// Listen for the removal of the full notebook cells\n",
       "var notebookContainer = gd.closest('#notebook-container');\n",
       "if (notebookContainer) {{\n",
       "    x.observe(notebookContainer, {childList: true});\n",
       "}}\n",
       "\n",
       "// Listen for the clearing of the current output cell\n",
       "var outputEl = gd.closest('.output');\n",
       "if (outputEl) {{\n",
       "    x.observe(outputEl, {childList: true});\n",
       "}}\n",
       "\n",
       "                        })                };                });            </script>        </div>"
      ]
     },
     "metadata": {},
     "output_type": "display_data"
    },
    {
     "data": {
      "text/html": [
       "<img src onerror=\"var cell = this.closest('.code_cell');var editor = cell.querySelector('.input_area');editor.style.background='#fff9e9';this.parentNode.removeChild(this)\">"
      ],
      "text/plain": [
       "<IPython.core.display.HTML object>"
      ]
     },
     "metadata": {},
     "output_type": "display_data"
    }
   ],
   "source": [
    "# run this cell to find best individual features \n",
    "\n",
    "for feat in target_feats:\n",
    "\n",
    "    print(feat)\n",
    "    \n",
    "    # determine splits \n",
    "    splits = model.get_splits(MY_SPLITS_INDV)\n",
    "                          \n",
    "    # create X and Y from data \n",
    "    X_original = data[feat].dropna()\n",
    "    Y_original = data[MY_TARGET]\n",
    "    \n",
    "    # set r, p, score sums to 0\n",
    "    total_r = []\n",
    "    total_p = []\n",
    "    total_score = []\n",
    "    \n",
    "    if feat in MY_TEXT_FEATURES:\n",
    "        X, Y, na_count = model.transform_feature(data, feat, MY_TARGET, my_max_df=MY_MAXDF_INDV, \n",
    "                                                 my_min_df=MY_MINDF_INDV, \n",
    "                                 my_n_components=MY_N_COMPONENTS_INDV)\n",
    "    else:\n",
    "        X, Y, na_count = model.transform_feature(data, feat, MY_TARGET)\n",
    "            \n",
    "    # average over all splits \n",
    "    for s in splits:\n",
    "        \n",
    "        # split data into train test set\n",
    "        X_train, X_test, Y_train, Y_test = model.split_data(X, Y, MY_TARGET, MY_TEST_SIZE_INDV, s)\n",
    "        \n",
    "        # feature selection with ElasticNet on train set \n",
    "        X_train, X_test, Y_train, Y_test = model.feature_selection(X_train, X_test, Y_train, Y_test, 'median')\n",
    "        \n",
    "        # predict on test set \n",
    "        results = model.predict(X_train, X_test, Y_train, Y_test, MY_MODEL_INDV, MY_PARAMS_INDV, MY_CROSS_VAL)\n",
    "        \n",
    "        print(results)\n",
    "        \n",
    "        # add to r, p totals\n",
    "        total_r.append(results['r'])\n",
    "        total_p.append(results['p'])\n",
    "        total_score.append(results['r2'])\n",
    "    \n",
    "    # add individual feature results to results dataframe\n",
    "    f_results = model.create_results(feat, na_count, total_r, total_p, total_score)\n",
    "    individual_results_df = individual_results_df.append(f_results, ignore_index = True)\n",
    "    \n",
    "    r_dict[feat] = total_r\n",
    "    p_dict[feat] = total_p\n",
    "    score_dict[feat] = total_score\n",
    "\n",
    "# create and show plots\n",
    "plot, chart = model.create_plotly_individual(individual_results_df, MY_TARGET, \n",
    "                                             DATAFRAME_TYPE, MY_MODEL_INDV, MY_TITLE_INDV)\n",
    "chart.show()\n",
    "\n",
    "# save results and plots \n",
    "model.save_results(RESULTS_FOLDER_INDIVIDUAL, MY_TITLE_INDV.lower(), individual_results_df, \n",
    "             plot, chart, state_dict_individual)\n",
    "        \n",
    "general.set_background('#fff9e9')"
   ]
  },
  {
   "cell_type": "markdown",
   "id": "3eec841f",
   "metadata": {},
   "source": [
    "# Umbrella Features"
   ]
  },
  {
   "cell_type": "markdown",
   "id": "3f54ad08",
   "metadata": {},
   "source": [
    "*Variable and path definitions are similar to that of individual features prediction above.*"
   ]
  },
  {
   "cell_type": "code",
   "execution_count": 9,
   "id": "6e9ba093",
   "metadata": {},
   "outputs": [
    {
     "data": {
      "text/html": [
       "<img src onerror=\"var cell = this.closest('.code_cell');var editor = cell.querySelector('.input_area');editor.style.background='#efe1e1';this.parentNode.removeChild(this)\">"
      ],
      "text/plain": [
       "<IPython.core.display.HTML object>"
      ]
     },
     "metadata": {},
     "output_type": "display_data"
    }
   ],
   "source": [
    "# TODO: set variables and paths\n",
    "MY_MODEL_UMB = 'ridge'\n",
    "MY_PARAMS_UMB = {'model__alpha': np.logspace(-5, 5, 100)}\n",
    "MY_SPLITS_UMB = range(0, 50)\n",
    "MY_MINDF_UMB = 10\n",
    "MY_MAXDF_UMB = 0.99\n",
    "MY_TEST_SIZE_UMB = 0.1\n",
    "MY_N_COMPONENTS_UMB = 50\n",
    "MY_TITLE_UMB = 'Umbrella Features'\n",
    "\n",
    "RESULTS_FOLDER_UMBRELLA = ROOT_DIR + RESULTS_FOLDER_NAME + 'umbrella_{}/'.format(MY_MODEL_UMB)\n",
    "\n",
    "general.set_background('#efe1e1')"
   ]
  },
  {
   "cell_type": "code",
   "execution_count": 10,
   "id": "b6c8876e",
   "metadata": {},
   "outputs": [
    {
     "data": {
      "text/html": [
       "<img src onerror=\"var cell = this.closest('.code_cell');var editor = cell.querySelector('.input_area');editor.style.background='#fff9e9';this.parentNode.removeChild(this)\">"
      ],
      "text/plain": [
       "<IPython.core.display.HTML object>"
      ]
     },
     "metadata": {},
     "output_type": "display_data"
    }
   ],
   "source": [
    "# run this cell to store results\n",
    "state_dict_umbrella = {\n",
    "    'model': MY_MODEL_UMB, \n",
    "    'params': MY_PARAMS_UMB, \n",
    "    'splits': MY_SPLITS_UMB,\n",
    "    'mindf': MY_MINDF_UMB,\n",
    "    'maxdf': MY_MAXDF_UMB,\n",
    "    'test_size': MY_TEST_SIZE_UMB,\n",
    "    'n_components': MY_N_COMPONENTS_UMB,\n",
    "}\n",
    "\n",
    "r_dict = {}\n",
    "p_dict = {}\n",
    "score_dict = {}\n",
    "umbrella_results_df = pd.DataFrame({})\n",
    "\n",
    "general.set_background('#fff9e9')"
   ]
  },
  {
   "cell_type": "code",
   "execution_count": 298,
   "id": "3dd9d497",
   "metadata": {},
   "outputs": [
    {
     "name": "stdout",
     "output_type": "stream",
     "text": [
      "['outlet_score', 'domains_count_unique', 'domains', 'domains_count']\n",
      "{'r': 0.12269041906645649, 'p': 0.2413521585404381, 'r2': 0.009359901372487678}\n",
      "{'r': 0.19961325038042377, 'p': 0.055070596237991466, 'r2': 0.0018319188065431646}\n",
      "{'r': 0.24109843265904068, 'p': 0.019907938667436967, 'r2': 0.00816537279562568}\n",
      "{'r': 0.2630596022788752, 'p': 0.010847202787445043, 'r2': 0.007175634566130551}\n",
      "{'r': 0.1367147501826541, 'p': 0.19130000388869167, 'r2': 0.018877524934422917}\n",
      "{'r': 0.22918306000081076, 'p': 0.02712107765428442, 'r2': 0.012675318683976245}\n",
      "{'r': 0.21680030596474498, 'p': 0.03685515987510837, 'r2': 0.021291758234829095}\n",
      "{'r': 0.19227199471551518, 'p': 0.06483497991218531, 'r2': 0.010430515985335264}\n",
      "{'r': 0.1965705781634043, 'p': 0.05896031255831943, 'r2': 0.00970115740560864}\n",
      "{'r': 0.18105660593000925, 'p': 0.08241944343571572, 'r2': 0.00883431790543383}\n",
      "{'r': 0.0033359181299740196, 'p': 0.9746830511667787, 'r2': 0.019338380831621114}\n",
      "{'r': 0.023041334891835078, 'p': 0.8264736539168488, 'r2': 0.02965278891724088}\n",
      "{'r': 0.18378400173808396, 'p': 0.07782769070573403, 'r2': 0.012245632860347123}\n",
      "{'r': 0.2147845046919068, 'p': 0.03868816466224545, 'r2': 0.009333185106845377}\n",
      "{'r': 0.13672106523810137, 'p': 0.19127930311178126, 'r2': 0.020171039754809227}\n",
      "{'r': 0.29454640463094023, 'p': 0.00415753339578798, 'r2': 0.008160640837698518}\n",
      "{'r': 0.3209276573444286, 'p': 0.0017099988327039357, 'r2': 0.010519617799306324}\n",
      "{'r': 0.3823510847805801, 'p': 0.00015547416695798643, 'r2': 0.017462314353175624}\n",
      "{'r': 0.005839812267796139, 'p': 0.9556955960746081, 'r2': 0.008089895257506762}\n",
      "{'r': 0.05042716814135803, 'p': 0.6312057132076294, 'r2': 0.006373220027765969}\n",
      "{'r': 0.29364362653974996, 'p': 0.004279871416523929, 'r2': 0.011727812241528057}\n",
      "{'r': 0.029399959975331093, 'p': 0.779670197378661, 'r2': 0.013977940166125325}\n",
      "{'r': 0.17002505334236048, 'p': 0.10323398695739816, 'r2': 0.02178213134249114}\n",
      "{'r': 0.02886810632311762, 'p': 0.7835575020679326, 'r2': 0.024838925154721324}\n",
      "{'r': 0.16946706645837648, 'p': 0.10438705606624406, 'r2': 0.021533008879139004}\n",
      "{'r': 0.12186550476908894, 'p': 0.24455498073113838, 'r2': 0.020380857906912086}\n",
      "{'r': 0.1422803079333898, 'p': 0.17367908757659445, 'r2': 0.030513366538454288}\n",
      "{'r': 0.18598966029282019, 'p': 0.07426612771969016, 'r2': 0.011739402514064556}\n",
      "{'r': 0.07566055585498888, 'p': 0.4710265023431654, 'r2': 0.02087040100196582}\n",
      "{'r': 0.19963072315611974, 'p': 0.05504888221514651, 'r2': 0.018877719121011726}\n",
      "{'r': 0.163978189126731, 'p': 0.11627265931580688, 'r2': 0.023140390830566092}\n",
      "{'r': 0.23092390344051522, 'p': 0.025945747344330625, 'r2': 0.02009779396102975}\n",
      "{'r': 0.15317294428408035, 'p': 0.142693650153293, 'r2': 0.016436926957816823}\n",
      "{'r': 0.19440180693750125, 'p': 0.06186751129018776, 'r2': 0.014156917572020356}\n",
      "{'r': 0.17989376324560563, 'p': 0.0844417042427261, 'r2': 0.012997355896025997}\n",
      "{'r': 0.014365051773124004, 'p': 0.8912956156049507, 'r2': 0.050822364769387486}\n",
      "{'r': 0.21824257703248848, 'p': 0.03558879287631483, 'r2': 0.023455895773240344}\n",
      "{'r': 0.05536623308414849, 'p': 0.5981130888556871, 'r2': 0.02604694935791929}\n",
      "{'r': 0.14149275496158667, 'p': 0.17609738388272872, 'r2': 0.048963622312945085}\n",
      "{'r': 0.024447496767166132, 'p': 0.8160648488299982, 'r2': 0.02932161141520382}\n",
      "{'r': 0.006802586013805106, 'p': 0.9484007156611897, 'r2': 0.02226005548763823}\n",
      "{'r': 0.27242455425185225, 'p': 0.008246628399425483, 'r2': 0.010178657333236196}\n",
      "{'r': 0.2618273816519908, 'p': 0.011237857366994314, 'r2': 0.012268438296075223}\n",
      "{'r': 0.1914205614965381, 'p': 0.066053138836252, 'r2': 0.01253686484226435}\n",
      "{'r': 0.1689572304525507, 'p': 0.10544939391489921, 'r2': 0.015528666884277054}\n",
      "{'r': 0.20089284004084065, 'p': 0.05349887167436116, 'r2': 0.01667348053317943}\n",
      "{'r': 0.27002264666891235, 'p': 0.008855052215385845, 'r2': 0.005198147383403695}\n",
      "{'r': 0.14160008964722626, 'p': 0.17576635169697039, 'r2': 0.00807674784598562}\n",
      "{'r': 0.09960720294567692, 'p': 0.3421373240168918, 'r2': 0.029371504069473798}\n",
      "{'r': 0.021259506462400043, 'p': 0.8397062221729666, 'r2': 0.02864044788610527}\n",
      "['mentions_count', 'mentions', 'mentions_count_unique']\n",
      "{'r': 0.06298221456121439, 'p': 0.548666352204127, 'r2': -0.003560798672875398}\n",
      "{'r': 0.15813885467815691, 'p': 0.1300375361115043, 'r2': -0.016676996876661444}\n",
      "{'r': 0.13374956913513028, 'p': 0.20119978161769056, 'r2': -0.005654220740518667}\n",
      "{'r': 0.06203779177797723, 'p': 0.5546887367280757, 'r2': -0.0019787480308343097}\n",
      "{'r': 0.09171383469904064, 'p': 0.3819337477328204, 'r2': -0.0008835306057153991}\n",
      "{'r': 0.12035737315552608, 'p': 0.25048605717099237, 'r2': -0.0023539707343629424}\n",
      "{'r': 0.021495977785338155, 'p': 0.8379474407933194, 'r2': -0.003854614597131034}\n",
      "{'r': 0.1356135952293875, 'p': 0.19493442166579364, 'r2': -0.006769027876113642}\n",
      "{'r': 0.09205352200568752, 'p': 0.3801657101015636, 'r2': -0.010513323018323218}\n",
      "{'r': 0.08902469326333846, 'p': 0.39610477543366285, 'r2': -0.002976980588392042}\n",
      "{'r': 0.07022347007432007, 'p': 0.5035733165000934, 'r2': -0.002648714285153497}\n",
      "{'r': 0.09831740501824585, 'p': 0.3484554039986643, 'r2': -0.0005476890254503264}\n",
      "{'r': 0.0642598236854354, 'p': 0.5405701709396489, 'r2': -0.005748054618081011}\n",
      "{'r': 0.04926197837572345, 'p': 0.6391232030538294, 'r2': -0.003152386701334664}\n",
      "{'r': 0.014097432895855399, 'p': 0.8933087363179267, 'r2': -0.0024802678317116912}\n",
      "{'r': 0.1072094860310091, 'p': 0.3063743481153035, 'r2': -0.005365932606912716}\n",
      "{'r': 0.2574911099497549, 'p': 0.01271195630632521, 'r2': -0.0015767421607936205}\n",
      "{'r': 0.20683948718177791, 'p': 0.04667052653499707, 'r2': -0.0012090652732238195}\n",
      "{'r': 0.10397599604661195, 'p': 0.32127639199659286, 'r2': -0.011743357123089803}\n",
      "{'r': 0.06261885521384565, 'p': 0.5509796566917736, 'r2': -0.011733888400381965}\n",
      "{'r': 0.19670464260410422, 'p': 0.05878432548469596, 'r2': -0.00029514367558580723}\n",
      "{'r': 0.02492100399915064, 'p': 0.8125668897978302, 'r2': -0.008959224306935987}\n",
      "{'r': 0.022264789486063735, 'p': 0.8322348630219963, 'r2': -0.004857434487200218}\n",
      "{'r': 0.016957476204760926, 'p': 0.8718320510382602, 'r2': 0.003180981452549747}\n",
      "{'r': 0.15473438235362527, 'p': 0.13861779237924995, 'r2': 0.0009193328795873201}\n",
      "{'r': 0.08610186238587761, 'p': 0.41185606955783194, 'r2': 0.004116279692300639}\n",
      "{'r': 0.05730143602109683, 'p': 0.5853616007385795, 'r2': 0.002706934107549053}\n",
      "{'r': 0.03733855079094159, 'p': 0.7223394520290851, 'r2': 0.0018357667105272756}\n",
      "{'r': 0.06117719439073561, 'p': 0.5602041165601364, 'r2': -0.0022270653608104096}\n",
      "{'r': 0.3151244861157684, 'p': 0.002093482663757157, 'r2': -0.0027016205689416317}\n",
      "{'r': 0.09693465733486317, 'p': 0.35530922363494966, 'r2': -0.00019644810315824212}\n",
      "{'r': 0.021297067143591062, 'p': 0.8394268076676115, 'r2': 0.0004141758426064568}\n",
      "{'r': 0.003030553556437554, 'p': 0.9769998607142221, 'r2': -0.002601782072040315}\n",
      "{'r': 0.06194981337196208, 'p': 0.5552513707075004, 'r2': 0.002924253140460986}\n",
      "{'r': 0.18350995394748848, 'p': 0.07827960185396529, 'r2': -0.007958907658826985}\n",
      "{'r': 0.051736051949372745, 'p': 0.6223612289022471, 'r2': -0.0026889894652773584}\n",
      "{'r': 0.18020347305953371, 'p': 0.08389928003730347, 'r2': -0.004950187264726047}\n",
      "{'r': 0.025620069303761935, 'p': 0.8074093917028988, 'r2': -0.0060061668797274596}\n",
      "{'r': 0.07279715723175365, 'p': 0.48802313169609035, 'r2': 0.005018450994500245}\n",
      "{'r': 0.11522367443995069, 'p': 0.2714121428515558, 'r2': 0.0001736896356808293}\n",
      "{'r': 0.0004398000023368917, 'p': 0.9966617285653603, 'r2': -0.002339244515476935}\n",
      "{'r': 0.09321550474780577, 'p': 0.37415520606196784, 'r2': -0.010131415548444388}\n",
      "{'r': 0.17426795378800303, 'p': 0.09478889107619276, 'r2': -0.003057905626094648}\n",
      "{'r': 0.17855805384460566, 'p': 0.08681310110510843, 'r2': -0.0031657668717704145}\n",
      "{'r': 0.17273926207309304, 'p': 0.0977665440688228, 'r2': -0.01263671329354743}\n",
      "{'r': 0.25258056978413373, 'p': 0.014581901310363377, 'r2': -0.0014874221490751792}\n",
      "{'r': 0.05087923973375826, 'p': 0.6281449832881139, 'r2': -0.010534439026126163}\n",
      "{'r': 0.10122209187404564, 'p': 0.33432907452904626, 'r2': -0.016251038523720184}\n",
      "{'r': 0.13105683717806924, 'p': 0.21050366266309312, 'r2': 0.003407568070729683}\n",
      "{'r': 0.012670765960287232, 'p': 0.9040517161109908, 'r2': 0.005224185973885964}\n",
      "['text', 'statuses_count']\n"
     ]
    },
    {
     "name": "stdout",
     "output_type": "stream",
     "text": [
      "{'r': 0.1427457555403715, 'p': 0.17226138378622183, 'r2': 0.020654610390894734}\n",
      "{'r': 0.358518509283602, 'p': 0.0004175480132709511, 'r2': 0.009620720260055981}\n",
      "{'r': 0.27034594938861806, 'p': 0.008770925189767237, 'r2': 0.024051166972357076}\n",
      "{'r': 0.24453167558388209, 'p': 0.018163566459925305, 'r2': 0.0574873822969862}\n",
      "{'r': 0.11413199096833467, 'p': 0.27600963498599873, 'r2': 0.07728222074671373}\n",
      "{'r': 0.1837695671294004, 'p': 0.07785144146925378, 'r2': 0.08537551433086495}\n",
      "{'r': 0.19609387905292044, 'p': 0.05958956478443731, 'r2': 0.0779502298001458}\n",
      "{'r': 0.30150300513759987, 'p': 0.0033147475992219896, 'r2': 0.020445191276052998}\n",
      "{'r': 0.16868504877186025, 'p': 0.106019978565991, 'r2': 0.021562967816726175}\n",
      "{'r': 0.04163324030031589, 'p': 0.6919293281683476, 'r2': 0.08790480418594984}\n",
      "{'r': 0.154557266558919, 'p': 0.1390756372867772, 'r2': 0.03367448019130801}\n",
      "{'r': 0.28549967028256024, 'p': 0.005537031734586142, 'r2': 0.024297149337311176}\n",
      "{'r': 0.1407032086232981, 'p': 0.17854649232851819, 'r2': 0.06648940959373226}\n",
      "{'r': 0.19253059919857143, 'p': 0.06446862053226844, 'r2': 0.06121231020015949}\n",
      "{'r': 0.17425334248281305, 'p': 0.09481700943328279, 'r2': 0.06876901887915543}\n",
      "{'r': 0.12706210687163227, 'p': 0.22486365454953228, 'r2': 0.0400743263903018}\n",
      "{'r': 0.25433628343969217, 'p': 0.013887608436656151, 'r2': 0.029418803369831936}\n",
      "{'r': 0.3271565148427946, 'p': 0.0013700818158481783, 'r2': 0.029756078826236765}\n",
      "{'r': 0.19468721576026946, 'p': 0.06147838716418838, 'r2': 0.06652948902338518}\n",
      "{'r': 0.07328887644946434, 'p': 0.4850814317559389, 'r2': 0.03123321832995165}\n",
      "{'r': 0.3842506378480947, 'p': 0.00014322606298229105, 'r2': 0.02316997497113673}\n",
      "{'r': 0.26641247198929574, 'p': 0.009843711129107117, 'r2': 0.04983769949554075}\n",
      "{'r': 0.17460661051158824, 'p': 0.09413901086645576, 'r2': 0.07259209679325267}\n",
      "{'r': 0.11938930337031652, 'p': 0.25434484954208153, 'r2': 0.07350935419648293}\n",
      "{'r': 0.05013421913728856, 'p': 0.6331924414317767, 'r2': 0.045180549869876054}\n",
      "{'r': 0.20534981052759393, 'p': 0.048309419839326934, 'r2': 0.03969127894798574}\n",
      "{'r': 0.04647955317099895, 'p': 0.6581928407812832, 'r2': 0.048877199687534525}\n",
      "{'r': 0.20431343466535992, 'p': 0.04947742004557782, 'r2': 0.07503903535675913}\n",
      "{'r': 0.23773283726712696, 'p': 0.02175561875259126, 'r2': 0.030561972308429386}\n",
      "{'r': 0.21675608788491393, 'p': 0.036894573639309154, 'r2': 0.04339817733459626}\n",
      "{'r': 0.08920022736694366, 'p': 0.3951703441447807, 'r2': 0.08617801008085176}\n",
      "{'r': 0.21467677076476324, 'p': 0.03878823598685089, 'r2': 0.06643936321145498}\n",
      "{'r': 0.16167540617070833, 'p': 0.12155995082234215, 'r2': 0.052926857797343144}\n",
      "{'r': 0.21587754831093756, 'p': 0.03768500720782854, 'r2': 0.027817060138517924}\n",
      "{'r': 0.3232401788980364, 'p': 0.001575785307601263, 'r2': 0.05457395587088254}\n",
      "{'r': 0.17356026009784223, 'p': 0.09615836063732727, 'r2': 0.06940276999903003}\n",
      "{'r': 0.26638071912267336, 'p': 0.00985281934545593, 'r2': 0.06097091090045463}\n",
      "{'r': 0.15503421070421572, 'p': 0.1378453388677849, 'r2': 0.03546536776141966}\n",
      "{'r': 0.24249018082578225, 'p': 0.01918420911694027, 'r2': 0.03353410307383442}\n",
      "{'r': 0.2547246370550037, 'p': 0.013737970793075253, 'r2': 0.02717940351910919}\n",
      "{'r': 0.1210651417065649, 'p': 0.24769040801039802, 'r2': 0.07386528029403874}\n",
      "{'r': 0.15691863575343432, 'p': 0.13306496817000862, 'r2': 0.033002511556553114}\n",
      "{'r': 0.38082564122112994, 'p': 0.0001660042232031368, 'r2': 0.02722121559594528}\n",
      "{'r': 0.25971451961287373, 'p': 0.011936342693864179, 'r2': 0.026422652290647886}\n",
      "{'r': 0.20139381917880225, 'p': 0.05289363802320782, 'r2': 0.031138560370318702}\n",
      "{'r': 0.17218326600234166, 'p': 0.0988675873721031, 'r2': 0.09108874820587128}\n",
      "{'r': 0.27167287980986204, 'p': 0.008432954189848466, 'r2': 0.04549792548890839}\n",
      "{'r': 0.22555211662047983, 'p': 0.029718472287712353, 'r2': 0.014173548112075985}\n",
      "{'r': 0.18354845425825494, 'p': 0.07821598742718242, 'r2': 0.028445765371810983}\n",
      "{'r': 0.21726979954457185, 'p': 0.036438847679726896, 'r2': 0.08198927616267655}\n",
      "['follower_followers_avg', 'follower_tweets_avg', 'follower_followees_avg', 'followers_count', 'follower_media_avg', 'follower_bios', 'follower_likes_avg', 'follower_verified_score']\n",
      "{'r': 0.04592007193964861, 'p': 0.6620543636829238, 'r2': 0.015256010030916234}\n",
      "{'r': 0.09989669857743934, 'p': 0.34072919305875765, 'r2': 0.01027537510040757}\n",
      "{'r': 0.28055921606676376, 'p': 0.006450416974279714, 'r2': 0.005466976573573867}\n",
      "{'r': 0.1476443784635485, 'p': 0.15785367604043998, 'r2': 0.017520344889732642}\n",
      "{'r': 0.0930138873812335, 'p': 0.3751939318580925, 'r2': 0.021440482619138557}\n",
      "{'r': 0.051622362232646005, 'p': 0.6231273629732258, 'r2': 0.031709812810126234}\n",
      "{'r': 0.19481899833996874, 'p': 0.06129938952040641, 'r2': 0.007223223914969945}\n",
      "{'r': 0.27444718860490624, 'p': 0.007763125707531278, 'r2': 0.003939683563397444}\n",
      "{'r': 0.14569492529195224, 'p': 0.16347587701968536, 'r2': 0.01313924066183303}\n",
      "{'r': 0.15029605588192116, 'p': 0.15043917821863356, 'r2': 0.014207074455502955}\n",
      "{'r': 0.10408431253899202, 'p': 0.32076978650981364, 'r2': 0.026837314746365637}\n",
      "{'r': 0.15472756427719572, 'p': 0.13863539597199523, 'r2': 0.007311955611937804}\n",
      "{'r': 0.28119667038905066, 'p': 0.006325525672629116, 'r2': 0.00391971064595833}\n",
      "{'r': 0.21331222186951543, 'p': 0.04007455684721946, 'r2': 0.006736867216577647}\n",
      "{'r': 0.12153949904926334, 'p': 0.2458287867869743, 'r2': 0.032116955015284665}\n",
      "{'r': 0.2054506181483345, 'p': 0.048197034908979836, 'r2': 0.012012166843195216}\n",
      "{'r': 0.26576120126342384, 'p': 0.010032009671218244, 'r2': 0.007447078014406627}\n",
      "{'r': 0.16022107072089814, 'p': 0.12499322519812014, 'r2': 0.01976967713943136}\n",
      "{'r': 0.07846587311601198, 'p': 0.4546911435767561, 'r2': 0.005770397561641505}\n",
      "{'r': 0.09079519185878761, 'p': 0.3867399741216655, 'r2': 0.013283816294199191}\n",
      "{'r': 0.2999877213270303, 'p': 0.0034840342813031657, 'r2': 0.006528448258719277}\n",
      "{'r': 0.20735629056374613, 'p': 0.046112819417391815, 'r2': 0.005718781038066845}\n",
      "{'r': 0.20295959886181453, 'p': 0.05103819395434382, 'r2': 0.01367371330380096}\n",
      "{'r': 0.017533206184927857, 'p': 0.8675194675375452, 'r2': 0.02285779257710303}\n",
      "{'r': 0.1059030259760264, 'p': 0.3123402402221845, 'r2': 0.01893841804990548}\n",
      "{'r': 0.18462381262039557, 'p': 0.07645582214542526, 'r2': 0.008972292758940492}\n",
      "{'r': 0.21830717180951037, 'p': 0.03553294115787837, 'r2': 0.019267873334126585}\n",
      "{'r': 0.009647087896385211, 'p': 0.9268752021831106, 'r2': 0.01866940256857441}\n",
      "{'r': 0.0883516710431798, 'p': 0.39969965687747516, 'r2': 0.016099645774648907}\n",
      "{'r': 0.11791086097780908, 'p': 0.2603161627090212, 'r2': 0.01695882502067645}\n",
      "{'r': 0.13715406894290666, 'p': 0.1898637785244493, 'r2': 0.015600825379179218}\n",
      "{'r': 0.1195155076455424, 'p': 0.2538394979891235, 'r2': 0.023692764425722344}\n",
      "{'r': 0.0716528819216339, 'p': 0.49490520750454925, 'r2': 0.025391345845266387}\n",
      "{'r': 0.1647781973198756, 'p': 0.11447799198227279, 'r2': 0.01190878420365471}\n",
      "{'r': 0.04945563980960565, 'p': 0.6378044323906217, 'r2': 0.015757836324931218}\n",
      "{'r': 0.10542518149087451, 'p': 0.3145409692339403, 'r2': 0.00933929856284672}\n",
      "{'r': 0.13310283832117495, 'p': 0.20340696429621283, 'r2': 0.021856477551456432}\n",
      "{'r': 0.07776016769239198, 'p': 0.4587706583445901, 'r2': 0.01582680819689015}\n",
      "{'r': 0.3814574098431679, 'p': 0.00016156558275592835, 'r2': 0.01137585623269428}\n",
      "{'r': 0.11145351010397464, 'p': 0.2875099457001279, 'r2': 0.025317459752518513}\n",
      "{'r': 0.03780702014804341, 'p': 0.7190002220485004, 'r2': 0.026019268562259314}\n",
      "{'r': 0.20458676810443757, 'p': 0.04916713321799664, 'r2': 0.006919462090954509}\n",
      "{'r': 0.12992980629659212, 'p': 0.21448726166212617, 'r2': 0.017746655064981298}\n",
      "{'r': 0.1774418158371614, 'p': 0.08883514261312489, 'r2': 0.012332007395085887}\n",
      "{'r': 0.23452787759128624, 'p': 0.023649616613054016, 'r2': 0.0008264542902414185}\n",
      "{'r': 0.18913572795683262, 'p': 0.06941395143080106, 'r2': 0.012681129608651375}\n",
      "{'r': 0.16702997426528243, 'p': 0.10954156500899905, 'r2': -0.003354311611480498}\n",
      "{'r': 0.15303098707166318, 'p': 0.1430686433813789, 'r2': -0.0007427340287987416}\n",
      "{'r': 0.1407646760892247, 'p': 0.17835493538016517, 'r2': 0.012900189670286277}\n",
      "{'r': 0.11117156080902876, 'p': 0.28873875103643865, 'r2': 0.02142385024605451}\n",
      "['followee_tweets_avg', 'followee_verified_score', 'followees_count', 'followee_followers_avg', 'followee_bios', 'followees', 'followee_likes_avg', 'followee_followees_avg']\n"
     ]
    },
    {
     "name": "stdout",
     "output_type": "stream",
     "text": [
      "{'r': 0.31637494631129714, 'p': 0.0020048406207965044, 'r2': 0.059343065432674466}\n",
      "{'r': 0.3321937608958082, 'p': 0.0011413770637282432, 'r2': 0.04865189337035001}\n",
      "{'r': 0.3332074280283614, 'p': 0.0010997807852363448, 'r2': 0.058714203665636976}\n",
      "{'r': 0.24809545917585493, 'p': 0.016493701069309537, 'r2': 0.062049967534595706}\n",
      "{'r': 0.23545082813790089, 'p': 0.02309028693132463, 'r2': 0.07145225919734362}\n",
      "{'r': 0.3251216975479101, 'p': 0.0014737041404180996, 'r2': 0.04936225677416202}\n",
      "{'r': 0.32056511406186067, 'p': 0.001731952973745559, 'r2': 0.054719377881323306}\n",
      "{'r': 0.41231776652137364, 'p': 4.013111267306016e-05, 'r2': 0.06280465664155273}\n",
      "{'r': 0.4281116443720804, 'p': 1.862982043990623e-05, 'r2': 0.05244008949529464}\n",
      "{'r': 0.26526589070716244, 'p': 0.010177320784224717, 'r2': 0.06518417213456666}\n",
      "{'r': 0.13931118175341412, 'p': 0.18292498762126336, 'r2': 0.08362792690845718}\n",
      "{'r': 0.2841025145971732, 'p': 0.005782914015443679, 'r2': 0.06368422307513869}\n",
      "{'r': 0.3227269709728802, 'p': 0.0016047189498449284, 'r2': 0.05937276520054875}\n",
      "{'r': 0.2840055197241751, 'p': 0.005800337882532389, 'r2': 0.06051222823626221}\n",
      "{'r': 0.18849513873562712, 'p': 0.07038059613535375, 'r2': 0.08402431930684418}\n",
      "{'r': 0.31960954291478216, 'p': 0.0017910449226200117, 'r2': 0.0729217298220108}\n",
      "{'r': 0.40459497807313927, 'p': 5.7606446443820054e-05, 'r2': 0.05732833999121114}\n",
      "{'r': 0.2796088510648908, 'p': 0.006640665345406041, 'r2': 0.057725955419145644}\n",
      "{'r': 0.13398276820790314, 'p': 0.20040814270555138, 'r2': 0.07840269779631208}\n",
      "{'r': 0.2287637400316526, 'p': 0.027410839648408937, 'r2': 0.05204462485214807}\n",
      "{'r': 0.4152236038369548, 'p': 3.494685216925388e-05, 'r2': 0.07659205565537335}\n",
      "{'r': 0.29124203843431445, 'p': 0.004621089235793219, 'r2': 0.05528814682763015}\n",
      "{'r': 0.4029851029223438, 'p': 6.204611914681064e-05, 'r2': 0.05795123404568277}\n",
      "{'r': 0.19134569246482722, 'p': 0.06616113635523958, 'r2': 0.060886928716362296}\n",
      "{'r': 0.17356662952451105, 'p': 0.09614596599203559, 'r2': 0.08297223090043955}\n",
      "{'r': 0.30788170719581537, 'p': 0.002680062194706413, 'r2': 0.06884441223256024}\n",
      "{'r': 0.22908794479690966, 'p': 0.027186575965910714, 'r2': 0.09311468980671249}\n",
      "{'r': 0.2829090368087385, 'p': 0.0060005680247386525, 'r2': 0.08291982145939494}\n",
      "{'r': 0.15220015628000694, 'p': 0.14527828714920232, 'r2': 0.09109213239102953}\n",
      "{'r': 0.3578754642178413, 'p': 0.00042838076985350155, 'r2': 0.06805572110044542}\n",
      "{'r': 0.20496701350597332, 'p': 0.04873815282509424, 'r2': 0.07477763425566841}\n",
      "{'r': 0.21669863562122868, 'p': 0.03694583641035852, 'r2': 0.08161582243419849}\n",
      "{'r': 0.255749004175788, 'p': 0.013349968270992833, 'r2': 0.08209741141663866}\n",
      "{'r': 0.27279524579346137, 'p': 0.008156082001413822, 'r2': 0.07576533327891513}\n",
      "{'r': 0.2814966194658609, 'p': 0.006267503047230991, 'r2': 0.0672211828522393}\n",
      "{'r': 0.25912758401843045, 'p': 0.012136971871430388, 'r2': 0.06723614950923865}\n",
      "{'r': 0.30738141180123835, 'p': 0.002725572109804863, 'r2': 0.06450294869554776}\n",
      "{'r': 0.18205918067853774, 'p': 0.08070706440968028, 'r2': 0.07614702135227688}\n",
      "{'r': 0.1379183584757376, 'p': 0.1873838013693789, 'r2': 0.0865807859728925}\n",
      "{'r': 0.22278908628270758, 'p': 0.031833245903343944, 'r2': 0.07651504082401717}\n",
      "{'r': 0.2636355693259037, 'p': 0.010668709486818534, 'r2': 0.0698394692526989}\n",
      "{'r': 0.21870074315816712, 'p': 0.035194227368034466, 'r2': 0.05991190417103735}\n",
      "{'r': 0.37200308103140217, 'p': 0.00024099828491465047, 'r2': 0.05408613001803035}\n",
      "{'r': 0.31182747507277475, 'p': 0.0023443926753518173, 'r2': 0.054181565375928976}\n",
      "{'r': 0.39323575658128873, 'p': 9.649146543738675e-05, 'r2': 0.03609655325758428}\n",
      "{'r': 0.22630735454312162, 'p': 0.029161542556320093, 'r2': 0.07521119835010386}\n",
      "{'r': 0.3404355814604872, 'p': 0.0008409131764291093, 'r2': 0.04956095037116111}\n",
      "{'r': 0.3258838813443214, 'p': 0.001434086108665355, 'r2': 0.04633298638580914}\n",
      "{'r': 0.10502892963541798, 'p': 0.31637350562175526, 'r2': 0.09189352974263051}\n",
      "{'r': 0.1771555423292429, 'p': 0.08935968786260369, 'r2': 0.0837003673365921}\n",
      "['hashtags_avg_length', 'hashtags', 'hashtags_count']\n",
      "{'r': 0.17483211595109596, 'p': 0.09370821931669152, 'r2': 0.005701550808600131}\n",
      "{'r': 0.13231691715004834, 'p': 0.20611244619265534, 'r2': -0.007819770377882018}\n",
      "{'r': 0.08472571957762952, 'p': 0.41939690279810843, 'r2': 0.004458011816142115}\n",
      "{'r': 0.21317114979721785, 'p': 0.04020954771995759, 'r2': 0.0039529780379557785}\n",
      "{'r': 0.15189786544464004, 'p': 0.14608859257092718, 'r2': 0.007821114965204235}\n",
      "{'r': 0.16392581905944456, 'p': 0.11639089549262337, 'r2': 0.004270591987309702}\n",
      "{'r': 0.19938444530492344, 'p': 0.055355588777550584, 'r2': 0.004884704470463097}\n",
      "{'r': 0.07691374153775066, 'p': 0.4636901430264096, 'r2': 0.015794034676704084}\n",
      "{'r': 0.1577209180963356, 'p': 0.13106848329707413, 'r2': -0.0006001318604431427}\n",
      "{'r': 0.276026565088415, 'p': 0.007403128368709842, 'r2': 0.0020118286387932117}\n",
      "{'r': 0.0786703429488719, 'p': 0.45351291891169143, 'r2': 0.016391497574984527}\n",
      "{'r': 0.039611207054229665, 'p': 0.7061897609412805, 'r2': 0.018220328047589794}\n",
      "{'r': 0.215181106794953, 'p': 0.038321627990714, 'r2': 0.005284797721902557}\n",
      "{'r': 0.2105690522868096, 'p': 0.04276827442208166, 'r2': 0.03636946970828399}\n",
      "{'r': 0.17150816675233685, 'p': 0.10021754990478438, 'r2': 0.024484628315676528}\n",
      "{'r': 0.2583035948791762, 'p': 0.012423587957924222, 'r2': 0.0064487151586337}\n",
      "{'r': 0.2244488839786748, 'p': 0.030548169073410927, 'r2': 0.011889829049802425}\n",
      "{'r': 0.21058911157783597, 'p': 0.042748043618042735, 'r2': 0.014939346250958918}\n",
      "{'r': 0.023262420113364247, 'p': 0.8248350818335194, 'r2': 0.00796741194073558}\n",
      "{'r': 0.10484917560360418, 'p': 0.31720707698078854, 'r2': 0.005819871024151357}\n",
      "{'r': 0.1764665269069656, 'p': 0.09063224457735522, 'r2': 0.009991831549043772}\n",
      "{'r': 0.22824280528570187, 'p': 0.027774474752398883, 'r2': -0.004434628555614717}\n",
      "{'r': 0.16620574960735732, 'p': 0.11132889590299891, 'r2': 0.010448000330338037}\n",
      "{'r': 0.13356368548188685, 'p': 0.2018324040621374, 'r2': 0.008751760396687614}\n",
      "{'r': 0.13991510513366162, 'p': 0.18101588579278752, 'r2': 0.01650371230332437}\n",
      "{'r': 0.040115389050894165, 'p': 0.7026242691274304, 'r2': 0.016772826627655092}\n",
      "{'r': 0.10683543976429632, 'p': 0.3080747753536793, 'r2': 0.017442983326985996}\n",
      "{'r': 0.14410697010832973, 'p': 0.1681641471444242, 'r2': 0.0026896775659817516}\n",
      "{'r': 0.08687053129593142, 'p': 0.40767866334072056, 'r2': 0.011894224511265516}\n",
      "{'r': 0.14358994388006954, 'p': 0.16971183041851598, 'r2': 0.007141101255854631}\n",
      "{'r': 0.06345793573419495, 'p': 0.5456448494930819, 'r2': 0.0237637619657592}\n",
      "{'r': 0.07039488480979546, 'p': 0.5025296960347199, 'r2': 0.01304607554234669}\n",
      "{'r': 0.10976937840535758, 'p': 0.29490145089110986, 'r2': 0.011686480496407858}\n",
      "{'r': 0.1391643128392815, 'p': 0.18339147497793395, 'r2': 0.011393894076065258}\n",
      "{'r': 0.2332341127828466, 'p': 0.02445310154943657, 'r2': 0.001737395471616754}\n",
      "{'r': 0.051035612055102375, 'p': 0.6270877302488429, 'r2': 0.010651486885689532}\n",
      "{'r': 0.1486190848886897, 'p': 0.15509723847472254, 'r2': 0.006256219455849777}\n",
      "{'r': 0.12220606648671463, 'p': 0.24322917369987465, 'r2': 0.007282694094766606}\n",
      "{'r': 0.27174106102773743, 'p': 0.008415902002520768, 'r2': 0.010042524371773776}\n",
      "{'r': 0.12625301431230476, 'p': 0.227853994649763, 'r2': 0.012535267617651401}\n",
      "{'r': 0.038059353563527853, 'p': 0.7172037789419693, 'r2': 0.012337475267483366}\n",
      "{'r': 0.21228392211480585, 'p': 0.04106724940132092, 'r2': 0.007851058378047648}\n",
      "{'r': 0.17951959000967443, 'p': 0.08510074739719872, 'r2': 0.006689398016986048}\n",
      "{'r': 0.1454552419004853, 'p': 0.1641772399763767, 'r2': 0.006535192886890773}\n",
      "{'r': 0.3138045619979335, 'p': 0.002190869442932734, 'r2': -0.003391689857074365}\n",
      "{'r': 0.19516169860708643, 'p': 0.060835892797748835, 'r2': 0.010870349060311346}\n",
      "{'r': 0.17151930014251185, 'p': 0.10019517041670208, 'r2': 0.0010408995837517532}\n",
      "{'r': 0.12914493076324135, 'p': 0.21729286749929724, 'r2': -0.0016808119447771607}\n",
      "{'r': 0.051186381301461, 'p': 0.6260690729468585, 'r2': 0.02262319247133542}\n",
      "{'r': 0.06472202499401043, 'p': 0.5376557505373496, 'r2': 0.0179553891688917}\n",
      "['creation_time_of_day', 'url_exist', 'screen_name_char', 'has_profile_image', 'days_on_twitter', 'has_location', 'bio_char', 'bio', 'bot_score', 'bio_char', 'is_protected', 'listed_count', 'screen_name_digits', 'favorites_avg', 'favorites_given_count']\n"
     ]
    },
    {
     "name": "stdout",
     "output_type": "stream",
     "text": [
      "{'r': 0.13549012834446728, 'p': 0.19534501460454057, 'r2': -0.008212780047410684}\n",
      "{'r': 0.05397444293436784, 'p': 0.607359854886945, 'r2': -0.019325114148124368}\n",
      "{'r': 0.03748847192267582, 'p': 0.7212702508802233, 'r2': -0.004001968561599045}\n",
      "{'r': 0.17764268039744344, 'p': 0.08846855280864001, 'r2': -0.007784137745796449}\n",
      "{'r': 0.07078500353552684, 'p': 0.500158743994293, 'r2': -0.0055477906838398375}\n",
      "{'r': 0.023071336477977808, 'p': 0.8262512535523365, 'r2': -0.001563365820161433}\n",
      "{'r': 0.020990910567275006, 'p': 0.8417048883036522, 'r2': -0.0019056661001563891}\n",
      "{'r': 0.02030350601083699, 'p': 0.8468245200576843, 'r2': -0.0031945585931938414}\n",
      "{'r': 0.007128173109975728, 'p': 0.9459346932372665, 'r2': -0.013832066501319185}\n",
      "{'r': 0.19473620139715153, 'p': 0.06141180132328029, 'r2': -0.00675852690032479}\n",
      "{'r': 0.00891169377830534, 'p': 0.9324358164034118, 'r2': 0.004153612427875641}\n",
      "{'r': 0.14233214492877927, 'p': 0.17352077473298855, 'r2': -0.0014962981898976491}\n",
      "{'r': 0.0007374660878571233, 'p': 0.9944023438718453, 'r2': -0.0009761000424131306}\n",
      "{'r': 0.0015654548843210877, 'p': 0.9881179210427542, 'r2': -0.009314925776635775}\n",
      "{'r': 0.07017837080264715, 'p': 0.5038480802400186, 'r2': -0.004784888579278013}\n",
      "{'r': 0.007817702953422037, 'p': 0.9407138497031112, 'r2': -0.005817483577275784}\n",
      "{'r': 0.008192637386915197, 'p': 0.93787603354297, 'r2': -0.0009578874984634611}\n",
      "{'r': 0.08973183578543605, 'p': 0.3923484057196432, 'r2': 0.00017258982807466516}\n",
      "{'r': 0.032955258923351924, 'p': 0.7538279553000831, 'r2': -0.012390429582821216}\n",
      "{'r': 0.04782768404443817, 'p': 0.6489249988286041, 'r2': -0.019567228644579694}\n",
      "{'r': 0.05425010543729617, 'p': 0.6055234317718594, 'r2': -0.0001307267998237771}\n",
      "{'r': 0.10551540631974715, 'p': 0.31412466982032805, 'r2': -0.014160476736580784}\n",
      "{'r': 0.18330196587547676, 'p': 0.0786239790406511, 'r2': -0.0035407409424963896}\n",
      "{'r': 0.05892976477589253, 'p': 0.5747293837644968, 'r2': -0.008302029965464409}\n",
      "{'r': 0.062250880370406374, 'p': 0.5533271431774986, 'r2': 0.0013148428710607618}\n",
      "{'r': 0.08941328013784815, 'p': 0.39403794972878686, 'r2': 0.0021272977541085146}\n",
      "{'r': 0.22529208044349444, 'p': 0.02991229868295787, 'r2': -0.0020630373229679534}\n",
      "{'r': 0.026676932516675345, 'p': 0.7996278414967292, 'r2': -0.0011901835428209883}\n",
      "{'r': 0.01807015512213169, 'p': 0.8635008674398266, 'r2': -0.001527184222624256}\n",
      "{'r': 0.014458279763304833, 'p': 0.8905944839111025, 'r2': -0.00043740443028437157}\n",
      "{'r': 0.08431072002403227, 'p': 0.42168654182775256, 'r2': -0.0010254755794560256}\n",
      "{'r': 0.11085068019611402, 'p': 0.2901414576184213, 'r2': -0.0008217378002187692}\n",
      "{'r': 0.0075756728003395675, 'p': 0.9425461310208549, 'r2': -0.001381140127589875}\n",
      "{'r': 0.07886845127804933, 'p': 0.4523729691033604, 'r2': -0.0006131617551829116}\n",
      "{'r': 0.000799001517645722, 'p': 0.9939352743904607, 'r2': -0.008052279781978023}\n",
      "{'r': 0.20317487060966413, 'p': 0.05078734037025002, 'r2': -0.008845498558203334}\n",
      "{'r': 0.06676987191831124, 'p': 0.5248371030772294, 'r2': -0.0004673341913138396}\n",
      "{'r': 0.13027827817328444, 'p': 0.21324988768692402, 'r2': -0.008890392237815448}\n",
      "{'r': 0.029565876699707738, 'p': 0.7784586192840495, 'r2': 0.0005709399604728827}\n",
      "{'r': 0.09397930784130058, 'p': 0.37023600941599805, 'r2': -0.0009459990985608791}\n",
      "{'r': 0.03962149366702176, 'p': 0.7061169519901203, 'r2': -4.008350760709156e-05}\n",
      "{'r': 0.03402223447436284, 'p': 0.7461236379775892, 'r2': -0.008478610510348882}\n",
      "{'r': 0.08748996683777485, 'p': 0.40433042401034175, 'r2': -0.0010974134990833662}\n",
      "{'r': 0.015538012604316314, 'p': 0.882480496174917, 'r2': -0.0026223533977626444}\n",
      "{'r': 0.10860443301257464, 'p': 0.3000869117170244, 'r2': -0.0009395230222591477}\n",
      "{'r': 0.1043909772121011, 'p': 0.31933827534822473, 'r2': 0.003947800430218385}\n",
      "{'r': 0.17246941612323421, 'p': 0.0982997126132681, 'r2': -0.012731669609166874}\n",
      "{'r': 0.027965973259632175, 'p': 0.790163286048866, 'r2': -0.018485449600525384}\n",
      "{'r': 0.005711541133597804, 'p': 0.9566677876960723, 'r2': 0.00115948469603826}\n",
      "{'r': 0.008110578964250773, 'p': 0.938497054964968, 'r2': 0.0003407879517166146}\n",
      "['insight', 'inhibit', 'relig', 'pos_emotion', 'neg_emotion', 'moral', 'political']\n",
      "{'r': 0.13138596972761862, 'p': 0.20935030786131262, 'r2': 0.005058504603723213}\n",
      "{'r': 0.14235099797555836, 'p': 0.17346322286643978, 'r2': -0.0038064502922781295}\n",
      "{'r': 0.08979763514570883, 'p': 0.39199996054671776, 'r2': 0.012100781422386308}\n",
      "{'r': 0.10050949173129796, 'p': 0.3377605779129337, 'r2': 0.010092604392442705}\n",
      "{'r': 0.05362512523538292, 'p': 0.6096904626965658, 'r2': 0.013997065848172818}\n",
      "{'r': 0.12204425537637262, 'p': 0.24385848375110195, 'r2': 0.0185436619561933}\n",
      "{'r': 0.06723639921890573, 'p': 0.521938517223734, 'r2': 0.008247982798058185}\n",
      "{'r': 0.14521493201567073, 'p': 0.16488267169357831, 'r2': 0.006995285416935415}\n",
      "{'r': 0.05453276697180186, 'p': 0.6036429261093725, 'r2': 0.0002951250081634882}\n",
      "{'r': 0.10085652437672975, 'p': 0.33608668296470257, 'r2': 0.008685289928318718}\n",
      "{'r': 0.17564480791216605, 'p': 0.09216858997985969, 'r2': 0.006357607912296159}\n",
      "{'r': 0.1276022984040828, 'p': 0.22288256523832123, 'r2': 0.015553399021566671}\n",
      "{'r': 0.1706149028844328, 'p': 0.10202592689884495, 'r2': 0.0056791478317334}\n",
      "{'r': 0.16069640229039925, 'p': 0.12386301911022202, 'r2': 0.00016139643885249022}\n",
      "{'r': 0.12038987319375845, 'p': 0.2503572110475007, 'r2': 0.008012329895048364}\n",
      "{'r': 0.13991740718119816, 'p': 0.18100863657751312, 'r2': 0.0020945501375200905}\n",
      "{'r': 0.205238258999275, 'p': 0.048434034779452, 'r2': 0.010685975690038397}\n",
      "{'r': 0.11510775789546868, 'p': 0.27189784855802307, 'r2': 0.015566618718282932}\n",
      "{'r': 0.11879016757508162, 'p': 0.256753318287241, 'r2': 0.005085658350846023}\n",
      "{'r': 0.04104097961706942, 'p': 0.6960954141618702, 'r2': -0.004934374980905343}\n",
      "{'r': 9.271677468208547e-05, 'p': 0.9992962378186562, 'r2': 0.022942692296207535}\n",
      "{'r': 0.008525578376024294, 'p': 0.9353567079399392, 'r2': 0.007015969418717049}\n",
      "{'r': 0.1469531059766891, 'p': 0.1598305769687249, 'r2': 0.011800132250184326}\n",
      "{'r': 0.17120153873358693, 'p': 0.1008354517347502, 'r2': 0.000293538485077427}\n",
      "{'r': 0.09387164306030504, 'p': 0.37078693129719553, 'r2': 0.006877368130153582}\n",
      "{'r': 0.10972615158886441, 'p': 0.2950928029185281, 'r2': 0.014906372277910408}\n",
      "{'r': 0.05696858760890034, 'p': 0.5875459521542384, 'r2': 0.02285205509839261}\n",
      "{'r': 0.03185338950235879, 'p': 0.7618095959007403, 'r2': 0.013747682809459483}\n",
      "{'r': 0.1452782416832441, 'p': 0.16469660826469767, 'r2': 0.006124660425232476}\n",
      "{'r': 0.21685215575367697, 'p': 0.036808988515877085, 'r2': 0.0052781213327339985}\n",
      "{'r': 0.23979669190037994, 'p': 0.020605953068865274, 'r2': 0.00428105316991001}\n",
      "{'r': 0.13297249332712074, 'p': 0.2038539006873469, 'r2': 0.013799917651388882}\n",
      "{'r': 0.015974033971136063, 'p': 0.879207264144275, 'r2': 0.013579667701382747}\n",
      "{'r': 0.1603802534207828, 'p': 0.12461385588616913, 'r2': 0.00891384594371596}\n",
      "{'r': 0.2914674554578888, 'p': 0.004588062333771513, 'r2': -0.0033503202033662084}\n",
      "{'r': 0.09283344958584316, 'p': 0.37612502538861403, 'r2': 0.010367129484654125}\n",
      "{'r': 0.23023529780058188, 'p': 0.026405376983339408, 'r2': 0.0014148721946071862}\n",
      "{'r': 0.09137640568636296, 'p': 0.3836949326770111, 'r2': 0.01195018955549192}\n",
      "{'r': 0.048843895212168774, 'p': 0.6419740361564555, 'r2': 0.017642422867991205}\n",
      "{'r': 0.20788452573321392, 'p': 0.045548490735004894, 'r2': 0.0058164148011006665}\n",
      "{'r': 0.037272122230740674, 'p': 0.7228133751046352, 'r2': 0.017815717575458034}\n",
      "{'r': 0.07933433311526944, 'p': 0.4496984890259779, 'r2': 0.011178553427554139}\n",
      "{'r': 0.009469782595532307, 'p': 0.9282155686362838, 'r2': 0.012917359265597428}\n",
      "{'r': 0.15261866116313763, 'p': 0.1441620574949508, 'r2': 0.0011957370574268156}\n",
      "{'r': 0.19855539815249634, 'p': 0.056398365593725755, 'r2': -0.0020615533474146906}\n",
      "{'r': 0.0036492252845060184, 'p': 0.9723061995129831, 'r2': 0.01951384953133457}\n",
      "{'r': 0.08253621604583325, 'p': 0.4315578088992644, 'r2': 0.009205826527799776}\n",
      "{'r': 0.056935814610945455, 'p': 0.587761228694212, 'r2': -0.0032296711275089816}\n",
      "{'r': 0.1645907801381733, 'p': 0.11489649194626617, 'r2': 0.011856804909972896}\n",
      "{'r': 0.2412038431858815, 'p': 0.019852314974483743, 'r2': 0.01188548842697872}\n",
      "['outlet_score', 'domains_count_unique', 'domains', 'domains_count', 'mentions_count', 'mentions', 'mentions_count_unique', 'text', 'statuses_count', 'hashtags_avg_length', 'hashtags', 'hashtags_count', 'insight', 'inhibit', 'relig', 'pos_emotion', 'neg_emotion', 'moral', 'political']\n"
     ]
    },
    {
     "name": "stdout",
     "output_type": "stream",
     "text": [
      "{'r': 0.18656077218947867, 'p': 0.07336560730358126, 'r2': 0.020443882316947538}\n",
      "{'r': 0.27063885420503736, 'p': 0.008695315190211272, 'r2': 0.010688809610780736}\n",
      "{'r': 0.21943715033296843, 'p': 0.034567741095120764, 'r2': 0.019660767033223236}\n",
      "{'r': 0.2365041128309156, 'p': 0.022465811610465212, 'r2': 0.026235423999190655}\n",
      "{'r': 0.16225783611961245, 'p': 0.12020551553011946, 'r2': 0.03376627673344583}\n",
      "{'r': 0.19041080992471215, 'p': 0.06752177620812043, 'r2': 0.028392281309951327}\n",
      "{'r': 0.19211863364015816, 'p': 0.06505303993295039, 'r2': 0.030799969048918196}\n",
      "{'r': 0.2265769469347877, 'p': 0.02896488992581334, 'r2': 0.024540008453699635}\n",
      "{'r': 0.1562946188788411, 'p': 0.1346337789139896, 'r2': 0.02134437851611346}\n",
      "{'r': 0.1540051455951046, 'p': 0.14051022117331516, 'r2': 0.029679311893748284}\n",
      "{'r': 0.12566792551503508, 'p': 0.23003372311642734, 'r2': 0.030051282899419142}\n",
      "{'r': 0.1559821438231979, 'p': 0.1354246215678764, 'r2': 0.03219505751403051}\n",
      "{'r': 0.1344910233118715, 'p': 0.1986905260904221, 'r2': 0.026418920699567482}\n",
      "{'r': 0.17450316490291776, 'p': 0.09433714862690294, 'r2': 0.03305560685534501}\n",
      "{'r': 0.03640083288370253, 'p': 0.7290390592905097, 'r2': 0.03862323483697794}\n",
      "{'r': 0.2660596188902445, 'p': 0.009945341698845755, 'r2': 0.025541640289573286}\n",
      "{'r': 0.36930109739089834, 'p': 0.0002695760196274594, 'r2': 0.022764111116561382}\n",
      "{'r': 0.3698039991415388, 'p': 0.00026403123395166324, 'r2': 0.029774767697716052}\n",
      "{'r': 0.11771905790472924, 'p': 0.2610977738227134, 'r2': 0.02224683645118177}\n",
      "{'r': 0.017119305208200257, 'p': 0.8706194647017651, 'r2': 0.028970151032541858}\n",
      "{'r': 0.3117463972215873, 'p': 0.0023508903282334574, 'r2': 0.02383431571618382}\n",
      "{'r': 0.13705297755851426, 'p': 0.19019357348186508, 'r2': 0.019509356952703262}\n",
      "{'r': 0.14358295738744023, 'p': 0.16973281568513438, 'r2': 0.03415762607218131}\n",
      "{'r': 0.09121402314341365, 'p': 0.38454421566766045, 'r2': 0.03707550259448156}\n",
      "{'r': 0.11867918151645025, 'p': 0.25720117529958914, 'r2': 0.0385462302613719}\n",
      "{'r': 0.16051075924927577, 'p': 0.12430348951251921, 'r2': 0.03782708468730907}\n",
      "{'r': 0.0019269730991373739, 'p': 0.9853742078733314, 'r2': 0.04569310702782954}\n",
      "{'r': 0.13235977107532332, 'p': 0.20596426508604276, 'r2': 0.02887385996823506}\n",
      "{'r': 0.1501154131115244, 'p': 0.15093584286704115, 'r2': 0.03308716533409326}\n",
      "{'r': 0.2725290854719244, 'p': 0.008221006128760236, 'r2': 0.02862653620543143}\n",
      "{'r': 0.13936362578659892, 'p': 0.18275862379057445, 'r2': 0.04073480014816255}\n",
      "{'r': 0.18176028636128191, 'p': 0.08121457126725487, 'r2': 0.03476051535428053}\n",
      "{'r': 0.1341681885000996, 'p': 0.1997802956156618, 'r2': 0.035729586373505075}\n",
      "{'r': 0.2578277621110597, 'p': 0.012591771923429175, 'r2': 0.027144893406231697}\n",
      "{'r': 0.34304992665479467, 'p': 0.0007619090350390005, 'r2': 0.013921887975560288}\n",
      "{'r': 0.06010330875521054, 'p': 0.5671228519356791, 'r2': 0.03826130530200959}\n",
      "{'r': 0.2554845904617445, 'p': 0.013449197834150358, 'r2': 0.02739929421080256}\n",
      "{'r': 0.11531061847023043, 'p': 0.27104821963479636, 'r2': 0.034997091639723664}\n",
      "{'r': 0.19889241341607386, 'p': 0.055972543780258795, 'r2': 0.03846870937358884}\n",
      "{'r': 0.20090345374877744, 'p': 0.053485990522436785, 'r2': 0.028080860202115775}\n",
      "{'r': 0.0982332558105808, 'p': 0.3488701270736085, 'r2': 0.034177439501878834}\n",
      "{'r': 0.22856265395240696, 'p': 0.027550724963491178, 'r2': 0.02472159620724652}\n",
      "{'r': 0.34960475186512774, 'p': 0.0005927010810004873, 'r2': 0.021150573197560706}\n",
      "{'r': 0.25936975790727423, 'p': 0.01205383745217675, 'r2': 0.020035272389397597}\n",
      "{'r': 0.33669104751500306, 'p': 0.0009671213321720345, 'r2': 0.019833481507899698}\n",
      "{'r': 0.24048439659285645, 'p': 0.020234623879335254, 'r2': 0.03368736629428284}\n",
      "{'r': 0.28779085923816383, 'p': 0.005153849151979754, 'r2': 0.016325930400701672}\n",
      "{'r': 0.18190981686554272, 'p': 0.08096035883241436, 'r2': 0.019795565530518356}\n",
      "{'r': 0.04646362276100462, 'p': 0.6583026686778523, 'r2': 0.03654504098728166}\n",
      "{'r': 0.09948254092907113, 'p': 0.3427448163261098, 'r2': 0.04821117237973791}\n",
      "['follower_followers_avg', 'follower_tweets_avg', 'follower_followees_avg', 'followers_count', 'follower_media_avg', 'follower_bios', 'follower_likes_avg', 'follower_verified_score', 'followee_tweets_avg', 'followee_verified_score', 'followees_count', 'followee_followers_avg', 'followee_bios', 'followees', 'followee_likes_avg', 'followee_followees_avg']\n",
      "{'r': 0.2584624509765606, 'p': 0.01236787725510347, 'r2': 0.05786122445822632}\n",
      "{'r': 0.25556233189406086, 'p': 0.013419956612094563, 'r2': 0.05547714194487803}\n",
      "{'r': 0.350193771269191, 'p': 0.0005793211396821258, 'r2': 0.05173147656370518}\n",
      "{'r': 0.22600569730130785, 'p': 0.029382922972167002, 'r2': 0.06134929201928156}\n",
      "{'r': 0.18737727774933616, 'p': 0.07209343054865816, 'r2': 0.07515396329643811}\n",
      "{'r': 0.27520605512036395, 'p': 0.007588271279165748, 'r2': 0.05550778877756515}\n",
      "{'r': 0.31842662542386047, 'p': 0.0018667170552831784, 'r2': 0.044978813495012496}\n",
      "{'r': 0.41366353397473704, 'p': 3.764684303997553e-05, 'r2': 0.050910807264362014}\n",
      "{'r': 0.3850669287487821, 'p': 0.00013824243414668226, 'r2': 0.05267611419426075}\n",
      "{'r': 0.26900959831587695, 'p': 0.009123266734146667, 'r2': 0.057876876319335156}\n",
      "{'r': 0.1471398018182822, 'p': 0.15929485861339965, 'r2': 0.07692809260494975}\n",
      "{'r': 0.2708012518215428, 'p': 0.00865364144788932, 'r2': 0.05052258795742266}\n",
      "{'r': 0.3532937468601306, 'p': 0.0005133501124277977, 'r2': 0.04683608999225495}\n",
      "{'r': 0.3071412617215662, 'p': 0.0027476632578465076, 'r2': 0.05284035356680024}\n",
      "{'r': 0.1840209855974367, 'p': 0.07743858552983256, 'r2': 0.08931164081449923}\n",
      "{'r': 0.300907429966108, 'p': 0.0033803857876961267, 'r2': 0.06478612521164713}\n",
      "{'r': 0.4022348202913617, 'p': 6.4222237593505e-05, 'r2': 0.04792599430521645}\n",
      "{'r': 0.26384714664028136, 'p': 0.010603789252678665, 'r2': 0.05549374604856518}\n",
      "{'r': 0.12632337372004016, 'p': 0.22759285122755968, 'r2': 0.06857091939003165}\n",
      "{'r': 0.13690778949978, 'p': 0.19066795256296792, 'r2': 0.05497690396750636}\n",
      "{'r': 0.4024589891901623, 'p': 6.356473006083193e-05, 'r2': 0.06148621482435732}\n",
      "{'r': 0.28297095413715007, 'p': 0.005989100175533828, 'r2': 0.050350000438033574}\n",
      "{'r': 0.3774089259573669, 'p': 0.0001920270468974356, 'r2': 0.05292349011275375}\n",
      "{'r': 0.17430008511824666, 'p': 0.09472707986159976, 'r2': 0.0599911877806546}\n",
      "{'r': 0.1787504799611865, 'p': 0.08646824708804077, 'r2': 0.0717775447357718}\n",
      "{'r': 0.31413618364750745, 'p': 0.0021660250721918977, 'r2': 0.05422709268120405}\n",
      "{'r': 0.26204802447508035, 'p': 0.011167016380718191, 'r2': 0.07922509943617359}\n",
      "{'r': 0.20704274617090448, 'p': 0.04645051769917717, 'r2': 0.07592035199605471}\n",
      "{'r': 0.12113299234110603, 'p': 0.2474235342524703, 'r2': 0.0846274927184872}\n",
      "{'r': 0.35257930624041206, 'p': 0.0005279122838011838, 'r2': 0.06203755305366929}\n",
      "{'r': 0.19655270856235074, 'p': 0.05898380252688553, 'r2': 0.06860921041760477}\n",
      "{'r': 0.20490075361026278, 'p': 0.04881268194962549, 'r2': 0.07933579762079082}\n",
      "{'r': 0.2550528125690109, 'p': 0.013612614119415802, 'r2': 0.07741638192835651}\n",
      "{'r': 0.2718930922535998, 'p': 0.008377988009976101, 'r2': 0.06764237783790997}\n",
      "{'r': 0.22924691793916185, 'p': 0.027077178930943475, 'r2': 0.06480650583601325}\n",
      "{'r': 0.22504856223017636, 'p': 0.03009478079866882, 'r2': 0.05881299045946853}\n",
      "{'r': 0.2648140600570875, 'p': 0.010311479802829638, 'r2': 0.06366775786492432}\n",
      "{'r': 0.1379626585018317, 'p': 0.18724078061774424, 'r2': 0.07484611931446587}\n",
      "{'r': 0.23816615554659562, 'p': 0.02150978960607638, 'r2': 0.07264042026238185}\n",
      "{'r': 0.2067772603328399, 'p': 0.04673805344557484, 'r2': 0.07409294017331239}\n",
      "{'r': 0.18853825505491748, 'p': 0.07031519484517454, 'r2': 0.07010517517356647}\n",
      "{'r': 0.230191445988868, 'p': 0.026434879977085525, 'r2': 0.05555319112697621}\n",
      "{'r': 0.3428553218805557, 'p': 0.0007675476855300714, 'r2': 0.050591712648153896}\n",
      "{'r': 0.314731609380267, 'p': 0.0021220536474698018, 'r2': 0.04990208956344688}\n",
      "{'r': 0.38306729133783873, 'p': 0.00015074658707738974, 'r2': 0.03186581608823522}\n",
      "{'r': 0.22900904579932693, 'p': 0.027241009275940364, 'r2': 0.06466003801669518}\n",
      "{'r': 0.33645606349208707, 'p': 0.0009755890840729567, 'r2': 0.03723488046381211}\n",
      "{'r': 0.2875246877440783, 'p': 0.005197120152759982, 'r2': 0.04387542101272786}\n"
     ]
    },
    {
     "name": "stdout",
     "output_type": "stream",
     "text": [
      "{'r': 0.14042596786032546, 'p': 0.17941235503503888, 'r2': 0.07470898263901571}\n",
      "{'r': 0.1776875940612222, 'p': 0.08838674696118398, 'r2': 0.0784690799078543}\n",
      "['domains', 'hashtags', 'text']\n",
      "{'r': 0.15030997615898609, 'p': 0.1504009563019763, 'r2': 0.015545395313567556}\n",
      "{'r': 0.2636957748273886, 'p': 0.010650200789027904, 'r2': 0.00642225016734399}\n",
      "{'r': 0.19244526488555375, 'p': 0.0645893256037117, 'r2': 0.018125259565588414}\n",
      "{'r': 0.26159678254121166, 'p': 0.011312314072772698, 'r2': 0.018772098287245485}\n",
      "{'r': 0.15878276290627702, 'p': 0.12846130173340384, 'r2': 0.027739850702035173}\n",
      "{'r': 0.23202987979617698, 'p': 0.025221771685276152, 'r2': 0.023452858643403473}\n",
      "{'r': 0.20608304106656675, 'p': 0.04749689891831889, 'r2': 0.032129322577121464}\n",
      "{'r': 0.24225014409415876, 'p': 0.01930739345153169, 'r2': 0.02250951128279457}\n",
      "{'r': 0.1933989922743626, 'p': 0.06325066399211653, 'r2': 0.015083806271839362}\n",
      "{'r': 0.20386736216334517, 'p': 0.04998726755538924, 'r2': 0.024328521452966913}\n",
      "{'r': 0.0501098826452902, 'p': 0.633357604570228, 'r2': 0.03303780282179729}\n",
      "{'r': 0.1498055474882897, 'p': 0.15179065697580113, 'r2': 0.030929747911842574}\n",
      "{'r': 0.1572682108788422, 'p': 0.1321922208280568, 'r2': 0.024099936846986702}\n",
      "{'r': 0.2066438474574167, 'p': 0.046883102046114816, 'r2': 0.030857047807775918}\n",
      "{'r': 0.04155396495382994, 'p': 0.6924864397060859, 'r2': 0.03863467138148591}\n",
      "{'r': 0.28482007049542596, 'p': 0.005655449517994225, 'r2': 0.02578931950508425}\n",
      "{'r': 0.3619834999776517, 'p': 0.0003633839193776428, 'r2': 0.021699789484048493}\n",
      "{'r': 0.36649392880873766, 'p': 0.00030254826101036445, 'r2': 0.026641558630885485}\n",
      "{'r': 0.12309236338503912, 'p': 0.2398021333741374, 'r2': 0.01937322900422176}\n",
      "{'r': 0.036484187693377974, 'p': 0.7284426902339642, 'r2': 0.023993367024680624}\n",
      "{'r': 0.30845696480585283, 'p': 0.0026285781465034963, 'r2': 0.02100161857771603}\n",
      "{'r': 0.13905397657998358, 'p': 0.18374249646560262, 'r2': 0.014149972242407726}\n",
      "{'r': 0.159597847073891, 'p': 0.12648703615451282, 'r2': 0.034308127841133886}\n",
      "{'r': 0.06501476876993278, 'p': 0.53581387118235, 'r2': 0.032194958566875244}\n",
      "{'r': 0.10807183016995842, 'p': 0.3024774519715997, 'r2': 0.037362550235441175}\n",
      "{'r': 0.0957914901239654, 'p': 0.3610382321961282, 'r2': 0.034917002119540144}\n",
      "{'r': 0.0224183268757431, 'p': 0.8310950520311794, 'r2': 0.04545581264477823}\n",
      "{'r': 0.17275449627439426, 'p': 0.09773651184367022, 'r2': 0.021293285215062817}\n",
      "{'r': 0.14920765256282245, 'p': 0.15345028464569296, 'r2': 0.028045386694355766}\n",
      "{'r': 0.16543653961153446, 'p': 0.1130172681038827, 'r2': 0.03402308202522397}\n",
      "{'r': 0.08262436366283024, 'p': 0.43106437118071483, 'r2': 0.046626849156714265}\n",
      "{'r': 0.19244375308936468, 'p': 0.06459146568613318, 'r2': 0.032449851408190476}\n",
      "{'r': 0.13129466219524624, 'p': 0.20966981799378193, 'r2': 0.03884031716696605}\n",
      "{'r': 0.24225221765030816, 'p': 0.019306326420588514, 'r2': 0.022893129906645583}\n",
      "{'r': 0.28578183587551215, 'p': 0.005488515390566258, 'r2': 0.016490163506458867}\n",
      "{'r': 0.031278995641880386, 'p': 0.7659803094584255, 'r2': 0.03346143359238705}\n",
      "{'r': 0.22494178295943154, 'p': 0.030175092830885115, 'r2': 0.028905111231554214}\n",
      "{'r': 0.12140398033700171, 'p': 0.2463596444328758, 'r2': 0.03287929014155342}\n",
      "{'r': 0.20865826995315226, 'p': 0.04473221860258734, 'r2': 0.0316095024319998}\n",
      "{'r': 0.13720386239195997, 'p': 0.18970148750190466, 'r2': 0.02890656560285898}\n",
      "{'r': 0.13645655516035743, 'p': 0.19214775674869786, 'r2': 0.029555647981394206}\n",
      "{'r': 0.22689311033786191, 'p': 0.028735697634199024, 'r2': 0.028944925812262955}\n",
      "{'r': 0.32874373109659427, 'p': 0.0012938910435857103, 'r2': 0.02029027970032895}\n",
      "{'r': 0.20471552374616248, 'p': 0.04902152776775228, 'r2': 0.021061790820765182}\n",
      "{'r': 0.2779644261108571, 'p': 0.006981594482166612, 'r2': 0.02174192456898665}\n",
      "{'r': 0.19369149270732516, 'p': 0.06284465531457374, 'r2': 0.03508661180047976}\n",
      "{'r': 0.28360578408331694, 'p': 0.005872637346448102, 'r2': 0.013380221428612882}\n",
      "{'r': 0.1754596644200351, 'p': 0.09251757124612273, 'r2': 0.018523108306221992}\n",
      "{'r': 0.0388861750055314, 'p': 0.7113281868040027, 'r2': 0.03785721851835333}\n",
      "{'r': 0.047670004682447184, 'p': 0.6500062574588372, 'r2': 0.045922598930544976}\n",
      "['domains', 'hashtags', 'mentions']\n",
      "{'r': 0.12732568891402501, 'p': 0.22389545814924133, 'r2': 0.007064366599318439}\n",
      "{'r': 0.18052522523026293, 'p': 0.08333870648289794, 'r2': -0.004657490080657656}\n",
      "{'r': 0.15512445300164496, 'p': 0.13761348595573628, 'r2': 0.004039124437559516}\n",
      "{'r': 0.17307547606776075, 'p': 0.0971054263187052, 'r2': 0.006842428273263534}\n",
      "{'r': 0.13592220804525948, 'p': 0.193910843601215, 'r2': 0.014366422846612003}\n",
      "{'r': 0.22971509568222828, 'p': 0.02675717151885454, 'r2': 0.005368752236056262}\n",
      "{'r': 0.1449913681355067, 'p': 0.1655409581058663, 'r2': 0.01073036805454004}\n",
      "{'r': 0.1804726005043923, 'p': 0.08343018742010297, 'r2': 0.00784826370932883}\n",
      "{'r': 0.18984423998309277, 'p': 0.06835732837959671, 'r2': 0.0025699472789655563}\n",
      "{'r': 0.1745406011264483, 'p': 0.09426540606997497, 'r2': 0.00443507878464886}\n",
      "{'r': 0.03002961715838986, 'p': 0.7750750509568682, 'r2': 0.015190247075838248}\n",
      "{'r': 0.059086583622582046, 'p': 0.5737101925939988, 'r2': 0.01892581763109995}\n",
      "{'r': 0.12156070957367447, 'p': 0.24574577177405144, 'r2': 0.008745458537554018}\n",
      "{'r': 0.10567393818220833, 'p': 0.3133940638240429, 'r2': 0.014090296048507001}\n",
      "{'r': 0.00393598356715445, 'p': 0.9701309678427723, 'r2': 0.0175309014276813}\n",
      "{'r': 0.29713336949845726, 'p': 0.003824062473592578, 'r2': 0.004117387168768328}\n",
      "{'r': 0.3609159563495402, 'p': 0.00037934021603535414, 'r2': 0.006952996021307656}\n",
      "{'r': 0.3190870339598763, 'p': 0.0018241215715145422, 'r2': 0.011738306102628826}\n",
      "{'r': 0.0793530059770294, 'p': 0.4495914781155037, 'r2': 0.0014032376957017866}\n",
      "{'r': 0.018936607534043255, 'p': 0.8570235781178309, 'r2': 0.005083614417393756}\n",
      "{'r': 0.2438973127932262, 'p': 0.01847558705037417, 'r2': 0.009121893202239351}\n",
      "{'r': 0.07938079441489149, 'p': 0.4494322537216366, 'r2': 0.0019739428856824447}\n",
      "{'r': 0.13840538590428159, 'p': 0.185815806560203, 'r2': 0.011629436056665887}\n",
      "{'r': 0.020508879657828504, 'p': 0.8452942678903403, 'r2': 0.01851944722978214}\n",
      "{'r': 0.185689740111908, 'p': 0.07474258234044862, 'r2': 0.016391158153781317}\n",
      "{'r': 0.08054852034829327, 'p': 0.4427698182071082, 'r2': 0.019416078459889817}\n",
      "{'r': 0.07501100027237396, 'p': 0.4748537475858946, 'r2': 0.021156366857496355}\n",
      "{'r': 0.18397630368819975, 'p': 0.07751182955304943, 'r2': 0.007962779694187062}\n",
      "{'r': 0.046889035084282694, 'p': 0.6553722736432424, 'r2': 0.016487743273721156}\n",
      "{'r': 0.2284151629362106, 'p': 0.02765371146061775, 'r2': 0.008933778990010199}\n",
      "{'r': 0.11915446035449387, 'p': 0.255287047386106, 'r2': 0.019280466927309604}\n",
      "{'r': 0.12785281551753344, 'p': 0.22196800466387648, 'r2': 0.013494385889381389}\n",
      "{'r': 0.08854664869992288, 'p': 0.3986562229417264, 'r2': 0.012262044346851431}\n",
      "{'r': 0.18071367163826182, 'p': 0.08301177318195772, 'r2': 0.01351902210025604}\n",
      "{'r': 0.23665608965992269, 'p': 0.02237690988976417, 'r2': 0.0034353027549722803}\n",
      "{'r': 0.01736240899252633, 'p': 0.8687984485068567, 'r2': 0.0188279000548043}\n",
      "{'r': 0.22248940408958454, 'p': 0.032070061947957355, 'r2': 0.012336118877309833}\n",
      "{'r': 0.07284466058511778, 'p': 0.4877385315417287, 'r2': 0.012518328868458583}\n",
      "{'r': 0.18700901761083177, 'p': 0.07266499036061046, 'r2': 0.01862980079474763}\n",
      "{'r': 0.10056757974358273, 'p': 0.3374800268118677, 'r2': 0.015373797328356776}\n",
      "{'r': 0.06733748135905725, 'p': 0.521311551437085, 'r2': 0.011507877767215091}\n",
      "{'r': 0.21632798839499057, 'p': 0.03727798841425426, 'r2': 0.004555650531264744}\n",
      "{'r': 0.26403037952884995, 'p': 0.01054784563604246, 'r2': 0.006417841819636316}\n",
      "{'r': 0.1854335471445737, 'p': 0.07515151337625603, 'r2': 0.009506719207160952}\n",
      "{'r': 0.29141781841511805, 'p': 0.004595316786328405, 'r2': -3.895225356314036e-05}\n",
      "{'r': 0.2521713096514648, 'p': 0.014748001013481034, 'r2': 0.01000688709814932}\n",
      "{'r': 0.21039235523575558, 'p': 0.042946826413484046, 'r2': 0.0018962911045574903}\n",
      "{'r': 0.14833871892725758, 'p': 0.1558863954564908, 'r2': 0.0010379232444246212}\n",
      "{'r': 0.16076910729193314, 'p': 0.1236908406453952, 'r2': 0.02513361134192176}\n",
      "{'r': 0.0266842130689121, 'p': 0.7995743025598252, 'r2': 0.027377613354080642}\n"
     ]
    },
    {
     "data": {
      "application/vnd.plotly.v1+json": {
       "config": {
        "plotlyServerURL": "https://plot.ly"
       },
       "data": [
        {
         "marker": {
          "color": [
           "lightslategray",
           "lightslategray",
           "lightslategray",
           "lightslategray",
           "lightslategray",
           "lightslategray",
           "lightslategray",
           "lightslategray",
           "lightslategray",
           "lightslategray",
           "lightslategray",
           "lightslategray"
          ]
         },
         "orientation": "h",
         "text": [
          "0.05",
          "0.09",
          "0.12",
          "0.14",
          "0.14",
          "0.15",
          "0.17",
          "0.17",
          "0.18",
          "0.20",
          "0.26",
          "0.28"
         ],
         "textfont": {
          "size": 10
         },
         "textposition": "outside",
         "type": "bar",
         "x": [
          0.054112274185832004,
          0.09036926398118955,
          0.11959002038442004,
          0.14322980069058847,
          0.14478110600440752,
          0.15173158596445127,
          0.17410708034721467,
          0.17495940829398304,
          0.17813172563209984,
          0.19874384911586135,
          0.2602552377258205,
          0.28055273526537583
         ],
         "y": [
          "profile_features",
          "mention_features",
          "emotional_features",
          "follower_features",
          "hashtag_features",
          "all_text_addendums",
          "all_text_words",
          "domain_features",
          "all_text",
          "text_features",
          "all_friends",
          "followee_features"
         ]
        }
       ],
       "layout": {
        "font": {
         "color": "black",
         "family": "Courier New, monospace",
         "size": 10
        },
        "height": 800,
        "template": {
         "data": {
          "bar": [
           {
            "error_x": {
             "color": "#2a3f5f"
            },
            "error_y": {
             "color": "#2a3f5f"
            },
            "marker": {
             "line": {
              "color": "#E5ECF6",
              "width": 0.5
             },
             "pattern": {
              "fillmode": "overlay",
              "size": 10,
              "solidity": 0.2
             }
            },
            "type": "bar"
           }
          ],
          "barpolar": [
           {
            "marker": {
             "line": {
              "color": "#E5ECF6",
              "width": 0.5
             },
             "pattern": {
              "fillmode": "overlay",
              "size": 10,
              "solidity": 0.2
             }
            },
            "type": "barpolar"
           }
          ],
          "carpet": [
           {
            "aaxis": {
             "endlinecolor": "#2a3f5f",
             "gridcolor": "white",
             "linecolor": "white",
             "minorgridcolor": "white",
             "startlinecolor": "#2a3f5f"
            },
            "baxis": {
             "endlinecolor": "#2a3f5f",
             "gridcolor": "white",
             "linecolor": "white",
             "minorgridcolor": "white",
             "startlinecolor": "#2a3f5f"
            },
            "type": "carpet"
           }
          ],
          "choropleth": [
           {
            "colorbar": {
             "outlinewidth": 0,
             "ticks": ""
            },
            "type": "choropleth"
           }
          ],
          "contour": [
           {
            "colorbar": {
             "outlinewidth": 0,
             "ticks": ""
            },
            "colorscale": [
             [
              0,
              "#0d0887"
             ],
             [
              0.1111111111111111,
              "#46039f"
             ],
             [
              0.2222222222222222,
              "#7201a8"
             ],
             [
              0.3333333333333333,
              "#9c179e"
             ],
             [
              0.4444444444444444,
              "#bd3786"
             ],
             [
              0.5555555555555556,
              "#d8576b"
             ],
             [
              0.6666666666666666,
              "#ed7953"
             ],
             [
              0.7777777777777778,
              "#fb9f3a"
             ],
             [
              0.8888888888888888,
              "#fdca26"
             ],
             [
              1,
              "#f0f921"
             ]
            ],
            "type": "contour"
           }
          ],
          "contourcarpet": [
           {
            "colorbar": {
             "outlinewidth": 0,
             "ticks": ""
            },
            "type": "contourcarpet"
           }
          ],
          "heatmap": [
           {
            "colorbar": {
             "outlinewidth": 0,
             "ticks": ""
            },
            "colorscale": [
             [
              0,
              "#0d0887"
             ],
             [
              0.1111111111111111,
              "#46039f"
             ],
             [
              0.2222222222222222,
              "#7201a8"
             ],
             [
              0.3333333333333333,
              "#9c179e"
             ],
             [
              0.4444444444444444,
              "#bd3786"
             ],
             [
              0.5555555555555556,
              "#d8576b"
             ],
             [
              0.6666666666666666,
              "#ed7953"
             ],
             [
              0.7777777777777778,
              "#fb9f3a"
             ],
             [
              0.8888888888888888,
              "#fdca26"
             ],
             [
              1,
              "#f0f921"
             ]
            ],
            "type": "heatmap"
           }
          ],
          "heatmapgl": [
           {
            "colorbar": {
             "outlinewidth": 0,
             "ticks": ""
            },
            "colorscale": [
             [
              0,
              "#0d0887"
             ],
             [
              0.1111111111111111,
              "#46039f"
             ],
             [
              0.2222222222222222,
              "#7201a8"
             ],
             [
              0.3333333333333333,
              "#9c179e"
             ],
             [
              0.4444444444444444,
              "#bd3786"
             ],
             [
              0.5555555555555556,
              "#d8576b"
             ],
             [
              0.6666666666666666,
              "#ed7953"
             ],
             [
              0.7777777777777778,
              "#fb9f3a"
             ],
             [
              0.8888888888888888,
              "#fdca26"
             ],
             [
              1,
              "#f0f921"
             ]
            ],
            "type": "heatmapgl"
           }
          ],
          "histogram": [
           {
            "marker": {
             "pattern": {
              "fillmode": "overlay",
              "size": 10,
              "solidity": 0.2
             }
            },
            "type": "histogram"
           }
          ],
          "histogram2d": [
           {
            "colorbar": {
             "outlinewidth": 0,
             "ticks": ""
            },
            "colorscale": [
             [
              0,
              "#0d0887"
             ],
             [
              0.1111111111111111,
              "#46039f"
             ],
             [
              0.2222222222222222,
              "#7201a8"
             ],
             [
              0.3333333333333333,
              "#9c179e"
             ],
             [
              0.4444444444444444,
              "#bd3786"
             ],
             [
              0.5555555555555556,
              "#d8576b"
             ],
             [
              0.6666666666666666,
              "#ed7953"
             ],
             [
              0.7777777777777778,
              "#fb9f3a"
             ],
             [
              0.8888888888888888,
              "#fdca26"
             ],
             [
              1,
              "#f0f921"
             ]
            ],
            "type": "histogram2d"
           }
          ],
          "histogram2dcontour": [
           {
            "colorbar": {
             "outlinewidth": 0,
             "ticks": ""
            },
            "colorscale": [
             [
              0,
              "#0d0887"
             ],
             [
              0.1111111111111111,
              "#46039f"
             ],
             [
              0.2222222222222222,
              "#7201a8"
             ],
             [
              0.3333333333333333,
              "#9c179e"
             ],
             [
              0.4444444444444444,
              "#bd3786"
             ],
             [
              0.5555555555555556,
              "#d8576b"
             ],
             [
              0.6666666666666666,
              "#ed7953"
             ],
             [
              0.7777777777777778,
              "#fb9f3a"
             ],
             [
              0.8888888888888888,
              "#fdca26"
             ],
             [
              1,
              "#f0f921"
             ]
            ],
            "type": "histogram2dcontour"
           }
          ],
          "mesh3d": [
           {
            "colorbar": {
             "outlinewidth": 0,
             "ticks": ""
            },
            "type": "mesh3d"
           }
          ],
          "parcoords": [
           {
            "line": {
             "colorbar": {
              "outlinewidth": 0,
              "ticks": ""
             }
            },
            "type": "parcoords"
           }
          ],
          "pie": [
           {
            "automargin": true,
            "type": "pie"
           }
          ],
          "scatter": [
           {
            "marker": {
             "colorbar": {
              "outlinewidth": 0,
              "ticks": ""
             }
            },
            "type": "scatter"
           }
          ],
          "scatter3d": [
           {
            "line": {
             "colorbar": {
              "outlinewidth": 0,
              "ticks": ""
             }
            },
            "marker": {
             "colorbar": {
              "outlinewidth": 0,
              "ticks": ""
             }
            },
            "type": "scatter3d"
           }
          ],
          "scattercarpet": [
           {
            "marker": {
             "colorbar": {
              "outlinewidth": 0,
              "ticks": ""
             }
            },
            "type": "scattercarpet"
           }
          ],
          "scattergeo": [
           {
            "marker": {
             "colorbar": {
              "outlinewidth": 0,
              "ticks": ""
             }
            },
            "type": "scattergeo"
           }
          ],
          "scattergl": [
           {
            "marker": {
             "colorbar": {
              "outlinewidth": 0,
              "ticks": ""
             }
            },
            "type": "scattergl"
           }
          ],
          "scattermapbox": [
           {
            "marker": {
             "colorbar": {
              "outlinewidth": 0,
              "ticks": ""
             }
            },
            "type": "scattermapbox"
           }
          ],
          "scatterpolar": [
           {
            "marker": {
             "colorbar": {
              "outlinewidth": 0,
              "ticks": ""
             }
            },
            "type": "scatterpolar"
           }
          ],
          "scatterpolargl": [
           {
            "marker": {
             "colorbar": {
              "outlinewidth": 0,
              "ticks": ""
             }
            },
            "type": "scatterpolargl"
           }
          ],
          "scatterternary": [
           {
            "marker": {
             "colorbar": {
              "outlinewidth": 0,
              "ticks": ""
             }
            },
            "type": "scatterternary"
           }
          ],
          "surface": [
           {
            "colorbar": {
             "outlinewidth": 0,
             "ticks": ""
            },
            "colorscale": [
             [
              0,
              "#0d0887"
             ],
             [
              0.1111111111111111,
              "#46039f"
             ],
             [
              0.2222222222222222,
              "#7201a8"
             ],
             [
              0.3333333333333333,
              "#9c179e"
             ],
             [
              0.4444444444444444,
              "#bd3786"
             ],
             [
              0.5555555555555556,
              "#d8576b"
             ],
             [
              0.6666666666666666,
              "#ed7953"
             ],
             [
              0.7777777777777778,
              "#fb9f3a"
             ],
             [
              0.8888888888888888,
              "#fdca26"
             ],
             [
              1,
              "#f0f921"
             ]
            ],
            "type": "surface"
           }
          ],
          "table": [
           {
            "cells": {
             "fill": {
              "color": "#EBF0F8"
             },
             "line": {
              "color": "white"
             }
            },
            "header": {
             "fill": {
              "color": "#C8D4E3"
             },
             "line": {
              "color": "white"
             }
            },
            "type": "table"
           }
          ]
         },
         "layout": {
          "annotationdefaults": {
           "arrowcolor": "#2a3f5f",
           "arrowhead": 0,
           "arrowwidth": 1
          },
          "autotypenumbers": "strict",
          "coloraxis": {
           "colorbar": {
            "outlinewidth": 0,
            "ticks": ""
           }
          },
          "colorscale": {
           "diverging": [
            [
             0,
             "#8e0152"
            ],
            [
             0.1,
             "#c51b7d"
            ],
            [
             0.2,
             "#de77ae"
            ],
            [
             0.3,
             "#f1b6da"
            ],
            [
             0.4,
             "#fde0ef"
            ],
            [
             0.5,
             "#f7f7f7"
            ],
            [
             0.6,
             "#e6f5d0"
            ],
            [
             0.7,
             "#b8e186"
            ],
            [
             0.8,
             "#7fbc41"
            ],
            [
             0.9,
             "#4d9221"
            ],
            [
             1,
             "#276419"
            ]
           ],
           "sequential": [
            [
             0,
             "#0d0887"
            ],
            [
             0.1111111111111111,
             "#46039f"
            ],
            [
             0.2222222222222222,
             "#7201a8"
            ],
            [
             0.3333333333333333,
             "#9c179e"
            ],
            [
             0.4444444444444444,
             "#bd3786"
            ],
            [
             0.5555555555555556,
             "#d8576b"
            ],
            [
             0.6666666666666666,
             "#ed7953"
            ],
            [
             0.7777777777777778,
             "#fb9f3a"
            ],
            [
             0.8888888888888888,
             "#fdca26"
            ],
            [
             1,
             "#f0f921"
            ]
           ],
           "sequentialminus": [
            [
             0,
             "#0d0887"
            ],
            [
             0.1111111111111111,
             "#46039f"
            ],
            [
             0.2222222222222222,
             "#7201a8"
            ],
            [
             0.3333333333333333,
             "#9c179e"
            ],
            [
             0.4444444444444444,
             "#bd3786"
            ],
            [
             0.5555555555555556,
             "#d8576b"
            ],
            [
             0.6666666666666666,
             "#ed7953"
            ],
            [
             0.7777777777777778,
             "#fb9f3a"
            ],
            [
             0.8888888888888888,
             "#fdca26"
            ],
            [
             1,
             "#f0f921"
            ]
           ]
          },
          "colorway": [
           "#636efa",
           "#EF553B",
           "#00cc96",
           "#ab63fa",
           "#FFA15A",
           "#19d3f3",
           "#FF6692",
           "#B6E880",
           "#FF97FF",
           "#FECB52"
          ],
          "font": {
           "color": "#2a3f5f"
          },
          "geo": {
           "bgcolor": "white",
           "lakecolor": "white",
           "landcolor": "#E5ECF6",
           "showlakes": true,
           "showland": true,
           "subunitcolor": "white"
          },
          "hoverlabel": {
           "align": "left"
          },
          "hovermode": "closest",
          "mapbox": {
           "style": "light"
          },
          "paper_bgcolor": "white",
          "plot_bgcolor": "#E5ECF6",
          "polar": {
           "angularaxis": {
            "gridcolor": "white",
            "linecolor": "white",
            "ticks": ""
           },
           "bgcolor": "#E5ECF6",
           "radialaxis": {
            "gridcolor": "white",
            "linecolor": "white",
            "ticks": ""
           }
          },
          "scene": {
           "xaxis": {
            "backgroundcolor": "#E5ECF6",
            "gridcolor": "white",
            "gridwidth": 2,
            "linecolor": "white",
            "showbackground": true,
            "ticks": "",
            "zerolinecolor": "white"
           },
           "yaxis": {
            "backgroundcolor": "#E5ECF6",
            "gridcolor": "white",
            "gridwidth": 2,
            "linecolor": "white",
            "showbackground": true,
            "ticks": "",
            "zerolinecolor": "white"
           },
           "zaxis": {
            "backgroundcolor": "#E5ECF6",
            "gridcolor": "white",
            "gridwidth": 2,
            "linecolor": "white",
            "showbackground": true,
            "ticks": "",
            "zerolinecolor": "white"
           }
          },
          "shapedefaults": {
           "line": {
            "color": "#2a3f5f"
           }
          },
          "ternary": {
           "aaxis": {
            "gridcolor": "white",
            "linecolor": "white",
            "ticks": ""
           },
           "baxis": {
            "gridcolor": "white",
            "linecolor": "white",
            "ticks": ""
           },
           "bgcolor": "#E5ECF6",
           "caxis": {
            "gridcolor": "white",
            "linecolor": "white",
            "ticks": ""
           }
          },
          "title": {
           "x": 0.05
          },
          "xaxis": {
           "automargin": true,
           "gridcolor": "white",
           "linecolor": "white",
           "ticks": "",
           "title": {
            "standoff": 15
           },
           "zerolinecolor": "white",
           "zerolinewidth": 2
          },
          "yaxis": {
           "automargin": true,
           "gridcolor": "white",
           "linecolor": "white",
           "ticks": "",
           "title": {
            "standoff": 15
           },
           "zerolinecolor": "white",
           "zerolinewidth": 2
          }
         }
        },
        "title": {
         "font": {
          "size": 22
         },
         "text": "Umbrella Features (Target: CRT_ACC; Data: Dropped; Model: ridge)",
         "x": 0.5,
         "xanchor": "center",
         "y": 0.92,
         "yanchor": "top"
        },
        "width": 1000,
        "xaxis": {
         "title": {
          "font": {
           "size": 15
          },
          "text": "R Median"
         }
        },
        "yaxis": {
         "tickmode": "linear",
         "title": {
          "font": {
           "size": 15
          },
          "text": "Feature Name"
         }
        }
       }
      },
      "text/html": [
       "<div>                            <div id=\"fb708782-5043-45c7-a518-8d6ea1ef2822\" class=\"plotly-graph-div\" style=\"height:800px; width:1000px;\"></div>            <script type=\"text/javascript\">                require([\"plotly\"], function(Plotly) {                    window.PLOTLYENV=window.PLOTLYENV || {};                                    if (document.getElementById(\"fb708782-5043-45c7-a518-8d6ea1ef2822\")) {                    Plotly.newPlot(                        \"fb708782-5043-45c7-a518-8d6ea1ef2822\",                        [{\"marker\":{\"color\":[\"lightslategray\",\"lightslategray\",\"lightslategray\",\"lightslategray\",\"lightslategray\",\"lightslategray\",\"lightslategray\",\"lightslategray\",\"lightslategray\",\"lightslategray\",\"lightslategray\",\"lightslategray\"]},\"orientation\":\"h\",\"text\":[\"0.05\",\"0.09\",\"0.12\",\"0.14\",\"0.14\",\"0.15\",\"0.17\",\"0.17\",\"0.18\",\"0.20\",\"0.26\",\"0.28\"],\"textfont\":{\"size\":10},\"textposition\":\"outside\",\"type\":\"bar\",\"x\":[0.054112274185832004,0.09036926398118955,0.11959002038442004,0.14322980069058847,0.14478110600440752,0.15173158596445127,0.17410708034721467,0.17495940829398304,0.17813172563209984,0.19874384911586135,0.2602552377258205,0.28055273526537583],\"y\":[\"profile_features\",\"mention_features\",\"emotional_features\",\"follower_features\",\"hashtag_features\",\"all_text_addendums\",\"all_text_words\",\"domain_features\",\"all_text\",\"text_features\",\"all_friends\",\"followee_features\"]}],                        {\"font\":{\"color\":\"black\",\"family\":\"Courier New, monospace\",\"size\":10},\"height\":800,\"template\":{\"data\":{\"bar\":[{\"error_x\":{\"color\":\"#2a3f5f\"},\"error_y\":{\"color\":\"#2a3f5f\"},\"marker\":{\"line\":{\"color\":\"#E5ECF6\",\"width\":0.5},\"pattern\":{\"fillmode\":\"overlay\",\"size\":10,\"solidity\":0.2}},\"type\":\"bar\"}],\"barpolar\":[{\"marker\":{\"line\":{\"color\":\"#E5ECF6\",\"width\":0.5},\"pattern\":{\"fillmode\":\"overlay\",\"size\":10,\"solidity\":0.2}},\"type\":\"barpolar\"}],\"carpet\":[{\"aaxis\":{\"endlinecolor\":\"#2a3f5f\",\"gridcolor\":\"white\",\"linecolor\":\"white\",\"minorgridcolor\":\"white\",\"startlinecolor\":\"#2a3f5f\"},\"baxis\":{\"endlinecolor\":\"#2a3f5f\",\"gridcolor\":\"white\",\"linecolor\":\"white\",\"minorgridcolor\":\"white\",\"startlinecolor\":\"#2a3f5f\"},\"type\":\"carpet\"}],\"choropleth\":[{\"colorbar\":{\"outlinewidth\":0,\"ticks\":\"\"},\"type\":\"choropleth\"}],\"contour\":[{\"colorbar\":{\"outlinewidth\":0,\"ticks\":\"\"},\"colorscale\":[[0.0,\"#0d0887\"],[0.1111111111111111,\"#46039f\"],[0.2222222222222222,\"#7201a8\"],[0.3333333333333333,\"#9c179e\"],[0.4444444444444444,\"#bd3786\"],[0.5555555555555556,\"#d8576b\"],[0.6666666666666666,\"#ed7953\"],[0.7777777777777778,\"#fb9f3a\"],[0.8888888888888888,\"#fdca26\"],[1.0,\"#f0f921\"]],\"type\":\"contour\"}],\"contourcarpet\":[{\"colorbar\":{\"outlinewidth\":0,\"ticks\":\"\"},\"type\":\"contourcarpet\"}],\"heatmap\":[{\"colorbar\":{\"outlinewidth\":0,\"ticks\":\"\"},\"colorscale\":[[0.0,\"#0d0887\"],[0.1111111111111111,\"#46039f\"],[0.2222222222222222,\"#7201a8\"],[0.3333333333333333,\"#9c179e\"],[0.4444444444444444,\"#bd3786\"],[0.5555555555555556,\"#d8576b\"],[0.6666666666666666,\"#ed7953\"],[0.7777777777777778,\"#fb9f3a\"],[0.8888888888888888,\"#fdca26\"],[1.0,\"#f0f921\"]],\"type\":\"heatmap\"}],\"heatmapgl\":[{\"colorbar\":{\"outlinewidth\":0,\"ticks\":\"\"},\"colorscale\":[[0.0,\"#0d0887\"],[0.1111111111111111,\"#46039f\"],[0.2222222222222222,\"#7201a8\"],[0.3333333333333333,\"#9c179e\"],[0.4444444444444444,\"#bd3786\"],[0.5555555555555556,\"#d8576b\"],[0.6666666666666666,\"#ed7953\"],[0.7777777777777778,\"#fb9f3a\"],[0.8888888888888888,\"#fdca26\"],[1.0,\"#f0f921\"]],\"type\":\"heatmapgl\"}],\"histogram\":[{\"marker\":{\"pattern\":{\"fillmode\":\"overlay\",\"size\":10,\"solidity\":0.2}},\"type\":\"histogram\"}],\"histogram2d\":[{\"colorbar\":{\"outlinewidth\":0,\"ticks\":\"\"},\"colorscale\":[[0.0,\"#0d0887\"],[0.1111111111111111,\"#46039f\"],[0.2222222222222222,\"#7201a8\"],[0.3333333333333333,\"#9c179e\"],[0.4444444444444444,\"#bd3786\"],[0.5555555555555556,\"#d8576b\"],[0.6666666666666666,\"#ed7953\"],[0.7777777777777778,\"#fb9f3a\"],[0.8888888888888888,\"#fdca26\"],[1.0,\"#f0f921\"]],\"type\":\"histogram2d\"}],\"histogram2dcontour\":[{\"colorbar\":{\"outlinewidth\":0,\"ticks\":\"\"},\"colorscale\":[[0.0,\"#0d0887\"],[0.1111111111111111,\"#46039f\"],[0.2222222222222222,\"#7201a8\"],[0.3333333333333333,\"#9c179e\"],[0.4444444444444444,\"#bd3786\"],[0.5555555555555556,\"#d8576b\"],[0.6666666666666666,\"#ed7953\"],[0.7777777777777778,\"#fb9f3a\"],[0.8888888888888888,\"#fdca26\"],[1.0,\"#f0f921\"]],\"type\":\"histogram2dcontour\"}],\"mesh3d\":[{\"colorbar\":{\"outlinewidth\":0,\"ticks\":\"\"},\"type\":\"mesh3d\"}],\"parcoords\":[{\"line\":{\"colorbar\":{\"outlinewidth\":0,\"ticks\":\"\"}},\"type\":\"parcoords\"}],\"pie\":[{\"automargin\":true,\"type\":\"pie\"}],\"scatter\":[{\"marker\":{\"colorbar\":{\"outlinewidth\":0,\"ticks\":\"\"}},\"type\":\"scatter\"}],\"scatter3d\":[{\"line\":{\"colorbar\":{\"outlinewidth\":0,\"ticks\":\"\"}},\"marker\":{\"colorbar\":{\"outlinewidth\":0,\"ticks\":\"\"}},\"type\":\"scatter3d\"}],\"scattercarpet\":[{\"marker\":{\"colorbar\":{\"outlinewidth\":0,\"ticks\":\"\"}},\"type\":\"scattercarpet\"}],\"scattergeo\":[{\"marker\":{\"colorbar\":{\"outlinewidth\":0,\"ticks\":\"\"}},\"type\":\"scattergeo\"}],\"scattergl\":[{\"marker\":{\"colorbar\":{\"outlinewidth\":0,\"ticks\":\"\"}},\"type\":\"scattergl\"}],\"scattermapbox\":[{\"marker\":{\"colorbar\":{\"outlinewidth\":0,\"ticks\":\"\"}},\"type\":\"scattermapbox\"}],\"scatterpolar\":[{\"marker\":{\"colorbar\":{\"outlinewidth\":0,\"ticks\":\"\"}},\"type\":\"scatterpolar\"}],\"scatterpolargl\":[{\"marker\":{\"colorbar\":{\"outlinewidth\":0,\"ticks\":\"\"}},\"type\":\"scatterpolargl\"}],\"scatterternary\":[{\"marker\":{\"colorbar\":{\"outlinewidth\":0,\"ticks\":\"\"}},\"type\":\"scatterternary\"}],\"surface\":[{\"colorbar\":{\"outlinewidth\":0,\"ticks\":\"\"},\"colorscale\":[[0.0,\"#0d0887\"],[0.1111111111111111,\"#46039f\"],[0.2222222222222222,\"#7201a8\"],[0.3333333333333333,\"#9c179e\"],[0.4444444444444444,\"#bd3786\"],[0.5555555555555556,\"#d8576b\"],[0.6666666666666666,\"#ed7953\"],[0.7777777777777778,\"#fb9f3a\"],[0.8888888888888888,\"#fdca26\"],[1.0,\"#f0f921\"]],\"type\":\"surface\"}],\"table\":[{\"cells\":{\"fill\":{\"color\":\"#EBF0F8\"},\"line\":{\"color\":\"white\"}},\"header\":{\"fill\":{\"color\":\"#C8D4E3\"},\"line\":{\"color\":\"white\"}},\"type\":\"table\"}]},\"layout\":{\"annotationdefaults\":{\"arrowcolor\":\"#2a3f5f\",\"arrowhead\":0,\"arrowwidth\":1},\"autotypenumbers\":\"strict\",\"coloraxis\":{\"colorbar\":{\"outlinewidth\":0,\"ticks\":\"\"}},\"colorscale\":{\"diverging\":[[0,\"#8e0152\"],[0.1,\"#c51b7d\"],[0.2,\"#de77ae\"],[0.3,\"#f1b6da\"],[0.4,\"#fde0ef\"],[0.5,\"#f7f7f7\"],[0.6,\"#e6f5d0\"],[0.7,\"#b8e186\"],[0.8,\"#7fbc41\"],[0.9,\"#4d9221\"],[1,\"#276419\"]],\"sequential\":[[0.0,\"#0d0887\"],[0.1111111111111111,\"#46039f\"],[0.2222222222222222,\"#7201a8\"],[0.3333333333333333,\"#9c179e\"],[0.4444444444444444,\"#bd3786\"],[0.5555555555555556,\"#d8576b\"],[0.6666666666666666,\"#ed7953\"],[0.7777777777777778,\"#fb9f3a\"],[0.8888888888888888,\"#fdca26\"],[1.0,\"#f0f921\"]],\"sequentialminus\":[[0.0,\"#0d0887\"],[0.1111111111111111,\"#46039f\"],[0.2222222222222222,\"#7201a8\"],[0.3333333333333333,\"#9c179e\"],[0.4444444444444444,\"#bd3786\"],[0.5555555555555556,\"#d8576b\"],[0.6666666666666666,\"#ed7953\"],[0.7777777777777778,\"#fb9f3a\"],[0.8888888888888888,\"#fdca26\"],[1.0,\"#f0f921\"]]},\"colorway\":[\"#636efa\",\"#EF553B\",\"#00cc96\",\"#ab63fa\",\"#FFA15A\",\"#19d3f3\",\"#FF6692\",\"#B6E880\",\"#FF97FF\",\"#FECB52\"],\"font\":{\"color\":\"#2a3f5f\"},\"geo\":{\"bgcolor\":\"white\",\"lakecolor\":\"white\",\"landcolor\":\"#E5ECF6\",\"showlakes\":true,\"showland\":true,\"subunitcolor\":\"white\"},\"hoverlabel\":{\"align\":\"left\"},\"hovermode\":\"closest\",\"mapbox\":{\"style\":\"light\"},\"paper_bgcolor\":\"white\",\"plot_bgcolor\":\"#E5ECF6\",\"polar\":{\"angularaxis\":{\"gridcolor\":\"white\",\"linecolor\":\"white\",\"ticks\":\"\"},\"bgcolor\":\"#E5ECF6\",\"radialaxis\":{\"gridcolor\":\"white\",\"linecolor\":\"white\",\"ticks\":\"\"}},\"scene\":{\"xaxis\":{\"backgroundcolor\":\"#E5ECF6\",\"gridcolor\":\"white\",\"gridwidth\":2,\"linecolor\":\"white\",\"showbackground\":true,\"ticks\":\"\",\"zerolinecolor\":\"white\"},\"yaxis\":{\"backgroundcolor\":\"#E5ECF6\",\"gridcolor\":\"white\",\"gridwidth\":2,\"linecolor\":\"white\",\"showbackground\":true,\"ticks\":\"\",\"zerolinecolor\":\"white\"},\"zaxis\":{\"backgroundcolor\":\"#E5ECF6\",\"gridcolor\":\"white\",\"gridwidth\":2,\"linecolor\":\"white\",\"showbackground\":true,\"ticks\":\"\",\"zerolinecolor\":\"white\"}},\"shapedefaults\":{\"line\":{\"color\":\"#2a3f5f\"}},\"ternary\":{\"aaxis\":{\"gridcolor\":\"white\",\"linecolor\":\"white\",\"ticks\":\"\"},\"baxis\":{\"gridcolor\":\"white\",\"linecolor\":\"white\",\"ticks\":\"\"},\"bgcolor\":\"#E5ECF6\",\"caxis\":{\"gridcolor\":\"white\",\"linecolor\":\"white\",\"ticks\":\"\"}},\"title\":{\"x\":0.05},\"xaxis\":{\"automargin\":true,\"gridcolor\":\"white\",\"linecolor\":\"white\",\"ticks\":\"\",\"title\":{\"standoff\":15},\"zerolinecolor\":\"white\",\"zerolinewidth\":2},\"yaxis\":{\"automargin\":true,\"gridcolor\":\"white\",\"linecolor\":\"white\",\"ticks\":\"\",\"title\":{\"standoff\":15},\"zerolinecolor\":\"white\",\"zerolinewidth\":2}}},\"title\":{\"font\":{\"size\":22},\"text\":\"Umbrella Features (Target: CRT_ACC; Data: Dropped; Model: ridge)\",\"x\":0.5,\"xanchor\":\"center\",\"y\":0.92,\"yanchor\":\"top\"},\"width\":1000,\"xaxis\":{\"title\":{\"font\":{\"size\":15},\"text\":\"R Median\"}},\"yaxis\":{\"tickmode\":\"linear\",\"title\":{\"font\":{\"size\":15},\"text\":\"Feature Name\"}}},                        {\"responsive\": true}                    ).then(function(){\n",
       "                            \n",
       "var gd = document.getElementById('fb708782-5043-45c7-a518-8d6ea1ef2822');\n",
       "var x = new MutationObserver(function (mutations, observer) {{\n",
       "        var display = window.getComputedStyle(gd).display;\n",
       "        if (!display || display === 'none') {{\n",
       "            console.log([gd, 'removed!']);\n",
       "            Plotly.purge(gd);\n",
       "            observer.disconnect();\n",
       "        }}\n",
       "}});\n",
       "\n",
       "// Listen for the removal of the full notebook cells\n",
       "var notebookContainer = gd.closest('#notebook-container');\n",
       "if (notebookContainer) {{\n",
       "    x.observe(notebookContainer, {childList: true});\n",
       "}}\n",
       "\n",
       "// Listen for the clearing of the current output cell\n",
       "var outputEl = gd.closest('.output');\n",
       "if (outputEl) {{\n",
       "    x.observe(outputEl, {childList: true});\n",
       "}}\n",
       "\n",
       "                        })                };                });            </script>        </div>"
      ]
     },
     "metadata": {},
     "output_type": "display_data"
    },
    {
     "data": {
      "application/vnd.plotly.v1+json": {
       "config": {
        "plotlyServerURL": "https://plot.ly"
       },
       "data": [
        {
         "cells": {
          "align": "left",
          "fill": {
           "color": "lightgray"
          },
          "values": [
           [
            "followee_features",
            "all_friends",
            "text_features",
            "all_text",
            "domain_features",
            "all_text_words",
            "all_text_addendums",
            "hashtag_features",
            "follower_features",
            "emotional_features",
            "mention_features",
            "profile_features"
           ],
           [
            "0.28055",
            "0.26026",
            "0.19874",
            "0.17813",
            "0.17496",
            "0.17411",
            "0.15173",
            "0.14478",
            "0.14323",
            "0.11959",
            "0.09037",
            "0.05411"
           ],
           [
            "0.00645",
            "0.01177",
            "0.05624",
            "0.08778",
            "0.09384",
            "0.09513",
            "0.14675",
            "0.16617",
            "0.17092",
            "0.25356",
            "0.38902",
            "0.60644"
           ],
           [
            "0.06620",
            "0.06067",
            "0.04429",
            "0.02892",
            "0.01598",
            "0.02789",
            "0.01037",
            "0.00836",
            "0.01348",
            "0.00880",
            "-0.00267",
            "-0.00173"
           ],
           [
            0,
            0,
            0,
            0,
            0,
            0,
            0,
            0,
            0,
            0,
            0,
            0
           ]
          ]
         },
         "header": {
          "align": "left",
          "fill": {
           "color": "cornflowerblue"
          },
          "values": [
           "Feature Name",
           "R Median",
           "P Median",
           "R^2 Median",
           "Dropped Count"
          ]
         },
         "type": "table"
        }
       ],
       "layout": {
        "font": {
         "color": "black",
         "family": "Courier New, monospace",
         "size": 12
        },
        "template": {
         "data": {
          "bar": [
           {
            "error_x": {
             "color": "#2a3f5f"
            },
            "error_y": {
             "color": "#2a3f5f"
            },
            "marker": {
             "line": {
              "color": "#E5ECF6",
              "width": 0.5
             },
             "pattern": {
              "fillmode": "overlay",
              "size": 10,
              "solidity": 0.2
             }
            },
            "type": "bar"
           }
          ],
          "barpolar": [
           {
            "marker": {
             "line": {
              "color": "#E5ECF6",
              "width": 0.5
             },
             "pattern": {
              "fillmode": "overlay",
              "size": 10,
              "solidity": 0.2
             }
            },
            "type": "barpolar"
           }
          ],
          "carpet": [
           {
            "aaxis": {
             "endlinecolor": "#2a3f5f",
             "gridcolor": "white",
             "linecolor": "white",
             "minorgridcolor": "white",
             "startlinecolor": "#2a3f5f"
            },
            "baxis": {
             "endlinecolor": "#2a3f5f",
             "gridcolor": "white",
             "linecolor": "white",
             "minorgridcolor": "white",
             "startlinecolor": "#2a3f5f"
            },
            "type": "carpet"
           }
          ],
          "choropleth": [
           {
            "colorbar": {
             "outlinewidth": 0,
             "ticks": ""
            },
            "type": "choropleth"
           }
          ],
          "contour": [
           {
            "colorbar": {
             "outlinewidth": 0,
             "ticks": ""
            },
            "colorscale": [
             [
              0,
              "#0d0887"
             ],
             [
              0.1111111111111111,
              "#46039f"
             ],
             [
              0.2222222222222222,
              "#7201a8"
             ],
             [
              0.3333333333333333,
              "#9c179e"
             ],
             [
              0.4444444444444444,
              "#bd3786"
             ],
             [
              0.5555555555555556,
              "#d8576b"
             ],
             [
              0.6666666666666666,
              "#ed7953"
             ],
             [
              0.7777777777777778,
              "#fb9f3a"
             ],
             [
              0.8888888888888888,
              "#fdca26"
             ],
             [
              1,
              "#f0f921"
             ]
            ],
            "type": "contour"
           }
          ],
          "contourcarpet": [
           {
            "colorbar": {
             "outlinewidth": 0,
             "ticks": ""
            },
            "type": "contourcarpet"
           }
          ],
          "heatmap": [
           {
            "colorbar": {
             "outlinewidth": 0,
             "ticks": ""
            },
            "colorscale": [
             [
              0,
              "#0d0887"
             ],
             [
              0.1111111111111111,
              "#46039f"
             ],
             [
              0.2222222222222222,
              "#7201a8"
             ],
             [
              0.3333333333333333,
              "#9c179e"
             ],
             [
              0.4444444444444444,
              "#bd3786"
             ],
             [
              0.5555555555555556,
              "#d8576b"
             ],
             [
              0.6666666666666666,
              "#ed7953"
             ],
             [
              0.7777777777777778,
              "#fb9f3a"
             ],
             [
              0.8888888888888888,
              "#fdca26"
             ],
             [
              1,
              "#f0f921"
             ]
            ],
            "type": "heatmap"
           }
          ],
          "heatmapgl": [
           {
            "colorbar": {
             "outlinewidth": 0,
             "ticks": ""
            },
            "colorscale": [
             [
              0,
              "#0d0887"
             ],
             [
              0.1111111111111111,
              "#46039f"
             ],
             [
              0.2222222222222222,
              "#7201a8"
             ],
             [
              0.3333333333333333,
              "#9c179e"
             ],
             [
              0.4444444444444444,
              "#bd3786"
             ],
             [
              0.5555555555555556,
              "#d8576b"
             ],
             [
              0.6666666666666666,
              "#ed7953"
             ],
             [
              0.7777777777777778,
              "#fb9f3a"
             ],
             [
              0.8888888888888888,
              "#fdca26"
             ],
             [
              1,
              "#f0f921"
             ]
            ],
            "type": "heatmapgl"
           }
          ],
          "histogram": [
           {
            "marker": {
             "pattern": {
              "fillmode": "overlay",
              "size": 10,
              "solidity": 0.2
             }
            },
            "type": "histogram"
           }
          ],
          "histogram2d": [
           {
            "colorbar": {
             "outlinewidth": 0,
             "ticks": ""
            },
            "colorscale": [
             [
              0,
              "#0d0887"
             ],
             [
              0.1111111111111111,
              "#46039f"
             ],
             [
              0.2222222222222222,
              "#7201a8"
             ],
             [
              0.3333333333333333,
              "#9c179e"
             ],
             [
              0.4444444444444444,
              "#bd3786"
             ],
             [
              0.5555555555555556,
              "#d8576b"
             ],
             [
              0.6666666666666666,
              "#ed7953"
             ],
             [
              0.7777777777777778,
              "#fb9f3a"
             ],
             [
              0.8888888888888888,
              "#fdca26"
             ],
             [
              1,
              "#f0f921"
             ]
            ],
            "type": "histogram2d"
           }
          ],
          "histogram2dcontour": [
           {
            "colorbar": {
             "outlinewidth": 0,
             "ticks": ""
            },
            "colorscale": [
             [
              0,
              "#0d0887"
             ],
             [
              0.1111111111111111,
              "#46039f"
             ],
             [
              0.2222222222222222,
              "#7201a8"
             ],
             [
              0.3333333333333333,
              "#9c179e"
             ],
             [
              0.4444444444444444,
              "#bd3786"
             ],
             [
              0.5555555555555556,
              "#d8576b"
             ],
             [
              0.6666666666666666,
              "#ed7953"
             ],
             [
              0.7777777777777778,
              "#fb9f3a"
             ],
             [
              0.8888888888888888,
              "#fdca26"
             ],
             [
              1,
              "#f0f921"
             ]
            ],
            "type": "histogram2dcontour"
           }
          ],
          "mesh3d": [
           {
            "colorbar": {
             "outlinewidth": 0,
             "ticks": ""
            },
            "type": "mesh3d"
           }
          ],
          "parcoords": [
           {
            "line": {
             "colorbar": {
              "outlinewidth": 0,
              "ticks": ""
             }
            },
            "type": "parcoords"
           }
          ],
          "pie": [
           {
            "automargin": true,
            "type": "pie"
           }
          ],
          "scatter": [
           {
            "marker": {
             "colorbar": {
              "outlinewidth": 0,
              "ticks": ""
             }
            },
            "type": "scatter"
           }
          ],
          "scatter3d": [
           {
            "line": {
             "colorbar": {
              "outlinewidth": 0,
              "ticks": ""
             }
            },
            "marker": {
             "colorbar": {
              "outlinewidth": 0,
              "ticks": ""
             }
            },
            "type": "scatter3d"
           }
          ],
          "scattercarpet": [
           {
            "marker": {
             "colorbar": {
              "outlinewidth": 0,
              "ticks": ""
             }
            },
            "type": "scattercarpet"
           }
          ],
          "scattergeo": [
           {
            "marker": {
             "colorbar": {
              "outlinewidth": 0,
              "ticks": ""
             }
            },
            "type": "scattergeo"
           }
          ],
          "scattergl": [
           {
            "marker": {
             "colorbar": {
              "outlinewidth": 0,
              "ticks": ""
             }
            },
            "type": "scattergl"
           }
          ],
          "scattermapbox": [
           {
            "marker": {
             "colorbar": {
              "outlinewidth": 0,
              "ticks": ""
             }
            },
            "type": "scattermapbox"
           }
          ],
          "scatterpolar": [
           {
            "marker": {
             "colorbar": {
              "outlinewidth": 0,
              "ticks": ""
             }
            },
            "type": "scatterpolar"
           }
          ],
          "scatterpolargl": [
           {
            "marker": {
             "colorbar": {
              "outlinewidth": 0,
              "ticks": ""
             }
            },
            "type": "scatterpolargl"
           }
          ],
          "scatterternary": [
           {
            "marker": {
             "colorbar": {
              "outlinewidth": 0,
              "ticks": ""
             }
            },
            "type": "scatterternary"
           }
          ],
          "surface": [
           {
            "colorbar": {
             "outlinewidth": 0,
             "ticks": ""
            },
            "colorscale": [
             [
              0,
              "#0d0887"
             ],
             [
              0.1111111111111111,
              "#46039f"
             ],
             [
              0.2222222222222222,
              "#7201a8"
             ],
             [
              0.3333333333333333,
              "#9c179e"
             ],
             [
              0.4444444444444444,
              "#bd3786"
             ],
             [
              0.5555555555555556,
              "#d8576b"
             ],
             [
              0.6666666666666666,
              "#ed7953"
             ],
             [
              0.7777777777777778,
              "#fb9f3a"
             ],
             [
              0.8888888888888888,
              "#fdca26"
             ],
             [
              1,
              "#f0f921"
             ]
            ],
            "type": "surface"
           }
          ],
          "table": [
           {
            "cells": {
             "fill": {
              "color": "#EBF0F8"
             },
             "line": {
              "color": "white"
             }
            },
            "header": {
             "fill": {
              "color": "#C8D4E3"
             },
             "line": {
              "color": "white"
             }
            },
            "type": "table"
           }
          ]
         },
         "layout": {
          "annotationdefaults": {
           "arrowcolor": "#2a3f5f",
           "arrowhead": 0,
           "arrowwidth": 1
          },
          "autotypenumbers": "strict",
          "coloraxis": {
           "colorbar": {
            "outlinewidth": 0,
            "ticks": ""
           }
          },
          "colorscale": {
           "diverging": [
            [
             0,
             "#8e0152"
            ],
            [
             0.1,
             "#c51b7d"
            ],
            [
             0.2,
             "#de77ae"
            ],
            [
             0.3,
             "#f1b6da"
            ],
            [
             0.4,
             "#fde0ef"
            ],
            [
             0.5,
             "#f7f7f7"
            ],
            [
             0.6,
             "#e6f5d0"
            ],
            [
             0.7,
             "#b8e186"
            ],
            [
             0.8,
             "#7fbc41"
            ],
            [
             0.9,
             "#4d9221"
            ],
            [
             1,
             "#276419"
            ]
           ],
           "sequential": [
            [
             0,
             "#0d0887"
            ],
            [
             0.1111111111111111,
             "#46039f"
            ],
            [
             0.2222222222222222,
             "#7201a8"
            ],
            [
             0.3333333333333333,
             "#9c179e"
            ],
            [
             0.4444444444444444,
             "#bd3786"
            ],
            [
             0.5555555555555556,
             "#d8576b"
            ],
            [
             0.6666666666666666,
             "#ed7953"
            ],
            [
             0.7777777777777778,
             "#fb9f3a"
            ],
            [
             0.8888888888888888,
             "#fdca26"
            ],
            [
             1,
             "#f0f921"
            ]
           ],
           "sequentialminus": [
            [
             0,
             "#0d0887"
            ],
            [
             0.1111111111111111,
             "#46039f"
            ],
            [
             0.2222222222222222,
             "#7201a8"
            ],
            [
             0.3333333333333333,
             "#9c179e"
            ],
            [
             0.4444444444444444,
             "#bd3786"
            ],
            [
             0.5555555555555556,
             "#d8576b"
            ],
            [
             0.6666666666666666,
             "#ed7953"
            ],
            [
             0.7777777777777778,
             "#fb9f3a"
            ],
            [
             0.8888888888888888,
             "#fdca26"
            ],
            [
             1,
             "#f0f921"
            ]
           ]
          },
          "colorway": [
           "#636efa",
           "#EF553B",
           "#00cc96",
           "#ab63fa",
           "#FFA15A",
           "#19d3f3",
           "#FF6692",
           "#B6E880",
           "#FF97FF",
           "#FECB52"
          ],
          "font": {
           "color": "#2a3f5f"
          },
          "geo": {
           "bgcolor": "white",
           "lakecolor": "white",
           "landcolor": "#E5ECF6",
           "showlakes": true,
           "showland": true,
           "subunitcolor": "white"
          },
          "hoverlabel": {
           "align": "left"
          },
          "hovermode": "closest",
          "mapbox": {
           "style": "light"
          },
          "paper_bgcolor": "white",
          "plot_bgcolor": "#E5ECF6",
          "polar": {
           "angularaxis": {
            "gridcolor": "white",
            "linecolor": "white",
            "ticks": ""
           },
           "bgcolor": "#E5ECF6",
           "radialaxis": {
            "gridcolor": "white",
            "linecolor": "white",
            "ticks": ""
           }
          },
          "scene": {
           "xaxis": {
            "backgroundcolor": "#E5ECF6",
            "gridcolor": "white",
            "gridwidth": 2,
            "linecolor": "white",
            "showbackground": true,
            "ticks": "",
            "zerolinecolor": "white"
           },
           "yaxis": {
            "backgroundcolor": "#E5ECF6",
            "gridcolor": "white",
            "gridwidth": 2,
            "linecolor": "white",
            "showbackground": true,
            "ticks": "",
            "zerolinecolor": "white"
           },
           "zaxis": {
            "backgroundcolor": "#E5ECF6",
            "gridcolor": "white",
            "gridwidth": 2,
            "linecolor": "white",
            "showbackground": true,
            "ticks": "",
            "zerolinecolor": "white"
           }
          },
          "shapedefaults": {
           "line": {
            "color": "#2a3f5f"
           }
          },
          "ternary": {
           "aaxis": {
            "gridcolor": "white",
            "linecolor": "white",
            "ticks": ""
           },
           "baxis": {
            "gridcolor": "white",
            "linecolor": "white",
            "ticks": ""
           },
           "bgcolor": "#E5ECF6",
           "caxis": {
            "gridcolor": "white",
            "linecolor": "white",
            "ticks": ""
           }
          },
          "title": {
           "x": 0.05
          },
          "xaxis": {
           "automargin": true,
           "gridcolor": "white",
           "linecolor": "white",
           "ticks": "",
           "title": {
            "standoff": 15
           },
           "zerolinecolor": "white",
           "zerolinewidth": 2
          },
          "yaxis": {
           "automargin": true,
           "gridcolor": "white",
           "linecolor": "white",
           "ticks": "",
           "title": {
            "standoff": 15
           },
           "zerolinecolor": "white",
           "zerolinewidth": 2
          }
         }
        },
        "title": {
         "font": {
          "size": 22
         },
         "text": "Umbrella Features (Target: CRT_ACC; Data: Dropped; Model: ridge)",
         "x": 0.5,
         "xanchor": "center",
         "y": 0.89,
         "yanchor": "top"
        }
       }
      },
      "text/html": [
       "<div>                            <div id=\"45e50c33-019c-427c-a7c8-b4d0e2a90d6d\" class=\"plotly-graph-div\" style=\"height:525px; width:100%;\"></div>            <script type=\"text/javascript\">                require([\"plotly\"], function(Plotly) {                    window.PLOTLYENV=window.PLOTLYENV || {};                                    if (document.getElementById(\"45e50c33-019c-427c-a7c8-b4d0e2a90d6d\")) {                    Plotly.newPlot(                        \"45e50c33-019c-427c-a7c8-b4d0e2a90d6d\",                        [{\"cells\":{\"align\":\"left\",\"fill\":{\"color\":\"lightgray\"},\"values\":[[\"followee_features\",\"all_friends\",\"text_features\",\"all_text\",\"domain_features\",\"all_text_words\",\"all_text_addendums\",\"hashtag_features\",\"follower_features\",\"emotional_features\",\"mention_features\",\"profile_features\"],[\"0.28055\",\"0.26026\",\"0.19874\",\"0.17813\",\"0.17496\",\"0.17411\",\"0.15173\",\"0.14478\",\"0.14323\",\"0.11959\",\"0.09037\",\"0.05411\"],[\"0.00645\",\"0.01177\",\"0.05624\",\"0.08778\",\"0.09384\",\"0.09513\",\"0.14675\",\"0.16617\",\"0.17092\",\"0.25356\",\"0.38902\",\"0.60644\"],[\"0.06620\",\"0.06067\",\"0.04429\",\"0.02892\",\"0.01598\",\"0.02789\",\"0.01037\",\"0.00836\",\"0.01348\",\"0.00880\",\"-0.00267\",\"-0.00173\"],[0.0,0.0,0.0,0.0,0.0,0.0,0.0,0.0,0.0,0.0,0.0,0.0]]},\"header\":{\"align\":\"left\",\"fill\":{\"color\":\"cornflowerblue\"},\"values\":[\"Feature Name\",\"R Median\",\"P Median\",\"R^2 Median\",\"Dropped Count\"]},\"type\":\"table\"}],                        {\"font\":{\"color\":\"black\",\"family\":\"Courier New, monospace\",\"size\":12},\"template\":{\"data\":{\"bar\":[{\"error_x\":{\"color\":\"#2a3f5f\"},\"error_y\":{\"color\":\"#2a3f5f\"},\"marker\":{\"line\":{\"color\":\"#E5ECF6\",\"width\":0.5},\"pattern\":{\"fillmode\":\"overlay\",\"size\":10,\"solidity\":0.2}},\"type\":\"bar\"}],\"barpolar\":[{\"marker\":{\"line\":{\"color\":\"#E5ECF6\",\"width\":0.5},\"pattern\":{\"fillmode\":\"overlay\",\"size\":10,\"solidity\":0.2}},\"type\":\"barpolar\"}],\"carpet\":[{\"aaxis\":{\"endlinecolor\":\"#2a3f5f\",\"gridcolor\":\"white\",\"linecolor\":\"white\",\"minorgridcolor\":\"white\",\"startlinecolor\":\"#2a3f5f\"},\"baxis\":{\"endlinecolor\":\"#2a3f5f\",\"gridcolor\":\"white\",\"linecolor\":\"white\",\"minorgridcolor\":\"white\",\"startlinecolor\":\"#2a3f5f\"},\"type\":\"carpet\"}],\"choropleth\":[{\"colorbar\":{\"outlinewidth\":0,\"ticks\":\"\"},\"type\":\"choropleth\"}],\"contour\":[{\"colorbar\":{\"outlinewidth\":0,\"ticks\":\"\"},\"colorscale\":[[0.0,\"#0d0887\"],[0.1111111111111111,\"#46039f\"],[0.2222222222222222,\"#7201a8\"],[0.3333333333333333,\"#9c179e\"],[0.4444444444444444,\"#bd3786\"],[0.5555555555555556,\"#d8576b\"],[0.6666666666666666,\"#ed7953\"],[0.7777777777777778,\"#fb9f3a\"],[0.8888888888888888,\"#fdca26\"],[1.0,\"#f0f921\"]],\"type\":\"contour\"}],\"contourcarpet\":[{\"colorbar\":{\"outlinewidth\":0,\"ticks\":\"\"},\"type\":\"contourcarpet\"}],\"heatmap\":[{\"colorbar\":{\"outlinewidth\":0,\"ticks\":\"\"},\"colorscale\":[[0.0,\"#0d0887\"],[0.1111111111111111,\"#46039f\"],[0.2222222222222222,\"#7201a8\"],[0.3333333333333333,\"#9c179e\"],[0.4444444444444444,\"#bd3786\"],[0.5555555555555556,\"#d8576b\"],[0.6666666666666666,\"#ed7953\"],[0.7777777777777778,\"#fb9f3a\"],[0.8888888888888888,\"#fdca26\"],[1.0,\"#f0f921\"]],\"type\":\"heatmap\"}],\"heatmapgl\":[{\"colorbar\":{\"outlinewidth\":0,\"ticks\":\"\"},\"colorscale\":[[0.0,\"#0d0887\"],[0.1111111111111111,\"#46039f\"],[0.2222222222222222,\"#7201a8\"],[0.3333333333333333,\"#9c179e\"],[0.4444444444444444,\"#bd3786\"],[0.5555555555555556,\"#d8576b\"],[0.6666666666666666,\"#ed7953\"],[0.7777777777777778,\"#fb9f3a\"],[0.8888888888888888,\"#fdca26\"],[1.0,\"#f0f921\"]],\"type\":\"heatmapgl\"}],\"histogram\":[{\"marker\":{\"pattern\":{\"fillmode\":\"overlay\",\"size\":10,\"solidity\":0.2}},\"type\":\"histogram\"}],\"histogram2d\":[{\"colorbar\":{\"outlinewidth\":0,\"ticks\":\"\"},\"colorscale\":[[0.0,\"#0d0887\"],[0.1111111111111111,\"#46039f\"],[0.2222222222222222,\"#7201a8\"],[0.3333333333333333,\"#9c179e\"],[0.4444444444444444,\"#bd3786\"],[0.5555555555555556,\"#d8576b\"],[0.6666666666666666,\"#ed7953\"],[0.7777777777777778,\"#fb9f3a\"],[0.8888888888888888,\"#fdca26\"],[1.0,\"#f0f921\"]],\"type\":\"histogram2d\"}],\"histogram2dcontour\":[{\"colorbar\":{\"outlinewidth\":0,\"ticks\":\"\"},\"colorscale\":[[0.0,\"#0d0887\"],[0.1111111111111111,\"#46039f\"],[0.2222222222222222,\"#7201a8\"],[0.3333333333333333,\"#9c179e\"],[0.4444444444444444,\"#bd3786\"],[0.5555555555555556,\"#d8576b\"],[0.6666666666666666,\"#ed7953\"],[0.7777777777777778,\"#fb9f3a\"],[0.8888888888888888,\"#fdca26\"],[1.0,\"#f0f921\"]],\"type\":\"histogram2dcontour\"}],\"mesh3d\":[{\"colorbar\":{\"outlinewidth\":0,\"ticks\":\"\"},\"type\":\"mesh3d\"}],\"parcoords\":[{\"line\":{\"colorbar\":{\"outlinewidth\":0,\"ticks\":\"\"}},\"type\":\"parcoords\"}],\"pie\":[{\"automargin\":true,\"type\":\"pie\"}],\"scatter\":[{\"marker\":{\"colorbar\":{\"outlinewidth\":0,\"ticks\":\"\"}},\"type\":\"scatter\"}],\"scatter3d\":[{\"line\":{\"colorbar\":{\"outlinewidth\":0,\"ticks\":\"\"}},\"marker\":{\"colorbar\":{\"outlinewidth\":0,\"ticks\":\"\"}},\"type\":\"scatter3d\"}],\"scattercarpet\":[{\"marker\":{\"colorbar\":{\"outlinewidth\":0,\"ticks\":\"\"}},\"type\":\"scattercarpet\"}],\"scattergeo\":[{\"marker\":{\"colorbar\":{\"outlinewidth\":0,\"ticks\":\"\"}},\"type\":\"scattergeo\"}],\"scattergl\":[{\"marker\":{\"colorbar\":{\"outlinewidth\":0,\"ticks\":\"\"}},\"type\":\"scattergl\"}],\"scattermapbox\":[{\"marker\":{\"colorbar\":{\"outlinewidth\":0,\"ticks\":\"\"}},\"type\":\"scattermapbox\"}],\"scatterpolar\":[{\"marker\":{\"colorbar\":{\"outlinewidth\":0,\"ticks\":\"\"}},\"type\":\"scatterpolar\"}],\"scatterpolargl\":[{\"marker\":{\"colorbar\":{\"outlinewidth\":0,\"ticks\":\"\"}},\"type\":\"scatterpolargl\"}],\"scatterternary\":[{\"marker\":{\"colorbar\":{\"outlinewidth\":0,\"ticks\":\"\"}},\"type\":\"scatterternary\"}],\"surface\":[{\"colorbar\":{\"outlinewidth\":0,\"ticks\":\"\"},\"colorscale\":[[0.0,\"#0d0887\"],[0.1111111111111111,\"#46039f\"],[0.2222222222222222,\"#7201a8\"],[0.3333333333333333,\"#9c179e\"],[0.4444444444444444,\"#bd3786\"],[0.5555555555555556,\"#d8576b\"],[0.6666666666666666,\"#ed7953\"],[0.7777777777777778,\"#fb9f3a\"],[0.8888888888888888,\"#fdca26\"],[1.0,\"#f0f921\"]],\"type\":\"surface\"}],\"table\":[{\"cells\":{\"fill\":{\"color\":\"#EBF0F8\"},\"line\":{\"color\":\"white\"}},\"header\":{\"fill\":{\"color\":\"#C8D4E3\"},\"line\":{\"color\":\"white\"}},\"type\":\"table\"}]},\"layout\":{\"annotationdefaults\":{\"arrowcolor\":\"#2a3f5f\",\"arrowhead\":0,\"arrowwidth\":1},\"autotypenumbers\":\"strict\",\"coloraxis\":{\"colorbar\":{\"outlinewidth\":0,\"ticks\":\"\"}},\"colorscale\":{\"diverging\":[[0,\"#8e0152\"],[0.1,\"#c51b7d\"],[0.2,\"#de77ae\"],[0.3,\"#f1b6da\"],[0.4,\"#fde0ef\"],[0.5,\"#f7f7f7\"],[0.6,\"#e6f5d0\"],[0.7,\"#b8e186\"],[0.8,\"#7fbc41\"],[0.9,\"#4d9221\"],[1,\"#276419\"]],\"sequential\":[[0.0,\"#0d0887\"],[0.1111111111111111,\"#46039f\"],[0.2222222222222222,\"#7201a8\"],[0.3333333333333333,\"#9c179e\"],[0.4444444444444444,\"#bd3786\"],[0.5555555555555556,\"#d8576b\"],[0.6666666666666666,\"#ed7953\"],[0.7777777777777778,\"#fb9f3a\"],[0.8888888888888888,\"#fdca26\"],[1.0,\"#f0f921\"]],\"sequentialminus\":[[0.0,\"#0d0887\"],[0.1111111111111111,\"#46039f\"],[0.2222222222222222,\"#7201a8\"],[0.3333333333333333,\"#9c179e\"],[0.4444444444444444,\"#bd3786\"],[0.5555555555555556,\"#d8576b\"],[0.6666666666666666,\"#ed7953\"],[0.7777777777777778,\"#fb9f3a\"],[0.8888888888888888,\"#fdca26\"],[1.0,\"#f0f921\"]]},\"colorway\":[\"#636efa\",\"#EF553B\",\"#00cc96\",\"#ab63fa\",\"#FFA15A\",\"#19d3f3\",\"#FF6692\",\"#B6E880\",\"#FF97FF\",\"#FECB52\"],\"font\":{\"color\":\"#2a3f5f\"},\"geo\":{\"bgcolor\":\"white\",\"lakecolor\":\"white\",\"landcolor\":\"#E5ECF6\",\"showlakes\":true,\"showland\":true,\"subunitcolor\":\"white\"},\"hoverlabel\":{\"align\":\"left\"},\"hovermode\":\"closest\",\"mapbox\":{\"style\":\"light\"},\"paper_bgcolor\":\"white\",\"plot_bgcolor\":\"#E5ECF6\",\"polar\":{\"angularaxis\":{\"gridcolor\":\"white\",\"linecolor\":\"white\",\"ticks\":\"\"},\"bgcolor\":\"#E5ECF6\",\"radialaxis\":{\"gridcolor\":\"white\",\"linecolor\":\"white\",\"ticks\":\"\"}},\"scene\":{\"xaxis\":{\"backgroundcolor\":\"#E5ECF6\",\"gridcolor\":\"white\",\"gridwidth\":2,\"linecolor\":\"white\",\"showbackground\":true,\"ticks\":\"\",\"zerolinecolor\":\"white\"},\"yaxis\":{\"backgroundcolor\":\"#E5ECF6\",\"gridcolor\":\"white\",\"gridwidth\":2,\"linecolor\":\"white\",\"showbackground\":true,\"ticks\":\"\",\"zerolinecolor\":\"white\"},\"zaxis\":{\"backgroundcolor\":\"#E5ECF6\",\"gridcolor\":\"white\",\"gridwidth\":2,\"linecolor\":\"white\",\"showbackground\":true,\"ticks\":\"\",\"zerolinecolor\":\"white\"}},\"shapedefaults\":{\"line\":{\"color\":\"#2a3f5f\"}},\"ternary\":{\"aaxis\":{\"gridcolor\":\"white\",\"linecolor\":\"white\",\"ticks\":\"\"},\"baxis\":{\"gridcolor\":\"white\",\"linecolor\":\"white\",\"ticks\":\"\"},\"bgcolor\":\"#E5ECF6\",\"caxis\":{\"gridcolor\":\"white\",\"linecolor\":\"white\",\"ticks\":\"\"}},\"title\":{\"x\":0.05},\"xaxis\":{\"automargin\":true,\"gridcolor\":\"white\",\"linecolor\":\"white\",\"ticks\":\"\",\"title\":{\"standoff\":15},\"zerolinecolor\":\"white\",\"zerolinewidth\":2},\"yaxis\":{\"automargin\":true,\"gridcolor\":\"white\",\"linecolor\":\"white\",\"ticks\":\"\",\"title\":{\"standoff\":15},\"zerolinecolor\":\"white\",\"zerolinewidth\":2}}},\"title\":{\"font\":{\"size\":22},\"text\":\"Umbrella Features (Target: CRT_ACC; Data: Dropped; Model: ridge)\",\"x\":0.5,\"xanchor\":\"center\",\"y\":0.89,\"yanchor\":\"top\"}},                        {\"responsive\": true}                    ).then(function(){\n",
       "                            \n",
       "var gd = document.getElementById('45e50c33-019c-427c-a7c8-b4d0e2a90d6d');\n",
       "var x = new MutationObserver(function (mutations, observer) {{\n",
       "        var display = window.getComputedStyle(gd).display;\n",
       "        if (!display || display === 'none') {{\n",
       "            console.log([gd, 'removed!']);\n",
       "            Plotly.purge(gd);\n",
       "            observer.disconnect();\n",
       "        }}\n",
       "}});\n",
       "\n",
       "// Listen for the removal of the full notebook cells\n",
       "var notebookContainer = gd.closest('#notebook-container');\n",
       "if (notebookContainer) {{\n",
       "    x.observe(notebookContainer, {childList: true});\n",
       "}}\n",
       "\n",
       "// Listen for the clearing of the current output cell\n",
       "var outputEl = gd.closest('.output');\n",
       "if (outputEl) {{\n",
       "    x.observe(outputEl, {childList: true});\n",
       "}}\n",
       "\n",
       "                        })                };                });            </script>        </div>"
      ]
     },
     "metadata": {},
     "output_type": "display_data"
    },
    {
     "data": {
      "text/html": [
       "<img src onerror=\"var cell = this.closest('.code_cell');var editor = cell.querySelector('.input_area');editor.style.background='#fff9e9';this.parentNode.removeChild(this)\">"
      ],
      "text/plain": [
       "<IPython.core.display.HTML object>"
      ]
     },
     "metadata": {},
     "output_type": "display_data"
    }
   ],
   "source": [
    "# run this cell to find best umbrella features \n",
    "\n",
    "for j in range(len(all_features)):\n",
    "\n",
    "    feature = all_features[j]\n",
    "    feature_name = all_features_names[j]\n",
    "    \n",
    "    print(feature)\n",
    "    \n",
    "    # determine splits \n",
    "    splits = model.get_splits(MY_SPLITS_UMB)\n",
    "                          \n",
    "    # create X and Y from data \n",
    "    X_original = data[feature]\n",
    "    Y_original = data[MY_TARGET]\n",
    "    \n",
    "    # set r, p, score sums to 0\n",
    "    total_r = []\n",
    "    total_p = []\n",
    "    total_score = []\n",
    "    \n",
    "    # transform text and quantitative data \n",
    "    X = []\n",
    "    for feat in feature:\n",
    "        if feat in MY_TEXT_FEATURES:\n",
    "            X_new, Y_new, na_count = model.transform_feature(data, feat, MY_TARGET, my_max_df=MY_MAXDF_UMB, \n",
    "                                                             my_min_df=MY_MINDF_UMB, \n",
    "                                     my_n_components=MY_N_COMPONENTS_UMB)\n",
    "        else:\n",
    "            X_new, Y_new, na_count = model.transform_feature(data, feat, MY_TARGET)\n",
    "        \n",
    "        # concatenate transformed individual feature to umbrella feature\n",
    "        if X == []:\n",
    "            X = X_new\n",
    "        else:\n",
    "            X = np.concatenate([X, X_new], axis=1)\n",
    "    \n",
    "    # average over all splits \n",
    "    for s in splits:\n",
    "        \n",
    "        # split data into train test set\n",
    "        X_train, X_test, Y_train, Y_test = model.split_data(X, Y_original, MY_TARGET, MY_TEST_SIZE_UMB, s)\n",
    "        \n",
    "        # feature selection with ElasticNet on train set \n",
    "        X_train, X_test, Y_train, Y_test = model.feature_selection(X_train, X_test, Y_train, Y_test, 'median')\n",
    "        \n",
    "        # predict on test set \n",
    "        results = model.predict(X_train, X_test, Y_train, Y_test, MY_MODEL_UMB, MY_PARAMS_UMB, MY_CROSS_VAL)\n",
    "        \n",
    "        print(results)\n",
    "        \n",
    "        # add to r, p totals\n",
    "        total_r.append(results['r'])\n",
    "        total_p.append(results['p'])\n",
    "        total_score.append(results['r2'])\n",
    "    \n",
    "    # add feature results to results dataframe \n",
    "    f_results = model.create_results(feature_name, na_count, total_r, total_p, total_score)\n",
    "    umbrella_results_df = umbrella_results_df.append(f_results, ignore_index = True)\n",
    "            \n",
    "    r_dict[feature_name] = total_r\n",
    "    p_dict[feature_name] = total_p\n",
    "    score_dict[feature_name] = total_score\n",
    "\n",
    "# create and show plots\n",
    "plot, chart = model.create_plotly_individual(umbrella_results_df, MY_TARGET, \n",
    "                                             DATAFRAME_TYPE, MY_MODEL_UMB, MY_TITLE_UMB)\n",
    "chart.show()\n",
    "\n",
    "# save results and plots \n",
    "model.save_results(RESULTS_FOLDER_UMBRELLA, MY_TITLE_UMB.lower(), umbrella_results_df, \n",
    "             plot, chart, state_dict_umbrella)\n",
    "\n",
    "general.set_background('#fff9e9')"
   ]
  },
  {
   "cell_type": "markdown",
   "id": "003b5d70",
   "metadata": {},
   "source": [
    "# Combined Features (Individual)\n"
   ]
  },
  {
   "cell_type": "markdown",
   "id": "59633e68",
   "metadata": {},
   "source": [
    "While individual features hold some predictive power over CRT score, combining features can improve prediction accuracy. By combining features, we create the best model for CRT score prediction given the current dataset. The following protocol is used to combine individual features:\n",
    "1. Predict CRT score using all features.\n",
    "2. Remove the individual feature with the highest median $p$ value across splits.\n",
    "3. Repeat Steps 1 and 2, removing one feature at a time, until one feature remains (i.e. feature with the lowest median $p$ value).\n",
    "\n",
    "Umbrella features are also combined using a similar protocol as above, but we remove the umbrella feature with the highest median $p$ value with each iteration. \n",
    "\n",
    "*Variable and path definitions are similar to that of individual features prediction above.*\n"
   ]
  },
  {
   "cell_type": "code",
   "execution_count": 11,
   "id": "7a40fc85",
   "metadata": {},
   "outputs": [],
   "source": [
    "#REMOVE\n",
    "individual_results_df = pd.read_pickle('results/04_11/dropped/CRT_ACC/individual_ridge/individual features_df.pickle')"
   ]
  },
  {
   "cell_type": "code",
   "execution_count": 14,
   "id": "8084ccc7",
   "metadata": {},
   "outputs": [
    {
     "data": {
      "text/html": [
       "<img src onerror=\"var cell = this.closest('.code_cell');var editor = cell.querySelector('.input_area');editor.style.background='#efe1e1';this.parentNode.removeChild(this)\">"
      ],
      "text/plain": [
       "<IPython.core.display.HTML object>"
      ]
     },
     "metadata": {},
     "output_type": "display_data"
    }
   ],
   "source": [
    "# TODO: set variables and paths\n",
    "MY_MODEL_COMB_INDV = 'lasso'\n",
    "MY_PARAMS_COMB_INDV = {'model__alpha': np.logspace(-5, 5, 100), 'poly__degree': [1]} # structure for ridge/lasso \n",
    "# MY_PARAMS_COMB_INDV = {\n",
    "#              'model__max_depth': [10], # default is [10, 20, 30, 40, 50, 60, 70, 80, 90, 100, None]\n",
    "#              'model__min_samples_leaf': [40], # default is [20, 40, 60]\n",
    "#              'model__min_samples_split': [10], # default is [2, 5, 10]\n",
    "#              'model__n_estimators': [600], # default is [200, 400, 600, 800, 1000]\n",
    "#              'model__max_features': ['log2'],\n",
    "#              'poly__degree': [1] # default is [1]\n",
    "#         } # structure for random forests\n",
    "MY_SPLITS_COMB_INDV = range(0, 50)\n",
    "MY_MINDF_COMB_INDV = 10\n",
    "MY_MAXDF_COMB_INDV = 0.99\n",
    "MY_TEST_SIZE_COMB_INDV = 0.1\n",
    "MY_N_COMPONENTS_COMB_INDV = 50\n",
    "MY_TITLE_COMB_INDV = 'Combined Individual Features'\n",
    "\n",
    "RESULTS_FOLDER_COMBINED_INDV = ROOT_DIR + RESULTS_FOLDER_NAME + 'combined_individual_{}/'.format(MY_MODEL_COMB_INDV)\n",
    "\n",
    "general.set_background('#efe1e1')"
   ]
  },
  {
   "cell_type": "code",
   "execution_count": 12,
   "id": "fd9488fa",
   "metadata": {},
   "outputs": [
    {
     "data": {
      "text/html": [
       "<img src onerror=\"var cell = this.closest('.code_cell');var editor = cell.querySelector('.input_area');editor.style.background='#fff9e9';this.parentNode.removeChild(this)\">"
      ],
      "text/plain": [
       "<IPython.core.display.HTML object>"
      ]
     },
     "metadata": {},
     "output_type": "display_data"
    }
   ],
   "source": [
    "# run this cell to generate the ordering of individual features to combine\n",
    "\n",
    "to_combine = individual_results_df.sort_values('p_median', ascending=True)['feature'].values\n",
    "to_combine = to_combine.tolist()\n",
    "\n",
    "general.set_background('#fff9e9')"
   ]
  },
  {
   "cell_type": "code",
   "execution_count": 15,
   "id": "2f248967",
   "metadata": {},
   "outputs": [
    {
     "data": {
      "text/html": [
       "<img src onerror=\"var cell = this.closest('.code_cell');var editor = cell.querySelector('.input_area');editor.style.background='#fff9e9';this.parentNode.removeChild(this)\">"
      ],
      "text/plain": [
       "<IPython.core.display.HTML object>"
      ]
     },
     "metadata": {},
     "output_type": "display_data"
    }
   ],
   "source": [
    "# run this cell to store results\n",
    "state_dict_combined_individual = {\n",
    "    'model': MY_MODEL_COMB_INDV, \n",
    "    'params': MY_PARAMS_COMB_INDV, \n",
    "    'splits': MY_SPLITS_COMB_INDV,\n",
    "    'mindf': MY_MINDF_COMB_INDV,\n",
    "    'maxdf': MY_MAXDF_COMB_INDV,\n",
    "    'test_size': MY_TEST_SIZE_COMB_INDV,\n",
    "    'n_components': MY_N_COMPONENTS_COMB_INDV,\n",
    "}\n",
    "\n",
    "r_dict = {}\n",
    "p_dict = {}\n",
    "score_dict = {}\n",
    "combined_individual_results_df = pd.DataFrame({})\n",
    "\n",
    "general.set_background('#fff9e9')"
   ]
  },
  {
   "cell_type": "code",
   "execution_count": 400,
   "id": "2ff67a1e",
   "metadata": {},
   "outputs": [
    {
     "name": "stdout",
     "output_type": "stream",
     "text": [
      "followees followee_bios text\n",
      "{'r': 0.18428745326949772, 'p': 0.07700293373953537, 'r2': 0.05960770820894816}\n",
      "{'r': 0.3618814599359343, 'p': 0.0003648819721251457, 'r2': 0.050286609587440176}\n",
      "{'r': 0.3060304514904905, 'p': 0.002851952375385064, 'r2': 0.06357899127261626}\n",
      "{'r': 0.33637158017593344, 'p': 0.0009786499384090517, 'r2': 0.05350016879404547}\n",
      "{'r': 0.25568385986199443, 'p': 0.013374356461789595, 'r2': 0.07871957187082886}\n",
      "{'r': 0.22424812591685336, 'p': 0.03070123589856349, 'r2': 0.09284122795786307}\n",
      "{'r': 0.25485000809441516, 'p': 0.013689963645697887, 'r2': 0.08024934239496118}\n",
      "{'r': 0.45395388547526044, 'p': 4.872443926922365e-06, 'r2': 0.07655840415698678}\n",
      "{'r': 0.34021676302493054, 'p': 0.0008478533678024158, 'r2': 0.05177508594336864}\n",
      "{'r': 0.21080332903816815, 'p': 0.042532490311039735, 'r2': 0.08611891429401766}\n",
      "{'r': 0.09952814577737353, 'p': 0.3425225000614447, 'r2': 0.09143366789731025}\n",
      "{'r': 0.30569950323097955, 'p': 0.002883703465013018, 'r2': 0.05498910791636813}\n",
      "{'r': 0.19546951652478023, 'p': 0.0604220118533933, 'r2': 0.08162795418532753}\n",
      "{'r': 0.3180691917547482, 'p': 0.001890143910859928, 'r2': 0.05739429392585913}\n",
      "{'r': 0.19745927487846485, 'p': 0.057801701226098026, 'r2': 0.08294016454412964}\n",
      "{'r': 0.2643300984115222, 'p': 0.010456893604704936, 'r2': 0.07299146992381209}\n",
      "{'r': 0.35670554913636626, 'p': 0.0004487533750734292, 'r2': 0.05363480821099413}\n",
      "{'r': 0.37512574147516303, 'p': 0.00021146482759140954, 'r2': 0.0522112158956378}\n",
      "{'r': 0.21508852828865133, 'p': 0.03840692757357377, 'r2': 0.06942482923614197}\n",
      "{'r': 0.21035954205863047, 'p': 0.042980052181551834, 'r2': 0.07203235309186411}\n",
      "{'r': 0.4408423097729428, 'p': 9.754424748285084e-06, 'r2': 0.07828694459422617}\n",
      "{'r': 0.23340631873992393, 'p': 0.024344829862005507, 'r2': 0.0525398735158966}\n",
      "{'r': 0.3708259578714073, 'p': 0.0002530860343663009, 'r2': 0.06609961842570497}\n",
      "{'r': 0.31181451869637716, 'p': 0.002345429924371845, 'r2': 0.0656006023262399}\n",
      "{'r': 0.10315499485183896, 'p': 0.3251329827120691, 'r2': 0.09885490909044001}\n",
      "{'r': 0.3065066364611455, 'p': 0.002806817923784399, 'r2': 0.08544717417513563}\n",
      "{'r': 0.11890953179308753, 'p': 0.25627224781401114, 'r2': 0.10273374154771589}\n",
      "{'r': 0.39278492061469844, 'p': 9.844953304801062e-05, 'r2': 0.06102189688648614}\n",
      "{'r': 0.16848276646190094, 'p': 0.10644558800656033, 'r2': 0.09880219296609509}\n",
      "{'r': 0.37123159125103405, 'p': 0.0002488588882318267, 'r2': 0.07221244688119928}\n",
      "{'r': 0.16537624157615274, 'p': 0.11315045296714915, 'r2': 0.07731862555522886}\n",
      "{'r': 0.2364309916193121, 'p': 0.02250869271436136, 'r2': 0.08977635735802818}\n",
      "{'r': 0.1821447327888084, 'p': 0.08056226856244109, 'r2': 0.10174704992192485}\n",
      "{'r': 0.28970830544421394, 'p': 0.0048514794898814155, 'r2': 0.07937502263176417}\n",
      "{'r': 0.34732112637053325, 'p': 0.0006472925929367821, 'r2': 0.07875111350066895}\n",
      "{'r': 0.19698095616268435, 'p': 0.05842296019523109, 'r2': 0.06589073475833755}\n",
      "{'r': 0.36107322412504594, 'p': 0.00037694982189744134, 'r2': 0.048727050288028505}\n",
      "{'r': 0.17512314817643362, 'p': 0.09315454951782114, 'r2': 0.07488029568341033}\n",
      "{'r': 0.1574957631222506, 'p': 0.131626462746828, 'r2': 0.08976521720155653}\n",
      "{'r': 0.3058465233424521, 'p': 0.0028695594320344237, 'r2': 0.08164586841322682}\n",
      "{'r': 0.23500045391980912, 'p': 0.02336179675971342, 'r2': 0.07562354111125054}\n",
      "{'r': 0.186078538672506, 'p': 0.07412540489669332, 'r2': 0.061703038264404174}\n",
      "{'r': 0.33348050743574864, 'p': 0.0010888130601027263, 'r2': 0.05469883373277009}\n",
      "{'r': 0.500459558129849, 'p': 3.2509506550042983e-07, 'r2': 0.03827359937379511}\n",
      "{'r': 0.365886545580553, 'p': 0.0003101543002137745, 'r2': 0.04033958453674995}\n",
      "{'r': 0.2074068381060433, 'p': 0.04605856872260711, 'r2': 0.09770765136556883}\n",
      "{'r': 0.2532195738002812, 'p': 0.0143258022659456, 'r2': 0.05794983402610152}\n",
      "{'r': 0.31473817147777794, 'p': 0.0021215735622601567, 'r2': 0.04876488084356947}\n",
      "{'r': 0.11007956955548862, 'p': 0.29353072736804964, 'r2': 0.09265284253805843}\n",
      "{'r': 0.16022138186952076, 'p': 0.1249924827960236, 'r2': 0.10492135064978145}\n"
     ]
    },
    {
     "data": {
      "application/vnd.plotly.v1+json": {
       "config": {
        "plotlyServerURL": "https://plot.ly"
       },
       "data": [
        {
         "cells": {
          "align": "left",
          "fill": {
           "color": "lightgray"
          },
          "values": [
           [
            "followees followee_bios text"
           ],
           [
            "0.25527"
           ],
           [
            "0.01353"
           ],
           [
            "0.07394"
           ],
           [
            0
           ]
          ]
         },
         "header": {
          "align": "left",
          "fill": {
           "color": "cornflowerblue"
          },
          "values": [
           "Feature Name",
           "R Median",
           "P Median",
           "R^2 Median",
           "Dropped Count"
          ]
         },
         "type": "table"
        }
       ],
       "layout": {
        "font": {
         "color": "black",
         "family": "Courier New, monospace",
         "size": 12
        },
        "template": {
         "data": {
          "bar": [
           {
            "error_x": {
             "color": "#2a3f5f"
            },
            "error_y": {
             "color": "#2a3f5f"
            },
            "marker": {
             "line": {
              "color": "#E5ECF6",
              "width": 0.5
             },
             "pattern": {
              "fillmode": "overlay",
              "size": 10,
              "solidity": 0.2
             }
            },
            "type": "bar"
           }
          ],
          "barpolar": [
           {
            "marker": {
             "line": {
              "color": "#E5ECF6",
              "width": 0.5
             },
             "pattern": {
              "fillmode": "overlay",
              "size": 10,
              "solidity": 0.2
             }
            },
            "type": "barpolar"
           }
          ],
          "carpet": [
           {
            "aaxis": {
             "endlinecolor": "#2a3f5f",
             "gridcolor": "white",
             "linecolor": "white",
             "minorgridcolor": "white",
             "startlinecolor": "#2a3f5f"
            },
            "baxis": {
             "endlinecolor": "#2a3f5f",
             "gridcolor": "white",
             "linecolor": "white",
             "minorgridcolor": "white",
             "startlinecolor": "#2a3f5f"
            },
            "type": "carpet"
           }
          ],
          "choropleth": [
           {
            "colorbar": {
             "outlinewidth": 0,
             "ticks": ""
            },
            "type": "choropleth"
           }
          ],
          "contour": [
           {
            "colorbar": {
             "outlinewidth": 0,
             "ticks": ""
            },
            "colorscale": [
             [
              0,
              "#0d0887"
             ],
             [
              0.1111111111111111,
              "#46039f"
             ],
             [
              0.2222222222222222,
              "#7201a8"
             ],
             [
              0.3333333333333333,
              "#9c179e"
             ],
             [
              0.4444444444444444,
              "#bd3786"
             ],
             [
              0.5555555555555556,
              "#d8576b"
             ],
             [
              0.6666666666666666,
              "#ed7953"
             ],
             [
              0.7777777777777778,
              "#fb9f3a"
             ],
             [
              0.8888888888888888,
              "#fdca26"
             ],
             [
              1,
              "#f0f921"
             ]
            ],
            "type": "contour"
           }
          ],
          "contourcarpet": [
           {
            "colorbar": {
             "outlinewidth": 0,
             "ticks": ""
            },
            "type": "contourcarpet"
           }
          ],
          "heatmap": [
           {
            "colorbar": {
             "outlinewidth": 0,
             "ticks": ""
            },
            "colorscale": [
             [
              0,
              "#0d0887"
             ],
             [
              0.1111111111111111,
              "#46039f"
             ],
             [
              0.2222222222222222,
              "#7201a8"
             ],
             [
              0.3333333333333333,
              "#9c179e"
             ],
             [
              0.4444444444444444,
              "#bd3786"
             ],
             [
              0.5555555555555556,
              "#d8576b"
             ],
             [
              0.6666666666666666,
              "#ed7953"
             ],
             [
              0.7777777777777778,
              "#fb9f3a"
             ],
             [
              0.8888888888888888,
              "#fdca26"
             ],
             [
              1,
              "#f0f921"
             ]
            ],
            "type": "heatmap"
           }
          ],
          "heatmapgl": [
           {
            "colorbar": {
             "outlinewidth": 0,
             "ticks": ""
            },
            "colorscale": [
             [
              0,
              "#0d0887"
             ],
             [
              0.1111111111111111,
              "#46039f"
             ],
             [
              0.2222222222222222,
              "#7201a8"
             ],
             [
              0.3333333333333333,
              "#9c179e"
             ],
             [
              0.4444444444444444,
              "#bd3786"
             ],
             [
              0.5555555555555556,
              "#d8576b"
             ],
             [
              0.6666666666666666,
              "#ed7953"
             ],
             [
              0.7777777777777778,
              "#fb9f3a"
             ],
             [
              0.8888888888888888,
              "#fdca26"
             ],
             [
              1,
              "#f0f921"
             ]
            ],
            "type": "heatmapgl"
           }
          ],
          "histogram": [
           {
            "marker": {
             "pattern": {
              "fillmode": "overlay",
              "size": 10,
              "solidity": 0.2
             }
            },
            "type": "histogram"
           }
          ],
          "histogram2d": [
           {
            "colorbar": {
             "outlinewidth": 0,
             "ticks": ""
            },
            "colorscale": [
             [
              0,
              "#0d0887"
             ],
             [
              0.1111111111111111,
              "#46039f"
             ],
             [
              0.2222222222222222,
              "#7201a8"
             ],
             [
              0.3333333333333333,
              "#9c179e"
             ],
             [
              0.4444444444444444,
              "#bd3786"
             ],
             [
              0.5555555555555556,
              "#d8576b"
             ],
             [
              0.6666666666666666,
              "#ed7953"
             ],
             [
              0.7777777777777778,
              "#fb9f3a"
             ],
             [
              0.8888888888888888,
              "#fdca26"
             ],
             [
              1,
              "#f0f921"
             ]
            ],
            "type": "histogram2d"
           }
          ],
          "histogram2dcontour": [
           {
            "colorbar": {
             "outlinewidth": 0,
             "ticks": ""
            },
            "colorscale": [
             [
              0,
              "#0d0887"
             ],
             [
              0.1111111111111111,
              "#46039f"
             ],
             [
              0.2222222222222222,
              "#7201a8"
             ],
             [
              0.3333333333333333,
              "#9c179e"
             ],
             [
              0.4444444444444444,
              "#bd3786"
             ],
             [
              0.5555555555555556,
              "#d8576b"
             ],
             [
              0.6666666666666666,
              "#ed7953"
             ],
             [
              0.7777777777777778,
              "#fb9f3a"
             ],
             [
              0.8888888888888888,
              "#fdca26"
             ],
             [
              1,
              "#f0f921"
             ]
            ],
            "type": "histogram2dcontour"
           }
          ],
          "mesh3d": [
           {
            "colorbar": {
             "outlinewidth": 0,
             "ticks": ""
            },
            "type": "mesh3d"
           }
          ],
          "parcoords": [
           {
            "line": {
             "colorbar": {
              "outlinewidth": 0,
              "ticks": ""
             }
            },
            "type": "parcoords"
           }
          ],
          "pie": [
           {
            "automargin": true,
            "type": "pie"
           }
          ],
          "scatter": [
           {
            "marker": {
             "colorbar": {
              "outlinewidth": 0,
              "ticks": ""
             }
            },
            "type": "scatter"
           }
          ],
          "scatter3d": [
           {
            "line": {
             "colorbar": {
              "outlinewidth": 0,
              "ticks": ""
             }
            },
            "marker": {
             "colorbar": {
              "outlinewidth": 0,
              "ticks": ""
             }
            },
            "type": "scatter3d"
           }
          ],
          "scattercarpet": [
           {
            "marker": {
             "colorbar": {
              "outlinewidth": 0,
              "ticks": ""
             }
            },
            "type": "scattercarpet"
           }
          ],
          "scattergeo": [
           {
            "marker": {
             "colorbar": {
              "outlinewidth": 0,
              "ticks": ""
             }
            },
            "type": "scattergeo"
           }
          ],
          "scattergl": [
           {
            "marker": {
             "colorbar": {
              "outlinewidth": 0,
              "ticks": ""
             }
            },
            "type": "scattergl"
           }
          ],
          "scattermapbox": [
           {
            "marker": {
             "colorbar": {
              "outlinewidth": 0,
              "ticks": ""
             }
            },
            "type": "scattermapbox"
           }
          ],
          "scatterpolar": [
           {
            "marker": {
             "colorbar": {
              "outlinewidth": 0,
              "ticks": ""
             }
            },
            "type": "scatterpolar"
           }
          ],
          "scatterpolargl": [
           {
            "marker": {
             "colorbar": {
              "outlinewidth": 0,
              "ticks": ""
             }
            },
            "type": "scatterpolargl"
           }
          ],
          "scatterternary": [
           {
            "marker": {
             "colorbar": {
              "outlinewidth": 0,
              "ticks": ""
             }
            },
            "type": "scatterternary"
           }
          ],
          "surface": [
           {
            "colorbar": {
             "outlinewidth": 0,
             "ticks": ""
            },
            "colorscale": [
             [
              0,
              "#0d0887"
             ],
             [
              0.1111111111111111,
              "#46039f"
             ],
             [
              0.2222222222222222,
              "#7201a8"
             ],
             [
              0.3333333333333333,
              "#9c179e"
             ],
             [
              0.4444444444444444,
              "#bd3786"
             ],
             [
              0.5555555555555556,
              "#d8576b"
             ],
             [
              0.6666666666666666,
              "#ed7953"
             ],
             [
              0.7777777777777778,
              "#fb9f3a"
             ],
             [
              0.8888888888888888,
              "#fdca26"
             ],
             [
              1,
              "#f0f921"
             ]
            ],
            "type": "surface"
           }
          ],
          "table": [
           {
            "cells": {
             "fill": {
              "color": "#EBF0F8"
             },
             "line": {
              "color": "white"
             }
            },
            "header": {
             "fill": {
              "color": "#C8D4E3"
             },
             "line": {
              "color": "white"
             }
            },
            "type": "table"
           }
          ]
         },
         "layout": {
          "annotationdefaults": {
           "arrowcolor": "#2a3f5f",
           "arrowhead": 0,
           "arrowwidth": 1
          },
          "autotypenumbers": "strict",
          "coloraxis": {
           "colorbar": {
            "outlinewidth": 0,
            "ticks": ""
           }
          },
          "colorscale": {
           "diverging": [
            [
             0,
             "#8e0152"
            ],
            [
             0.1,
             "#c51b7d"
            ],
            [
             0.2,
             "#de77ae"
            ],
            [
             0.3,
             "#f1b6da"
            ],
            [
             0.4,
             "#fde0ef"
            ],
            [
             0.5,
             "#f7f7f7"
            ],
            [
             0.6,
             "#e6f5d0"
            ],
            [
             0.7,
             "#b8e186"
            ],
            [
             0.8,
             "#7fbc41"
            ],
            [
             0.9,
             "#4d9221"
            ],
            [
             1,
             "#276419"
            ]
           ],
           "sequential": [
            [
             0,
             "#0d0887"
            ],
            [
             0.1111111111111111,
             "#46039f"
            ],
            [
             0.2222222222222222,
             "#7201a8"
            ],
            [
             0.3333333333333333,
             "#9c179e"
            ],
            [
             0.4444444444444444,
             "#bd3786"
            ],
            [
             0.5555555555555556,
             "#d8576b"
            ],
            [
             0.6666666666666666,
             "#ed7953"
            ],
            [
             0.7777777777777778,
             "#fb9f3a"
            ],
            [
             0.8888888888888888,
             "#fdca26"
            ],
            [
             1,
             "#f0f921"
            ]
           ],
           "sequentialminus": [
            [
             0,
             "#0d0887"
            ],
            [
             0.1111111111111111,
             "#46039f"
            ],
            [
             0.2222222222222222,
             "#7201a8"
            ],
            [
             0.3333333333333333,
             "#9c179e"
            ],
            [
             0.4444444444444444,
             "#bd3786"
            ],
            [
             0.5555555555555556,
             "#d8576b"
            ],
            [
             0.6666666666666666,
             "#ed7953"
            ],
            [
             0.7777777777777778,
             "#fb9f3a"
            ],
            [
             0.8888888888888888,
             "#fdca26"
            ],
            [
             1,
             "#f0f921"
            ]
           ]
          },
          "colorway": [
           "#636efa",
           "#EF553B",
           "#00cc96",
           "#ab63fa",
           "#FFA15A",
           "#19d3f3",
           "#FF6692",
           "#B6E880",
           "#FF97FF",
           "#FECB52"
          ],
          "font": {
           "color": "#2a3f5f"
          },
          "geo": {
           "bgcolor": "white",
           "lakecolor": "white",
           "landcolor": "#E5ECF6",
           "showlakes": true,
           "showland": true,
           "subunitcolor": "white"
          },
          "hoverlabel": {
           "align": "left"
          },
          "hovermode": "closest",
          "mapbox": {
           "style": "light"
          },
          "paper_bgcolor": "white",
          "plot_bgcolor": "#E5ECF6",
          "polar": {
           "angularaxis": {
            "gridcolor": "white",
            "linecolor": "white",
            "ticks": ""
           },
           "bgcolor": "#E5ECF6",
           "radialaxis": {
            "gridcolor": "white",
            "linecolor": "white",
            "ticks": ""
           }
          },
          "scene": {
           "xaxis": {
            "backgroundcolor": "#E5ECF6",
            "gridcolor": "white",
            "gridwidth": 2,
            "linecolor": "white",
            "showbackground": true,
            "ticks": "",
            "zerolinecolor": "white"
           },
           "yaxis": {
            "backgroundcolor": "#E5ECF6",
            "gridcolor": "white",
            "gridwidth": 2,
            "linecolor": "white",
            "showbackground": true,
            "ticks": "",
            "zerolinecolor": "white"
           },
           "zaxis": {
            "backgroundcolor": "#E5ECF6",
            "gridcolor": "white",
            "gridwidth": 2,
            "linecolor": "white",
            "showbackground": true,
            "ticks": "",
            "zerolinecolor": "white"
           }
          },
          "shapedefaults": {
           "line": {
            "color": "#2a3f5f"
           }
          },
          "ternary": {
           "aaxis": {
            "gridcolor": "white",
            "linecolor": "white",
            "ticks": ""
           },
           "baxis": {
            "gridcolor": "white",
            "linecolor": "white",
            "ticks": ""
           },
           "bgcolor": "#E5ECF6",
           "caxis": {
            "gridcolor": "white",
            "linecolor": "white",
            "ticks": ""
           }
          },
          "title": {
           "x": 0.05
          },
          "xaxis": {
           "automargin": true,
           "gridcolor": "white",
           "linecolor": "white",
           "ticks": "",
           "title": {
            "standoff": 15
           },
           "zerolinecolor": "white",
           "zerolinewidth": 2
          },
          "yaxis": {
           "automargin": true,
           "gridcolor": "white",
           "linecolor": "white",
           "ticks": "",
           "title": {
            "standoff": 15
           },
           "zerolinecolor": "white",
           "zerolinewidth": 2
          }
         }
        },
        "title": {
         "font": {
          "size": 22
         },
         "text": "Combined Individual Features (Target: CRT_ACC; Data: Dropped; Model: lasso)",
         "x": 0.5,
         "xanchor": "center",
         "y": 0.89,
         "yanchor": "top"
        }
       }
      },
      "text/html": [
       "<div>                            <div id=\"ce69d99f-06b7-4e00-b7b0-3a5623b9b051\" class=\"plotly-graph-div\" style=\"height:525px; width:100%;\"></div>            <script type=\"text/javascript\">                require([\"plotly\"], function(Plotly) {                    window.PLOTLYENV=window.PLOTLYENV || {};                                    if (document.getElementById(\"ce69d99f-06b7-4e00-b7b0-3a5623b9b051\")) {                    Plotly.newPlot(                        \"ce69d99f-06b7-4e00-b7b0-3a5623b9b051\",                        [{\"cells\":{\"align\":\"left\",\"fill\":{\"color\":\"lightgray\"},\"values\":[[\"followees followee_bios text\"],[\"0.25527\"],[\"0.01353\"],[\"0.07394\"],[0.0]]},\"header\":{\"align\":\"left\",\"fill\":{\"color\":\"cornflowerblue\"},\"values\":[\"Feature Name\",\"R Median\",\"P Median\",\"R^2 Median\",\"Dropped Count\"]},\"type\":\"table\"}],                        {\"font\":{\"color\":\"black\",\"family\":\"Courier New, monospace\",\"size\":12},\"template\":{\"data\":{\"bar\":[{\"error_x\":{\"color\":\"#2a3f5f\"},\"error_y\":{\"color\":\"#2a3f5f\"},\"marker\":{\"line\":{\"color\":\"#E5ECF6\",\"width\":0.5},\"pattern\":{\"fillmode\":\"overlay\",\"size\":10,\"solidity\":0.2}},\"type\":\"bar\"}],\"barpolar\":[{\"marker\":{\"line\":{\"color\":\"#E5ECF6\",\"width\":0.5},\"pattern\":{\"fillmode\":\"overlay\",\"size\":10,\"solidity\":0.2}},\"type\":\"barpolar\"}],\"carpet\":[{\"aaxis\":{\"endlinecolor\":\"#2a3f5f\",\"gridcolor\":\"white\",\"linecolor\":\"white\",\"minorgridcolor\":\"white\",\"startlinecolor\":\"#2a3f5f\"},\"baxis\":{\"endlinecolor\":\"#2a3f5f\",\"gridcolor\":\"white\",\"linecolor\":\"white\",\"minorgridcolor\":\"white\",\"startlinecolor\":\"#2a3f5f\"},\"type\":\"carpet\"}],\"choropleth\":[{\"colorbar\":{\"outlinewidth\":0,\"ticks\":\"\"},\"type\":\"choropleth\"}],\"contour\":[{\"colorbar\":{\"outlinewidth\":0,\"ticks\":\"\"},\"colorscale\":[[0.0,\"#0d0887\"],[0.1111111111111111,\"#46039f\"],[0.2222222222222222,\"#7201a8\"],[0.3333333333333333,\"#9c179e\"],[0.4444444444444444,\"#bd3786\"],[0.5555555555555556,\"#d8576b\"],[0.6666666666666666,\"#ed7953\"],[0.7777777777777778,\"#fb9f3a\"],[0.8888888888888888,\"#fdca26\"],[1.0,\"#f0f921\"]],\"type\":\"contour\"}],\"contourcarpet\":[{\"colorbar\":{\"outlinewidth\":0,\"ticks\":\"\"},\"type\":\"contourcarpet\"}],\"heatmap\":[{\"colorbar\":{\"outlinewidth\":0,\"ticks\":\"\"},\"colorscale\":[[0.0,\"#0d0887\"],[0.1111111111111111,\"#46039f\"],[0.2222222222222222,\"#7201a8\"],[0.3333333333333333,\"#9c179e\"],[0.4444444444444444,\"#bd3786\"],[0.5555555555555556,\"#d8576b\"],[0.6666666666666666,\"#ed7953\"],[0.7777777777777778,\"#fb9f3a\"],[0.8888888888888888,\"#fdca26\"],[1.0,\"#f0f921\"]],\"type\":\"heatmap\"}],\"heatmapgl\":[{\"colorbar\":{\"outlinewidth\":0,\"ticks\":\"\"},\"colorscale\":[[0.0,\"#0d0887\"],[0.1111111111111111,\"#46039f\"],[0.2222222222222222,\"#7201a8\"],[0.3333333333333333,\"#9c179e\"],[0.4444444444444444,\"#bd3786\"],[0.5555555555555556,\"#d8576b\"],[0.6666666666666666,\"#ed7953\"],[0.7777777777777778,\"#fb9f3a\"],[0.8888888888888888,\"#fdca26\"],[1.0,\"#f0f921\"]],\"type\":\"heatmapgl\"}],\"histogram\":[{\"marker\":{\"pattern\":{\"fillmode\":\"overlay\",\"size\":10,\"solidity\":0.2}},\"type\":\"histogram\"}],\"histogram2d\":[{\"colorbar\":{\"outlinewidth\":0,\"ticks\":\"\"},\"colorscale\":[[0.0,\"#0d0887\"],[0.1111111111111111,\"#46039f\"],[0.2222222222222222,\"#7201a8\"],[0.3333333333333333,\"#9c179e\"],[0.4444444444444444,\"#bd3786\"],[0.5555555555555556,\"#d8576b\"],[0.6666666666666666,\"#ed7953\"],[0.7777777777777778,\"#fb9f3a\"],[0.8888888888888888,\"#fdca26\"],[1.0,\"#f0f921\"]],\"type\":\"histogram2d\"}],\"histogram2dcontour\":[{\"colorbar\":{\"outlinewidth\":0,\"ticks\":\"\"},\"colorscale\":[[0.0,\"#0d0887\"],[0.1111111111111111,\"#46039f\"],[0.2222222222222222,\"#7201a8\"],[0.3333333333333333,\"#9c179e\"],[0.4444444444444444,\"#bd3786\"],[0.5555555555555556,\"#d8576b\"],[0.6666666666666666,\"#ed7953\"],[0.7777777777777778,\"#fb9f3a\"],[0.8888888888888888,\"#fdca26\"],[1.0,\"#f0f921\"]],\"type\":\"histogram2dcontour\"}],\"mesh3d\":[{\"colorbar\":{\"outlinewidth\":0,\"ticks\":\"\"},\"type\":\"mesh3d\"}],\"parcoords\":[{\"line\":{\"colorbar\":{\"outlinewidth\":0,\"ticks\":\"\"}},\"type\":\"parcoords\"}],\"pie\":[{\"automargin\":true,\"type\":\"pie\"}],\"scatter\":[{\"marker\":{\"colorbar\":{\"outlinewidth\":0,\"ticks\":\"\"}},\"type\":\"scatter\"}],\"scatter3d\":[{\"line\":{\"colorbar\":{\"outlinewidth\":0,\"ticks\":\"\"}},\"marker\":{\"colorbar\":{\"outlinewidth\":0,\"ticks\":\"\"}},\"type\":\"scatter3d\"}],\"scattercarpet\":[{\"marker\":{\"colorbar\":{\"outlinewidth\":0,\"ticks\":\"\"}},\"type\":\"scattercarpet\"}],\"scattergeo\":[{\"marker\":{\"colorbar\":{\"outlinewidth\":0,\"ticks\":\"\"}},\"type\":\"scattergeo\"}],\"scattergl\":[{\"marker\":{\"colorbar\":{\"outlinewidth\":0,\"ticks\":\"\"}},\"type\":\"scattergl\"}],\"scattermapbox\":[{\"marker\":{\"colorbar\":{\"outlinewidth\":0,\"ticks\":\"\"}},\"type\":\"scattermapbox\"}],\"scatterpolar\":[{\"marker\":{\"colorbar\":{\"outlinewidth\":0,\"ticks\":\"\"}},\"type\":\"scatterpolar\"}],\"scatterpolargl\":[{\"marker\":{\"colorbar\":{\"outlinewidth\":0,\"ticks\":\"\"}},\"type\":\"scatterpolargl\"}],\"scatterternary\":[{\"marker\":{\"colorbar\":{\"outlinewidth\":0,\"ticks\":\"\"}},\"type\":\"scatterternary\"}],\"surface\":[{\"colorbar\":{\"outlinewidth\":0,\"ticks\":\"\"},\"colorscale\":[[0.0,\"#0d0887\"],[0.1111111111111111,\"#46039f\"],[0.2222222222222222,\"#7201a8\"],[0.3333333333333333,\"#9c179e\"],[0.4444444444444444,\"#bd3786\"],[0.5555555555555556,\"#d8576b\"],[0.6666666666666666,\"#ed7953\"],[0.7777777777777778,\"#fb9f3a\"],[0.8888888888888888,\"#fdca26\"],[1.0,\"#f0f921\"]],\"type\":\"surface\"}],\"table\":[{\"cells\":{\"fill\":{\"color\":\"#EBF0F8\"},\"line\":{\"color\":\"white\"}},\"header\":{\"fill\":{\"color\":\"#C8D4E3\"},\"line\":{\"color\":\"white\"}},\"type\":\"table\"}]},\"layout\":{\"annotationdefaults\":{\"arrowcolor\":\"#2a3f5f\",\"arrowhead\":0,\"arrowwidth\":1},\"autotypenumbers\":\"strict\",\"coloraxis\":{\"colorbar\":{\"outlinewidth\":0,\"ticks\":\"\"}},\"colorscale\":{\"diverging\":[[0,\"#8e0152\"],[0.1,\"#c51b7d\"],[0.2,\"#de77ae\"],[0.3,\"#f1b6da\"],[0.4,\"#fde0ef\"],[0.5,\"#f7f7f7\"],[0.6,\"#e6f5d0\"],[0.7,\"#b8e186\"],[0.8,\"#7fbc41\"],[0.9,\"#4d9221\"],[1,\"#276419\"]],\"sequential\":[[0.0,\"#0d0887\"],[0.1111111111111111,\"#46039f\"],[0.2222222222222222,\"#7201a8\"],[0.3333333333333333,\"#9c179e\"],[0.4444444444444444,\"#bd3786\"],[0.5555555555555556,\"#d8576b\"],[0.6666666666666666,\"#ed7953\"],[0.7777777777777778,\"#fb9f3a\"],[0.8888888888888888,\"#fdca26\"],[1.0,\"#f0f921\"]],\"sequentialminus\":[[0.0,\"#0d0887\"],[0.1111111111111111,\"#46039f\"],[0.2222222222222222,\"#7201a8\"],[0.3333333333333333,\"#9c179e\"],[0.4444444444444444,\"#bd3786\"],[0.5555555555555556,\"#d8576b\"],[0.6666666666666666,\"#ed7953\"],[0.7777777777777778,\"#fb9f3a\"],[0.8888888888888888,\"#fdca26\"],[1.0,\"#f0f921\"]]},\"colorway\":[\"#636efa\",\"#EF553B\",\"#00cc96\",\"#ab63fa\",\"#FFA15A\",\"#19d3f3\",\"#FF6692\",\"#B6E880\",\"#FF97FF\",\"#FECB52\"],\"font\":{\"color\":\"#2a3f5f\"},\"geo\":{\"bgcolor\":\"white\",\"lakecolor\":\"white\",\"landcolor\":\"#E5ECF6\",\"showlakes\":true,\"showland\":true,\"subunitcolor\":\"white\"},\"hoverlabel\":{\"align\":\"left\"},\"hovermode\":\"closest\",\"mapbox\":{\"style\":\"light\"},\"paper_bgcolor\":\"white\",\"plot_bgcolor\":\"#E5ECF6\",\"polar\":{\"angularaxis\":{\"gridcolor\":\"white\",\"linecolor\":\"white\",\"ticks\":\"\"},\"bgcolor\":\"#E5ECF6\",\"radialaxis\":{\"gridcolor\":\"white\",\"linecolor\":\"white\",\"ticks\":\"\"}},\"scene\":{\"xaxis\":{\"backgroundcolor\":\"#E5ECF6\",\"gridcolor\":\"white\",\"gridwidth\":2,\"linecolor\":\"white\",\"showbackground\":true,\"ticks\":\"\",\"zerolinecolor\":\"white\"},\"yaxis\":{\"backgroundcolor\":\"#E5ECF6\",\"gridcolor\":\"white\",\"gridwidth\":2,\"linecolor\":\"white\",\"showbackground\":true,\"ticks\":\"\",\"zerolinecolor\":\"white\"},\"zaxis\":{\"backgroundcolor\":\"#E5ECF6\",\"gridcolor\":\"white\",\"gridwidth\":2,\"linecolor\":\"white\",\"showbackground\":true,\"ticks\":\"\",\"zerolinecolor\":\"white\"}},\"shapedefaults\":{\"line\":{\"color\":\"#2a3f5f\"}},\"ternary\":{\"aaxis\":{\"gridcolor\":\"white\",\"linecolor\":\"white\",\"ticks\":\"\"},\"baxis\":{\"gridcolor\":\"white\",\"linecolor\":\"white\",\"ticks\":\"\"},\"bgcolor\":\"#E5ECF6\",\"caxis\":{\"gridcolor\":\"white\",\"linecolor\":\"white\",\"ticks\":\"\"}},\"title\":{\"x\":0.05},\"xaxis\":{\"automargin\":true,\"gridcolor\":\"white\",\"linecolor\":\"white\",\"ticks\":\"\",\"title\":{\"standoff\":15},\"zerolinecolor\":\"white\",\"zerolinewidth\":2},\"yaxis\":{\"automargin\":true,\"gridcolor\":\"white\",\"linecolor\":\"white\",\"ticks\":\"\",\"title\":{\"standoff\":15},\"zerolinecolor\":\"white\",\"zerolinewidth\":2}}},\"title\":{\"font\":{\"size\":22},\"text\":\"Combined Individual Features (Target: CRT_ACC; Data: Dropped; Model: lasso)\",\"x\":0.5,\"xanchor\":\"center\",\"y\":0.89,\"yanchor\":\"top\"}},                        {\"responsive\": true}                    ).then(function(){\n",
       "                            \n",
       "var gd = document.getElementById('ce69d99f-06b7-4e00-b7b0-3a5623b9b051');\n",
       "var x = new MutationObserver(function (mutations, observer) {{\n",
       "        var display = window.getComputedStyle(gd).display;\n",
       "        if (!display || display === 'none') {{\n",
       "            console.log([gd, 'removed!']);\n",
       "            Plotly.purge(gd);\n",
       "            observer.disconnect();\n",
       "        }}\n",
       "}});\n",
       "\n",
       "// Listen for the removal of the full notebook cells\n",
       "var notebookContainer = gd.closest('#notebook-container');\n",
       "if (notebookContainer) {{\n",
       "    x.observe(notebookContainer, {childList: true});\n",
       "}}\n",
       "\n",
       "// Listen for the clearing of the current output cell\n",
       "var outputEl = gd.closest('.output');\n",
       "if (outputEl) {{\n",
       "    x.observe(outputEl, {childList: true});\n",
       "}}\n",
       "\n",
       "                        })                };                });            </script>        </div>"
      ]
     },
     "metadata": {},
     "output_type": "display_data"
    },
    {
     "data": {
      "text/html": [
       "<img src onerror=\"var cell = this.closest('.code_cell');var editor = cell.querySelector('.input_area');editor.style.background='#fff9e9';this.parentNode.removeChild(this)\">"
      ],
      "text/plain": [
       "<IPython.core.display.HTML object>"
      ]
     },
     "metadata": {},
     "output_type": "display_data"
    }
   ],
   "source": [
    "# run this cell to combine individual features \n",
    "\n",
    "for i in range(len(to_combine)):\n",
    "    \n",
    "    # determine splits \n",
    "    splits = model.get_splits(MY_SPLITS_COMB_INDV)\n",
    "        \n",
    "    # remove umbrella with highest median p value \n",
    "    if i != 0:\n",
    "        to_combine.pop()\n",
    "        \n",
    "    # generate combined feature name\n",
    "    combined_name = \" \".join(to_combine)\n",
    "    print(combined_name)\n",
    "        \n",
    "    X = []\n",
    "    for feat in to_combine:\n",
    "        if feat in MY_TEXT_FEATURES:\n",
    "            X_new, Y_new, na_count = model.transform_feature(data, feat, MY_TARGET, my_max_df=MY_MAXDF_COMB_INDV, \n",
    "                                                             my_min_df=MY_MINDF_COMB_INDV, my_n_components=MY_N_COMPONENTS_COMB_INDV)\n",
    "        else:\n",
    "            X_new, Y_new, na_count = model.transform_feature(data, feat, MY_TARGET)\n",
    "        \n",
    "        # concatenate transformed individual feature to all features for prediction\n",
    "        if X == []:\n",
    "            X = X_new\n",
    "        else:\n",
    "            X = np.concatenate([X, X_new], axis=1)\n",
    "    \n",
    "    # set r, p, score sums to 0\n",
    "    total_r = []\n",
    "    total_p = []\n",
    "    total_score = []\n",
    "        \n",
    "    for s in splits: \n",
    "        # split data into train test set (same split)\n",
    "        X_train, X_test, Y_train, Y_test = model.split_data(X, data[MY_TARGET], MY_TARGET, MY_TEST_SIZE_COMB_INDV s)\n",
    "        \n",
    "        # feature selection with ElasticNet on train set \n",
    "        X_train, X_test, Y_train, Y_test = model.feature_selection(X_train, X_test, Y_train, Y_test, 'median')\n",
    "        \n",
    "        # predict on test set \n",
    "        results = model.predict(X_train, X_test, Y_train, Y_test, MY_MODEL_COMB_INDV, MY_PARAMS_COMB_INDV, MY_CROSS_VAL)\n",
    "        print(results)\n",
    "        \n",
    "        # add to r, p totals\n",
    "        total_r.append(results['r'])\n",
    "        total_p.append(results['p'])\n",
    "        total_score.append(results['r2'])\n",
    "    \n",
    "    # add individual feature results to results dataframe\n",
    "    f_results = model.create_results(combined_name, na_count, total_r, total_p, total_score)\n",
    "    combined_individual_results_df = combined_individual_results_df.append(f_results, ignore_index = True)\n",
    "                \n",
    "    r_dict[combined_name] = total_r\n",
    "    p_dict[combined_name] = total_p\n",
    "    score_dict[combined_name] = total_score\n",
    "    \n",
    "# create and show plots\n",
    "plot, chart = model.create_plotly_individual(combined_individual_results_df, MY_TARGET, \n",
    "                                             DATAFRAME_TYPE, MY_MODEL_COMB_INDV, MY_TITLE_COMB_INDV)\n",
    "chart.show()\n",
    "\n",
    "# save results and plots \n",
    "model.save_results(RESULTS_FOLDER_COMBINED_INDV, MY_TITLE_COMB_INDV.lower(), combined_individual_results_df, \n",
    "             plot, chart, state_dict_combined_individual)\n",
    "\n",
    "general.set_background('#fff9e9')"
   ]
  },
  {
   "cell_type": "markdown",
   "id": "742c2c0b",
   "metadata": {},
   "source": [
    "# Combined Features (Umbrella) "
   ]
  },
  {
   "cell_type": "markdown",
   "id": "24fb6bd1",
   "metadata": {},
   "source": [
    "In this section, we combine umbrella features using a similar protocol to combined individual prediction.\n",
    "\n",
    "*Variable and path definitions are similar to that of individual features prediction above.*"
   ]
  },
  {
   "cell_type": "code",
   "execution_count": 17,
   "id": "78db4001",
   "metadata": {},
   "outputs": [
    {
     "data": {
      "text/html": [
       "<img src onerror=\"var cell = this.closest('.code_cell');var editor = cell.querySelector('.input_area');editor.style.background='#efe1e1';this.parentNode.removeChild(this)\">"
      ],
      "text/plain": [
       "<IPython.core.display.HTML object>"
      ]
     },
     "metadata": {},
     "output_type": "display_data"
    }
   ],
   "source": [
    "# TODO: set variables and paths\n",
    "MY_MODEL_COMB_UMB = 'rfr'\n",
    "# MY_PARAMS_COMB_UMB = {'model__alpha': np.logspace(-5, 5, 100), \n",
    "#                       'poly__degree': [2], 'model__tol': [0.01]} # structure for ridge/lasso\n",
    "MY_PARAMS_COMB_UMB = {\n",
    "             'model__max_depth': [10], # default is [10, 20, 30, 40, 50, 60, 70, 80, 90, 100, None]\n",
    "             'model__min_samples_leaf': [20], # default is [20, 40, 60]\n",
    "             'model__min_samples_split': [10], # default is [2, 5, 10]\n",
    "             'model__n_estimators': [600], # default is [200, 400, 600, 800, 1000]\n",
    "             'model__max_features': ['log2'],\n",
    "             'poly__degree': [1] # default is [1]\n",
    "        } # structure for random forests\n",
    "\n",
    "MY_SPLITS_COMB_UMB = range(0, 50)\n",
    "MY_MINDF_COMB_UMB = 10\n",
    "MY_MAXDF_COMB_UMB = 0.99\n",
    "MY_TEST_SIZE_COMB_UMB = 0.1\n",
    "MY_N_COMPONENTS_COMB_UMB = 50\n",
    "MY_TITLE_COMB_UMB = 'Combined Umbrella Features'\n",
    "\n",
    "RESULTS_FOLDER_COMBINED_UMBRELLA = ROOT_DIR + RESULTS_FOLDER_NAME + 'combined_umbrella_{}/'.format(MY_MODEL_COMB_UMB)\n",
    "\n",
    "general.set_background('#efe1e1')"
   ]
  },
  {
   "cell_type": "code",
   "execution_count": 18,
   "id": "3fbce393",
   "metadata": {},
   "outputs": [
    {
     "data": {
      "text/html": [
       "<img src onerror=\"var cell = this.closest('.code_cell');var editor = cell.querySelector('.input_area');editor.style.background='#fff9e9';this.parentNode.removeChild(this)\">"
      ],
      "text/plain": [
       "<IPython.core.display.HTML object>"
      ]
     },
     "metadata": {},
     "output_type": "display_data"
    }
   ],
   "source": [
    "# run this cell to store results\n",
    "state_dict_combined_umbrella = {\n",
    "    'model': MY_MODEL_COMB_UMB, \n",
    "    'params': MY_PARAMS_COMB_UMB, \n",
    "    'splits': MY_SPLITS_COMB_UMB,\n",
    "    'mindf': MY_MINDF_COMB_UMB,\n",
    "    'maxdf': MY_MAXDF_COMB_UMB,\n",
    "    'test_size': MY_TEST_SIZE_COMB_UMB,\n",
    "    'n_components': MY_N_COMPONENTS_COMB_UMB,\n",
    "}\n",
    "\n",
    "r_dict = {}\n",
    "p_dict = {}\n",
    "score_dict = {}\n",
    "combined_umbrella_results_df = pd.DataFrame({})\n",
    "\n",
    "general.set_background('#fff9e9')"
   ]
  },
  {
   "cell_type": "code",
   "execution_count": 32,
   "id": "cf6c6f34",
   "metadata": {},
   "outputs": [
    {
     "data": {
      "text/html": [
       "<img src onerror=\"var cell = this.closest('.code_cell');var editor = cell.querySelector('.input_area');editor.style.background='#fff9e9';this.parentNode.removeChild(this)\">"
      ],
      "text/plain": [
       "<IPython.core.display.HTML object>"
      ]
     },
     "metadata": {},
     "output_type": "display_data"
    }
   ],
   "source": [
    "# run this cell to generate the ordering of umbrella features to combine\n",
    "\n",
    "to_combine = umbrella_results_df.sort_values('p_median', ascending=True)['feature'].values\n",
    "\n",
    "# remove combinations of umbrella features\n",
    "for elem in to_combine:\n",
    "    if elem.startswith('all'):\n",
    "        to_combine = np.delete(to_combine, np.where(to_combine == elem))\n",
    "\n",
    "general.set_background('#fff9e9')"
   ]
  },
  {
   "cell_type": "code",
   "execution_count": 353,
   "id": "c3b6b6bc",
   "metadata": {},
   "outputs": [
    {
     "name": "stdout",
     "output_type": "stream",
     "text": [
      "followee_features\n",
      "{'r': 0.2631946174052182, 'p': 0.010805128765186342, 'r2': 0.04054716737063611}\n",
      "{'r': 0.30493813408912224, 'p': 0.0029579568147768925, 'r2': 0.029882276573173282}\n",
      "{'r': 0.3235246720928869, 'p': 0.0015599504113106993, 'r2': 0.04529224346493044}\n",
      "{'r': 0.28535358144638845, 'p': 0.005562299878646071, 'r2': 0.03929282306784845}\n",
      "{'r': 0.16731682131321943, 'p': 0.10892479691465548, 'r2': 0.05096464027342305}\n",
      "{'r': 0.25240543849348396, 'p': 0.014652779407924307, 'r2': 0.051497553213455526}\n",
      "{'r': 0.2986512402287196, 'p': 0.0036397226139835, 'r2': 0.04906888497258621}\n",
      "{'r': 0.325964604219023, 'p': 0.0014299472122351567, 'r2': 0.04922621719259339}\n",
      "{'r': 0.39097114679249517, 'p': 0.00010670576026775392, 'r2': 0.03618926400030069}\n",
      "{'r': 0.21279107696367439, 'p': 0.04057512513679103, 'r2': 0.05143055377791768}\n",
      "{'r': 0.1238700567660741, 'p': 0.2368227261781531, 'r2': 0.055320543861752246}\n",
      "{'r': 0.3007914792005586, 'p': 0.0033932991964177477, 'r2': 0.05151912124150752}\n",
      "{'r': 0.23100788025705438, 'p': 0.02589016277108812, 'r2': 0.050243335147505806}\n",
      "{'r': 0.23569420695792082, 'p': 0.022944689892720464, 'r2': 0.04639858807557442}\n",
      "{'r': 0.2238389498753885, 'p': 0.031015215663634882, 'r2': 0.05418598625539177}\n",
      "{'r': 0.3086700107032522, 'p': 0.0026097378477771983, 'r2': 0.05020565942053516}\n",
      "{'r': 0.38403874641621877, 'p': 0.00014454662950819208, 'r2': 0.04552969770442463}\n",
      "{'r': 0.34118805517373124, 'p': 0.0008174408021722634, 'r2': 0.047782601211203035}\n",
      "{'r': 0.1862664863752502, 'p': 0.07382852953140334, 'r2': 0.04684526880848352}\n",
      "{'r': 0.16889818809625687, 'p': 0.10557296266474633, 'r2': 0.03458295798134061}\n",
      "{'r': 0.47138288069250006, 'p': 1.8502736739448678e-06, 'r2': 0.04541600880279062}\n",
      "{'r': 0.2554063441000187, 'p': 0.013478684869480768, 'r2': 0.037662196706368764}\n",
      "{'r': 0.3162488686482119, 'p': 0.0020136218400480157, 'r2': 0.050042123221143896}\n",
      "{'r': 0.21268235580745898, 'p': 0.04068020804653216, 'r2': 0.0441498737434826}\n",
      "{'r': 0.27241306750741423, 'p': 0.008249448264295519, 'r2': 0.05240971714758471}\n",
      "{'r': 0.29890704498690523, 'p': 0.0036094508321551887, 'r2': 0.052799436423244736}\n",
      "{'r': 0.19304471859668407, 'p': 0.06374526953170219, 'r2': 0.06547673445533589}\n",
      "{'r': 0.3213678965389183, 'p': 0.0016836782735338833, 'r2': 0.051074152193212964}\n",
      "{'r': 0.18191310498813137, 'p': 0.08095477593816128, 'r2': 0.05843360091856005}\n",
      "{'r': 0.41324732463585784, 'p': 3.83993920773277e-05, 'r2': 0.04523041045776464}\n",
      "{'r': 0.29818033719336184, 'p': 0.0036960431871508725, 'r2': 0.05408308658336336}\n",
      "{'r': 0.25085575815209504, 'p': 0.015293078045042733, 'r2': 0.05549540188493607}\n",
      "{'r': 0.18707713530373157, 'p': 0.07255899393822302, 'r2': 0.061080014057512136}\n",
      "{'r': 0.3104213567243101, 'p': 0.0024594032867466644, 'r2': 0.05143789725806791}\n",
      "{'r': 0.35858893040064477, 'p': 0.0004163771075196885, 'r2': 0.048197586325510966}\n",
      "{'r': 0.3020808199339707, 'p': 0.003252160092070955, 'r2': 0.04888208592499521}\n",
      "{'r': 0.4055170139734165, 'p': 5.5198789707640036e-05, 'r2': 0.04434320445411129}\n",
      "{'r': 0.1584617107508908, 'p': 0.12924537570878883, 'r2': 0.056801415653544504}\n",
      "{'r': 0.1641108564164801, 'p': 0.11597355101709177, 'r2': 0.06118156386918459}\n",
      "{'r': 0.2526723238463887, 'p': 0.014544885948744559, 'r2': 0.053613721769046}\n",
      "{'r': 0.12924054427533746, 'p': 0.21694970705322764, 'r2': 0.05696940995078261}\n",
      "{'r': 0.27973106685583665, 'p': 0.006615924872832607, 'r2': 0.03724784458648254}\n",
      "{'r': 0.3565467028229212, 'p': 0.00045158702010054654, 'r2': 0.04049038243866245}\n",
      "{'r': 0.3331991958851966, 'p': 0.0011001129682933508, 'r2': 0.0397824004892708}\n",
      "{'r': 0.359876678230532, 'p': 0.0003954902469021111, 'r2': 0.03250813908702621}\n",
      "{'r': 0.2439233313407923, 'p': 0.018462699313370124, 'r2': 0.0525097555691366}\n",
      "{'r': 0.4131115478086112, 'p': 3.8647911946869166e-05, 'r2': 0.0328227083380727}\n",
      "{'r': 0.25387102546883794, 'p': 0.014068739722425503, 'r2': 0.03762193775538576}\n",
      "{'r': 0.11115591350392606, 'p': 0.2888070476867327, 'r2': 0.06579868790082588}\n",
      "{'r': 0.13382013635025425, 'p': 0.20095999135997383, 'r2': 0.057808408976355107}\n"
     ]
    },
    {
     "data": {
      "application/vnd.plotly.v1+json": {
       "config": {
        "plotlyServerURL": "https://plot.ly"
       },
       "data": [
        {
         "cells": {
          "align": "left",
          "fill": {
           "color": "lightgray"
          },
          "values": [
           [
            "followee_features"
           ],
           [
            "0.27607"
           ],
           [
            "0.00743"
           ],
           [
            "0.04963"
           ],
           [
            0
           ]
          ]
         },
         "header": {
          "align": "left",
          "fill": {
           "color": "cornflowerblue"
          },
          "values": [
           "Feature Name",
           "R Median",
           "P Median",
           "R^2 Median",
           "Dropped Count"
          ]
         },
         "type": "table"
        }
       ],
       "layout": {
        "font": {
         "color": "black",
         "family": "Courier New, monospace",
         "size": 12
        },
        "template": {
         "data": {
          "bar": [
           {
            "error_x": {
             "color": "#2a3f5f"
            },
            "error_y": {
             "color": "#2a3f5f"
            },
            "marker": {
             "line": {
              "color": "#E5ECF6",
              "width": 0.5
             },
             "pattern": {
              "fillmode": "overlay",
              "size": 10,
              "solidity": 0.2
             }
            },
            "type": "bar"
           }
          ],
          "barpolar": [
           {
            "marker": {
             "line": {
              "color": "#E5ECF6",
              "width": 0.5
             },
             "pattern": {
              "fillmode": "overlay",
              "size": 10,
              "solidity": 0.2
             }
            },
            "type": "barpolar"
           }
          ],
          "carpet": [
           {
            "aaxis": {
             "endlinecolor": "#2a3f5f",
             "gridcolor": "white",
             "linecolor": "white",
             "minorgridcolor": "white",
             "startlinecolor": "#2a3f5f"
            },
            "baxis": {
             "endlinecolor": "#2a3f5f",
             "gridcolor": "white",
             "linecolor": "white",
             "minorgridcolor": "white",
             "startlinecolor": "#2a3f5f"
            },
            "type": "carpet"
           }
          ],
          "choropleth": [
           {
            "colorbar": {
             "outlinewidth": 0,
             "ticks": ""
            },
            "type": "choropleth"
           }
          ],
          "contour": [
           {
            "colorbar": {
             "outlinewidth": 0,
             "ticks": ""
            },
            "colorscale": [
             [
              0,
              "#0d0887"
             ],
             [
              0.1111111111111111,
              "#46039f"
             ],
             [
              0.2222222222222222,
              "#7201a8"
             ],
             [
              0.3333333333333333,
              "#9c179e"
             ],
             [
              0.4444444444444444,
              "#bd3786"
             ],
             [
              0.5555555555555556,
              "#d8576b"
             ],
             [
              0.6666666666666666,
              "#ed7953"
             ],
             [
              0.7777777777777778,
              "#fb9f3a"
             ],
             [
              0.8888888888888888,
              "#fdca26"
             ],
             [
              1,
              "#f0f921"
             ]
            ],
            "type": "contour"
           }
          ],
          "contourcarpet": [
           {
            "colorbar": {
             "outlinewidth": 0,
             "ticks": ""
            },
            "type": "contourcarpet"
           }
          ],
          "heatmap": [
           {
            "colorbar": {
             "outlinewidth": 0,
             "ticks": ""
            },
            "colorscale": [
             [
              0,
              "#0d0887"
             ],
             [
              0.1111111111111111,
              "#46039f"
             ],
             [
              0.2222222222222222,
              "#7201a8"
             ],
             [
              0.3333333333333333,
              "#9c179e"
             ],
             [
              0.4444444444444444,
              "#bd3786"
             ],
             [
              0.5555555555555556,
              "#d8576b"
             ],
             [
              0.6666666666666666,
              "#ed7953"
             ],
             [
              0.7777777777777778,
              "#fb9f3a"
             ],
             [
              0.8888888888888888,
              "#fdca26"
             ],
             [
              1,
              "#f0f921"
             ]
            ],
            "type": "heatmap"
           }
          ],
          "heatmapgl": [
           {
            "colorbar": {
             "outlinewidth": 0,
             "ticks": ""
            },
            "colorscale": [
             [
              0,
              "#0d0887"
             ],
             [
              0.1111111111111111,
              "#46039f"
             ],
             [
              0.2222222222222222,
              "#7201a8"
             ],
             [
              0.3333333333333333,
              "#9c179e"
             ],
             [
              0.4444444444444444,
              "#bd3786"
             ],
             [
              0.5555555555555556,
              "#d8576b"
             ],
             [
              0.6666666666666666,
              "#ed7953"
             ],
             [
              0.7777777777777778,
              "#fb9f3a"
             ],
             [
              0.8888888888888888,
              "#fdca26"
             ],
             [
              1,
              "#f0f921"
             ]
            ],
            "type": "heatmapgl"
           }
          ],
          "histogram": [
           {
            "marker": {
             "pattern": {
              "fillmode": "overlay",
              "size": 10,
              "solidity": 0.2
             }
            },
            "type": "histogram"
           }
          ],
          "histogram2d": [
           {
            "colorbar": {
             "outlinewidth": 0,
             "ticks": ""
            },
            "colorscale": [
             [
              0,
              "#0d0887"
             ],
             [
              0.1111111111111111,
              "#46039f"
             ],
             [
              0.2222222222222222,
              "#7201a8"
             ],
             [
              0.3333333333333333,
              "#9c179e"
             ],
             [
              0.4444444444444444,
              "#bd3786"
             ],
             [
              0.5555555555555556,
              "#d8576b"
             ],
             [
              0.6666666666666666,
              "#ed7953"
             ],
             [
              0.7777777777777778,
              "#fb9f3a"
             ],
             [
              0.8888888888888888,
              "#fdca26"
             ],
             [
              1,
              "#f0f921"
             ]
            ],
            "type": "histogram2d"
           }
          ],
          "histogram2dcontour": [
           {
            "colorbar": {
             "outlinewidth": 0,
             "ticks": ""
            },
            "colorscale": [
             [
              0,
              "#0d0887"
             ],
             [
              0.1111111111111111,
              "#46039f"
             ],
             [
              0.2222222222222222,
              "#7201a8"
             ],
             [
              0.3333333333333333,
              "#9c179e"
             ],
             [
              0.4444444444444444,
              "#bd3786"
             ],
             [
              0.5555555555555556,
              "#d8576b"
             ],
             [
              0.6666666666666666,
              "#ed7953"
             ],
             [
              0.7777777777777778,
              "#fb9f3a"
             ],
             [
              0.8888888888888888,
              "#fdca26"
             ],
             [
              1,
              "#f0f921"
             ]
            ],
            "type": "histogram2dcontour"
           }
          ],
          "mesh3d": [
           {
            "colorbar": {
             "outlinewidth": 0,
             "ticks": ""
            },
            "type": "mesh3d"
           }
          ],
          "parcoords": [
           {
            "line": {
             "colorbar": {
              "outlinewidth": 0,
              "ticks": ""
             }
            },
            "type": "parcoords"
           }
          ],
          "pie": [
           {
            "automargin": true,
            "type": "pie"
           }
          ],
          "scatter": [
           {
            "marker": {
             "colorbar": {
              "outlinewidth": 0,
              "ticks": ""
             }
            },
            "type": "scatter"
           }
          ],
          "scatter3d": [
           {
            "line": {
             "colorbar": {
              "outlinewidth": 0,
              "ticks": ""
             }
            },
            "marker": {
             "colorbar": {
              "outlinewidth": 0,
              "ticks": ""
             }
            },
            "type": "scatter3d"
           }
          ],
          "scattercarpet": [
           {
            "marker": {
             "colorbar": {
              "outlinewidth": 0,
              "ticks": ""
             }
            },
            "type": "scattercarpet"
           }
          ],
          "scattergeo": [
           {
            "marker": {
             "colorbar": {
              "outlinewidth": 0,
              "ticks": ""
             }
            },
            "type": "scattergeo"
           }
          ],
          "scattergl": [
           {
            "marker": {
             "colorbar": {
              "outlinewidth": 0,
              "ticks": ""
             }
            },
            "type": "scattergl"
           }
          ],
          "scattermapbox": [
           {
            "marker": {
             "colorbar": {
              "outlinewidth": 0,
              "ticks": ""
             }
            },
            "type": "scattermapbox"
           }
          ],
          "scatterpolar": [
           {
            "marker": {
             "colorbar": {
              "outlinewidth": 0,
              "ticks": ""
             }
            },
            "type": "scatterpolar"
           }
          ],
          "scatterpolargl": [
           {
            "marker": {
             "colorbar": {
              "outlinewidth": 0,
              "ticks": ""
             }
            },
            "type": "scatterpolargl"
           }
          ],
          "scatterternary": [
           {
            "marker": {
             "colorbar": {
              "outlinewidth": 0,
              "ticks": ""
             }
            },
            "type": "scatterternary"
           }
          ],
          "surface": [
           {
            "colorbar": {
             "outlinewidth": 0,
             "ticks": ""
            },
            "colorscale": [
             [
              0,
              "#0d0887"
             ],
             [
              0.1111111111111111,
              "#46039f"
             ],
             [
              0.2222222222222222,
              "#7201a8"
             ],
             [
              0.3333333333333333,
              "#9c179e"
             ],
             [
              0.4444444444444444,
              "#bd3786"
             ],
             [
              0.5555555555555556,
              "#d8576b"
             ],
             [
              0.6666666666666666,
              "#ed7953"
             ],
             [
              0.7777777777777778,
              "#fb9f3a"
             ],
             [
              0.8888888888888888,
              "#fdca26"
             ],
             [
              1,
              "#f0f921"
             ]
            ],
            "type": "surface"
           }
          ],
          "table": [
           {
            "cells": {
             "fill": {
              "color": "#EBF0F8"
             },
             "line": {
              "color": "white"
             }
            },
            "header": {
             "fill": {
              "color": "#C8D4E3"
             },
             "line": {
              "color": "white"
             }
            },
            "type": "table"
           }
          ]
         },
         "layout": {
          "annotationdefaults": {
           "arrowcolor": "#2a3f5f",
           "arrowhead": 0,
           "arrowwidth": 1
          },
          "autotypenumbers": "strict",
          "coloraxis": {
           "colorbar": {
            "outlinewidth": 0,
            "ticks": ""
           }
          },
          "colorscale": {
           "diverging": [
            [
             0,
             "#8e0152"
            ],
            [
             0.1,
             "#c51b7d"
            ],
            [
             0.2,
             "#de77ae"
            ],
            [
             0.3,
             "#f1b6da"
            ],
            [
             0.4,
             "#fde0ef"
            ],
            [
             0.5,
             "#f7f7f7"
            ],
            [
             0.6,
             "#e6f5d0"
            ],
            [
             0.7,
             "#b8e186"
            ],
            [
             0.8,
             "#7fbc41"
            ],
            [
             0.9,
             "#4d9221"
            ],
            [
             1,
             "#276419"
            ]
           ],
           "sequential": [
            [
             0,
             "#0d0887"
            ],
            [
             0.1111111111111111,
             "#46039f"
            ],
            [
             0.2222222222222222,
             "#7201a8"
            ],
            [
             0.3333333333333333,
             "#9c179e"
            ],
            [
             0.4444444444444444,
             "#bd3786"
            ],
            [
             0.5555555555555556,
             "#d8576b"
            ],
            [
             0.6666666666666666,
             "#ed7953"
            ],
            [
             0.7777777777777778,
             "#fb9f3a"
            ],
            [
             0.8888888888888888,
             "#fdca26"
            ],
            [
             1,
             "#f0f921"
            ]
           ],
           "sequentialminus": [
            [
             0,
             "#0d0887"
            ],
            [
             0.1111111111111111,
             "#46039f"
            ],
            [
             0.2222222222222222,
             "#7201a8"
            ],
            [
             0.3333333333333333,
             "#9c179e"
            ],
            [
             0.4444444444444444,
             "#bd3786"
            ],
            [
             0.5555555555555556,
             "#d8576b"
            ],
            [
             0.6666666666666666,
             "#ed7953"
            ],
            [
             0.7777777777777778,
             "#fb9f3a"
            ],
            [
             0.8888888888888888,
             "#fdca26"
            ],
            [
             1,
             "#f0f921"
            ]
           ]
          },
          "colorway": [
           "#636efa",
           "#EF553B",
           "#00cc96",
           "#ab63fa",
           "#FFA15A",
           "#19d3f3",
           "#FF6692",
           "#B6E880",
           "#FF97FF",
           "#FECB52"
          ],
          "font": {
           "color": "#2a3f5f"
          },
          "geo": {
           "bgcolor": "white",
           "lakecolor": "white",
           "landcolor": "#E5ECF6",
           "showlakes": true,
           "showland": true,
           "subunitcolor": "white"
          },
          "hoverlabel": {
           "align": "left"
          },
          "hovermode": "closest",
          "mapbox": {
           "style": "light"
          },
          "paper_bgcolor": "white",
          "plot_bgcolor": "#E5ECF6",
          "polar": {
           "angularaxis": {
            "gridcolor": "white",
            "linecolor": "white",
            "ticks": ""
           },
           "bgcolor": "#E5ECF6",
           "radialaxis": {
            "gridcolor": "white",
            "linecolor": "white",
            "ticks": ""
           }
          },
          "scene": {
           "xaxis": {
            "backgroundcolor": "#E5ECF6",
            "gridcolor": "white",
            "gridwidth": 2,
            "linecolor": "white",
            "showbackground": true,
            "ticks": "",
            "zerolinecolor": "white"
           },
           "yaxis": {
            "backgroundcolor": "#E5ECF6",
            "gridcolor": "white",
            "gridwidth": 2,
            "linecolor": "white",
            "showbackground": true,
            "ticks": "",
            "zerolinecolor": "white"
           },
           "zaxis": {
            "backgroundcolor": "#E5ECF6",
            "gridcolor": "white",
            "gridwidth": 2,
            "linecolor": "white",
            "showbackground": true,
            "ticks": "",
            "zerolinecolor": "white"
           }
          },
          "shapedefaults": {
           "line": {
            "color": "#2a3f5f"
           }
          },
          "ternary": {
           "aaxis": {
            "gridcolor": "white",
            "linecolor": "white",
            "ticks": ""
           },
           "baxis": {
            "gridcolor": "white",
            "linecolor": "white",
            "ticks": ""
           },
           "bgcolor": "#E5ECF6",
           "caxis": {
            "gridcolor": "white",
            "linecolor": "white",
            "ticks": ""
           }
          },
          "title": {
           "x": 0.05
          },
          "xaxis": {
           "automargin": true,
           "gridcolor": "white",
           "linecolor": "white",
           "ticks": "",
           "title": {
            "standoff": 15
           },
           "zerolinecolor": "white",
           "zerolinewidth": 2
          },
          "yaxis": {
           "automargin": true,
           "gridcolor": "white",
           "linecolor": "white",
           "ticks": "",
           "title": {
            "standoff": 15
           },
           "zerolinecolor": "white",
           "zerolinewidth": 2
          }
         }
        },
        "title": {
         "font": {
          "size": 22
         },
         "text": "Combined Umbrella Features (Target: CRT_ACC; Data: Dropped; Model: rfr)",
         "x": 0.5,
         "xanchor": "center",
         "y": 0.89,
         "yanchor": "top"
        }
       }
      },
      "text/html": [
       "<div>                            <div id=\"0a50eeb7-a404-4a62-9b08-70571cc6df95\" class=\"plotly-graph-div\" style=\"height:525px; width:100%;\"></div>            <script type=\"text/javascript\">                require([\"plotly\"], function(Plotly) {                    window.PLOTLYENV=window.PLOTLYENV || {};                                    if (document.getElementById(\"0a50eeb7-a404-4a62-9b08-70571cc6df95\")) {                    Plotly.newPlot(                        \"0a50eeb7-a404-4a62-9b08-70571cc6df95\",                        [{\"cells\":{\"align\":\"left\",\"fill\":{\"color\":\"lightgray\"},\"values\":[[\"followee_features\"],[\"0.27607\"],[\"0.00743\"],[\"0.04963\"],[0.0]]},\"header\":{\"align\":\"left\",\"fill\":{\"color\":\"cornflowerblue\"},\"values\":[\"Feature Name\",\"R Median\",\"P Median\",\"R^2 Median\",\"Dropped Count\"]},\"type\":\"table\"}],                        {\"font\":{\"color\":\"black\",\"family\":\"Courier New, monospace\",\"size\":12},\"template\":{\"data\":{\"bar\":[{\"error_x\":{\"color\":\"#2a3f5f\"},\"error_y\":{\"color\":\"#2a3f5f\"},\"marker\":{\"line\":{\"color\":\"#E5ECF6\",\"width\":0.5},\"pattern\":{\"fillmode\":\"overlay\",\"size\":10,\"solidity\":0.2}},\"type\":\"bar\"}],\"barpolar\":[{\"marker\":{\"line\":{\"color\":\"#E5ECF6\",\"width\":0.5},\"pattern\":{\"fillmode\":\"overlay\",\"size\":10,\"solidity\":0.2}},\"type\":\"barpolar\"}],\"carpet\":[{\"aaxis\":{\"endlinecolor\":\"#2a3f5f\",\"gridcolor\":\"white\",\"linecolor\":\"white\",\"minorgridcolor\":\"white\",\"startlinecolor\":\"#2a3f5f\"},\"baxis\":{\"endlinecolor\":\"#2a3f5f\",\"gridcolor\":\"white\",\"linecolor\":\"white\",\"minorgridcolor\":\"white\",\"startlinecolor\":\"#2a3f5f\"},\"type\":\"carpet\"}],\"choropleth\":[{\"colorbar\":{\"outlinewidth\":0,\"ticks\":\"\"},\"type\":\"choropleth\"}],\"contour\":[{\"colorbar\":{\"outlinewidth\":0,\"ticks\":\"\"},\"colorscale\":[[0.0,\"#0d0887\"],[0.1111111111111111,\"#46039f\"],[0.2222222222222222,\"#7201a8\"],[0.3333333333333333,\"#9c179e\"],[0.4444444444444444,\"#bd3786\"],[0.5555555555555556,\"#d8576b\"],[0.6666666666666666,\"#ed7953\"],[0.7777777777777778,\"#fb9f3a\"],[0.8888888888888888,\"#fdca26\"],[1.0,\"#f0f921\"]],\"type\":\"contour\"}],\"contourcarpet\":[{\"colorbar\":{\"outlinewidth\":0,\"ticks\":\"\"},\"type\":\"contourcarpet\"}],\"heatmap\":[{\"colorbar\":{\"outlinewidth\":0,\"ticks\":\"\"},\"colorscale\":[[0.0,\"#0d0887\"],[0.1111111111111111,\"#46039f\"],[0.2222222222222222,\"#7201a8\"],[0.3333333333333333,\"#9c179e\"],[0.4444444444444444,\"#bd3786\"],[0.5555555555555556,\"#d8576b\"],[0.6666666666666666,\"#ed7953\"],[0.7777777777777778,\"#fb9f3a\"],[0.8888888888888888,\"#fdca26\"],[1.0,\"#f0f921\"]],\"type\":\"heatmap\"}],\"heatmapgl\":[{\"colorbar\":{\"outlinewidth\":0,\"ticks\":\"\"},\"colorscale\":[[0.0,\"#0d0887\"],[0.1111111111111111,\"#46039f\"],[0.2222222222222222,\"#7201a8\"],[0.3333333333333333,\"#9c179e\"],[0.4444444444444444,\"#bd3786\"],[0.5555555555555556,\"#d8576b\"],[0.6666666666666666,\"#ed7953\"],[0.7777777777777778,\"#fb9f3a\"],[0.8888888888888888,\"#fdca26\"],[1.0,\"#f0f921\"]],\"type\":\"heatmapgl\"}],\"histogram\":[{\"marker\":{\"pattern\":{\"fillmode\":\"overlay\",\"size\":10,\"solidity\":0.2}},\"type\":\"histogram\"}],\"histogram2d\":[{\"colorbar\":{\"outlinewidth\":0,\"ticks\":\"\"},\"colorscale\":[[0.0,\"#0d0887\"],[0.1111111111111111,\"#46039f\"],[0.2222222222222222,\"#7201a8\"],[0.3333333333333333,\"#9c179e\"],[0.4444444444444444,\"#bd3786\"],[0.5555555555555556,\"#d8576b\"],[0.6666666666666666,\"#ed7953\"],[0.7777777777777778,\"#fb9f3a\"],[0.8888888888888888,\"#fdca26\"],[1.0,\"#f0f921\"]],\"type\":\"histogram2d\"}],\"histogram2dcontour\":[{\"colorbar\":{\"outlinewidth\":0,\"ticks\":\"\"},\"colorscale\":[[0.0,\"#0d0887\"],[0.1111111111111111,\"#46039f\"],[0.2222222222222222,\"#7201a8\"],[0.3333333333333333,\"#9c179e\"],[0.4444444444444444,\"#bd3786\"],[0.5555555555555556,\"#d8576b\"],[0.6666666666666666,\"#ed7953\"],[0.7777777777777778,\"#fb9f3a\"],[0.8888888888888888,\"#fdca26\"],[1.0,\"#f0f921\"]],\"type\":\"histogram2dcontour\"}],\"mesh3d\":[{\"colorbar\":{\"outlinewidth\":0,\"ticks\":\"\"},\"type\":\"mesh3d\"}],\"parcoords\":[{\"line\":{\"colorbar\":{\"outlinewidth\":0,\"ticks\":\"\"}},\"type\":\"parcoords\"}],\"pie\":[{\"automargin\":true,\"type\":\"pie\"}],\"scatter\":[{\"marker\":{\"colorbar\":{\"outlinewidth\":0,\"ticks\":\"\"}},\"type\":\"scatter\"}],\"scatter3d\":[{\"line\":{\"colorbar\":{\"outlinewidth\":0,\"ticks\":\"\"}},\"marker\":{\"colorbar\":{\"outlinewidth\":0,\"ticks\":\"\"}},\"type\":\"scatter3d\"}],\"scattercarpet\":[{\"marker\":{\"colorbar\":{\"outlinewidth\":0,\"ticks\":\"\"}},\"type\":\"scattercarpet\"}],\"scattergeo\":[{\"marker\":{\"colorbar\":{\"outlinewidth\":0,\"ticks\":\"\"}},\"type\":\"scattergeo\"}],\"scattergl\":[{\"marker\":{\"colorbar\":{\"outlinewidth\":0,\"ticks\":\"\"}},\"type\":\"scattergl\"}],\"scattermapbox\":[{\"marker\":{\"colorbar\":{\"outlinewidth\":0,\"ticks\":\"\"}},\"type\":\"scattermapbox\"}],\"scatterpolar\":[{\"marker\":{\"colorbar\":{\"outlinewidth\":0,\"ticks\":\"\"}},\"type\":\"scatterpolar\"}],\"scatterpolargl\":[{\"marker\":{\"colorbar\":{\"outlinewidth\":0,\"ticks\":\"\"}},\"type\":\"scatterpolargl\"}],\"scatterternary\":[{\"marker\":{\"colorbar\":{\"outlinewidth\":0,\"ticks\":\"\"}},\"type\":\"scatterternary\"}],\"surface\":[{\"colorbar\":{\"outlinewidth\":0,\"ticks\":\"\"},\"colorscale\":[[0.0,\"#0d0887\"],[0.1111111111111111,\"#46039f\"],[0.2222222222222222,\"#7201a8\"],[0.3333333333333333,\"#9c179e\"],[0.4444444444444444,\"#bd3786\"],[0.5555555555555556,\"#d8576b\"],[0.6666666666666666,\"#ed7953\"],[0.7777777777777778,\"#fb9f3a\"],[0.8888888888888888,\"#fdca26\"],[1.0,\"#f0f921\"]],\"type\":\"surface\"}],\"table\":[{\"cells\":{\"fill\":{\"color\":\"#EBF0F8\"},\"line\":{\"color\":\"white\"}},\"header\":{\"fill\":{\"color\":\"#C8D4E3\"},\"line\":{\"color\":\"white\"}},\"type\":\"table\"}]},\"layout\":{\"annotationdefaults\":{\"arrowcolor\":\"#2a3f5f\",\"arrowhead\":0,\"arrowwidth\":1},\"autotypenumbers\":\"strict\",\"coloraxis\":{\"colorbar\":{\"outlinewidth\":0,\"ticks\":\"\"}},\"colorscale\":{\"diverging\":[[0,\"#8e0152\"],[0.1,\"#c51b7d\"],[0.2,\"#de77ae\"],[0.3,\"#f1b6da\"],[0.4,\"#fde0ef\"],[0.5,\"#f7f7f7\"],[0.6,\"#e6f5d0\"],[0.7,\"#b8e186\"],[0.8,\"#7fbc41\"],[0.9,\"#4d9221\"],[1,\"#276419\"]],\"sequential\":[[0.0,\"#0d0887\"],[0.1111111111111111,\"#46039f\"],[0.2222222222222222,\"#7201a8\"],[0.3333333333333333,\"#9c179e\"],[0.4444444444444444,\"#bd3786\"],[0.5555555555555556,\"#d8576b\"],[0.6666666666666666,\"#ed7953\"],[0.7777777777777778,\"#fb9f3a\"],[0.8888888888888888,\"#fdca26\"],[1.0,\"#f0f921\"]],\"sequentialminus\":[[0.0,\"#0d0887\"],[0.1111111111111111,\"#46039f\"],[0.2222222222222222,\"#7201a8\"],[0.3333333333333333,\"#9c179e\"],[0.4444444444444444,\"#bd3786\"],[0.5555555555555556,\"#d8576b\"],[0.6666666666666666,\"#ed7953\"],[0.7777777777777778,\"#fb9f3a\"],[0.8888888888888888,\"#fdca26\"],[1.0,\"#f0f921\"]]},\"colorway\":[\"#636efa\",\"#EF553B\",\"#00cc96\",\"#ab63fa\",\"#FFA15A\",\"#19d3f3\",\"#FF6692\",\"#B6E880\",\"#FF97FF\",\"#FECB52\"],\"font\":{\"color\":\"#2a3f5f\"},\"geo\":{\"bgcolor\":\"white\",\"lakecolor\":\"white\",\"landcolor\":\"#E5ECF6\",\"showlakes\":true,\"showland\":true,\"subunitcolor\":\"white\"},\"hoverlabel\":{\"align\":\"left\"},\"hovermode\":\"closest\",\"mapbox\":{\"style\":\"light\"},\"paper_bgcolor\":\"white\",\"plot_bgcolor\":\"#E5ECF6\",\"polar\":{\"angularaxis\":{\"gridcolor\":\"white\",\"linecolor\":\"white\",\"ticks\":\"\"},\"bgcolor\":\"#E5ECF6\",\"radialaxis\":{\"gridcolor\":\"white\",\"linecolor\":\"white\",\"ticks\":\"\"}},\"scene\":{\"xaxis\":{\"backgroundcolor\":\"#E5ECF6\",\"gridcolor\":\"white\",\"gridwidth\":2,\"linecolor\":\"white\",\"showbackground\":true,\"ticks\":\"\",\"zerolinecolor\":\"white\"},\"yaxis\":{\"backgroundcolor\":\"#E5ECF6\",\"gridcolor\":\"white\",\"gridwidth\":2,\"linecolor\":\"white\",\"showbackground\":true,\"ticks\":\"\",\"zerolinecolor\":\"white\"},\"zaxis\":{\"backgroundcolor\":\"#E5ECF6\",\"gridcolor\":\"white\",\"gridwidth\":2,\"linecolor\":\"white\",\"showbackground\":true,\"ticks\":\"\",\"zerolinecolor\":\"white\"}},\"shapedefaults\":{\"line\":{\"color\":\"#2a3f5f\"}},\"ternary\":{\"aaxis\":{\"gridcolor\":\"white\",\"linecolor\":\"white\",\"ticks\":\"\"},\"baxis\":{\"gridcolor\":\"white\",\"linecolor\":\"white\",\"ticks\":\"\"},\"bgcolor\":\"#E5ECF6\",\"caxis\":{\"gridcolor\":\"white\",\"linecolor\":\"white\",\"ticks\":\"\"}},\"title\":{\"x\":0.05},\"xaxis\":{\"automargin\":true,\"gridcolor\":\"white\",\"linecolor\":\"white\",\"ticks\":\"\",\"title\":{\"standoff\":15},\"zerolinecolor\":\"white\",\"zerolinewidth\":2},\"yaxis\":{\"automargin\":true,\"gridcolor\":\"white\",\"linecolor\":\"white\",\"ticks\":\"\",\"title\":{\"standoff\":15},\"zerolinecolor\":\"white\",\"zerolinewidth\":2}}},\"title\":{\"font\":{\"size\":22},\"text\":\"Combined Umbrella Features (Target: CRT_ACC; Data: Dropped; Model: rfr)\",\"x\":0.5,\"xanchor\":\"center\",\"y\":0.89,\"yanchor\":\"top\"}},                        {\"responsive\": true}                    ).then(function(){\n",
       "                            \n",
       "var gd = document.getElementById('0a50eeb7-a404-4a62-9b08-70571cc6df95');\n",
       "var x = new MutationObserver(function (mutations, observer) {{\n",
       "        var display = window.getComputedStyle(gd).display;\n",
       "        if (!display || display === 'none') {{\n",
       "            console.log([gd, 'removed!']);\n",
       "            Plotly.purge(gd);\n",
       "            observer.disconnect();\n",
       "        }}\n",
       "}});\n",
       "\n",
       "// Listen for the removal of the full notebook cells\n",
       "var notebookContainer = gd.closest('#notebook-container');\n",
       "if (notebookContainer) {{\n",
       "    x.observe(notebookContainer, {childList: true});\n",
       "}}\n",
       "\n",
       "// Listen for the clearing of the current output cell\n",
       "var outputEl = gd.closest('.output');\n",
       "if (outputEl) {{\n",
       "    x.observe(outputEl, {childList: true});\n",
       "}}\n",
       "\n",
       "                        })                };                });            </script>        </div>"
      ]
     },
     "metadata": {},
     "output_type": "display_data"
    },
    {
     "data": {
      "text/html": [
       "<img src onerror=\"var cell = this.closest('.code_cell');var editor = cell.querySelector('.input_area');editor.style.background='#fff9e9';this.parentNode.removeChild(this)\">"
      ],
      "text/plain": [
       "<IPython.core.display.HTML object>"
      ]
     },
     "metadata": {},
     "output_type": "display_data"
    }
   ],
   "source": [
    "# run this cell to combine umbrella features \n",
    "\n",
    "for i in range(len(to_combine)):\n",
    "        \n",
    "    # remove umbrella with highest median p value \n",
    "    if i != 0:\n",
    "        to_combine.pop()\n",
    "\n",
    "    # generate combined feature name\n",
    "    combined_name = \" \".join(to_combine)\n",
    "    print(combined_name)\n",
    "    \n",
    "    # determine splits \n",
    "    splits = model.get_splits(MY_SPLITS_COMB_UMB)\n",
    "    \n",
    "    # get all individual features \n",
    "    all_feats = []\n",
    "    for umbrella_feat in to_combine:\n",
    "        for feat in combined_feats_dict[umbrella_feat]:\n",
    "            all_feats.append(feat)\n",
    "    \n",
    "    X = []\n",
    "    for feat in all_feats:\n",
    "        if feat in MY_TEXT_FEATURES:\n",
    "            X_new, Y_new, na_count = model.transform_feature(data, feat, MY_TARGET, my_max_df=MY_MAXDF_COMB_UMB, \n",
    "                                                             my_min_df=MY_MINDF_COMB_UMB, \n",
    "                                     my_n_components=MY_N_COMPONENTS_COMB_UMB)\n",
    "        else:\n",
    "            X_new, Y_new, na_count = model.transform_feature(data, feat, MY_TARGET)\n",
    "        \n",
    "        # concatenate transformed individual feature\n",
    "        if X == []:\n",
    "            X = X_new\n",
    "        else:\n",
    "            X = np.concatenate([X, X_new], axis=1)\n",
    "    \n",
    "    # set r, p, score sums to 0\n",
    "    total_r = []\n",
    "    total_p = []\n",
    "    total_score = []\n",
    "        \n",
    "    for s in splits: \n",
    "        # split data into train test set (same split)\n",
    "        X_train, X_test, Y_train, Y_test = model.split_data(X, data[MY_TARGET], MY_TARGET, MY_TEST_SIZE_COMB_UMB, s)\n",
    "        \n",
    "        # feature selection with ElasticNet on train set \n",
    "        X_train, X_test, Y_train, Y_test = model.feature_selection(X_train, X_test, Y_train, Y_test, 'median')\n",
    "        \n",
    "        # predict on test set \n",
    "        results = model.predict(X_train, X_test, Y_train, Y_test, MY_MODEL_COMB_UMB, MY_PARAMS_COMB_UMB, MY_CROSS_VAL)\n",
    "        print(results)\n",
    "        \n",
    "        # add to r, p totals\n",
    "        total_r.append(results['r'])\n",
    "        total_p.append(results['p'])\n",
    "        total_score.append(results['r2'])\n",
    "    \n",
    "    # add individual feature results to results dataframe\n",
    "    f_results = model.create_results(combined_name, na_count, total_r, total_p, total_score)\n",
    "    combined_umbrella_results_df = combined_umbrella_results_df.append(f_results, ignore_index = True)\n",
    "                \n",
    "    r_dict[combined_name] = total_r\n",
    "    p_dict[combined_name] = total_p\n",
    "    score_dict[combined_name] = total_score\n",
    "    \n",
    "# create and show plots\n",
    "plot, chart = model.create_plotly_individual(combined_umbrella_results_df, MY_TARGET, \n",
    "                                             DATAFRAME_TYPE, MY_MODEL_COMB_UMB, MY_TITLE_COMB_UMB)\n",
    "chart.show()\n",
    "\n",
    "# save results and plots \n",
    "model.save_results(RESULTS_FOLDER_COMBINED_UMBRELLA, MY_TITLE_COMB_UMB.lower(), combined_umbrella_results_df, \n",
    "             plot, chart, state_dict_combined_umbrella)\n",
    "\n",
    "general.set_background('#fff9e9')"
   ]
  },
  {
   "cell_type": "markdown",
   "id": "378b5c60",
   "metadata": {},
   "source": [
    "# 4: Informative Features"
   ]
  },
  {
   "cell_type": "markdown",
   "id": "1a19a283",
   "metadata": {},
   "source": [
    "This is a separate module from the above pipeline. In this module, we generate the most informative words and phrases for domains, mentions, hashtags, followees, text (Tweets and Retweets), bios, follower bios, and followee bios. The most informative features are those that yield the largest and smallest coefficients after TF-IDF feature extraction and Ridge regression with cross-validation. "
   ]
  },
  {
   "cell_type": "markdown",
   "id": "fb6349cc",
   "metadata": {},
   "source": [
    "<font color='green'>**Variable Descriptions**</font>\n",
    "1. **FEAT_INFORMATIVE** (string): name of target feature, as it appears in dataframe \n",
    "2. **N_INFORMATIVE** (integer): top N_IF and bottom N_IF informative features displayed, default is 20 \n",
    "3. **MAXDF_INFORMATIVE** (float): max_df parameter for TF-IDF, default is 1.0 ([*TF-IDF specs*](https://scikit-learn.org/stable/modules/generated/sklearn.feature_extraction.text.TfidfVectorizer.html))\n",
    "4. **MINDF_INFORMATIVE** (integer): max_df parameter for TF-IDF, default is 10\n",
    "5. **NGRAM_INFORMATIVE** ((integer, integer)): n_gram range parameter for TF-IDF, default is (1, 1)\n",
    "6. **STATE_INFORMATIVE** (integer): random state for train/test split\n",
    "\n",
    "<font color='blue'>**Path Descriptions**</font>\n",
    "1. **RESULTS_FOLDER_INFORMATIVE** (string): name of folder to save informative feature results "
   ]
  },
  {
   "cell_type": "code",
   "execution_count": 33,
   "id": "4843e90d",
   "metadata": {},
   "outputs": [
    {
     "data": {
      "text/html": [
       "<img src onerror=\"var cell = this.closest('.code_cell');var editor = cell.querySelector('.input_area');editor.style.background='#efe1e1';this.parentNode.removeChild(this)\">"
      ],
      "text/plain": [
       "<IPython.core.display.HTML object>"
      ]
     },
     "metadata": {},
     "output_type": "display_data"
    }
   ],
   "source": [
    "# TODO: set variables \n",
    "FEAT_INFORMATIVE = 'followees'\n",
    "N_INFORMATIVE = 15\n",
    "MAXDF_INFORMATIVE = 0.99\n",
    "MINDF_INFORMATIVE = 10 \n",
    "NGRAM_INFORMATIVE = (1, 1) \n",
    "STATE_INFORMATIVE = 17 \n",
    "\n",
    "RESULTS_FOLDER_INFORMATIVE = ROOT_DIR + RESULTS_FOLDER_NAME + 'informative_features_test/{}/'.format(FEAT_INFORMATIVE)\n",
    "\n",
    "general.set_background('#efe1e1')"
   ]
  },
  {
   "cell_type": "code",
   "execution_count": 189,
   "id": "794aecee",
   "metadata": {},
   "outputs": [
    {
     "data": {
      "application/vnd.plotly.v1+json": {
       "config": {
        "plotlyServerURL": "https://plot.ly"
       },
       "data": [
        {
         "cells": {
          "align": "left",
          "fill": {
           "color": [
            "lightgray",
            "snow",
            "lightgray",
            "snow"
           ]
          },
          "values": [
           [
            "-0.1869",
            "-0.1721",
            "-0.1554",
            "-0.1424",
            "-0.1406",
            "-0.1402",
            "-0.1347",
            "-0.1315",
            "-0.1303",
            "-0.1300",
            "-0.1224",
            "-0.1191",
            "-0.1120",
            "-0.1072",
            "-0.1020",
            "-0.1011",
            "-0.1005",
            "-0.1002",
            "-0.0961",
            "-0.0942"
           ],
           [
            "coinbase",
            "twitter",
            "toluna",
            "producthunt",
            "mistplayapp",
            "oprah",
            "sharethis",
            "videogamedeals",
            "wario64",
            "lifepointspanel",
            "brandedsurveys",
            "butterkistuk",
            "skynews",
            "buffer",
            "katyperry",
            "warcraft",
            "yougov",
            "jack",
            "swagbuckscodes",
            "shakira"
           ],
           [
            "0.1834",
            "0.1463",
            "0.1281",
            "0.1242",
            "0.1237",
            "0.1220",
            "0.1154",
            "0.1141",
            "0.1104",
            "0.1076",
            "0.1061",
            "0.1022",
            "0.1021",
            "0.1012",
            "0.0978",
            "0.0976",
            "0.0962",
            "0.0947",
            "0.0931",
            "0.0930"
           ],
           [
            "gretathunberg",
            "dog_feelings",
            "fjamie013",
            "theonion",
            "espn",
            "actuallynph",
            "jamesblunt",
            "derrenbrown",
            "mrmichaelspicer",
            "tuckercarlson",
            "mulaney",
            "mrjamesob",
            "joshog",
            "qikipedia",
            "nathanfillion",
            "shaun_vids",
            "onedirection",
            "dinnerbone",
            "prodnose",
            "emmawatson"
           ]
          ]
         },
         "header": {
          "align": "left",
          "fill": {
           "color": "papayawhip"
          },
          "values": [
           "Lowest Coefficients",
           "Feature Names (Lowest)",
           "Highest Coefficients",
           "Feature Names (Highest)"
          ]
         },
         "type": "table",
         "uid": "f5f2527d-c698-468a-9338-5f2dc28e90e5"
        }
       ],
       "layout": {
        "annotations": [
         {
          "showarrow": false,
          "text": "min_df: 10, max_df: 0.99, n_gram: (1, 1)",
          "x": 0.5,
          "xanchor": "center",
          "y": 1.03,
          "yanchor": "bottom"
         }
        ],
        "font": {
         "color": "black",
         "family": "Courier New, monospace",
         "size": 12
        },
        "height": 600,
        "template": {
         "data": {
          "bar": [
           {
            "error_x": {
             "color": "#2a3f5f"
            },
            "error_y": {
             "color": "#2a3f5f"
            },
            "marker": {
             "line": {
              "color": "#E5ECF6",
              "width": 0.5
             },
             "pattern": {
              "fillmode": "overlay",
              "size": 10,
              "solidity": 0.2
             }
            },
            "type": "bar"
           }
          ],
          "barpolar": [
           {
            "marker": {
             "line": {
              "color": "#E5ECF6",
              "width": 0.5
             },
             "pattern": {
              "fillmode": "overlay",
              "size": 10,
              "solidity": 0.2
             }
            },
            "type": "barpolar"
           }
          ],
          "carpet": [
           {
            "aaxis": {
             "endlinecolor": "#2a3f5f",
             "gridcolor": "white",
             "linecolor": "white",
             "minorgridcolor": "white",
             "startlinecolor": "#2a3f5f"
            },
            "baxis": {
             "endlinecolor": "#2a3f5f",
             "gridcolor": "white",
             "linecolor": "white",
             "minorgridcolor": "white",
             "startlinecolor": "#2a3f5f"
            },
            "type": "carpet"
           }
          ],
          "choropleth": [
           {
            "colorbar": {
             "outlinewidth": 0,
             "ticks": ""
            },
            "type": "choropleth"
           }
          ],
          "contour": [
           {
            "colorbar": {
             "outlinewidth": 0,
             "ticks": ""
            },
            "colorscale": [
             [
              0,
              "#0d0887"
             ],
             [
              0.1111111111111111,
              "#46039f"
             ],
             [
              0.2222222222222222,
              "#7201a8"
             ],
             [
              0.3333333333333333,
              "#9c179e"
             ],
             [
              0.4444444444444444,
              "#bd3786"
             ],
             [
              0.5555555555555556,
              "#d8576b"
             ],
             [
              0.6666666666666666,
              "#ed7953"
             ],
             [
              0.7777777777777778,
              "#fb9f3a"
             ],
             [
              0.8888888888888888,
              "#fdca26"
             ],
             [
              1,
              "#f0f921"
             ]
            ],
            "type": "contour"
           }
          ],
          "contourcarpet": [
           {
            "colorbar": {
             "outlinewidth": 0,
             "ticks": ""
            },
            "type": "contourcarpet"
           }
          ],
          "heatmap": [
           {
            "colorbar": {
             "outlinewidth": 0,
             "ticks": ""
            },
            "colorscale": [
             [
              0,
              "#0d0887"
             ],
             [
              0.1111111111111111,
              "#46039f"
             ],
             [
              0.2222222222222222,
              "#7201a8"
             ],
             [
              0.3333333333333333,
              "#9c179e"
             ],
             [
              0.4444444444444444,
              "#bd3786"
             ],
             [
              0.5555555555555556,
              "#d8576b"
             ],
             [
              0.6666666666666666,
              "#ed7953"
             ],
             [
              0.7777777777777778,
              "#fb9f3a"
             ],
             [
              0.8888888888888888,
              "#fdca26"
             ],
             [
              1,
              "#f0f921"
             ]
            ],
            "type": "heatmap"
           }
          ],
          "heatmapgl": [
           {
            "colorbar": {
             "outlinewidth": 0,
             "ticks": ""
            },
            "colorscale": [
             [
              0,
              "#0d0887"
             ],
             [
              0.1111111111111111,
              "#46039f"
             ],
             [
              0.2222222222222222,
              "#7201a8"
             ],
             [
              0.3333333333333333,
              "#9c179e"
             ],
             [
              0.4444444444444444,
              "#bd3786"
             ],
             [
              0.5555555555555556,
              "#d8576b"
             ],
             [
              0.6666666666666666,
              "#ed7953"
             ],
             [
              0.7777777777777778,
              "#fb9f3a"
             ],
             [
              0.8888888888888888,
              "#fdca26"
             ],
             [
              1,
              "#f0f921"
             ]
            ],
            "type": "heatmapgl"
           }
          ],
          "histogram": [
           {
            "marker": {
             "pattern": {
              "fillmode": "overlay",
              "size": 10,
              "solidity": 0.2
             }
            },
            "type": "histogram"
           }
          ],
          "histogram2d": [
           {
            "colorbar": {
             "outlinewidth": 0,
             "ticks": ""
            },
            "colorscale": [
             [
              0,
              "#0d0887"
             ],
             [
              0.1111111111111111,
              "#46039f"
             ],
             [
              0.2222222222222222,
              "#7201a8"
             ],
             [
              0.3333333333333333,
              "#9c179e"
             ],
             [
              0.4444444444444444,
              "#bd3786"
             ],
             [
              0.5555555555555556,
              "#d8576b"
             ],
             [
              0.6666666666666666,
              "#ed7953"
             ],
             [
              0.7777777777777778,
              "#fb9f3a"
             ],
             [
              0.8888888888888888,
              "#fdca26"
             ],
             [
              1,
              "#f0f921"
             ]
            ],
            "type": "histogram2d"
           }
          ],
          "histogram2dcontour": [
           {
            "colorbar": {
             "outlinewidth": 0,
             "ticks": ""
            },
            "colorscale": [
             [
              0,
              "#0d0887"
             ],
             [
              0.1111111111111111,
              "#46039f"
             ],
             [
              0.2222222222222222,
              "#7201a8"
             ],
             [
              0.3333333333333333,
              "#9c179e"
             ],
             [
              0.4444444444444444,
              "#bd3786"
             ],
             [
              0.5555555555555556,
              "#d8576b"
             ],
             [
              0.6666666666666666,
              "#ed7953"
             ],
             [
              0.7777777777777778,
              "#fb9f3a"
             ],
             [
              0.8888888888888888,
              "#fdca26"
             ],
             [
              1,
              "#f0f921"
             ]
            ],
            "type": "histogram2dcontour"
           }
          ],
          "mesh3d": [
           {
            "colorbar": {
             "outlinewidth": 0,
             "ticks": ""
            },
            "type": "mesh3d"
           }
          ],
          "parcoords": [
           {
            "line": {
             "colorbar": {
              "outlinewidth": 0,
              "ticks": ""
             }
            },
            "type": "parcoords"
           }
          ],
          "pie": [
           {
            "automargin": true,
            "type": "pie"
           }
          ],
          "scatter": [
           {
            "marker": {
             "colorbar": {
              "outlinewidth": 0,
              "ticks": ""
             }
            },
            "type": "scatter"
           }
          ],
          "scatter3d": [
           {
            "line": {
             "colorbar": {
              "outlinewidth": 0,
              "ticks": ""
             }
            },
            "marker": {
             "colorbar": {
              "outlinewidth": 0,
              "ticks": ""
             }
            },
            "type": "scatter3d"
           }
          ],
          "scattercarpet": [
           {
            "marker": {
             "colorbar": {
              "outlinewidth": 0,
              "ticks": ""
             }
            },
            "type": "scattercarpet"
           }
          ],
          "scattergeo": [
           {
            "marker": {
             "colorbar": {
              "outlinewidth": 0,
              "ticks": ""
             }
            },
            "type": "scattergeo"
           }
          ],
          "scattergl": [
           {
            "marker": {
             "colorbar": {
              "outlinewidth": 0,
              "ticks": ""
             }
            },
            "type": "scattergl"
           }
          ],
          "scattermapbox": [
           {
            "marker": {
             "colorbar": {
              "outlinewidth": 0,
              "ticks": ""
             }
            },
            "type": "scattermapbox"
           }
          ],
          "scatterpolar": [
           {
            "marker": {
             "colorbar": {
              "outlinewidth": 0,
              "ticks": ""
             }
            },
            "type": "scatterpolar"
           }
          ],
          "scatterpolargl": [
           {
            "marker": {
             "colorbar": {
              "outlinewidth": 0,
              "ticks": ""
             }
            },
            "type": "scatterpolargl"
           }
          ],
          "scatterternary": [
           {
            "marker": {
             "colorbar": {
              "outlinewidth": 0,
              "ticks": ""
             }
            },
            "type": "scatterternary"
           }
          ],
          "surface": [
           {
            "colorbar": {
             "outlinewidth": 0,
             "ticks": ""
            },
            "colorscale": [
             [
              0,
              "#0d0887"
             ],
             [
              0.1111111111111111,
              "#46039f"
             ],
             [
              0.2222222222222222,
              "#7201a8"
             ],
             [
              0.3333333333333333,
              "#9c179e"
             ],
             [
              0.4444444444444444,
              "#bd3786"
             ],
             [
              0.5555555555555556,
              "#d8576b"
             ],
             [
              0.6666666666666666,
              "#ed7953"
             ],
             [
              0.7777777777777778,
              "#fb9f3a"
             ],
             [
              0.8888888888888888,
              "#fdca26"
             ],
             [
              1,
              "#f0f921"
             ]
            ],
            "type": "surface"
           }
          ],
          "table": [
           {
            "cells": {
             "fill": {
              "color": "#EBF0F8"
             },
             "line": {
              "color": "white"
             }
            },
            "header": {
             "fill": {
              "color": "#C8D4E3"
             },
             "line": {
              "color": "white"
             }
            },
            "type": "table"
           }
          ]
         },
         "layout": {
          "annotationdefaults": {
           "arrowcolor": "#2a3f5f",
           "arrowhead": 0,
           "arrowwidth": 1
          },
          "autotypenumbers": "strict",
          "coloraxis": {
           "colorbar": {
            "outlinewidth": 0,
            "ticks": ""
           }
          },
          "colorscale": {
           "diverging": [
            [
             0,
             "#8e0152"
            ],
            [
             0.1,
             "#c51b7d"
            ],
            [
             0.2,
             "#de77ae"
            ],
            [
             0.3,
             "#f1b6da"
            ],
            [
             0.4,
             "#fde0ef"
            ],
            [
             0.5,
             "#f7f7f7"
            ],
            [
             0.6,
             "#e6f5d0"
            ],
            [
             0.7,
             "#b8e186"
            ],
            [
             0.8,
             "#7fbc41"
            ],
            [
             0.9,
             "#4d9221"
            ],
            [
             1,
             "#276419"
            ]
           ],
           "sequential": [
            [
             0,
             "#0d0887"
            ],
            [
             0.1111111111111111,
             "#46039f"
            ],
            [
             0.2222222222222222,
             "#7201a8"
            ],
            [
             0.3333333333333333,
             "#9c179e"
            ],
            [
             0.4444444444444444,
             "#bd3786"
            ],
            [
             0.5555555555555556,
             "#d8576b"
            ],
            [
             0.6666666666666666,
             "#ed7953"
            ],
            [
             0.7777777777777778,
             "#fb9f3a"
            ],
            [
             0.8888888888888888,
             "#fdca26"
            ],
            [
             1,
             "#f0f921"
            ]
           ],
           "sequentialminus": [
            [
             0,
             "#0d0887"
            ],
            [
             0.1111111111111111,
             "#46039f"
            ],
            [
             0.2222222222222222,
             "#7201a8"
            ],
            [
             0.3333333333333333,
             "#9c179e"
            ],
            [
             0.4444444444444444,
             "#bd3786"
            ],
            [
             0.5555555555555556,
             "#d8576b"
            ],
            [
             0.6666666666666666,
             "#ed7953"
            ],
            [
             0.7777777777777778,
             "#fb9f3a"
            ],
            [
             0.8888888888888888,
             "#fdca26"
            ],
            [
             1,
             "#f0f921"
            ]
           ]
          },
          "colorway": [
           "#636efa",
           "#EF553B",
           "#00cc96",
           "#ab63fa",
           "#FFA15A",
           "#19d3f3",
           "#FF6692",
           "#B6E880",
           "#FF97FF",
           "#FECB52"
          ],
          "font": {
           "color": "#2a3f5f"
          },
          "geo": {
           "bgcolor": "white",
           "lakecolor": "white",
           "landcolor": "#E5ECF6",
           "showlakes": true,
           "showland": true,
           "subunitcolor": "white"
          },
          "hoverlabel": {
           "align": "left"
          },
          "hovermode": "closest",
          "mapbox": {
           "style": "light"
          },
          "paper_bgcolor": "white",
          "plot_bgcolor": "#E5ECF6",
          "polar": {
           "angularaxis": {
            "gridcolor": "white",
            "linecolor": "white",
            "ticks": ""
           },
           "bgcolor": "#E5ECF6",
           "radialaxis": {
            "gridcolor": "white",
            "linecolor": "white",
            "ticks": ""
           }
          },
          "scene": {
           "xaxis": {
            "backgroundcolor": "#E5ECF6",
            "gridcolor": "white",
            "gridwidth": 2,
            "linecolor": "white",
            "showbackground": true,
            "ticks": "",
            "zerolinecolor": "white"
           },
           "yaxis": {
            "backgroundcolor": "#E5ECF6",
            "gridcolor": "white",
            "gridwidth": 2,
            "linecolor": "white",
            "showbackground": true,
            "ticks": "",
            "zerolinecolor": "white"
           },
           "zaxis": {
            "backgroundcolor": "#E5ECF6",
            "gridcolor": "white",
            "gridwidth": 2,
            "linecolor": "white",
            "showbackground": true,
            "ticks": "",
            "zerolinecolor": "white"
           }
          },
          "shapedefaults": {
           "line": {
            "color": "#2a3f5f"
           }
          },
          "ternary": {
           "aaxis": {
            "gridcolor": "white",
            "linecolor": "white",
            "ticks": ""
           },
           "baxis": {
            "gridcolor": "white",
            "linecolor": "white",
            "ticks": ""
           },
           "bgcolor": "#E5ECF6",
           "caxis": {
            "gridcolor": "white",
            "linecolor": "white",
            "ticks": ""
           }
          },
          "title": {
           "x": 0.05
          },
          "xaxis": {
           "automargin": true,
           "gridcolor": "white",
           "linecolor": "white",
           "ticks": "",
           "title": {
            "standoff": 15
           },
           "zerolinecolor": "white",
           "zerolinewidth": 2
          },
          "yaxis": {
           "automargin": true,
           "gridcolor": "white",
           "linecolor": "white",
           "ticks": "",
           "title": {
            "standoff": 15
           },
           "zerolinecolor": "white",
           "zerolinewidth": 2
          }
         }
        },
        "title": {
         "font": {
          "size": 17
         },
         "text": "Informative Features for followees (r: 0.262; p value: 0.000)",
         "x": 0.5,
         "xanchor": "center",
         "y": 0.93,
         "yanchor": "top"
        },
        "width": 1000
       }
      },
      "text/html": [
       "<div>                            <div id=\"46c2dacf-257e-46b5-99fe-0cd6f43bc065\" class=\"plotly-graph-div\" style=\"height:600px; width:1000px;\"></div>            <script type=\"text/javascript\">                require([\"plotly\"], function(Plotly) {                    window.PLOTLYENV=window.PLOTLYENV || {};                                    if (document.getElementById(\"46c2dacf-257e-46b5-99fe-0cd6f43bc065\")) {                    Plotly.newPlot(                        \"46c2dacf-257e-46b5-99fe-0cd6f43bc065\",                        [{\"cells\":{\"align\":\"left\",\"fill\":{\"color\":[\"lightgray\",\"snow\",\"lightgray\",\"snow\"]},\"values\":[[\"-0.1869\",\"-0.1721\",\"-0.1554\",\"-0.1424\",\"-0.1406\",\"-0.1402\",\"-0.1347\",\"-0.1315\",\"-0.1303\",\"-0.1300\",\"-0.1224\",\"-0.1191\",\"-0.1120\",\"-0.1072\",\"-0.1020\",\"-0.1011\",\"-0.1005\",\"-0.1002\",\"-0.0961\",\"-0.0942\"],[\"coinbase\",\"twitter\",\"toluna\",\"producthunt\",\"mistplayapp\",\"oprah\",\"sharethis\",\"videogamedeals\",\"wario64\",\"lifepointspanel\",\"brandedsurveys\",\"butterkistuk\",\"skynews\",\"buffer\",\"katyperry\",\"warcraft\",\"yougov\",\"jack\",\"swagbuckscodes\",\"shakira\"],[\"0.1834\",\"0.1463\",\"0.1281\",\"0.1242\",\"0.1237\",\"0.1220\",\"0.1154\",\"0.1141\",\"0.1104\",\"0.1076\",\"0.1061\",\"0.1022\",\"0.1021\",\"0.1012\",\"0.0978\",\"0.0976\",\"0.0962\",\"0.0947\",\"0.0931\",\"0.0930\"],[\"gretathunberg\",\"dog_feelings\",\"fjamie013\",\"theonion\",\"espn\",\"actuallynph\",\"jamesblunt\",\"derrenbrown\",\"mrmichaelspicer\",\"tuckercarlson\",\"mulaney\",\"mrjamesob\",\"joshog\",\"qikipedia\",\"nathanfillion\",\"shaun_vids\",\"onedirection\",\"dinnerbone\",\"prodnose\",\"emmawatson\"]]},\"header\":{\"align\":\"left\",\"fill\":{\"color\":\"papayawhip\"},\"values\":[\"Lowest Coefficients\",\"Feature Names (Lowest)\",\"Highest Coefficients\",\"Feature Names (Highest)\"]},\"type\":\"table\",\"uid\":\"f5f2527d-c698-468a-9338-5f2dc28e90e5\"}],                        {\"annotations\":[{\"showarrow\":false,\"text\":\"min_df: 10, max_df: 0.99, n_gram: (1, 1)\",\"x\":0.5,\"xanchor\":\"center\",\"y\":1.03,\"yanchor\":\"bottom\"}],\"font\":{\"color\":\"black\",\"family\":\"Courier New, monospace\",\"size\":12},\"height\":600,\"template\":{\"data\":{\"bar\":[{\"error_x\":{\"color\":\"#2a3f5f\"},\"error_y\":{\"color\":\"#2a3f5f\"},\"marker\":{\"line\":{\"color\":\"#E5ECF6\",\"width\":0.5},\"pattern\":{\"fillmode\":\"overlay\",\"size\":10,\"solidity\":0.2}},\"type\":\"bar\"}],\"barpolar\":[{\"marker\":{\"line\":{\"color\":\"#E5ECF6\",\"width\":0.5},\"pattern\":{\"fillmode\":\"overlay\",\"size\":10,\"solidity\":0.2}},\"type\":\"barpolar\"}],\"carpet\":[{\"aaxis\":{\"endlinecolor\":\"#2a3f5f\",\"gridcolor\":\"white\",\"linecolor\":\"white\",\"minorgridcolor\":\"white\",\"startlinecolor\":\"#2a3f5f\"},\"baxis\":{\"endlinecolor\":\"#2a3f5f\",\"gridcolor\":\"white\",\"linecolor\":\"white\",\"minorgridcolor\":\"white\",\"startlinecolor\":\"#2a3f5f\"},\"type\":\"carpet\"}],\"choropleth\":[{\"colorbar\":{\"outlinewidth\":0,\"ticks\":\"\"},\"type\":\"choropleth\"}],\"contour\":[{\"colorbar\":{\"outlinewidth\":0,\"ticks\":\"\"},\"colorscale\":[[0.0,\"#0d0887\"],[0.1111111111111111,\"#46039f\"],[0.2222222222222222,\"#7201a8\"],[0.3333333333333333,\"#9c179e\"],[0.4444444444444444,\"#bd3786\"],[0.5555555555555556,\"#d8576b\"],[0.6666666666666666,\"#ed7953\"],[0.7777777777777778,\"#fb9f3a\"],[0.8888888888888888,\"#fdca26\"],[1.0,\"#f0f921\"]],\"type\":\"contour\"}],\"contourcarpet\":[{\"colorbar\":{\"outlinewidth\":0,\"ticks\":\"\"},\"type\":\"contourcarpet\"}],\"heatmap\":[{\"colorbar\":{\"outlinewidth\":0,\"ticks\":\"\"},\"colorscale\":[[0.0,\"#0d0887\"],[0.1111111111111111,\"#46039f\"],[0.2222222222222222,\"#7201a8\"],[0.3333333333333333,\"#9c179e\"],[0.4444444444444444,\"#bd3786\"],[0.5555555555555556,\"#d8576b\"],[0.6666666666666666,\"#ed7953\"],[0.7777777777777778,\"#fb9f3a\"],[0.8888888888888888,\"#fdca26\"],[1.0,\"#f0f921\"]],\"type\":\"heatmap\"}],\"heatmapgl\":[{\"colorbar\":{\"outlinewidth\":0,\"ticks\":\"\"},\"colorscale\":[[0.0,\"#0d0887\"],[0.1111111111111111,\"#46039f\"],[0.2222222222222222,\"#7201a8\"],[0.3333333333333333,\"#9c179e\"],[0.4444444444444444,\"#bd3786\"],[0.5555555555555556,\"#d8576b\"],[0.6666666666666666,\"#ed7953\"],[0.7777777777777778,\"#fb9f3a\"],[0.8888888888888888,\"#fdca26\"],[1.0,\"#f0f921\"]],\"type\":\"heatmapgl\"}],\"histogram\":[{\"marker\":{\"pattern\":{\"fillmode\":\"overlay\",\"size\":10,\"solidity\":0.2}},\"type\":\"histogram\"}],\"histogram2d\":[{\"colorbar\":{\"outlinewidth\":0,\"ticks\":\"\"},\"colorscale\":[[0.0,\"#0d0887\"],[0.1111111111111111,\"#46039f\"],[0.2222222222222222,\"#7201a8\"],[0.3333333333333333,\"#9c179e\"],[0.4444444444444444,\"#bd3786\"],[0.5555555555555556,\"#d8576b\"],[0.6666666666666666,\"#ed7953\"],[0.7777777777777778,\"#fb9f3a\"],[0.8888888888888888,\"#fdca26\"],[1.0,\"#f0f921\"]],\"type\":\"histogram2d\"}],\"histogram2dcontour\":[{\"colorbar\":{\"outlinewidth\":0,\"ticks\":\"\"},\"colorscale\":[[0.0,\"#0d0887\"],[0.1111111111111111,\"#46039f\"],[0.2222222222222222,\"#7201a8\"],[0.3333333333333333,\"#9c179e\"],[0.4444444444444444,\"#bd3786\"],[0.5555555555555556,\"#d8576b\"],[0.6666666666666666,\"#ed7953\"],[0.7777777777777778,\"#fb9f3a\"],[0.8888888888888888,\"#fdca26\"],[1.0,\"#f0f921\"]],\"type\":\"histogram2dcontour\"}],\"mesh3d\":[{\"colorbar\":{\"outlinewidth\":0,\"ticks\":\"\"},\"type\":\"mesh3d\"}],\"parcoords\":[{\"line\":{\"colorbar\":{\"outlinewidth\":0,\"ticks\":\"\"}},\"type\":\"parcoords\"}],\"pie\":[{\"automargin\":true,\"type\":\"pie\"}],\"scatter\":[{\"marker\":{\"colorbar\":{\"outlinewidth\":0,\"ticks\":\"\"}},\"type\":\"scatter\"}],\"scatter3d\":[{\"line\":{\"colorbar\":{\"outlinewidth\":0,\"ticks\":\"\"}},\"marker\":{\"colorbar\":{\"outlinewidth\":0,\"ticks\":\"\"}},\"type\":\"scatter3d\"}],\"scattercarpet\":[{\"marker\":{\"colorbar\":{\"outlinewidth\":0,\"ticks\":\"\"}},\"type\":\"scattercarpet\"}],\"scattergeo\":[{\"marker\":{\"colorbar\":{\"outlinewidth\":0,\"ticks\":\"\"}},\"type\":\"scattergeo\"}],\"scattergl\":[{\"marker\":{\"colorbar\":{\"outlinewidth\":0,\"ticks\":\"\"}},\"type\":\"scattergl\"}],\"scattermapbox\":[{\"marker\":{\"colorbar\":{\"outlinewidth\":0,\"ticks\":\"\"}},\"type\":\"scattermapbox\"}],\"scatterpolar\":[{\"marker\":{\"colorbar\":{\"outlinewidth\":0,\"ticks\":\"\"}},\"type\":\"scatterpolar\"}],\"scatterpolargl\":[{\"marker\":{\"colorbar\":{\"outlinewidth\":0,\"ticks\":\"\"}},\"type\":\"scatterpolargl\"}],\"scatterternary\":[{\"marker\":{\"colorbar\":{\"outlinewidth\":0,\"ticks\":\"\"}},\"type\":\"scatterternary\"}],\"surface\":[{\"colorbar\":{\"outlinewidth\":0,\"ticks\":\"\"},\"colorscale\":[[0.0,\"#0d0887\"],[0.1111111111111111,\"#46039f\"],[0.2222222222222222,\"#7201a8\"],[0.3333333333333333,\"#9c179e\"],[0.4444444444444444,\"#bd3786\"],[0.5555555555555556,\"#d8576b\"],[0.6666666666666666,\"#ed7953\"],[0.7777777777777778,\"#fb9f3a\"],[0.8888888888888888,\"#fdca26\"],[1.0,\"#f0f921\"]],\"type\":\"surface\"}],\"table\":[{\"cells\":{\"fill\":{\"color\":\"#EBF0F8\"},\"line\":{\"color\":\"white\"}},\"header\":{\"fill\":{\"color\":\"#C8D4E3\"},\"line\":{\"color\":\"white\"}},\"type\":\"table\"}]},\"layout\":{\"annotationdefaults\":{\"arrowcolor\":\"#2a3f5f\",\"arrowhead\":0,\"arrowwidth\":1},\"autotypenumbers\":\"strict\",\"coloraxis\":{\"colorbar\":{\"outlinewidth\":0,\"ticks\":\"\"}},\"colorscale\":{\"diverging\":[[0,\"#8e0152\"],[0.1,\"#c51b7d\"],[0.2,\"#de77ae\"],[0.3,\"#f1b6da\"],[0.4,\"#fde0ef\"],[0.5,\"#f7f7f7\"],[0.6,\"#e6f5d0\"],[0.7,\"#b8e186\"],[0.8,\"#7fbc41\"],[0.9,\"#4d9221\"],[1,\"#276419\"]],\"sequential\":[[0.0,\"#0d0887\"],[0.1111111111111111,\"#46039f\"],[0.2222222222222222,\"#7201a8\"],[0.3333333333333333,\"#9c179e\"],[0.4444444444444444,\"#bd3786\"],[0.5555555555555556,\"#d8576b\"],[0.6666666666666666,\"#ed7953\"],[0.7777777777777778,\"#fb9f3a\"],[0.8888888888888888,\"#fdca26\"],[1.0,\"#f0f921\"]],\"sequentialminus\":[[0.0,\"#0d0887\"],[0.1111111111111111,\"#46039f\"],[0.2222222222222222,\"#7201a8\"],[0.3333333333333333,\"#9c179e\"],[0.4444444444444444,\"#bd3786\"],[0.5555555555555556,\"#d8576b\"],[0.6666666666666666,\"#ed7953\"],[0.7777777777777778,\"#fb9f3a\"],[0.8888888888888888,\"#fdca26\"],[1.0,\"#f0f921\"]]},\"colorway\":[\"#636efa\",\"#EF553B\",\"#00cc96\",\"#ab63fa\",\"#FFA15A\",\"#19d3f3\",\"#FF6692\",\"#B6E880\",\"#FF97FF\",\"#FECB52\"],\"font\":{\"color\":\"#2a3f5f\"},\"geo\":{\"bgcolor\":\"white\",\"lakecolor\":\"white\",\"landcolor\":\"#E5ECF6\",\"showlakes\":true,\"showland\":true,\"subunitcolor\":\"white\"},\"hoverlabel\":{\"align\":\"left\"},\"hovermode\":\"closest\",\"mapbox\":{\"style\":\"light\"},\"paper_bgcolor\":\"white\",\"plot_bgcolor\":\"#E5ECF6\",\"polar\":{\"angularaxis\":{\"gridcolor\":\"white\",\"linecolor\":\"white\",\"ticks\":\"\"},\"bgcolor\":\"#E5ECF6\",\"radialaxis\":{\"gridcolor\":\"white\",\"linecolor\":\"white\",\"ticks\":\"\"}},\"scene\":{\"xaxis\":{\"backgroundcolor\":\"#E5ECF6\",\"gridcolor\":\"white\",\"gridwidth\":2,\"linecolor\":\"white\",\"showbackground\":true,\"ticks\":\"\",\"zerolinecolor\":\"white\"},\"yaxis\":{\"backgroundcolor\":\"#E5ECF6\",\"gridcolor\":\"white\",\"gridwidth\":2,\"linecolor\":\"white\",\"showbackground\":true,\"ticks\":\"\",\"zerolinecolor\":\"white\"},\"zaxis\":{\"backgroundcolor\":\"#E5ECF6\",\"gridcolor\":\"white\",\"gridwidth\":2,\"linecolor\":\"white\",\"showbackground\":true,\"ticks\":\"\",\"zerolinecolor\":\"white\"}},\"shapedefaults\":{\"line\":{\"color\":\"#2a3f5f\"}},\"ternary\":{\"aaxis\":{\"gridcolor\":\"white\",\"linecolor\":\"white\",\"ticks\":\"\"},\"baxis\":{\"gridcolor\":\"white\",\"linecolor\":\"white\",\"ticks\":\"\"},\"bgcolor\":\"#E5ECF6\",\"caxis\":{\"gridcolor\":\"white\",\"linecolor\":\"white\",\"ticks\":\"\"}},\"title\":{\"x\":0.05},\"xaxis\":{\"automargin\":true,\"gridcolor\":\"white\",\"linecolor\":\"white\",\"ticks\":\"\",\"title\":{\"standoff\":15},\"zerolinecolor\":\"white\",\"zerolinewidth\":2},\"yaxis\":{\"automargin\":true,\"gridcolor\":\"white\",\"linecolor\":\"white\",\"ticks\":\"\",\"title\":{\"standoff\":15},\"zerolinecolor\":\"white\",\"zerolinewidth\":2}}},\"title\":{\"font\":{\"size\":17},\"text\":\"Informative Features for followees (r: 0.262; p value: 0.000)\",\"x\":0.5,\"xanchor\":\"center\",\"y\":0.93,\"yanchor\":\"top\"},\"width\":1000},                        {\"responsive\": true}                    ).then(function(){\n",
       "                            \n",
       "var gd = document.getElementById('46c2dacf-257e-46b5-99fe-0cd6f43bc065');\n",
       "var x = new MutationObserver(function (mutations, observer) {{\n",
       "        var display = window.getComputedStyle(gd).display;\n",
       "        if (!display || display === 'none') {{\n",
       "            console.log([gd, 'removed!']);\n",
       "            Plotly.purge(gd);\n",
       "            observer.disconnect();\n",
       "        }}\n",
       "}});\n",
       "\n",
       "// Listen for the removal of the full notebook cells\n",
       "var notebookContainer = gd.closest('#notebook-container');\n",
       "if (notebookContainer) {{\n",
       "    x.observe(notebookContainer, {childList: true});\n",
       "}}\n",
       "\n",
       "// Listen for the clearing of the current output cell\n",
       "var outputEl = gd.closest('.output');\n",
       "if (outputEl) {{\n",
       "    x.observe(outputEl, {childList: true});\n",
       "}}\n",
       "\n",
       "                        })                };                });            </script>        </div>"
      ]
     },
     "metadata": {},
     "output_type": "display_data"
    },
    {
     "data": {
      "text/html": [
       "<img src onerror=\"var cell = this.closest('.code_cell');var editor = cell.querySelector('.input_area');editor.style.background='#fff9e9';this.parentNode.removeChild(this)\">"
      ],
      "text/plain": [
       "<IPython.core.display.HTML object>"
      ]
     },
     "metadata": {},
     "output_type": "display_data"
    }
   ],
   "source": [
    "# run this cell to generate most informative features\n",
    "r, p, score, chart = model.get_informative_features(data, FEAT_INFORMATIVE, MY_TARGET, RESULTS_FOLDER_INFORMATIVE, \n",
    "                                                   n=N_INFORMATIVE, maxDF=MAXDF_INFORMATIVE, minDF=MINDF_INFORMATIVE, \n",
    "                                                   n_gram=NGRAM_INFORMATIVE, my_state=STATE_INFORMATIVE)\n",
    "\n",
    "chart.show()\n",
    "\n",
    "general.set_background('#fff9e9')"
   ]
  },
  {
   "cell_type": "code",
   "execution_count": null,
   "id": "ea602eb3",
   "metadata": {},
   "outputs": [],
   "source": []
  }
 ],
 "metadata": {
  "kernelspec": {
   "display_name": "Python 3 (ipykernel)",
   "language": "python",
   "name": "python3"
  },
  "language_info": {
   "codemirror_mode": {
    "name": "ipython",
    "version": 3
   },
   "file_extension": ".py",
   "mimetype": "text/x-python",
   "name": "python",
   "nbconvert_exporter": "python",
   "pygments_lexer": "ipython3",
   "version": "3.9.7"
  }
 },
 "nbformat": 4,
 "nbformat_minor": 5
}
