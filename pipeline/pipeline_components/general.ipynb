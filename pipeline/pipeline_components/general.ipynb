{
 "cells": [
  {
   "cell_type": "markdown",
   "id": "8870056a",
   "metadata": {},
   "source": [
    "# This script contains helper functions for formatting. "
   ]
  },
  {
   "cell_type": "code",
   "execution_count": 9,
   "id": "095a9ef7",
   "metadata": {},
   "outputs": [],
   "source": [
    "# general packages\n",
    "from IPython.display import HTML, display\n",
    "import numpy as np\n",
    "from sklearn.model_selection import train_test_split\n",
    "import pandas as pd"
   ]
  },
  {
   "cell_type": "code",
   "execution_count": 12,
   "id": "0a768b46",
   "metadata": {},
   "outputs": [],
   "source": [
    "\"\"\"\n",
    "This functions sets the background color of a Jupyter cell.\n",
    "\n",
    "Inputs: \n",
    "color (string): name of cell color\n",
    "\n",
    "Outputs: \n",
    "None\n",
    "\n",
    "Source: https://stackoverflow.com/questions/49429585/how-to-change-the-background-color-of-a-single-cell-in-a-jupyter-notebook-jupy\n",
    "\"\"\" \n",
    "def set_background(color):         \n",
    "    script = (\"var cell = this.closest('.code_cell');\"         \n",
    "              \"var editor = cell.querySelector('.input_area');\"         \n",
    "              \"editor.style.background='{}';\"         \n",
    "              \"this.parentNode.removeChild(this)\".format(color))  \n",
    "              \n",
    "    display(HTML('<img src onerror=\"{}\">'.format(script)))\n",
    "    "
   ]
  },
  {
   "cell_type": "code",
   "execution_count": 42,
   "id": "41a3ffcc",
   "metadata": {},
   "outputs": [],
   "source": [
    "\"\"\"\n",
    "This function splits the data into a train and test set and stratifies the target values. \n",
    "\n",
    "Inputs:\n",
    "data (pandas dataframe): dataframe to split\n",
    "target (string): CRT target feature (numeric, conceptual, or both)\n",
    "my_test_size (float): size of test split out of 1.0\n",
    "my_state (integer): random state for train/test split\n",
    "\n",
    "Outputs:\n",
    "X_train (pandas dataframe): training data\n",
    "Y_train (pandas dataframe): testing data\n",
    "\"\"\"\n",
    "\n",
    "def split(data, target, my_test_size, my_state):\n",
    "    \n",
    "    # generate all non-target columns\n",
    "    x_cols = []\n",
    "    for i in data.columns:\n",
    "        if not i.startswith('CRT'):\n",
    "            x_cols.append(i)\n",
    "    \n",
    "    # define X and Y\n",
    "    X = data[x_cols]\n",
    "    Y = data[target]\n",
    "    \n",
    "    # stratify CRT scores \n",
    "    bin_count = 0\n",
    "    for i in data[target].value_counts() > 1:\n",
    "        if i:\n",
    "            bin_count += 1      \n",
    "    bin_count -= 1\n",
    "\n",
    "    bins = np.linspace(0, 1, bin_count)\n",
    "    y_binned = np.digitize(Y, bins)\n",
    "    \n",
    "    # split\n",
    "    X_train, X_test, Y_train, Y_test  = train_test_split(X, Y, test_size=my_test_size, stratify=y_binned, \n",
    "                                                         random_state=my_state)\n",
    "    \n",
    "    # recombine X and Y across train and test\n",
    "    X_train[target] = Y_train\n",
    "    X_test[target] = Y_test\n",
    "    \n",
    "    return [X_train, X_test]"
   ]
  },
  {
   "cell_type": "code",
   "execution_count": null,
   "id": "67f14607",
   "metadata": {},
   "outputs": [],
   "source": []
  }
 ],
 "metadata": {
  "kernelspec": {
   "display_name": "Python 3 (ipykernel)",
   "language": "python",
   "name": "python3"
  },
  "language_info": {
   "codemirror_mode": {
    "name": "ipython",
    "version": 3
   },
   "file_extension": ".py",
   "mimetype": "text/x-python",
   "name": "python",
   "nbconvert_exporter": "python",
   "pygments_lexer": "ipython3",
   "version": "3.9.7"
  }
 },
 "nbformat": 4,
 "nbformat_minor": 5
}
