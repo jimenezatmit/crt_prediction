{
 "cells": [
  {
   "cell_type": "markdown",
   "id": "b32af07a",
   "metadata": {},
   "source": [
    "# This script reads the generated Tweet2Vec embeddings and merges embeddings into a dataframe by user."
   ]
  },
  {
   "cell_type": "code",
   "execution_count": 3,
   "id": "a58e7aee",
   "metadata": {},
   "outputs": [],
   "source": [
    "import pandas as pd\n",
    "import numpy as np\n",
    "import copy\n",
    "import os"
   ]
  },
  {
   "cell_type": "markdown",
   "id": "0336bb28",
   "metadata": {},
   "source": [
    "# Map Embeddings to Screen Name"
   ]
  },
  {
   "cell_type": "code",
   "execution_count": null,
   "id": "8ccb8dcd",
   "metadata": {},
   "outputs": [],
   "source": [
    "\"\"\"\n",
    "This function averages Tweet2Vec embeddings by user and merges Tweet2Vec vector with user screen name\n",
    "\n",
    "Inputs:\n",
    "data (pandas df): master dataframe\n",
    "text_mapping (pandas df): dataframe mapping each text to user's screen name \n",
    "embeddings (pandas df): dataframe containing all T2V embeddings from Tweet/Retweet data \n",
    "                        (200-dimensions for each individualtext)\n",
    "results_folder (string): path to results\n",
    "\n",
    "Outputs:\n",
    "df_sorted (pandas df): dataframe mapping each 200-dimensional vector to screen name\n",
    "\"\"\"\n",
    "def map_embeddings(data, text_mapping, embeddings, results_folder):\n",
    "    \n",
    "    # merge tweet mappings to t2v embeddings\n",
    "    df_ = pd.merge(left = text_mapping[['screen_name']], right = embeddings, left_index=True, right_index=True)\n",
    "    \n",
    "    # get mean of embeddings by user\n",
    "    df_grouped = df_.groupby('screen_name').mean() # get mean of all tweet embeddings for a user\n",
    "    \n",
    "    # merge embeddings with master data (screen name only)\n",
    "    data = data[['screen_name']]\n",
    "    df_i = pd.merge(left=df_grouped, right=data, on='screen_name', how='right')\n",
    "    \n",
    "    # sort alphabetically \n",
    "    df_sorted = df_i.sort_values('screen_name').reset_index().drop('index', axis=1)\n",
    "\n",
    "    # add column names\n",
    "    cols = ['screen_name']\n",
    "    for i in range(200):\n",
    "        cols.append(\"text_\" + str(i))\n",
    "    df_sorted.columns = cols\n",
    "    \n",
    "    # Check whether the specified path exists or not\n",
    "    isExist = os.path.exists(results_folder)\n",
    "    if not isExist:\n",
    "        os.makedirs(results_folder)\n",
    "    \n",
    "    df_sorted.to_csv(results_folder + \"t2v_df.csv\")\n",
    "\n",
    "    return df_sorted"
   ]
  },
  {
   "cell_type": "code",
   "execution_count": null,
   "id": "7eed7e0d",
   "metadata": {},
   "outputs": [],
   "source": []
  }
 ],
 "metadata": {
  "kernelspec": {
   "display_name": "Python 3 (ipykernel)",
   "language": "python",
   "name": "python3"
  },
  "language_info": {
   "codemirror_mode": {
    "name": "ipython",
    "version": 3
   },
   "file_extension": ".py",
   "mimetype": "text/x-python",
   "name": "python",
   "nbconvert_exporter": "python",
   "pygments_lexer": "ipython3",
   "version": "3.9.7"
  }
 },
 "nbformat": 4,
 "nbformat_minor": 5
}
